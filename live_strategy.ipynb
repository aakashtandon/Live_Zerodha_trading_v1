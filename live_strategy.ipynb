{
 "cells": [
  {
   "cell_type": "code",
   "execution_count": 1,
   "metadata": {},
   "outputs": [],
   "source": [
    "\n",
    "\n",
    "import pandas as pd\n",
    "import numpy as np\n",
    "import gzip\n",
    "import os\n",
    "\n",
    "from datetime import timedelta \n",
    "import pandas as pd\n",
    "import calendar\n",
    "import numpy as np\n",
    "import glob\n",
    "import sys\n",
    "import datetime \n",
    "\n",
    "import re\n",
    "import os\n",
    "import quantstats as qs\n",
    "import time\n",
    "\n",
    "import matplotlib.pyplot as plt\n",
    "\n",
    "import nest_asyncio # install this package to avoid running in loop\n",
    "\n",
    "import urllib\n",
    "\n",
    "import pandas_market_calendars as mcal\n",
    "\n",
    "import pandas_ta as pta\n",
    "import asyncio\n",
    "import datetime\n",
    "qs.extend_pandas()\n",
    "\n",
    "# import dask.dataframe as dd\n",
    "# from dask.distributed import Client\n",
    "from concurrent.futures import ThreadPoolExecutor\n",
    "\n",
    "#import talib\n",
    "\n",
    "\n",
    "import sys\n",
    "#sys.path.append(r'C:\\Users\\Administrator\\Desktop\\Indian_backtester_python')\n",
    "\n",
    "\n",
    "#from fetchHistData import *\n",
    "\n",
    "from strategy_functions import *   # Import the module\n",
    "from live_functions import *\n",
    "\n",
    "from more_functions import*\n",
    "\n",
    "\n",
    "\n",
    "#==== expiry dates files path\n",
    "stock_Exp = r\"/home/aakash_tandon/Python_strategies/India_stock_futures_expiries.csv\"\n",
    "bk_exp = r\"/home/aakash_tandon/Python_strategies/Banknifty_weekly_expiries.csv\"\n",
    "nif_exp = r\"/home/aakash_tandon/Python_strategies/nifty_weekly_expiries.csv\"\n",
    "# mid_exp\n",
    "fin_exp = r\"/home/aakash_tandon/Python_strategies/Finnifty_weekly_expiries.csv\"\n",
    "# sensex_exp\n",
    "\n",
    "\n",
    "\n",
    "#== read_expiry files\n",
    "stock_expiry = pd.read_csv(stock_Exp )\n",
    "nifty_weekly_exp = pd.read_csv(nif_exp)\n",
    "bank_weekly_exp = pd.read_csv(bk_exp)\n",
    "fin_weekly_exp = pd.read_csv(fin_exp)\n",
    "\n",
    "\n",
    "strategy_name = \"Live_aakash_fno_CF_v1\"\n",
    "\n",
    "\n",
    "df_folder , trades_strategy_folder , position_folder , strategy_folder = initialise_strategy_directory(strategy_name=strategy_name , root_folder=r\"/home/aakash_tandon/Python_strategies\")\n",
    "\n",
    "\n",
    "#=== one is to generate trade statistics and another to store all trades\n",
    "\n",
    "output_all_trades_file = os.path.join(strategy_folder, f\"All_trades_{strategy_name}.csv\")\n",
    "trade_html_file = os.path.join(strategy_folder, f\"Trade_stats_{strategy_name}.html\")\n",
    "\n",
    "\n",
    "\n",
    "#=== process the historical and current expiry dates for any asset\n",
    "nifty_weekly_exp = process_expiry_dates_from_file(nifty_weekly_exp)\n",
    "\n",
    "\n"
   ]
  },
  {
   "cell_type": "code",
   "execution_count": 2,
   "metadata": {},
   "outputs": [
    {
     "data": {
      "text/plain": [
       "'/home/aakash_tandon/Python_strategies/Live_aakash_fno_CF_v1/symbol_wise_trades'"
      ]
     },
     "execution_count": 2,
     "metadata": {},
     "output_type": "execute_result"
    }
   ],
   "source": [
    "trades_strategy_folder"
   ]
  },
  {
   "cell_type": "code",
   "execution_count": 3,
   "metadata": {},
   "outputs": [
    {
     "name": "stdout",
     "output_type": "stream",
     "text": [
      "Data is empty.\n"
     ]
    }
   ],
   "source": [
    "fetch_live_candles(symbol='NSE:ACC' , lookback_days=0 , product='stocks' , interval=30)"
   ]
  },
  {
   "cell_type": "code",
   "execution_count": 4,
   "metadata": {},
   "outputs": [],
   "source": [
    "\n",
    "def process_index(ind_df):\n",
    "    \n",
    "                 \n",
    "    ind_df = ind_df[(ind_df.index.dayofweek<5)]\n",
    "     \n",
    "    \n",
    "    #print(ind_df) \n",
    "    ind_df['ind20DMA'] = daily_moving_average(df=ind_df, timeframe='D' , column='indHigh', periods=3, agg_func='last')\n",
    "        \n",
    "    ind_df['indtodayo'] = ind_df.indOpen.groupby(ind_df.index.date).first().reindex(ind_df.index.date).values\n",
    "    ind_df['indprevdayc'] = ind_df.indClose.groupby(ind_df.index.date).last().shift().reindex(ind_df.index.date).values\n",
    "    ind_df['indprevdayh'] = ind_df.indHigh.groupby(ind_df.index.date).max().shift().reindex(ind_df.index.date).values\n",
    "    ind_df['indprevdayo'] = ind_df.indOpen.groupby(ind_df.index.date).first().shift().reindex(ind_df.index.date).values\n",
    "                                                      \n",
    "    ind_df['near_Exp'] = get_prev_exp(ind_df.index , symbol='NIFTY' ,expirylist=nifty_weekly_exp)\n",
    "    \n",
    "    ind_df['ind_todayh'] = intraday_high(df=ind_df ,high_col= 'indHigh' ,agg_func= 'max')\n",
    "    ind_df['ind_todayl'] = intraday_low(df=ind_df ,low_col= 'indLow' , agg_func='min')\n",
    "            \n",
    "    ind_df['indexpiry_high'] = expanding_high_since_expiry(ind_df , expiry_series='near_Exp' , column='indHigh')\n",
    "        \n",
    "    ind_df['indexpiry_low'] = expanding_low_since_expiry(ind_df , expiry_series='near_Exp' , column='indLow')\n",
    "            \n",
    "    ind_df = ind_df[(ind_df.index.year>=2023) ]\n",
    "        \n",
    "    #ind_df = ind_df.reindex(combined_df.index, method='ffill')\n",
    "            \n",
    "    return ind_df\n",
    "\n",
    "\n",
    "def fetch_and_rank_data(symbol, lookback, time_interval=30, index_req=1, indexdf=None):\n",
    "    \n",
    "    \"\"\"\n",
    "    Fetches historical data for a given symbol and ranks it based on a parameter.\n",
    "    \n",
    "    Parameters:\n",
    "    - symbol (str): The symbol for which to fetch and rank data.\n",
    "    - lookback : days to which fetch hisorical data from yesterday\n",
    "    - time_interval (int): Time interval for the data (default 30).\n",
    "    - index_req (int): Whether index data is required for ranking (1 = yes, 0 = no).\n",
    "    - indexdf (pd.DataFrame): DataFrame containing index data for ranking.\n",
    "    \n",
    "    Returns:\n",
    "    - pd.DataFrame: DataFrame containing the ranked data or None if data is empty or an error occurs.\n",
    "    \"\"\"\n",
    "    encoded_symbol = urllib.parse.quote(symbol)\n",
    "    \n",
    "    end_date = datetime.today().date()\n",
    "    start_date = end_date - timedelta(days=lookback)\n",
    "    \n",
    "    \n",
    "    start_date_str = start_date.strftime('%Y-%m-%d')\n",
    "    end_date_str = end_date.strftime('%Y-%m-%d')\n",
    "    \n",
    "    \n",
    "    url = f\"http://65.0.126.220:8002/api/stocks/candles?interval={time_interval}&instrument={encoded_symbol}&from={start_date_str}&to={end_date_str}\"\n",
    "    \n",
    "    \n",
    "    print(\"\\n Processing symbol  \" , symbol)\n",
    "\n",
    "    try:\n",
    "        response = requests.get(url)\n",
    "        response.raise_for_status()\n",
    "        data_json = response.json()\n",
    "    except requests.RequestException as e:\n",
    "        print(f\"Request failed: {e}\")\n",
    "        return None\n",
    "    \n",
    "    if not data_json.get('data'):\n",
    "        print(\"\\n Data is empty for symbol\" , symbol )\n",
    "        return None\n",
    "    \n",
    "    df = pd.DataFrame(data_json['data'])\n",
    "    if 'Timestamp' in df.columns:\n",
    "        df['Timestamp'] = pd.to_datetime(df['Timestamp'])\n",
    "        df.set_index('Timestamp', inplace=True)\n",
    "    \n",
    "    else:\n",
    "        print(\"\\n No timestam found in symbol \" , symbol , \"\\n Data is as \" , df )\n",
    "        \n",
    "    #print(\"\\n \\n Dataframe is :\" , df)\n",
    "    #df['Symbol'] = symbol  # Add symbol to the DataFrame\n",
    "    \n",
    "    # Continue to ranking if data is fetched successfully\n",
    "    if index_req == 1 and indexdf is not None:\n",
    "        \n",
    "        #print(\"\\n Index dataframe is : \" , indexdf)\n",
    "        indexdf = indexdf.reindex(df.index, method='ffill')\n",
    "        df = pd.concat([df, indexdf], axis=1)\n",
    "\n",
    "        #print(\"\\n Dataframe after index\" , df)\n",
    "    #sym = df['Symbol'].iloc[0]\n",
    "    #print(\"Processing for rank:\", symbol)\n",
    "    \n",
    "    beta = calculate_rolling_beta_from_intraday(df, window=5, stock_col='Close', index_col='indClose')\n",
    "    df['rank_param'] = beta\n",
    "    \n",
    "    #print(df['rank_param'])\n",
    "    \n",
    "    columns_mapping = {'rank_param': f'{symbol}_rank_param'}\n",
    "    df_renamed = df.rename(columns=columns_mapping)\n",
    "    df_renamed = df_renamed[f'{symbol}_rank_param']\n",
    "    \n",
    "    return df_renamed if not df_renamed.empty else None\n",
    "\n",
    "\n",
    "\n",
    "\n",
    "\n",
    "def process_index_historial(index_symbol='NSE:NIFTY 50' , lookback_days=40 , bar_interval=30):\n",
    "    \n",
    "        \n",
    "    end_date = datetime.date.today()\n",
    "    start_date = end_date - timedelta(days=lookback_days)\n",
    "    \n",
    "        \n",
    "    ind_df = fetch_historical_index_from_date(symbol=index_symbol , time_interval=bar_interval , start_date=start_date , end_date=end_date)\n",
    "\n",
    "    if ind_df is None:\n",
    "        print(\"No data returned.\")\n",
    "    \n",
    "        \n",
    "        \n",
    "    #ind_df = process_index(ind_df )\n",
    "    \n",
    "    ind_df = ind_df.rename(columns={'Open': 'indOpen','High': 'indHigh', 'Low': 'indLow', 'Close': 'indClose', 'Volume':'indVolume', 'Symbol': 'indSymbol'})\n",
    "    \n",
    "    return ind_df    \n",
    "        \n",
    "    \n",
    "\n",
    "\n",
    "def fetch_historical_data_from_date(symbol, time_interval=30, start_date=datetime.date(2023 , 9 , 1 ,) , end_date=datetime.date(2024 , 3 , 1) ):\n",
    "    \"\"\"\n",
    "    Fetch historical data for a given symbol from the specified URL.\n",
    "    \n",
    "    Parameters:\n",
    "    - symbol (str): The symbol for which to fetch data.\n",
    "    - time_interval (int): The time interval for the data.\n",
    "    - bar_count (int): The number of data points to fetch.\n",
    "    \n",
    "    Returns:\n",
    "    - pd.DataFrame: DataFrame containing the historical data or None if data is empty.\n",
    "    \"\"\"\n",
    "    # URL encode the symbol to handle spaces and special characters\n",
    "    encoded_symbol = urllib.parse.quote(symbol)\n",
    "    \n",
    "    # Convert dates to strings in the format 'YYYY-MM-DD'\n",
    "    start_date_str = start_date.strftime('%Y-%m-%d')\n",
    "    end_date_str = end_date.strftime('%Y-%m-%d')\n",
    "    \n",
    "    \n",
    "    # Construct the URL with the given parameters\n",
    "    url = f\"http://65.0.126.220:8002/api/stocks/candles?interval={time_interval}&instrument={encoded_symbol}&from={start_date_str}&to={end_date_str}\"\n",
    "\n",
    "    # Send GET request\n",
    "    try:\n",
    "        response = requests.get(url)\n",
    "        response.raise_for_status()  # Raises an HTTPError if the response status code was unsuccessful\n",
    "    except requests.RequestException as e:\n",
    "        print(f\"Request failed: {e}\")\n",
    "        return None\n",
    "    \n",
    "    # Convert response to JSON\n",
    "    data_json = response.json()\n",
    "    \n",
    "    # Check if data is empty\n",
    "    if not data_json.get('data'):\n",
    "        print(\"Data is empty.\")\n",
    "        return None\n",
    "    \n",
    "    # Create DataFrame from data\n",
    "    df = pd.DataFrame(data_json['data'])\n",
    "    \n",
    "    # Convert 'Timestamp' to datetime and set as index\n",
    "    df['Timestamp'] = pd.to_datetime(df['Timestamp'])\n",
    "    df.set_index('Timestamp', inplace=True)\n",
    "    \n",
    "    return df\n",
    "\n",
    "\n"
   ]
  },
  {
   "cell_type": "code",
   "execution_count": 3,
   "metadata": {},
   "outputs": [],
   "source": [
    "\n",
    "\n",
    "\n",
    "def process_symbol2(df , index):\n",
    "    \n",
    "    \n",
    "    sym = df['Symbol'].iloc[0]\n",
    "    if df.empty:\n",
    "        print(\"No data fetched.\")\n",
    "        return\n",
    "    else:\n",
    "        print(\"\\Processing symbol \" , sym)\n",
    "    \n",
    "    if not isinstance(df.index, pd.DatetimeIndex):\n",
    "        print(\"Error: DataFrame index is not of type DatetimeIndex.\")\n",
    "        return None, \"Error\"\n",
    "    \n",
    "    \n",
    "    #df['first_hr_high'] =  x_min_high(df , 'High' , start='09:30' , end='11:00' )\n",
    "   \n",
    "    df['x_day_low'] = get_x_day_low(df, n=10 , column='Close')\n",
    "    df['x_day_high'] = get_x_day_high(df , n=20 , column='High')\n",
    "    #df['m_low'] = get_x_day_low(df , n=40 , column='Close')\n",
    "    #df['low_touch'] = np.where(df['Close']<df['x_day_low'].shift() , 1 , 0)\n",
    "    \n",
    "    #df[fname+'_ratio'] = df['cval']/df['D_Volume_moving_average']\n",
    "    #df['bars_since_low'] = bars_since_condition(df , column='low_touch')\n",
    "        \n",
    "    df['5drng'] = get_x_day_range(df , n=5, high_col='High' , low_col='Low')\n",
    "            \n",
    "    df['todayo'] = df.Open.groupby(df.index.date).first().reindex(df.index.date).values\n",
    "    df['prevdayc'] = df.Close.groupby(df.index.date).last().shift().reindex(df.index.date).values\n",
    "    #df['ratio_co'] = df['Close']/(df[['todayo', 'prevdayc']].max(axis=1))\n",
    "    df['prevdayl'] = df.Low.groupby(df.index.date).min().shift().reindex(df.index.date).values\n",
    "    df['prevdayh'] = df.High.groupby(df.index.date).max().shift().reindex(df.index.date).values\n",
    "    df['prevdayo'] = df.Open.groupby(df.index.date).first().shift().reindex(df.index.date).values\n",
    "    #df['slope'] = find_slope_and_prediction(df , 'Low' , window=100)[0]\n",
    "    df['vwap'] = intraday_vwap(df)\n",
    "    \n",
    "    \n",
    "    df = pivot_points_classic(df)\n",
    "    \n",
    "    df['todayl'] = intraday_low(df=df , low_col='Low' , agg_func='min')\n",
    "    df['todayh'] = intraday_high(df=df , high_col='High' , agg_func='max')\n",
    "    df['daily_RSI'] = rsi_timeframe(df ,period=7 , timeframe='1D' )\n",
    "    df['zc_ROC'] = daily_ROC(df , column='Close' , ROC_period=3 , z_score_period=40)\n",
    "    #df = df[(df.index.year>=2023)]\n",
    "    #print(\"\\n\" , df.columns)\n",
    "    \n",
    "    #====== Index based conditions in any\n",
    "        \n",
    "    #===== First reindex the index to df\n",
    "    index = index.reindex(df.index, method='ffill')\n",
    "    \n",
    "    df = pd.concat([df, index], axis=1)\n",
    "                \n",
    "                    \n",
    "    #print(  \"\\n Concated df with index is : \" , df)\n",
    "    \n",
    "    #df['int_indHigh'] = intraday_high(df=df , high_col='indHigh' , agg_func=)\n",
    "    \n",
    "    #=== Long conditions\n",
    "       \n",
    "    condition1 = df.index.time>time(10 , 15) \n",
    "    condition2 = df[\"indprevdayc\"]>df[\"indprevdayo\"]*0.985    #df['Close']>df['x_day_high'] - (0.5*(df['x_day_high']-df['x_day_low']))\n",
    "    \n",
    "    #condition4 = df['ATR_zc']<=-1\n",
    "    #condition5 = df['indLow']<df['ind20DMA']\n",
    "    condition6 = df['prevdayc']>df['prevdayo']*0.98\n",
    "    #condition7 = df['todayo']>df['m_low']*1.03\n",
    "    condition8 = df['Close']>df['vwap']*0.995\n",
    "    condition9 = df['Close']>=df['prevdayl']*1.001\n",
    "    condition10 = df['daily_RSI']<80\n",
    "    condition11 = df['todayo']>df['S2']\n",
    "    condition12 = df['indtodayo']>df['indprevdayc']*0.998  # much better than opposite\n",
    "    condition13 = df['indClose']>df['ind_todayl']*1.003\n",
    "    #condition14 = df['ATR_zc']>=-1\n",
    "    #condition15 = df['todayo']<df['prevdayh']*1.02\n",
    "    condition17 = df['prevdayc']<df['prevdayo']*1.05\n",
    "    condition18 = df['zc_ROC']<2.25\n",
    " \n",
    "    \n",
    "    #=== price goes below S2 but now above S1\n",
    "    df['S1_reclaim'] = np.where(((df['todayl']<df['R1']*1.002) & (df['Close']>df['R1'].shift()))  , 1 , 0)\n",
    "    condition16 = df['S1_reclaim']>=1\n",
    "    \n",
    "    ofol = df_folder\n",
    "    ofil = os.path.join(ofol , f'{sym}.csv')\n",
    "    #print(ofil)\n",
    "    df.to_csv(ofil)\n",
    "    \n",
    "    #df['prevdayc']<df['prevdayo']*1.02 not helping\n",
    "    #condition14 = df['todayl']>df[\"last_trough\"]*1.01\n",
    "    #condition14 = df['Close']<df['R2']\n",
    "    \n",
    "    #& condition13 is gud\n",
    "    \n",
    "    #=== df['Close']>df['first_hr_high'].shift(1) not helping\n",
    "    #== df['Close']>df['x_day_high'] - (0.25*(df['x_day_high']-df['x_day_low'])) not helping\n",
    "    #=== 20 dma index MA not helping\n",
    "    \n",
    "    # & condition10 trying.. not thta help\n",
    "    #=== short conditions\n",
    "    \n",
    "    # & condition3\n",
    "    # & condition6\n",
    "    # & condition14 - df['slope']>0 not helping\n",
    "    # ATR_zc bad\n",
    "    # & condition14  & condition10  & condition12  & condition5 & condition7  & condition11\n",
    "    \n",
    "    # & condition17\n",
    "    #& condition15 slight gud\n",
    "    df['signal'] = condition1 & condition2 & condition12 & condition16 & condition13 & condition18 & condition17 \n",
    "        \n",
    "    #print(\"\\n Mean of symbol is \" , df['Close'].mean())\n",
    "    \n",
    "    # Compute the final result and return it as a pandas DataFrame\n",
    "    return df \n",
    "    \n"
   ]
  },
  {
   "cell_type": "code",
   "execution_count": 17,
   "metadata": {},
   "outputs": [],
   "source": [
    "\n",
    "position = {}\n",
    "def process_signal(df, side=1 , intra_Exit=0 , n_day_Exit=2 ):\n",
    "    \n",
    "    #================================================================================================\n",
    "    \n",
    "    symbol = df['Symbol'].iloc[0]\n",
    "    \n",
    "    if symbol is None:\n",
    "        raise ValueError(\"Symbol not in columns\")\n",
    "    \n",
    "    print(\"\\n Processing signals of : \", symbol)\n",
    "    log = []\n",
    "    bar_counts = [0] * len(df)\n",
    "    positions = [0]* len(df)\n",
    "    position = 0\n",
    "    day_count = 0\n",
    "    entry_price = 0 \n",
    "    exit_price = 0 \n",
    "    ordern = 0 \n",
    "    orders = [0]*len(df)\n",
    "    highest_high = 0\n",
    "    #position[symbol]['position'] = 1\n",
    "    \n",
    "    #print(position)\n",
    "    \n",
    "     \n",
    "    # Compute date changes using diff()\n",
    "    #df['date_changed'] = df.index.to_series().diff().dt.days != 0\n",
    "    \n",
    "        # Ensure your index is a DateTimeIndex and sorted.\n",
    "    df['date_changed'] = df.index.to_series().dt.date != df.index.to_series().shift(1).dt.date\n",
    "    \n",
    "    #================================================================================================\n",
    "               \n",
    "    for i in range(len(df)):\n",
    "        \n",
    "        row = df.iloc[i]\n",
    "        current_date = df.index[i].date()\n",
    "                \n",
    "        # If in a position, increment the bar count\n",
    "        if position != 0:\n",
    "                        \n",
    "            #df.loc[i, 'bar_count'] = df.loc[i - 1, 'bar_count'] + 1  # increment bar_count in df\n",
    "            bar_counts[i] = bar_counts[i-1] + 1\n",
    "            \n",
    "            if row['date_changed']:\n",
    "                #print(\"the date changed\")\n",
    "                day_count += 1\n",
    "                                           \n",
    "            else:\n",
    "                day_count = day_count\n",
    "        else:\n",
    "            #bar_count = 0\n",
    "            #df.loc[i, 'bar_count'] = 0 \n",
    "            bar_counts[i] =0 \n",
    "            ordern = 0 \n",
    "            day_count = 0\n",
    "            entry_price = 0\n",
    "        \n",
    "        #--- n-day exit at first bar....\n",
    "        \n",
    "        highest_high = row['High'] if position > 0 and row['High'] > highest_high else highest_high if position > 0 else 0\n",
    "        lowest_along = row['Low'] if position > 0 and row['Low'] < lowest_along else lowest_along if position > 0 else 0\n",
    "        \n",
    "        \n",
    "        if ( df['signal'][i-1]==1 or df['signal'][i]==1) and position == 0  and df['Close'][i]<df['Close'][i-1] and df['indClose'][i]>df['indtodayo'][i]*0.999 :\n",
    "            # Determine if it's a long or short entry\n",
    "            if side > 0:\n",
    "                position = 1\n",
    "                entry_price = row['Close']\n",
    "                ordern = 1\n",
    "                bar_counts[i]+=1                 \n",
    "                print(\"\\n Position taken long at : \" , df.index[i] , \"-- entry Price - :  \" , entry_price , 'R1 today' ,df['R1'][i]*1.002  )\n",
    "                log.append((df.index[i], symbol, position , entry_price , ordern))\n",
    "                #print(\"\\n\" , df['5drng'][i])\n",
    "            else:\n",
    "                position = -1\n",
    "                entry_price = row['Close']\n",
    "                ordern = -1 \n",
    "                #print(\"\\n Position taken Short at : \" , df.index[i] , \"-- entry Price - :  \" , entry_price)\n",
    "                log.append((df.index[i], symbol, position , entry_price, ordern))\n",
    "        \n",
    "        #print(\"\\n Index\" , df.index[i] ,  \":  position: \" , position , \": highest_high : \" , highest_high  , \"bar_count :\" , bar_counts[i] , \"Close: \" , df['Close'][i]  )\n",
    "        \n",
    "        if (position == 1 and row['Close'] < min(df['prevdayl'][i]*0.995 ,df['todayl'][i-1]*1.005) and bar_counts[i]>=2):\n",
    "            \n",
    "            print(\"\\n Position Hit 2 day low \" , df.index[i] , position , \"position at  \", row['Close'] )\n",
    "            position = 0\n",
    "            #bar_counts[i] = 0\n",
    "            exit_price = row['Close']\n",
    "            ordern = 13\n",
    "            log.append((df.index[i], symbol, position , exit_price, ordern))\n",
    "\n",
    "        \n",
    "        \n",
    "        # End of Day Exit condition based on parameter intra_exit\n",
    "        \n",
    "        #print(\"position \" ,position , df['bar_count'][i])\n",
    "        \n",
    "        if position != 0 and intra_Exit==1 and df.index[i].time() >= datetime.time(15, 5) and bar_counts[i] > 1:\n",
    "            \n",
    "            #print(\"Hi\")\n",
    "            #print(\"\\n Position exit EOD long at\" , df.index[i] , position , \"position at  \", row['Close'] )\n",
    "            \n",
    "            position = 0\n",
    "            #bar_counts[i] = 0\n",
    "            exit_price = row['Close']\n",
    "            ordern = 11 \n",
    "            log.append((df.index[i], symbol, position , exit_price , ordern))\n",
    "        \n",
    "        \n",
    "        if position != 0 and bar_counts[i]>4 and df['indClose'][i]<df[\"indOpen\"][i-1]*0.985 and df['High'][i]<df['todayh'][i-1]*0.985:\n",
    "            \n",
    "            #print(\"Hi\")\n",
    "            print(\"\\n Nifty bear exit at: \" , df.index[i] ,\"Nifty high and highest are:  \"  ,df['indHigh'][i] , df['ind_todayh'][i-1]  )\n",
    "            \n",
    "            position = 0\n",
    "            #bar_counts[i] = 0\n",
    "            exit_price = row['Close']\n",
    "            ordern = 12 \n",
    "            log.append((df.index[i], symbol, position , exit_price , ordern))\n",
    "                       \n",
    "                \n",
    "        if position > 0 and day_count>=1 and bar_counts[i]>6 and df['Close'][i]<df['prevdayl'][i]*0.97 and df['Close'][i]<df['Close'][i-1] :\n",
    "            print(\"\\n Gap down exit EOD long at\" , df.index[i] , position , \"position at  \", row['Close'] , \"Day_count: \" , day_count , \"close: \" , df['Close'][i] , df['Close'][i-1] )\n",
    "        \n",
    "            position = 0\n",
    "            #bar_counts[i] = 0\n",
    "            exit_price = row['Close']\n",
    "            ordern = 14\n",
    "            log.append((df.index[i], symbol, position , exit_price , ordern))\n",
    "        \n",
    "        if position > 0 and day_count>=1 and bar_counts[i]>3 and df['Close'][i]<df['Low'][i-1]*0.985  :\n",
    "            print(\"\\n Large bear bar\" , df.index[i]  , \"Day_count: \" , day_count , \"close: \" , df['Close'][i] , df['Open'][i] )\n",
    "        \n",
    "            position = 0\n",
    "            #bar_counts[i] = 0\n",
    "            exit_price = row['Close']\n",
    "            ordern = 15\n",
    "            log.append((df.index[i], symbol, position , row['Close'], ordern))\n",
    "                \n",
    "        \n",
    "        if position != 0 and intra_Exit==0 and day_count>=n_day_Exit and bar_counts[i]>1 and df['Close'][i]<df['Close'][i-1]  :\n",
    "            \n",
    "            print(\"\\n Carryforward exit EOD long at\" , df.index[i] , position , \"position at  \", row['Close'] , \"Day_count: \" , day_count  )\n",
    "            \n",
    "            position = 0\n",
    "            #bar_counts[i] = 0\n",
    "            exit_price = row['Close']\n",
    "            ordern = 16\n",
    "            log.append((df.index[i], symbol, position , row['Close'], ordern))\n",
    "                \n",
    "        \n",
    "        #---- Stop-loss of 3%\n",
    "        \n",
    "        if position!=0 and df['todayo'][i]<df['x_day_low'][i] and df['Close'][i]<df['Low'][i-1] and day_count>=1 and df.index[i].time()>=datetime.time(10 , 45):\n",
    "            \n",
    "            position = 0\n",
    "            #bar_counts[i] = 0\n",
    "            exit_price = row['Close']\n",
    "            ordern = 17\n",
    "            log.append((df.index[i], symbol, position , row['Close'], ordern))\n",
    "            \n",
    "            print(\"\\nBreakdown opening exit from low:  \" , df['x_day_low'][i] ,   \" -- open at\" , df['todayo'][i] , \"exit at : \" , exit_price , \"time is \" , datetime.time(10 , 45) )\n",
    "        \n",
    "        if position!=0 and df['High'][i]<df['S1'][i-1] and df['Close'][i]<df['Close'][i-1] and day_count>=1 and df.index[i].time()>=time(10 , 45):\n",
    "            \n",
    "            position = 0\n",
    "            #bar_counts[i] = 0\n",
    "            exit_price = row['Close']\n",
    "            ordern = 18\n",
    "            log.append((df.index[i], symbol, position , row['Close'], ordern))\n",
    "            print(\"\\S1 broken down exit:  S1 is : \" , df['S1'][i-1] ,   \" -- exit  at\" , exit_price ,  \"time is:  \" , df.index[i].time()  )\n",
    "        \n",
    "        \n",
    "        #=== Fixed 2% stop loss\n",
    "        if position!=0 and df['Low'][i]<min(df['Open'][i] , entry_price*0.98) and bar_counts[i]>1:\n",
    "            \n",
    "            \n",
    "            position = 0\n",
    "            #bar_counts[i] = 0\n",
    "            exit_price = min(df['Open'][i] , entry_price*0.98)\n",
    "            ordern = 19\n",
    "            log.append((df.index[i], symbol, position , exit_price, ordern))\n",
    "\n",
    "            print(\"\\ Fixed stoploss:  S1 is : \" , min(df['Open'][i] , entry_price*0.98) ,   \" -- exit  at\" , exit_price ,  \"time is \" , df.index[i].time() , \"Low of bar is :\" , df['Low'][i] )\n",
    "            \n",
    "              \n",
    "    \n",
    "        #----- 5drnag exit\n",
    "        \n",
    "        if position == 1 and row['Close'] > entry_price*(1+(1.25*df['5drng'][i])) and df['Close'][i]>df['Close'][i-1] and bar_counts[i]>10:\n",
    "            \n",
    "            print(\"\\n Range target on \" , df.index[i] , \"price at :   \", row['Close'] , \" range: \" , df['5drng'][i] , \"entryprice\" , entry_price )\n",
    "            position = 0\n",
    "            #bar_counts[i] = 0\n",
    "            ordern = 19\n",
    "            exit_price = row['Close']\n",
    "            log.append((df.index[i], symbol, position , exit_price, ordern))\n",
    "        \n",
    "         #----- reistance exit\n",
    "        \n",
    "        if position >0 and df['Close'][i-1]>df['R2'][i-1]*1.01 and df['Close'][i]<df['R2'][i-1]*1.01 and bar_counts[i]>5 and df.index[i].time() >= time(9, 30):\n",
    "            \n",
    "            print(\"\\n Resistance target  \" , df.index[i] , \"at  \", row['Close'] , \" R2 prev: \" , df['R2'][i-1] , \" entryprice\" , entry_price )\n",
    "            position = 0\n",
    "            #bar_counts[i] = 0\n",
    "            exit_price = row['Close']\n",
    "            ordern = 20\n",
    "            log.append((df.index[i], symbol, position , exit_price, ordern))\n",
    "        \n",
    "        positions[i] = position\n",
    "        orders[i] = ordern\n",
    "   \n",
    "    \n",
    "    #=== outside for loop \n",
    "    \n",
    "    #print(\"\\n Position at last bar is \" , positions[-1]   )\n",
    "    print(log)\n",
    "    \n",
    "    df[symbol+'bar_count'] = bar_counts\n",
    "    df[symbol+'_order'] = orders\n",
    "    df[symbol+'_position'] = positions\n",
    "    \n",
    "    #== these are bar-by-bar returns when you are in position \n",
    "    df[symbol+'_ret'] = np.where(df[symbol+'bar_count']>0 ,  df['Close'].pct_change()*side , 0)\n",
    "    \n",
    "    \n",
    "    #=== \n",
    "    df[symbol+'_Close'] = df['Close']\n",
    "\n",
    "    \n",
    "    #print(df)\n",
    "    \n",
    "    trade_log = create_tradelog2(df , symbol)\n",
    "\n",
    "\n",
    "#     if( num_entries!=num_exits):\n",
    "\n",
    "#         print(\"\\n \\n Number of entries and exits dont match\"  , \"Entries: \" , num_entries , \"----- Exits\" , num_exits  )\n",
    "\n",
    "    file_path = os.path.join(trades_strategy_folder, f\"{symbol}.csv\")\n",
    "    \n",
    "    print(\"\\n \\n The Outputting to trade file \" , file_path)\n",
    "    \n",
    "    trade_log.to_csv(file_path )\n",
    "\n",
    "    \n",
    "    ofol = df_folder\n",
    "    ofil = os.path.join(ofol , f'{symbol}.csv')\n",
    "    #print(ofil)\n",
    "    df.to_csv(ofil)\n",
    "    \n",
    "    print(\"\\n \\n The Outputting dataframe to file file \" , ofil)\n",
    "    \n",
    "        \n",
    "    \n",
    "    return df[[symbol+'_Close' , symbol+'_position' ,symbol+'_ret' , symbol+'bar_count', symbol+'_order']] \n"
   ]
  },
  {
   "cell_type": "code",
   "execution_count": 5,
   "metadata": {},
   "outputs": [],
   "source": [
    "import aiohttp\n",
    "import asyncio\n",
    "import pandas as pd\n",
    "from datetime import datetime, timedelta\n",
    "import urllib.parse\n",
    "\n",
    "async def fetch_historical_data_from_date_async(symbol, time_interval=30, start_date=datetime(2023, 9, 1), end_date=datetime(2024, 3, 1)):\n",
    "    encoded_symbol = urllib.parse.quote(symbol)\n",
    "    \n",
    "    start_date_str = start_date.strftime('%Y-%m-%d')\n",
    "    end_date_str = end_date.strftime('%Y-%m-%d')\n",
    "    url = f\"http://65.0.126.220:8002/api/stocks/candles?interval={time_interval}&instrument={encoded_symbol}&from={start_date_str}&to={end_date_str}\"\n",
    "\n",
    "    async with aiohttp.ClientSession() as session:\n",
    "        try:\n",
    "            async with session.get(url) as response:\n",
    "                response.raise_for_status()\n",
    "                data_json = await response.json()\n",
    "        except aiohttp.ClientError as e:\n",
    "            print(f\"Request failed for {symbol}: {e}\")\n",
    "            return pd.DataFrame()\n",
    "\n",
    "    if not data_json.get('data'):\n",
    "        print(f\"No data found for {symbol}.\")\n",
    "        return pd.DataFrame()\n",
    "\n",
    "    df = pd.DataFrame(data_json['data'])\n",
    "    df['Timestamp'] = pd.to_datetime(df['Timestamp'])\n",
    "    df.set_index('Timestamp', inplace=True)\n",
    "    \n",
    "    return df\n",
    "\n",
    "\n",
    "\n",
    "async def fetch_historical_data_from_date_for_symbols(symbols, time_interval=30, start_date=datetime(2023, 9, 1), end_date=datetime(2024, 3, 1)):\n",
    "    async with aiohttp.ClientSession() as session:\n",
    "        tasks = {\n",
    "            symbol: fetch_historical_data_from_date_async( symbol, time_interval, start_date, end_date)\n",
    "            for symbol in symbols\n",
    "        }\n",
    "        # Use asyncio.gather to fetch data concurrently, and unpack the dictionary values as arguments\n",
    "        results = await asyncio.gather(*tasks.values())\n",
    "        # Combine the tasks' keys (symbols) with their corresponding results (DataFrames) into a dictionary\n",
    "        return {symbol: result for symbol, result in zip(tasks.keys(), results)}\n",
    "\n",
    "\n",
    "\n"
   ]
  },
  {
   "cell_type": "code",
   "execution_count": null,
   "metadata": {},
   "outputs": [],
   "source": [
    "df = await fetch_historical_data_from_date_async(symbol='NSE:ACC' , time_interval=30 , start_date=datetime.today().date() - timedelta(days=30) , end_date=datetime.today().date()-timedelta(days=1))"
   ]
  },
  {
   "cell_type": "code",
   "execution_count": null,
   "metadata": {},
   "outputs": [],
   "source": [
    "all_data = await fetch_historical_data_from_date_for_symbols(symbols=today_stocks , time_interval=30 , start_date=datetime.today().date() - timedelta(days=30) , end_date=datetime.today().date()-timedelta(days=1))"
   ]
  },
  {
   "cell_type": "code",
   "execution_count": null,
   "metadata": {},
   "outputs": [],
   "source": [
    "all_data = await fetch_historical_data_from_date_for_symbols(symbols=today_stocks , time_interval=30 , start_date=datetime.today().date() - timedelta(days=30) , end_date=datetime.today().date()-timedelta(days=1))"
   ]
  },
  {
   "cell_type": "code",
   "execution_count": 6,
   "metadata": {},
   "outputs": [],
   "source": [
    "def pre_strategy_code(stock_limit , lookback):\n",
    "    # Your code that runs before the strategy starts everyday\n",
    "    \n",
    "    print(\"Running pre-strategy code...\")\n",
    "    \n",
    "    fno_stocks = get_fno_stocks()\n",
    "    \n",
    "    \n",
    "    stocks_remove = ['ABFRL', 'ATUL', 'MIDCPNIFTY', 'COROMANDEL', 'CROMPTON' , 'DABUR' , 'GMRINFRA' , 'IDEA' , \"ICICIGI\" , 'RAMCOCEM' , 'AARTIIND' , 'ZEEL', 'NIFTY' , 'BANKNIFTY' , 'FINNIFTY' ]\n",
    "\n",
    "\n",
    "    \n",
    "    stocks_to_trade = [stock for stock in fno_stocks if stock not in stocks_remove]\n",
    "    \n",
    "    \n",
    "    stocks_to_process = ['NSE:'+symbol for symbol in stocks_to_trade]\n",
    "    print(\"Total stocks to consider\" , len(stocks_to_process))\n",
    "    \n",
    "    \n",
    "    #== now we get historical index data\n",
    "    \n",
    "    ind_df = fetch_index_historial(index_symbol='NSE:NIFTY 50' , lookback_days=lookback , bar_interval=30)\n",
    "    \n",
    "    #=== now we do ranking and other stuff based on previous day data\n",
    "   \n",
    "    \n",
    "    # Function wrapper to pass multiple arguments to map\n",
    "    def process_symbol(symbol):\n",
    "        return fetch_and_rank_data(symbol, lookback=lookback, time_interval=30, indexdf=ind_df, index_req=1)\n",
    "        \n",
    "           \n",
    "    # Use ThreadPoolExecutor to process symbols in parallel\n",
    "    num_cores = os.cpu_count()\n",
    "    with ThreadPoolExecutor(max_workers=num_cores) as executor:\n",
    "        results = list(executor.map(process_symbol, stocks_to_process))\n",
    "    \n",
    "    \n",
    "    combined_ranks_df = pd.concat(results , axis=1 , join='outer')\n",
    "    \n",
    "    #print(combined_ranks_df.tail(5)) \n",
    "        \n",
    "    rank_number = stock_limit\n",
    "\n",
    "        \n",
    "    comb_ranks = combined_ranks_df.rank(ascending=False ,axis=1)\n",
    "    \n",
    "    \n",
    "    last_row = comb_ranks.iloc[-1]\n",
    "    #print(last_row)\n",
    "    today_stocks = last_row[last_row <= rank_number].index.tolist()\n",
    "    #\n",
    "    \n",
    "    \n",
    "    today_stocks = [stocks.split('_')[0] for stocks in today_stocks]    \n",
    "    print( \"Selected stocks are : \", today_stocks)\n",
    "    \n",
    "    return today_stocks , ind_df        \n",
    "        \n",
    "    \n",
    "    "
   ]
  },
  {
   "cell_type": "code",
   "execution_count": null,
   "metadata": {},
   "outputs": [],
   "source": [
    "today_stocks , ind_df = pre_strategy_code(stock_limit=20 , lookback=30)"
   ]
  },
  {
   "cell_type": "code",
   "execution_count": 7,
   "metadata": {},
   "outputs": [],
   "source": [
    "import asyncio\n",
    "import aiohttp\n",
    "\n",
    "async def fetch_live_ltp_async(symbol):\n",
    "    async with aiohttp.ClientSession() as session:\n",
    "        encoded_symbol = urllib.parse.quote(symbol)\n",
    "        url = f\"http://65.0.126.220:8002/api/ltp?instrument={encoded_symbol}\"\n",
    "        async with session.get(url) as response:\n",
    "            response.raise_for_status()\n",
    "            data = await response.json()\n",
    "            return data.get('data')\n",
    "\n",
    "async def fetch_all_ltp_async(stock_list):\n",
    "    tasks = [fetch_live_ltp_async(sym) for sym in stock_list]\n",
    "    results = await asyncio.gather(*tasks)\n",
    "    return dict(zip(stock_list, results))\n",
    "\n",
    "# Assuming stock_list is defined\n",
    "# Use await directly in a Jupyter Notebook cell\n",
    "# results = await fetch_all_ltp_async(today_stocks)\n",
    "# print(results)\n"
   ]
  },
  {
   "cell_type": "code",
   "execution_count": 8,
   "metadata": {},
   "outputs": [],
   "source": [
    "import asyncio\n",
    "import aiohttp\n",
    "import pandas as pd\n",
    "\n",
    "\n",
    "# Define an asynchronous function to fetch live candle data for a given symbol.\n",
    "async def fetch_live_candles_async(symbol, lookback_days=0, product='stocks', interval=30):\n",
    "    # URL-encode the symbol to handle special characters\n",
    "    encoded_symbol = urllib.parse.quote(symbol)\n",
    "    \n",
    "    # Calculate the start and end dates for the data fetch\n",
    "    end_date = datetime.today().date()\n",
    "    start_date = end_date - timedelta(days=lookback_days)\n",
    "    start_date_str = start_date.strftime('%Y-%m-%d')\n",
    "    end_date_str = end_date.strftime('%Y-%m-%d')\n",
    "\n",
    "    # Construct the URL for the API request\n",
    "    url = f\"http://65.0.126.220:8002/api/{product}/candles?interval={interval}&instrument={encoded_symbol}&from={start_date_str}&to={end_date_str}\"\n",
    "\n",
    "    # Use aiohttp to make the asynchronous GET request\n",
    "    async with aiohttp.ClientSession() as session:\n",
    "        async with session.get(url) as response:\n",
    "            # Automatically raise an exception for 4XX/5XX responses\n",
    "            response.raise_for_status()\n",
    "            # Parse the JSON response\n",
    "            data_json = await response.json()\n",
    "            if 'data' in data_json :\n",
    "                # Convert the 'data' list to a DataFrame\n",
    "                df = pd.DataFrame(data_json['data'])\n",
    "                # Convert the 'Timestamp' column to datetime and set it as the DataFrame index\n",
    "                df['Timestamp'] = pd.to_datetime(df['Timestamp'])\n",
    "                df.set_index('Timestamp', inplace=True)\n",
    "                return df\n",
    "            else:\n",
    "                # Log and return an empty DataFrame if no data is found\n",
    "                print(f\"No data found for {symbol}.\")\n",
    "                return pd.DataFrame()\n",
    "\n",
    "# Asynchronously fetch live candles for a list of symbols\n",
    "async def fetch_all_live_candles_async(stock_list, lookback_days=10, product='stocks', interval=30):\n",
    "    # Create a list of tasks for each symbol\n",
    "    tasks = [fetch_live_candles_async(symbol=sym, lookback_days=lookback_days, product=product, interval=interval) for sym in stock_list]\n",
    "    # Gather all tasks to run concurrently, waiting for all to complete\n",
    "    \n",
    "    results = await asyncio.gather(*tasks)\n",
    "    # Combine results into a dictionary {symbol: DataFrame}\n",
    "    return {sym: result for sym, result in zip(stock_list, results)}\n",
    "\n",
    "# # Example usage\n",
    "# async def main():\n",
    "#     stock_list = ['NSE:RELIANCE', 'NSE:TCS']  # Example stock symbols\n",
    "#     all_candles = await fetch_all_live_candles_async(stock_list=stock_list, lookback_days=0, product='stocks', interval=30)\n",
    "#     for symbol, candles in all_candles.items():\n",
    "#         print(f\"{symbol} candles:\\n{candles}\")\n",
    "\n",
    "# # Run the main function\n",
    "# await main()\n"
   ]
  },
  {
   "cell_type": "code",
   "execution_count": null,
   "metadata": {},
   "outputs": [],
   "source": [
    "all_candles = await fetch_all_live_candles_async(stock_list=today_stocks, lookback_days=0, product='stocks', interval=30)"
   ]
  },
  {
   "cell_type": "code",
   "execution_count": null,
   "metadata": {},
   "outputs": [],
   "source": [
    "today_2 = ['NSE:ACC' , 'NSE:IDEA' , 'NSE:HDFCBANK']\n",
    "results = await fetch_all_ltp_async(today_2)\n",
    "print(results)\n"
   ]
  },
  {
   "cell_type": "code",
   "execution_count": null,
   "metadata": {},
   "outputs": [],
   "source": [
    "for stocks in today_stocks:\n",
    "    candles = fetch_live_candles(symbol=stocks , lookback_days=2 , product='stocks' , interval=30)\n",
    "    print(candles)"
   ]
  },
  {
   "cell_type": "code",
   "execution_count": 9,
   "metadata": {},
   "outputs": [],
   "source": [
    "\n",
    "import pytz\n",
    "from datetime import datetime, timedelta , time  # Alias datetime.time\n",
    "import time as timet   # This allows you to use time.sleep()\n",
    "\n",
    "\n",
    "def calculate_run_times(start_hour, start_minute, end_hour, end_minute, interval):\n",
    "    \"\"\"\n",
    "    Calculate all run times within a specified window and interval.\n",
    "    \n",
    "    Parameters:\n",
    "    - start_hour (int): Hour when the window starts (24-hour format).\n",
    "    - start_minute (int): Minute when the window starts.\n",
    "    - end_hour (int): Hour when the window ends (24-hour format).\n",
    "    - end_minute (int): Minute when the window ends.\n",
    "    - interval (int): Interval between each run time, in minutes.\n",
    "    \n",
    "    Returns:\n",
    "    - run_times (list of datetime): List of calculated run times.\n",
    "    \"\"\"\n",
    "    india_tz = pytz.timezone('Asia/Kolkata')\n",
    "    today = datetime.now(india_tz).date()\n",
    "    start_time = datetime.combine(today, time(start_hour, start_minute), tzinfo=india_tz) + timedelta(minutes=interval)\n",
    "    end_time = datetime.combine(today, time(end_hour, end_minute), tzinfo=india_tz)\n",
    "    \n",
    "    run_times = []\n",
    "    current_time = start_time\n",
    "    while current_time <= end_time:\n",
    "        run_times.append(current_time)\n",
    "        current_time += timedelta(minutes=interval)\n",
    "    \n",
    "    run_times = [tm.time() for tm in run_times]\n",
    "    \n",
    "    return run_times\n",
    "\n",
    "\n",
    "runt_times = calculate_run_times(start_hour=9 , start_minute=15 , end_hour=15 , end_minute=25 , interval=2)"
   ]
  },
  {
   "cell_type": "code",
   "execution_count": 10,
   "metadata": {},
   "outputs": [],
   "source": [
    "\n",
    "# Use this wrapper function to call your async function from synchronous code\n",
    "def fetch_all_live_candles_sync(stock_list, lookback_days, product, interval):\n",
    "    # This function uses asyncio.run to run the async function from synchronous code\n",
    "    try:\n",
    "        result = asyncio.run(fetch_all_live_candles_async(stock_list, lookback_days, product, interval))\n",
    "        return result\n",
    "    except RuntimeError as e:\n",
    "        print(f\"Error running async function: {e}\")\n",
    "        return {}"
   ]
  },
  {
   "cell_type": "code",
   "execution_count": null,
   "metadata": {},
   "outputs": [],
   "source": [
    "#fetch_all_live_candles_sync(today_stocks , 0 , 'stocks' , interval=30)\n",
    "\n",
    "results = await fetch_all_live_candles_async(today_stocks , 0 , product='stocks' , interval=30)"
   ]
  },
  {
   "cell_type": "code",
   "execution_count": 11,
   "metadata": {},
   "outputs": [],
   "source": [
    "import pandas as pd\n",
    "import concurrent.futures\n",
    "\n",
    "# Assuming `today_stocks_his` and `results` are your dictionaries of DataFrames\n",
    "#com_df = {key: pd.concat([today_stocks_his[key], results[key]], axis=0) for key in today_stocks_his if key in results}\n",
    "\n",
    "\n",
    "def process_symbol_concurrent(com_df, index):\n",
    "    with concurrent.futures.ProcessPoolExecutor() as executor:\n",
    "        # Submit all tasks\n",
    "        futures = [executor.submit(process_symbol2, df, index) for df in com_df.values()]\n",
    "        \n",
    "        results = []\n",
    "        for future in concurrent.futures.as_completed(futures):\n",
    "            try:\n",
    "                # Attempt to get the result with a timeout\n",
    "                result = future.result(timeout=60)  # 60 seconds timeout\n",
    "                results.append(result)\n",
    "            except concurrent.futures.TimeoutError:\n",
    "                print('A task exceeded the time limit and was not completed.')\n",
    "            except Exception as exc:\n",
    "                print(f'A task generated an exception: {exc}')\n",
    "    return results\n",
    "\n",
    "\n",
    "# # Example usage\n",
    "# index = ind_com\n",
    "# ss2 = process_dataframes_concurrent(concatenated_dfs, index=ind_com)\n",
    "\n",
    "\n",
    "def sort_dataframes_dict(dataframes_dict):\n",
    "    \n",
    "    #--- function used to remove duplicates and than sort by index ( if timestamp)\n",
    "    for symbol, df in dataframes_dict.items():\n",
    "        if not df.index.is_monotonic_increasing or df.index.duplicated().any():\n",
    "            df.sort_index(inplace=True)\n",
    "            df = df.loc[~df.index.duplicated(keep='first')]\n",
    "            dataframes_dict[symbol] = df\n",
    "    return dataframes_dict\n"
   ]
  },
  {
   "cell_type": "code",
   "execution_count": 12,
   "metadata": {},
   "outputs": [
    {
     "name": "stdout",
     "output_type": "stream",
     "text": [
      "\n",
      " run times are  [datetime.time(2, 27), datetime.time(2, 29), datetime.time(2, 31), datetime.time(2, 33), datetime.time(2, 35), datetime.time(2, 37), datetime.time(2, 39), datetime.time(2, 41), datetime.time(2, 43), datetime.time(2, 45), datetime.time(2, 47), datetime.time(2, 49), datetime.time(2, 51), datetime.time(2, 53), datetime.time(2, 55), datetime.time(2, 57), datetime.time(2, 59), datetime.time(3, 1), datetime.time(3, 3), datetime.time(3, 5), datetime.time(3, 7), datetime.time(3, 9), datetime.time(3, 11), datetime.time(3, 13), datetime.time(3, 15), datetime.time(3, 17), datetime.time(3, 19), datetime.time(3, 21), datetime.time(3, 23), datetime.time(3, 25), datetime.time(3, 27), datetime.time(3, 29), datetime.time(3, 31), datetime.time(3, 33), datetime.time(3, 35), datetime.time(3, 37), datetime.time(3, 39), datetime.time(3, 41), datetime.time(3, 43), datetime.time(3, 45), datetime.time(3, 47), datetime.time(3, 49), datetime.time(3, 51), datetime.time(3, 53), datetime.time(3, 55), datetime.time(3, 57), datetime.time(3, 59), datetime.time(4, 1), datetime.time(4, 3), datetime.time(4, 5), datetime.time(4, 7), datetime.time(4, 9), datetime.time(4, 11), datetime.time(4, 13), datetime.time(4, 15), datetime.time(4, 17), datetime.time(4, 19), datetime.time(4, 21), datetime.time(4, 23), datetime.time(4, 25), datetime.time(4, 27), datetime.time(4, 29), datetime.time(4, 31), datetime.time(4, 33), datetime.time(4, 35), datetime.time(4, 37), datetime.time(4, 39), datetime.time(4, 41), datetime.time(4, 43), datetime.time(4, 45), datetime.time(4, 47), datetime.time(4, 49), datetime.time(4, 51), datetime.time(4, 53), datetime.time(4, 55), datetime.time(4, 57), datetime.time(4, 59), datetime.time(5, 1), datetime.time(5, 3), datetime.time(5, 5), datetime.time(5, 7), datetime.time(5, 9), datetime.time(5, 11), datetime.time(5, 13), datetime.time(5, 15), datetime.time(5, 17), datetime.time(5, 19), datetime.time(5, 21), datetime.time(5, 23), datetime.time(5, 25), datetime.time(5, 27), datetime.time(5, 29), datetime.time(5, 31), datetime.time(5, 33), datetime.time(5, 35), datetime.time(5, 37), datetime.time(5, 39), datetime.time(5, 41), datetime.time(5, 43), datetime.time(5, 45), datetime.time(5, 47), datetime.time(5, 49), datetime.time(5, 51), datetime.time(5, 53), datetime.time(5, 55), datetime.time(5, 57), datetime.time(5, 59), datetime.time(6, 1), datetime.time(6, 3), datetime.time(6, 5), datetime.time(6, 7), datetime.time(6, 9), datetime.time(6, 11), datetime.time(6, 13), datetime.time(6, 15), datetime.time(6, 17), datetime.time(6, 19), datetime.time(6, 21), datetime.time(6, 23), datetime.time(6, 25), datetime.time(6, 27), datetime.time(6, 29), datetime.time(6, 31), datetime.time(6, 33), datetime.time(6, 35), datetime.time(6, 37), datetime.time(6, 39), datetime.time(6, 41), datetime.time(6, 43), datetime.time(6, 45), datetime.time(6, 47), datetime.time(6, 49), datetime.time(6, 51), datetime.time(6, 53), datetime.time(6, 55), datetime.time(6, 57), datetime.time(6, 59), datetime.time(7, 1), datetime.time(7, 3), datetime.time(7, 5), datetime.time(7, 7), datetime.time(7, 9), datetime.time(7, 11), datetime.time(7, 13), datetime.time(7, 15), datetime.time(7, 17), datetime.time(7, 19), datetime.time(7, 21), datetime.time(7, 23), datetime.time(7, 25), datetime.time(7, 27), datetime.time(7, 29), datetime.time(7, 31), datetime.time(7, 33), datetime.time(7, 35), datetime.time(7, 37), datetime.time(7, 39), datetime.time(7, 41), datetime.time(7, 43), datetime.time(7, 45), datetime.time(7, 47), datetime.time(7, 49), datetime.time(7, 51), datetime.time(7, 53), datetime.time(7, 55), datetime.time(7, 57), datetime.time(7, 59), datetime.time(8, 1), datetime.time(8, 3), datetime.time(8, 5), datetime.time(8, 7), datetime.time(8, 9), datetime.time(8, 11), datetime.time(8, 13), datetime.time(8, 15), datetime.time(8, 17), datetime.time(8, 19), datetime.time(8, 21), datetime.time(8, 23), datetime.time(8, 25), datetime.time(8, 27), datetime.time(8, 29), datetime.time(8, 31), datetime.time(8, 33), datetime.time(8, 35), datetime.time(8, 37), datetime.time(8, 39), datetime.time(8, 41), datetime.time(8, 43), datetime.time(8, 45), datetime.time(8, 47), datetime.time(8, 49), datetime.time(8, 51), datetime.time(8, 53), datetime.time(8, 55), datetime.time(8, 57), datetime.time(8, 59), datetime.time(9, 1), datetime.time(9, 3), datetime.time(9, 5), datetime.time(9, 7), datetime.time(9, 9), datetime.time(9, 11), datetime.time(9, 13), datetime.time(9, 15), datetime.time(9, 17), datetime.time(9, 19), datetime.time(9, 21), datetime.time(9, 23), datetime.time(9, 25), datetime.time(9, 27), datetime.time(9, 29), datetime.time(9, 31), datetime.time(9, 33), datetime.time(9, 35), datetime.time(9, 37), datetime.time(9, 39), datetime.time(9, 41), datetime.time(9, 43), datetime.time(9, 45), datetime.time(9, 47), datetime.time(9, 49), datetime.time(9, 51), datetime.time(9, 53), datetime.time(9, 55), datetime.time(9, 57), datetime.time(9, 59), datetime.time(10, 1), datetime.time(10, 3), datetime.time(10, 5), datetime.time(10, 7), datetime.time(10, 9), datetime.time(10, 11), datetime.time(10, 13), datetime.time(10, 15), datetime.time(10, 17), datetime.time(10, 19), datetime.time(10, 21), datetime.time(10, 23), datetime.time(10, 25), datetime.time(10, 27), datetime.time(10, 29), datetime.time(10, 31), datetime.time(10, 33), datetime.time(10, 35), datetime.time(10, 37), datetime.time(10, 39), datetime.time(10, 41), datetime.time(10, 43), datetime.time(10, 45), datetime.time(10, 47), datetime.time(10, 49), datetime.time(10, 51), datetime.time(10, 53), datetime.time(10, 55), datetime.time(10, 57), datetime.time(10, 59), datetime.time(11, 1), datetime.time(11, 3), datetime.time(11, 5), datetime.time(11, 7), datetime.time(11, 9), datetime.time(11, 11), datetime.time(11, 13), datetime.time(11, 15), datetime.time(11, 17), datetime.time(11, 19), datetime.time(11, 21), datetime.time(11, 23), datetime.time(11, 25), datetime.time(11, 27), datetime.time(11, 29), datetime.time(11, 31), datetime.time(11, 33), datetime.time(11, 35), datetime.time(11, 37), datetime.time(11, 39), datetime.time(11, 41), datetime.time(11, 43), datetime.time(11, 45), datetime.time(11, 47), datetime.time(11, 49), datetime.time(11, 51), datetime.time(11, 53), datetime.time(11, 55), datetime.time(11, 57), datetime.time(11, 59), datetime.time(12, 1), datetime.time(12, 3), datetime.time(12, 5), datetime.time(12, 7), datetime.time(12, 9), datetime.time(12, 11), datetime.time(12, 13), datetime.time(12, 15), datetime.time(12, 17), datetime.time(12, 19), datetime.time(12, 21), datetime.time(12, 23), datetime.time(12, 25), datetime.time(12, 27), datetime.time(12, 29), datetime.time(12, 31), datetime.time(12, 33), datetime.time(12, 35), datetime.time(12, 37), datetime.time(12, 39), datetime.time(12, 41), datetime.time(12, 43), datetime.time(12, 45), datetime.time(12, 47), datetime.time(12, 49), datetime.time(12, 51), datetime.time(12, 53), datetime.time(12, 55), datetime.time(12, 57), datetime.time(12, 59), datetime.time(13, 1), datetime.time(13, 3), datetime.time(13, 5), datetime.time(13, 7), datetime.time(13, 9), datetime.time(13, 11), datetime.time(13, 13), datetime.time(13, 15), datetime.time(13, 17), datetime.time(13, 19), datetime.time(13, 21), datetime.time(13, 23), datetime.time(13, 25), datetime.time(13, 27), datetime.time(13, 29), datetime.time(13, 31), datetime.time(13, 33), datetime.time(13, 35), datetime.time(13, 37), datetime.time(13, 39), datetime.time(13, 41), datetime.time(13, 43), datetime.time(13, 45), datetime.time(13, 47), datetime.time(13, 49), datetime.time(13, 51), datetime.time(13, 53), datetime.time(13, 55), datetime.time(13, 57), datetime.time(13, 59), datetime.time(14, 1), datetime.time(14, 3), datetime.time(14, 5), datetime.time(14, 7), datetime.time(14, 9), datetime.time(14, 11), datetime.time(14, 13), datetime.time(14, 15), datetime.time(14, 17), datetime.time(14, 19), datetime.time(14, 21), datetime.time(14, 23), datetime.time(14, 25), datetime.time(14, 27), datetime.time(14, 29), datetime.time(14, 31), datetime.time(14, 33), datetime.time(14, 35), datetime.time(14, 37), datetime.time(14, 39), datetime.time(14, 41), datetime.time(14, 43), datetime.time(14, 45), datetime.time(14, 47), datetime.time(14, 49), datetime.time(14, 51), datetime.time(14, 53), datetime.time(14, 55), datetime.time(14, 57), datetime.time(14, 59), datetime.time(15, 1), datetime.time(15, 3), datetime.time(15, 5), datetime.time(15, 7), datetime.time(15, 9), datetime.time(15, 11), datetime.time(15, 13), datetime.time(15, 15), datetime.time(15, 17), datetime.time(15, 19), datetime.time(15, 21), datetime.time(15, 23), datetime.time(15, 25)]\n",
      "Before strategy start time, waiting for market to open.\n",
      " Doing preprocessing\n",
      "Running pre-strategy code...\n",
      "Total stocks to consider 171\n",
      "                                 Symbol      Open     High       Low  \\\n",
      "Timestamp                                                              \n",
      "2024-03-04 09:15:00+05:30  NSE:NIFTY 50  22403.50  22440.9  22361.80   \n",
      "2024-03-04 09:45:00+05:30  NSE:NIFTY 50  22396.05  22408.0  22358.30   \n",
      "2024-03-04 10:15:00+05:30  NSE:NIFTY 50  22395.00  22432.9  22395.00   \n",
      "2024-03-04 10:45:00+05:30  NSE:NIFTY 50  22425.40  22425.4  22372.85   \n",
      "2024-03-04 11:15:00+05:30  NSE:NIFTY 50  22404.80  22418.8  22385.90   \n",
      "\n",
      "                              Close  Volume  IsComplete  \n",
      "Timestamp                                                \n",
      "2024-03-04 09:15:00+05:30  22395.90       0        True  \n",
      "2024-03-04 09:45:00+05:30  22395.40       0        True  \n",
      "2024-03-04 10:15:00+05:30  22424.45       0        True  \n",
      "2024-03-04 10:45:00+05:30  22404.55       0        True  \n",
      "2024-03-04 11:15:00+05:30  22408.55       0        True  \n",
      "\n",
      " Processing symbol   NSE:ABB\n",
      "\n",
      " Processing symbol   NSE:ABBOTINDIA\n",
      "\n",
      " Processing symbol   NSE:ABCAPITAL\n",
      "\n",
      " Processing symbol   NSE:ACC\n",
      "\n",
      " Processing symbol   NSE:ADANIENT\n",
      "\n",
      " Processing symbol   NSE:ADANIPORTS\n",
      "\n",
      " Processing symbol   NSE:ALKEM\n",
      "\n",
      " Processing symbol   NSE:AMBUJACEM\n",
      "\n",
      " Processing symbol   NSE:APOLLOHOSP\n",
      "\n",
      " Processing symbol   NSE:APOLLOTYRE\n",
      "\n",
      " Processing symbol   NSE:ASHOKLEY\n",
      "\n",
      " Processing symbol   NSE:ASIANPAINT\n",
      "\n",
      " Processing symbol   NSE:ASTRAL\n",
      "\n",
      " Processing symbol   NSE:AUBANK\n",
      "\n",
      " Processing symbol   NSE:AUROPHARMA\n",
      "\n",
      " Processing symbol   NSE:AXISBANK\n",
      "\n",
      " Processing symbol   NSE:BAJAJ-AUTO\n",
      "\n",
      " Processing symbol   NSE:BAJAJFINSV\n",
      "\n",
      " Processing symbol   NSE:BAJFINANCE\n",
      "\n",
      " Processing symbol   NSE:BALKRISIND\n",
      "\n",
      " Processing symbol   NSE:BALRAMCHIN\n",
      "\n",
      " Processing symbol   NSE:BANDHANBNK\n",
      "\n",
      " Processing symbol   NSE:BANKBARODA\n",
      "\n",
      " Processing symbol   NSE:BATAINDIA\n",
      "\n",
      " Processing symbol   NSE:BEL\n",
      "\n",
      " Processing symbol   NSE:BERGEPAINT\n",
      "\n",
      " Processing symbol   NSE:BHARATFORG\n",
      "\n",
      " Processing symbol   NSE:BHARTIARTL\n",
      "\n",
      " Processing symbol   NSE:BHEL\n",
      "\n",
      " Processing symbol   NSE:BIOCON\n",
      "\n",
      " Processing symbol   NSE:BOSCHLTD\n",
      "\n",
      " Processing symbol   NSE:BPCL\n",
      "\n",
      " Processing symbol   NSE:BRITANNIA\n",
      "\n",
      " Processing symbol   NSE:BSOFT\n",
      "\n",
      " Processing symbol   NSE:CANBK\n",
      "\n",
      " Processing symbol   NSE:CANFINHOME\n",
      "\n",
      " Processing symbol   NSE:CHAMBLFERT\n",
      "\n",
      " Processing symbol   NSE:CHOLAFIN\n",
      "\n",
      " Processing symbol   NSE:CIPLA\n",
      "\n",
      " Processing symbol   NSE:COALINDIA\n",
      "\n",
      " Processing symbol   NSE:COFORGE\n",
      "\n",
      " Processing symbol   NSE:COLPAL\n",
      "\n",
      " Processing symbol   NSE:CONCOR\n",
      "\n",
      " Processing symbol   NSE:CUB\n",
      "\n",
      " Processing symbol   NSE:CUMMINSIND\n",
      "\n",
      " Processing symbol   NSE:DALBHARAT\n",
      "\n",
      " Processing symbol   NSE:DEEPAKNTR\n",
      "\n",
      " Processing symbol   NSE:DIVISLAB\n",
      "\n",
      " Processing symbol   NSE:DIXON\n",
      "\n",
      " Processing symbol   NSE:DLF\n",
      "\n",
      " Processing symbol   NSE:DRREDDY\n",
      "\n",
      " Processing symbol   NSE:EICHERMOT\n",
      "\n",
      " Processing symbol   NSE:ESCORTS\n",
      "\n",
      " Processing symbol   NSE:EXIDEIND\n",
      "\n",
      " Processing symbol   NSE:FEDERALBNK\n",
      "\n",
      " Processing symbol   NSE:GAIL\n",
      "\n",
      " Processing symbol   NSE:GLENMARK\n",
      "\n",
      " Processing symbol   NSE:GNFC\n",
      "\n",
      " Processing symbol   NSE:GODREJCP\n",
      "\n",
      " Processing symbol   NSE:GODREJPROP\n",
      "\n",
      " Processing symbol   NSE:GRANULES\n",
      "\n",
      " Processing symbol   NSE:GRASIM\n",
      "\n",
      " Processing symbol   NSE:GUJGASLTD\n",
      "\n",
      " Processing symbol   NSE:HAL\n",
      "\n",
      " Processing symbol   NSE:HAVELLS\n",
      "\n",
      " Processing symbol   NSE:HCLTECH\n",
      "\n",
      " Processing symbol   NSE:HDFCAMC\n",
      "\n",
      " Processing symbol   NSE:HDFCBANK\n",
      "\n",
      " Processing symbol   NSE:HDFCLIFE\n",
      "\n",
      " Processing symbol   NSE:HEROMOTOCO\n",
      "\n",
      " Processing symbol   NSE:HINDALCO\n",
      "\n",
      " Processing symbol   NSE:HINDCOPPER\n",
      "\n",
      " Processing symbol   NSE:HINDPETRO\n",
      "\n",
      " Processing symbol   NSE:HINDUNILVR\n",
      "\n",
      " Processing symbol   NSE:ICICIBANK\n",
      "\n",
      " Processing symbol   NSE:ICICIPRULI\n",
      "\n",
      " Processing symbol   NSE:IDFC\n",
      "\n",
      " Processing symbol   NSE:IDFCFIRSTB\n",
      "\n",
      " Processing symbol   NSE:IEX\n",
      "\n",
      " Processing symbol   NSE:IGL\n",
      "\n",
      " Processing symbol   NSE:INDHOTEL\n",
      "\n",
      " Processing symbol   NSE:INDIACEM\n",
      "\n",
      " Processing symbol   NSE:INDIAMART\n",
      "\n",
      " Processing symbol   NSE:INDIGO\n",
      "\n",
      " Processing symbol   NSE:INDUSINDBK\n",
      "\n",
      " Processing symbol   NSE:INDUSTOWER\n",
      "\n",
      " Processing symbol   NSE:INFY\n",
      "\n",
      " Processing symbol   NSE:IOC\n",
      "\n",
      " Processing symbol   NSE:IPCALAB\n",
      "\n",
      " Processing symbol   NSE:IRCTC\n",
      "\n",
      " Processing symbol   NSE:ITC\n",
      "\n",
      " Processing symbol   NSE:JINDALSTEL\n",
      "\n",
      " Processing symbol   NSE:JKCEMENT\n",
      "\n",
      " Processing symbol   NSE:JSWSTEEL\n",
      "\n",
      " Processing symbol   NSE:JUBLFOOD\n",
      "\n",
      " Processing symbol   NSE:KOTAKBANK\n",
      "\n",
      " Processing symbol   NSE:L&TFH\n",
      "\n",
      " Processing symbol   NSE:LALPATHLAB\n",
      "\n",
      " Processing symbol   NSE:LAURUSLABS\n",
      "\n",
      " Processing symbol   NSE:LICHSGFIN\n",
      "\n",
      " Processing symbol   NSE:LT\n",
      "\n",
      " Processing symbol   NSE:LTIM\n",
      "\n",
      " Processing symbol   NSE:LTTS\n",
      "\n",
      " Processing symbol   NSE:LUPIN\n",
      "\n",
      " Processing symbol   NSE:M&M\n",
      "\n",
      " Processing symbol   NSE:M&MFIN\n",
      "\n",
      " Processing symbol   NSE:MANAPPURAM\n",
      "\n",
      " Processing symbol   NSE:MARICO\n",
      "\n",
      " Processing symbol   NSE:MARUTI\n",
      "\n",
      " Processing symbol   NSE:MCDOWELL-N\n",
      "\n",
      " Processing symbol   NSE:MCX\n",
      "\n",
      " Processing symbol   NSE:METROPOLIS\n",
      "\n",
      " Processing symbol   NSE:MFSL\n",
      "\n",
      " Processing symbol   NSE:MGL\n",
      "\n",
      " Processing symbol   NSE:MOTHERSON\n",
      "\n",
      " Processing symbol   NSE:MPHASIS\n",
      "\n",
      " Processing symbol   NSE:MRF\n",
      "\n",
      " Processing symbol   NSE:MUTHOOTFIN\n",
      "\n",
      " Processing symbol   NSE:NATIONALUM\n",
      "\n",
      " Processing symbol   NSE:NAUKRI\n",
      "\n",
      " Processing symbol   NSE:NAVINFLUOR\n",
      "\n",
      " Processing symbol   NSE:NESTLEIND\n",
      "\n",
      " Processing symbol   NSE:NMDC\n",
      "\n",
      " Processing symbol   NSE:NTPC\n",
      "\n",
      " Processing symbol   NSE:OBEROIRLTY\n",
      "\n",
      " Processing symbol   NSE:OFSS\n",
      "\n",
      " Processing symbol   NSE:ONGC\n",
      "\n",
      " Processing symbol   NSE:PAGEIND\n",
      "\n",
      " Processing symbol   NSE:PEL\n",
      "\n",
      " Processing symbol   NSE:PERSISTENT\n",
      "\n",
      " Processing symbol   NSE:PETRONET\n",
      "\n",
      " Processing symbol   NSE:PFC\n",
      "\n",
      " Processing symbol   NSE:PIDILITIND\n",
      "\n",
      " Processing symbol   NSE:PIIND\n",
      "\n",
      " Processing symbol   NSE:PNB\n",
      "\n",
      " Processing symbol   NSE:POLYCAB\n",
      "\n",
      " Processing symbol   NSE:POWERGRID\n",
      "\n",
      " Processing symbol   NSE:PVRINOX\n",
      "\n",
      " Processing symbol   NSE:RBLBANK\n",
      "\n",
      " Processing symbol   NSE:RECLTD\n",
      "\n",
      " Processing symbol   NSE:RELIANCE\n",
      "\n",
      " Processing symbol   NSE:SAIL\n",
      "\n",
      " Processing symbol   NSE:SBICARD\n",
      "\n",
      " Processing symbol   NSE:SBILIFE\n",
      "\n",
      " Processing symbol   NSE:SBIN\n",
      "\n",
      " Processing symbol   NSE:SHREECEM\n",
      "\n",
      " Processing symbol   NSE:SHRIRAMFIN\n",
      "\n",
      " Processing symbol   NSE:SIEMENS\n",
      "\n",
      " Processing symbol   NSE:SRF\n",
      "\n",
      " Processing symbol   NSE:SUNPHARMA\n",
      "\n",
      " Processing symbol   NSE:SUNTV\n",
      "\n",
      " Processing symbol   NSE:SYNGENE\n",
      "\n",
      " Processing symbol   NSE:TATACHEM\n",
      "\n",
      " Processing symbol   NSE:TATACOMM\n",
      "\n",
      " Processing symbol   NSE:TATACONSUM\n",
      "\n",
      " Processing symbol   NSE:TATAMOTORS\n",
      "\n",
      " Processing symbol   NSE:TATAPOWER\n",
      "\n",
      " Processing symbol   NSE:TATASTEEL\n",
      "\n",
      " Processing symbol   NSE:TCS\n",
      "\n",
      " Processing symbol   NSE:TECHM\n",
      "\n",
      " Processing symbol   NSE:TITAN\n",
      "\n",
      " Processing symbol   NSE:TORNTPHARM\n",
      "\n",
      " Processing symbol   NSE:TRENT\n",
      "\n",
      " Processing symbol   NSE:TVSMOTOR\n",
      "\n",
      " Processing symbol   NSE:UBL\n",
      "\n",
      " Processing symbol   NSE:ULTRACEMCO\n",
      "\n",
      " Processing symbol   NSE:UPL\n",
      "\n",
      " Processing symbol   NSE:VEDL\n",
      "\n",
      " Processing symbol   NSE:VOLTAS\n",
      "\n",
      " Processing symbol   NSE:WIPRO\n",
      "\n",
      " Processing symbol   NSE:ZYDUSLIFE\n",
      "Selected stocks are :  ['NSE:ABB', 'NSE:ABBOTINDIA', 'NSE:ADANIENT', 'NSE:ADANIPORTS', 'NSE:AMBUJACEM', 'NSE:ASHOKLEY', 'NSE:BAJAJFINSV', 'NSE:BAJFINANCE', 'NSE:BHEL', 'NSE:BIOCON', 'NSE:CHOLAFIN', 'NSE:CIPLA', 'NSE:DLF', 'NSE:DRREDDY', 'NSE:GODREJCP', 'NSE:GRASIM', 'NSE:HEROMOTOCO', 'NSE:ICICIBANK', 'NSE:ICICIPRULI', 'NSE:IGL', 'NSE:INDIAMART', 'NSE:INDIGO', 'NSE:INDUSTOWER', 'NSE:JSWSTEEL', 'NSE:KOTAKBANK', 'NSE:LICHSGFIN', 'NSE:LT', 'NSE:LUPIN', 'NSE:MCDOWELL-N', 'NSE:MRF', 'NSE:NAUKRI', 'NSE:NESTLEIND', 'NSE:PIIND', 'NSE:POWERGRID', 'NSE:SBILIFE', 'NSE:SHREECEM', 'NSE:TATASTEEL', 'NSE:TORNTPHARM', 'NSE:TVSMOTOR', 'NSE:UBL']\n",
      "\n",
      " Stocks for today are : \n",
      " ['NSE:ABB', 'NSE:ABBOTINDIA', 'NSE:ADANIENT', 'NSE:ADANIPORTS', 'NSE:AMBUJACEM', 'NSE:ASHOKLEY', 'NSE:BAJAJFINSV', 'NSE:BAJFINANCE', 'NSE:BHEL', 'NSE:BIOCON', 'NSE:CHOLAFIN', 'NSE:CIPLA', 'NSE:DLF', 'NSE:DRREDDY', 'NSE:GODREJCP', 'NSE:GRASIM', 'NSE:HEROMOTOCO', 'NSE:ICICIBANK', 'NSE:ICICIPRULI', 'NSE:IGL', 'NSE:INDIAMART', 'NSE:INDIGO', 'NSE:INDUSTOWER', 'NSE:JSWSTEEL', 'NSE:KOTAKBANK', 'NSE:LICHSGFIN', 'NSE:LT', 'NSE:LUPIN', 'NSE:MCDOWELL-N', 'NSE:MRF', 'NSE:NAUKRI', 'NSE:NESTLEIND', 'NSE:PIIND', 'NSE:POWERGRID', 'NSE:SBILIFE', 'NSE:SHREECEM', 'NSE:TATASTEEL', 'NSE:TORNTPHARM', 'NSE:TVSMOTOR', 'NSE:UBL']\n",
      "02:25:00\n",
      "02:25:00\n",
      "02:25:00\n",
      "02:25:00\n",
      "02:25:00\n",
      "02:25:00\n",
      "02:25:00\n",
      "02:25:00\n",
      "02:25:00\n",
      "02:25:00\n",
      "02:25:00\n",
      "02:25:00\n",
      "02:25:00\n",
      "02:25:00\n",
      "02:25:00\n",
      "02:25:00\n",
      "02:25:00\n",
      "02:25:00\n",
      "02:25:00\n",
      "02:25:00\n",
      "02:25:00\n",
      "02:25:00\n",
      "02:25:00\n",
      "02:25:00\n",
      "02:25:00\n",
      "02:25:00\n",
      "02:25:00\n",
      "02:25:00\n",
      "02:25:00\n",
      "02:25:00\n",
      "02:25:00\n",
      "02:25:00\n",
      "02:25:00\n",
      "02:25:00\n",
      "02:25:00\n",
      "02:25:00\n",
      "02:25:00\n",
      "02:25:00\n",
      "02:25:00\n",
      "02:25:00\n",
      "02:25:00\n",
      "02:25:00\n",
      "02:25:00\n",
      "02:25:00\n",
      "02:25:00\n",
      "02:25:00\n",
      "02:25:00\n",
      "02:26:00\n",
      "02:26:00\n",
      "02:26:00\n",
      "02:26:00\n",
      "02:26:00\n",
      "02:26:00\n",
      "02:26:00\n",
      "02:26:00\n",
      "02:26:00\n",
      "02:26:00\n",
      "02:26:00\n",
      "02:26:00\n",
      "02:26:00\n",
      "02:26:00\n",
      "02:26:00\n",
      "02:26:00\n",
      "02:26:00\n",
      "02:26:00\n",
      "02:26:00\n",
      "02:26:00\n",
      "02:26:00\n",
      "02:26:00\n",
      "02:26:00\n",
      "02:26:00\n",
      "02:26:00\n",
      "02:26:00\n",
      "02:26:00\n",
      "02:26:00\n",
      "02:26:00\n",
      "02:26:00\n",
      "02:26:00\n",
      "02:26:00\n",
      "02:26:00\n",
      "02:26:00\n",
      "02:26:00\n",
      "02:26:00\n",
      "02:26:00\n",
      "02:26:00\n",
      "02:26:00\n",
      "02:26:00\n",
      "02:26:00\n",
      "02:26:00\n",
      "02:26:00\n",
      "02:26:00\n",
      "02:26:00\n",
      "02:26:00\n",
      "02:26:00\n",
      "02:26:00\n",
      "02:26:00\n",
      "02:26:00\n",
      "02:26:00\n",
      "02:26:00\n",
      "02:26:00\n",
      "02:26:00\n",
      "02:26:00\n",
      "02:26:00\n",
      "02:26:00\n",
      "02:26:00\n",
      "02:26:00\n",
      "02:26:00\n",
      "02:26:00\n",
      "02:26:00\n",
      "02:26:00\n",
      "02:26:00\n",
      "02:26:00\n",
      "02:26:00\n",
      "02:26:00\n",
      "02:26:00\n",
      "02:26:00\n",
      "02:26:00\n",
      "02:26:00\n",
      "02:26:00\n",
      "02:26:00\n",
      "02:26:00\n",
      "02:26:00\n",
      "02:26:00\n",
      "02:26:00\n",
      "02:26:00\n",
      "02:26:00\n",
      "02:26:00\n",
      "02:26:00\n",
      "02:26:00\n",
      "02:26:00\n",
      "02:26:00\n",
      "02:26:00\n",
      "02:26:00\n",
      "02:26:00\n",
      "02:26:00\n",
      "02:26:00\n",
      "02:26:00\n",
      "02:26:00\n",
      "02:26:00\n",
      "02:26:00\n",
      "02:26:00\n",
      "02:26:00\n",
      "02:26:00\n",
      "02:26:00\n",
      "02:26:00\n",
      "02:26:00\n",
      "02:26:00\n",
      "02:26:00\n",
      "02:26:00\n",
      "02:26:00\n",
      "02:26:00\n",
      "02:26:00\n",
      "02:26:00\n",
      "02:26:00\n",
      "02:26:00\n",
      "02:26:00\n",
      "02:26:00\n",
      "02:26:00\n",
      "02:26:00\n",
      "02:26:00\n",
      "02:26:00\n",
      "02:26:00\n",
      "02:26:00\n",
      "02:26:00\n",
      "02:26:00\n",
      "02:26:00\n",
      "02:26:00\n",
      "02:26:00\n",
      "02:26:00\n",
      "02:26:00\n",
      "02:26:00\n",
      "02:26:00\n",
      "02:26:00\n",
      "02:26:00\n",
      "02:26:00\n",
      "02:26:00\n",
      "02:26:00\n",
      "02:26:00\n",
      "02:26:00\n",
      "02:26:00\n",
      "02:26:00\n",
      "02:26:00\n",
      "02:26:00\n",
      "02:26:00\n",
      "02:26:00\n",
      "02:26:00\n",
      "02:26:00\n",
      "02:26:00\n",
      "02:26:00\n",
      "02:26:00\n",
      "02:26:00\n",
      "02:26:00\n",
      "02:26:00\n",
      "02:26:00\n",
      "02:26:00\n",
      "02:26:00\n",
      "02:26:00\n",
      "02:26:00\n",
      "02:26:00\n",
      "02:26:00\n",
      "02:26:00\n",
      "02:26:00\n",
      "02:26:00\n",
      "02:26:00\n",
      "02:26:00\n",
      "02:26:00\n",
      "02:26:00\n",
      "02:26:00\n",
      "02:26:00\n",
      "02:26:00\n",
      "02:26:00\n",
      "02:26:00\n",
      "02:26:00\n",
      "02:26:00\n",
      "02:26:00\n",
      "02:26:00\n",
      "02:26:00\n",
      "02:26:00\n",
      "02:26:00\n",
      "02:26:00\n",
      "02:26:00\n",
      "02:26:00\n",
      "02:26:00\n",
      "02:26:00\n",
      "02:26:00\n",
      "02:26:00\n",
      "02:26:00\n",
      "02:26:00\n",
      "02:26:00\n",
      "02:26:00\n",
      "02:26:00\n",
      "02:26:00\n",
      "02:26:00\n",
      "02:26:00\n",
      "02:26:00\n",
      "02:26:00\n",
      "02:26:00\n",
      "02:26:00\n",
      "02:26:00\n",
      "02:26:00\n",
      "02:26:00\n",
      "02:26:00\n",
      "02:26:00\n",
      "02:26:00\n",
      "02:26:00\n",
      "02:26:00\n",
      "02:26:00\n",
      "02:26:00\n",
      "02:26:00\n",
      "02:26:00\n",
      "02:26:00\n",
      "02:26:00\n",
      "02:26:00\n",
      "02:26:00\n",
      "02:26:00\n",
      "02:26:00\n",
      "02:26:00\n",
      "02:26:00\n",
      "02:26:00\n",
      "02:26:00\n",
      "02:26:00\n",
      "02:26:00\n",
      "02:26:00\n",
      "02:26:00\n",
      "02:26:00\n",
      "02:26:00\n",
      "02:26:00\n",
      "02:26:00\n",
      "02:26:00\n",
      "02:26:00\n",
      "02:26:00\n",
      "02:26:00\n",
      "02:26:00\n",
      "02:26:00\n",
      "02:26:00\n",
      "02:26:00\n",
      "02:26:00\n",
      "02:26:00\n",
      "02:26:00\n",
      "02:26:00\n",
      "02:26:00\n",
      "02:26:00\n",
      "02:26:00\n",
      "02:26:00\n",
      "02:26:00\n",
      "02:26:00\n",
      "02:26:00\n",
      "02:26:00\n",
      "02:26:00\n",
      "02:26:00\n",
      "02:26:00\n",
      "02:26:00\n",
      "02:26:00\n",
      "02:26:00\n",
      "02:26:00\n",
      "02:26:00\n",
      "02:26:00\n",
      "02:26:00\n",
      "02:26:00\n",
      "02:26:00\n",
      "02:26:00\n",
      "02:26:00\n",
      "02:26:00\n",
      "02:26:00\n",
      "02:26:00\n",
      "02:26:00\n",
      "02:26:00\n",
      "02:26:00\n",
      "02:26:00\n",
      "02:26:00\n",
      "02:26:00\n",
      "02:26:00\n",
      "02:26:00\n",
      "02:26:00\n",
      "02:26:00\n",
      "02:26:00\n",
      "02:26:00\n",
      "02:26:00\n",
      "02:26:00\n",
      "02:26:00\n",
      "02:26:00\n",
      "02:26:00\n",
      "02:26:00\n",
      "02:26:00\n",
      "02:26:00\n",
      "02:26:00\n",
      "02:26:00\n",
      "02:26:00\n",
      "02:26:00\n",
      "02:26:00\n",
      "02:26:00\n",
      "02:26:00\n",
      "02:26:00\n",
      "02:26:00\n",
      "02:26:00\n",
      "02:26:00\n",
      "02:26:00\n",
      "02:26:00\n",
      "02:26:00\n",
      "02:26:00\n",
      "02:26:00\n",
      "02:26:00\n",
      "02:26:00\n",
      "02:26:00\n",
      "02:26:00\n",
      "02:26:00\n",
      "02:26:00\n",
      "02:26:00\n",
      "02:26:00\n",
      "02:26:00\n",
      "02:26:00\n",
      "02:26:00\n",
      "02:26:00\n",
      "02:26:00\n",
      "02:26:00\n",
      "02:26:00\n",
      "02:26:00\n",
      "02:26:00\n",
      "02:26:00\n",
      "02:26:00\n",
      "02:26:00\n",
      "02:26:00\n",
      "02:26:00\n",
      "02:26:00\n",
      "02:26:00\n",
      "02:26:00\n",
      "02:26:00\n",
      "02:26:00\n",
      "02:26:00\n",
      "02:26:00\n",
      "02:26:00\n",
      "02:26:00\n",
      "02:26:00\n",
      "02:26:00\n",
      "02:26:00\n",
      "02:26:00\n",
      "02:26:00\n",
      "02:26:00\n",
      "02:26:00\n",
      "02:26:00\n",
      "02:26:00\n",
      "02:26:00\n",
      "02:26:00\n",
      "02:26:00\n",
      "02:26:00\n",
      "02:26:00\n",
      "02:26:00\n",
      "02:26:00\n",
      "02:26:00\n",
      "02:26:00\n",
      "02:26:00\n",
      "02:26:00\n",
      "02:26:00\n",
      "02:26:00\n",
      "02:26:00\n",
      "02:26:00\n",
      "02:26:00\n",
      "02:26:00\n",
      "02:26:00\n",
      "02:26:00\n",
      "02:26:00\n",
      "02:26:00\n",
      "02:26:00\n",
      "02:26:00\n",
      "02:26:00\n",
      "02:26:00\n",
      "02:26:00\n",
      "02:26:00\n",
      "02:26:00\n",
      "02:26:00\n",
      "02:26:00\n",
      "02:26:00\n",
      "02:26:00\n",
      "02:26:00\n",
      "02:26:00\n",
      "02:26:00\n",
      "02:26:00\n",
      "02:26:00\n",
      "02:26:00\n",
      "02:26:00\n",
      "02:26:00\n",
      "02:26:00\n",
      "02:26:00\n",
      "02:26:00\n",
      "02:26:00\n",
      "02:26:00\n",
      "02:26:00\n",
      "02:26:00\n",
      "02:26:00\n",
      "02:26:00\n",
      "02:26:00\n",
      "02:26:00\n",
      "02:26:00\n",
      "02:26:00\n",
      "02:26:00\n",
      "02:26:00\n",
      "02:26:00\n",
      "02:26:00\n",
      "02:26:00\n",
      "02:26:00\n",
      "02:26:00\n",
      "02:26:00\n",
      "02:26:00\n",
      "02:26:00\n",
      "02:26:00\n",
      "02:26:00\n",
      "02:26:00\n",
      "02:26:00\n",
      "02:26:00\n",
      "02:26:00\n",
      "02:26:00\n",
      "02:26:00\n",
      "02:26:00\n",
      "02:26:00\n",
      "02:26:00\n",
      "02:26:00\n",
      "02:26:00\n",
      "02:26:00\n",
      "02:26:00\n",
      "02:26:00\n",
      "02:26:00\n",
      "02:26:00\n",
      "02:26:00\n",
      "02:26:00\n",
      "02:26:00\n",
      "02:26:00\n",
      "02:26:00\n",
      "02:26:00\n",
      "02:26:00\n",
      "02:26:00\n",
      "02:26:00\n",
      "02:26:00\n",
      "02:26:00\n",
      "02:26:00\n",
      "02:26:00\n",
      "02:26:00\n",
      "02:26:00\n",
      "02:26:00\n",
      "02:26:00\n",
      "02:26:00\n",
      "02:26:00\n",
      "02:26:00\n",
      "02:26:00\n",
      "02:26:00\n",
      "02:26:00\n",
      "02:26:00\n",
      "02:26:00\n",
      "02:26:00\n",
      "02:26:00\n",
      "02:26:00\n",
      "02:26:00\n",
      "02:26:00\n",
      "02:26:00\n",
      "02:26:00\n",
      "02:26:00\n",
      "02:26:00\n",
      "02:26:00\n",
      "02:26:00\n",
      "02:26:00\n",
      "02:26:00\n",
      "02:26:00\n",
      "02:26:00\n",
      "02:26:00\n",
      "02:26:00\n",
      "02:26:00\n",
      "02:26:00\n",
      "02:26:00\n",
      "02:26:00\n",
      "02:26:00\n",
      "02:26:00\n",
      "02:26:00\n",
      "02:26:00\n",
      "02:26:00\n",
      "02:26:00\n",
      "02:26:00\n",
      "02:26:00\n",
      "02:26:00\n",
      "02:26:00\n",
      "02:26:00\n",
      "02:26:00\n",
      "02:26:00\n",
      "02:26:00\n",
      "02:26:00\n",
      "02:26:00\n",
      "02:26:00\n",
      "02:26:00\n",
      "02:26:00\n",
      "02:26:00\n",
      "02:26:00\n",
      "02:26:00\n",
      "02:26:00\n",
      "02:26:00\n",
      "02:26:00\n",
      "02:26:00\n",
      "02:26:00\n",
      "02:26:00\n",
      "02:26:00\n",
      "02:26:00\n",
      "02:26:00\n",
      "02:26:00\n",
      "02:26:00\n",
      "02:26:00\n",
      "02:26:00\n",
      "02:26:00\n",
      "02:26:00\n",
      "02:26:00\n",
      "02:26:00\n",
      "02:26:00\n",
      "02:26:00\n",
      "02:26:00\n",
      "02:26:00\n",
      "02:26:00\n",
      "02:26:00\n",
      "02:26:00\n",
      "02:26:00\n",
      "02:26:00\n",
      "02:26:00\n",
      "02:26:00\n",
      "02:26:00\n",
      "02:26:00\n",
      "02:26:00\n",
      "02:26:00\n",
      "02:26:00\n",
      "02:26:00\n",
      "02:26:00\n",
      "02:26:00\n",
      "02:26:00\n",
      "02:26:00\n",
      "02:26:00\n",
      "02:26:00\n",
      "02:26:00\n",
      "02:26:00\n",
      "02:26:00\n",
      "02:26:00\n",
      "02:26:00\n",
      "02:26:00\n",
      "02:26:00\n",
      "02:26:00\n",
      "02:26:00\n",
      "02:26:00\n",
      "02:26:00\n",
      "02:26:00\n",
      "02:26:00\n",
      "02:26:00\n",
      "02:26:00\n",
      "02:26:00\n",
      "02:26:00\n",
      "02:26:00\n",
      "02:26:00\n",
      "02:26:00\n",
      "02:26:00\n",
      "02:26:00\n",
      "02:26:00\n",
      "02:26:00\n",
      "02:26:00\n",
      "02:26:00\n",
      "02:26:00\n",
      "02:26:00\n",
      "02:26:00\n",
      "02:26:00\n",
      "02:26:00\n",
      "02:26:00\n",
      "02:26:00\n",
      "02:26:00\n",
      "02:26:00\n",
      "02:26:00\n",
      "02:26:00\n",
      "02:26:00\n",
      "02:26:00\n",
      "02:26:00\n",
      "02:26:00\n",
      "02:26:00\n",
      "02:26:00\n",
      "02:26:00\n",
      "02:26:00\n",
      "02:26:00\n",
      "02:26:00\n",
      "02:26:00\n",
      "02:26:00\n",
      "02:26:00\n",
      "02:26:00\n",
      "02:26:00\n",
      "02:26:00\n",
      "02:26:00\n",
      "02:26:00\n",
      "02:26:00\n",
      "02:26:00\n",
      "02:26:00\n",
      "02:26:00\n",
      "02:26:00\n",
      "02:26:00\n",
      "02:26:00\n",
      "02:26:00\n",
      "02:26:00\n",
      "02:26:00\n",
      "02:26:00\n",
      "02:26:00\n",
      "02:26:00\n",
      "02:26:00\n",
      "02:26:00\n",
      "02:26:00\n",
      "02:26:00\n",
      "02:26:00\n",
      "02:26:00\n",
      "02:26:00\n",
      "02:26:00\n",
      "02:26:00\n",
      "02:27:00\n",
      "Running code for scheduled time: 02:27:00\n",
      "Historical index is                                indSymbol   indOpen   indHigh    indLow  \\\n",
      "Timestamp                                                               \n",
      "2024-04-02 13:15:00+05:30  NSE:NIFTY 50  22409.65  22423.15  22393.05   \n",
      "2024-04-02 13:45:00+05:30  NSE:NIFTY 50  22413.75  22421.85  22400.60   \n",
      "2024-04-02 14:15:00+05:30  NSE:NIFTY 50  22414.15  22432.95  22410.10   \n",
      "2024-04-02 14:45:00+05:30  NSE:NIFTY 50  22420.45  22461.55  22420.45   \n",
      "2024-04-02 15:15:00+05:30  NSE:NIFTY 50  22451.45  22470.30  22450.95   \n",
      "\n",
      "                           indClose  indVolume  IsComplete  \n",
      "Timestamp                                                   \n",
      "2024-04-02 13:15:00+05:30  22414.35          0        True  \n",
      "2024-04-02 13:45:00+05:30  22414.00          0        True  \n",
      "2024-04-02 14:15:00+05:30  22420.55          0        True  \n",
      "2024-04-02 14:45:00+05:30  22452.30          0        True  \n",
      "2024-04-02 15:15:00+05:30  22464.30          0       False  \n",
      "\n",
      " Merged today index with yesterday to create complete index : \n",
      "                               indSymbol   indOpen   indHigh    indLow  \\\n",
      "Timestamp                                                               \n",
      "2024-03-04 09:15:00+05:30  NSE:NIFTY 50  22403.50  22440.90  22361.80   \n",
      "2024-03-04 09:45:00+05:30  NSE:NIFTY 50  22396.05  22408.00  22358.30   \n",
      "2024-03-04 10:15:00+05:30  NSE:NIFTY 50  22395.00  22432.90  22395.00   \n",
      "2024-03-04 10:45:00+05:30  NSE:NIFTY 50  22425.40  22425.40  22372.85   \n",
      "2024-03-04 11:15:00+05:30  NSE:NIFTY 50  22404.80  22418.80  22385.90   \n",
      "...                                 ...       ...       ...       ...   \n",
      "2024-04-04 13:15:00+05:30  NSE:NIFTY 50  22481.45  22580.20  22470.40   \n",
      "2024-04-04 13:45:00+05:30  NSE:NIFTY 50  22539.80  22552.75  22493.30   \n",
      "2024-04-04 14:15:00+05:30  NSE:NIFTY 50  22529.60  22564.95  22525.00   \n",
      "2024-04-04 14:45:00+05:30  NSE:NIFTY 50  22564.80  22568.10  22486.70   \n",
      "2024-04-04 15:15:00+05:30  NSE:NIFTY 50  22506.65  22553.95  22506.65   \n",
      "\n",
      "                           indClose  indVolume  IsComplete  \n",
      "Timestamp                                                   \n",
      "2024-03-04 09:15:00+05:30  22395.90          0        True  \n",
      "2024-03-04 09:45:00+05:30  22395.40          0        True  \n",
      "2024-03-04 10:15:00+05:30  22424.45          0        True  \n",
      "2024-03-04 10:45:00+05:30  22404.55          0        True  \n",
      "2024-03-04 11:15:00+05:30  22408.55          0        True  \n",
      "...                             ...        ...         ...  \n",
      "2024-04-04 13:15:00+05:30  22541.80          0        True  \n",
      "2024-04-04 13:45:00+05:30  22530.30          0        True  \n",
      "2024-04-04 14:15:00+05:30  22563.65          0        True  \n",
      "2024-04-04 14:45:00+05:30  22507.25          0        True  \n",
      "2024-04-04 15:15:00+05:30  22541.20          0       False  \n",
      "\n",
      "[260 rows x 7 columns]\n",
      "\n",
      " Removing run time:  02:27:00\n",
      "\n",
      " After removing duplicates and sorting , stock_data is \n",
      "  {'NSE:ABB':                             Symbol     Open     High      Low    Close  \\\n",
      "Timestamp                                                                \n",
      "2024-03-06 09:15:00+05:30  NSE:ABB  5660.00  5719.75  5659.60  5670.00   \n",
      "2024-03-06 09:45:00+05:30  NSE:ABB  5672.20  5689.85  5621.05  5640.00   \n",
      "2024-03-06 10:15:00+05:30  NSE:ABB  5640.00  5657.10  5596.55  5633.75   \n",
      "2024-03-06 10:45:00+05:30  NSE:ABB  5633.75  5650.00  5601.10  5614.75   \n",
      "2024-03-06 11:15:00+05:30  NSE:ABB  5614.75  5636.00  5607.60  5621.45   \n",
      "...                            ...      ...      ...      ...      ...   \n",
      "2024-04-04 13:15:00+05:30  NSE:ABB  6552.05  6559.65  6545.05  6551.85   \n",
      "2024-04-04 13:45:00+05:30  NSE:ABB  6551.85  6553.95  6502.00  6503.25   \n",
      "2024-04-04 14:15:00+05:30  NSE:ABB  6503.25  6529.65  6490.95  6518.50   \n",
      "2024-04-04 14:45:00+05:30  NSE:ABB  6519.00  6522.80  6491.30  6499.45   \n",
      "2024-04-04 15:15:00+05:30  NSE:ABB  6499.45  6520.00  6493.35  6502.65   \n",
      "\n",
      "                           Volume  IsComplete  \n",
      "Timestamp                                      \n",
      "2024-03-06 09:15:00+05:30   74561        True  \n",
      "2024-03-06 09:45:00+05:30   40881        True  \n",
      "2024-03-06 10:15:00+05:30   30520        True  \n",
      "2024-03-06 10:45:00+05:30   19414        True  \n",
      "2024-03-06 11:15:00+05:30   16752        True  \n",
      "...                           ...         ...  \n",
      "2024-04-04 13:15:00+05:30    7698        True  \n",
      "2024-04-04 13:45:00+05:30   22000        True  \n",
      "2024-04-04 14:15:00+05:30   23644        True  \n",
      "2024-04-04 14:45:00+05:30   29124        True  \n",
      "2024-04-04 15:15:00+05:30   21474       False  \n",
      "\n",
      "[234 rows x 7 columns], 'NSE:ABBOTINDIA':                                    Symbol      Open      High       Low  \\\n",
      "Timestamp                                                                 \n",
      "2024-03-06 09:15:00+05:30  NSE:ABBOTINDIA  27255.00  27370.45  27200.00   \n",
      "2024-03-06 09:45:00+05:30  NSE:ABBOTINDIA  27300.00  27300.00  27110.95   \n",
      "2024-03-06 10:15:00+05:30  NSE:ABBOTINDIA  27232.20  27232.20  27024.05   \n",
      "2024-03-06 10:45:00+05:30  NSE:ABBOTINDIA  27151.20  27151.20  27032.10   \n",
      "2024-03-06 11:15:00+05:30  NSE:ABBOTINDIA  27093.15  27109.75  27010.00   \n",
      "...                                   ...       ...       ...       ...   \n",
      "2024-04-04 13:15:00+05:30  NSE:ABBOTINDIA  26665.00  26720.00  26659.75   \n",
      "2024-04-04 13:45:00+05:30  NSE:ABBOTINDIA  26709.60  26710.00  26620.25   \n",
      "2024-04-04 14:15:00+05:30  NSE:ABBOTINDIA  26627.10  26743.95  26627.10   \n",
      "2024-04-04 14:45:00+05:30  NSE:ABBOTINDIA  26738.70  26738.70  26545.10   \n",
      "2024-04-04 15:15:00+05:30  NSE:ABBOTINDIA  26607.95  26667.80  26590.80   \n",
      "\n",
      "                              Close  Volume  IsComplete  \n",
      "Timestamp                                                \n",
      "2024-03-06 09:15:00+05:30  27264.10     838        True  \n",
      "2024-03-06 09:45:00+05:30  27232.20     411        True  \n",
      "2024-03-06 10:15:00+05:30  27151.20     788        True  \n",
      "2024-03-06 10:45:00+05:30  27093.15     274        True  \n",
      "2024-03-06 11:15:00+05:30  27085.00     408        True  \n",
      "...                             ...     ...         ...  \n",
      "2024-04-04 13:15:00+05:30  26709.60     250        True  \n",
      "2024-04-04 13:45:00+05:30  26627.10     428        True  \n",
      "2024-04-04 14:15:00+05:30  26738.70     470        True  \n",
      "2024-04-04 14:45:00+05:30  26607.95    3957        True  \n",
      "2024-04-04 15:15:00+05:30  26650.00    1211       False  \n",
      "\n",
      "[234 rows x 7 columns], 'NSE:ADANIENT':                                  Symbol     Open     High      Low    Close  \\\n",
      "Timestamp                                                                     \n",
      "2024-03-06 09:15:00+05:30  NSE:ADANIENT  3323.00  3323.00  3270.70  3282.00   \n",
      "2024-03-06 09:45:00+05:30  NSE:ADANIENT  3281.40  3281.95  3224.45  3240.20   \n",
      "2024-03-06 10:15:00+05:30  NSE:ADANIENT  3238.05  3261.50  3232.25  3259.05   \n",
      "2024-03-06 10:45:00+05:30  NSE:ADANIENT  3259.05  3267.90  3235.25  3240.10   \n",
      "2024-03-06 11:15:00+05:30  NSE:ADANIENT  3239.00  3242.75  3207.10  3216.60   \n",
      "...                                 ...      ...      ...      ...      ...   \n",
      "2024-04-04 13:15:00+05:30  NSE:ADANIENT  3229.60  3246.50  3228.60  3236.30   \n",
      "2024-04-04 13:45:00+05:30  NSE:ADANIENT  3236.30  3238.90  3225.10  3228.95   \n",
      "2024-04-04 14:15:00+05:30  NSE:ADANIENT  3228.95  3236.75  3225.65  3230.25   \n",
      "2024-04-04 14:45:00+05:30  NSE:ADANIENT  3231.20  3233.85  3204.25  3206.75   \n",
      "2024-04-04 15:15:00+05:30  NSE:ADANIENT  3206.75  3221.00  3202.10  3220.00   \n",
      "\n",
      "                           Volume  IsComplete  \n",
      "Timestamp                                      \n",
      "2024-03-06 09:15:00+05:30  161918        True  \n",
      "2024-03-06 09:45:00+05:30  216909        True  \n",
      "2024-03-06 10:15:00+05:30   95895        True  \n",
      "2024-03-06 10:45:00+05:30   76486        True  \n",
      "2024-03-06 11:15:00+05:30  103622        True  \n",
      "...                           ...         ...  \n",
      "2024-04-04 13:15:00+05:30  199773        True  \n",
      "2024-04-04 13:45:00+05:30   47811        True  \n",
      "2024-04-04 14:15:00+05:30   39147        True  \n",
      "2024-04-04 14:45:00+05:30  131336        True  \n",
      "2024-04-04 15:15:00+05:30  123057       False  \n",
      "\n",
      "[234 rows x 7 columns], 'NSE:ADANIPORTS':                                    Symbol     Open    High      Low    Close  \\\n",
      "Timestamp                                                                      \n",
      "2024-03-06 09:15:00+05:30  NSE:ADANIPORTS  1342.70  1344.6  1321.60  1327.90   \n",
      "2024-03-06 09:45:00+05:30  NSE:ADANIPORTS  1327.35  1328.2  1310.25  1318.45   \n",
      "2024-03-06 10:15:00+05:30  NSE:ADANIPORTS  1318.45  1326.3  1315.75  1324.50   \n",
      "2024-03-06 10:45:00+05:30  NSE:ADANIPORTS  1324.50  1328.0  1317.15  1320.65   \n",
      "2024-03-06 11:15:00+05:30  NSE:ADANIPORTS  1320.65  1322.5  1309.20  1311.20   \n",
      "...                                   ...      ...     ...      ...      ...   \n",
      "2024-04-04 13:15:00+05:30  NSE:ADANIPORTS  1380.75  1382.0  1370.95  1374.30   \n",
      "2024-04-04 13:45:00+05:30  NSE:ADANIPORTS  1374.30  1375.0  1368.20  1371.95   \n",
      "2024-04-04 14:15:00+05:30  NSE:ADANIPORTS  1371.95  1377.2  1370.00  1375.00   \n",
      "2024-04-04 14:45:00+05:30  NSE:ADANIPORTS  1375.00  1375.6  1362.55  1365.10   \n",
      "2024-04-04 15:15:00+05:30  NSE:ADANIPORTS  1365.10  1369.8  1364.80  1369.60   \n",
      "\n",
      "                           Volume  IsComplete  \n",
      "Timestamp                                      \n",
      "2024-03-06 09:15:00+05:30  731155        True  \n",
      "2024-03-06 09:45:00+05:30  386476        True  \n",
      "2024-03-06 10:15:00+05:30  163339        True  \n",
      "2024-03-06 10:45:00+05:30  136703        True  \n",
      "2024-03-06 11:15:00+05:30  162458        True  \n",
      "...                           ...         ...  \n",
      "2024-04-04 13:15:00+05:30  379018        True  \n",
      "2024-04-04 13:45:00+05:30  242337        True  \n",
      "2024-04-04 14:15:00+05:30  345532        True  \n",
      "2024-04-04 14:45:00+05:30  619910        True  \n",
      "2024-04-04 15:15:00+05:30  350702       False  \n",
      "\n",
      "[234 rows x 7 columns], 'NSE:AMBUJACEM':                                   Symbol    Open    High     Low   Close  \\\n",
      "Timestamp                                                                  \n",
      "2024-03-06 09:15:00+05:30  NSE:AMBUJACEM  612.00  613.65  607.50  611.20   \n",
      "2024-03-06 09:45:00+05:30  NSE:AMBUJACEM  611.20  611.75  597.30  602.95   \n",
      "2024-03-06 10:15:00+05:30  NSE:AMBUJACEM  602.95  607.50  601.90  607.40   \n",
      "2024-03-06 10:45:00+05:30  NSE:AMBUJACEM  607.40  608.10  601.30  603.90   \n",
      "2024-03-06 11:15:00+05:30  NSE:AMBUJACEM  603.90  605.35  600.40  600.85   \n",
      "...                                  ...     ...     ...     ...     ...   \n",
      "2024-04-04 13:15:00+05:30  NSE:AMBUJACEM  628.10  630.00  626.35  629.35   \n",
      "2024-04-04 13:45:00+05:30  NSE:AMBUJACEM  629.35  629.45  624.35  624.55   \n",
      "2024-04-04 14:15:00+05:30  NSE:AMBUJACEM  624.85  628.25  624.00  626.30   \n",
      "2024-04-04 14:45:00+05:30  NSE:AMBUJACEM  626.30  627.50  624.00  624.35   \n",
      "2024-04-04 15:15:00+05:30  NSE:AMBUJACEM  624.25  625.65  624.00  624.60   \n",
      "\n",
      "                           Volume  IsComplete  \n",
      "Timestamp                                      \n",
      "2024-03-06 09:15:00+05:30  269108        True  \n",
      "2024-03-06 09:45:00+05:30  334458        True  \n",
      "2024-03-06 10:15:00+05:30  123543        True  \n",
      "2024-03-06 10:45:00+05:30  485967        True  \n",
      "2024-03-06 11:15:00+05:30  456900        True  \n",
      "...                           ...         ...  \n",
      "2024-04-04 13:15:00+05:30   90187        True  \n",
      "2024-04-04 13:45:00+05:30  207009        True  \n",
      "2024-04-04 14:15:00+05:30  160066        True  \n",
      "2024-04-04 14:45:00+05:30  207827        True  \n",
      "2024-04-04 15:15:00+05:30  175673       False  \n",
      "\n",
      "[234 rows x 7 columns], 'NSE:ASHOKLEY':                                  Symbol    Open    High     Low   Close  \\\n",
      "Timestamp                                                                 \n",
      "2024-03-06 09:15:00+05:30  NSE:ASHOKLEY  171.90  172.20  170.15  171.05   \n",
      "2024-03-06 09:45:00+05:30  NSE:ASHOKLEY  171.05  171.10  169.10  169.95   \n",
      "2024-03-06 10:15:00+05:30  NSE:ASHOKLEY  169.80  170.40  169.30  170.00   \n",
      "2024-03-06 10:45:00+05:30  NSE:ASHOKLEY  170.00  170.35  169.60  169.85   \n",
      "2024-03-06 11:15:00+05:30  NSE:ASHOKLEY  169.80  170.25  169.35  169.50   \n",
      "...                                 ...     ...     ...     ...     ...   \n",
      "2024-04-04 13:15:00+05:30  NSE:ASHOKLEY  173.60  173.70  173.30  173.30   \n",
      "2024-04-04 13:45:00+05:30  NSE:ASHOKLEY  173.30  173.45  173.10  173.25   \n",
      "2024-04-04 14:15:00+05:30  NSE:ASHOKLEY  173.25  173.55  173.10  173.30   \n",
      "2024-04-04 14:45:00+05:30  NSE:ASHOKLEY  173.35  173.55  173.00  173.05   \n",
      "2024-04-04 15:15:00+05:30  NSE:ASHOKLEY  173.00  173.25  172.75  173.15   \n",
      "\n",
      "                            Volume  IsComplete  \n",
      "Timestamp                                       \n",
      "2024-03-06 09:15:00+05:30  1654233        True  \n",
      "2024-03-06 09:45:00+05:30  1685234        True  \n",
      "2024-03-06 10:15:00+05:30  1005400        True  \n",
      "2024-03-06 10:45:00+05:30   547425        True  \n",
      "2024-03-06 11:15:00+05:30   497723        True  \n",
      "...                            ...         ...  \n",
      "2024-04-04 13:15:00+05:30   301360        True  \n",
      "2024-04-04 13:45:00+05:30   356847        True  \n",
      "2024-04-04 14:15:00+05:30   416403        True  \n",
      "2024-04-04 14:45:00+05:30   689321        True  \n",
      "2024-04-04 15:15:00+05:30   752426       False  \n",
      "\n",
      "[234 rows x 7 columns], 'NSE:BAJAJFINSV':                                    Symbol     Open     High      Low    Close  \\\n",
      "Timestamp                                                                       \n",
      "2024-03-06 09:15:00+05:30  NSE:BAJAJFINSV  1558.00  1558.00  1533.55  1543.00   \n",
      "2024-03-06 09:45:00+05:30  NSE:BAJAJFINSV  1542.95  1548.80  1536.00  1543.95   \n",
      "2024-03-06 10:15:00+05:30  NSE:BAJAJFINSV  1543.25  1550.90  1543.20  1545.85   \n",
      "2024-03-06 10:45:00+05:30  NSE:BAJAJFINSV  1545.85  1546.35  1537.25  1540.00   \n",
      "2024-03-06 11:15:00+05:30  NSE:BAJAJFINSV  1539.30  1540.45  1533.90  1535.85   \n",
      "...                                   ...      ...      ...      ...      ...   \n",
      "2024-04-04 13:15:00+05:30  NSE:BAJAJFINSV  1649.85  1659.95  1646.05  1658.10   \n",
      "2024-04-04 13:45:00+05:30  NSE:BAJAJFINSV  1657.90  1659.40  1655.00  1656.60   \n",
      "2024-04-04 14:15:00+05:30  NSE:BAJAJFINSV  1656.60  1662.50  1656.05  1660.80   \n",
      "2024-04-04 14:45:00+05:30  NSE:BAJAJFINSV  1660.90  1661.05  1650.95  1656.45   \n",
      "2024-04-04 15:15:00+05:30  NSE:BAJAJFINSV  1656.85  1658.00  1655.00  1656.95   \n",
      "\n",
      "                           Volume  IsComplete  \n",
      "Timestamp                                      \n",
      "2024-03-06 09:15:00+05:30  303605        True  \n",
      "2024-03-06 09:45:00+05:30  133300        True  \n",
      "2024-03-06 10:15:00+05:30   66944        True  \n",
      "2024-03-06 10:45:00+05:30   76506        True  \n",
      "2024-03-06 11:15:00+05:30   61754        True  \n",
      "...                           ...         ...  \n",
      "2024-04-04 13:15:00+05:30  201840        True  \n",
      "2024-04-04 13:45:00+05:30   69142        True  \n",
      "2024-04-04 14:15:00+05:30  101545        True  \n",
      "2024-04-04 14:45:00+05:30   96238        True  \n",
      "2024-04-04 15:15:00+05:30   61328       False  \n",
      "\n",
      "[234 rows x 7 columns], 'NSE:BAJFINANCE':                                    Symbol     Open     High      Low    Close  \\\n",
      "Timestamp                                                                       \n",
      "2024-03-06 09:15:00+05:30  NSE:BAJFINANCE  6332.50  6345.90  6234.85  6259.00   \n",
      "2024-03-06 09:45:00+05:30  NSE:BAJFINANCE  6258.80  6261.50  6201.00  6212.00   \n",
      "2024-03-06 10:15:00+05:30  NSE:BAJFINANCE  6213.95  6256.65  6213.55  6246.00   \n",
      "2024-03-06 10:45:00+05:30  NSE:BAJFINANCE  6246.00  6251.00  6220.00  6231.35   \n",
      "2024-03-06 11:15:00+05:30  NSE:BAJFINANCE  6231.20  6237.70  6220.80  6226.60   \n",
      "...                                   ...      ...      ...      ...      ...   \n",
      "2024-04-04 13:15:00+05:30  NSE:BAJFINANCE  7321.90  7345.00  7311.05  7325.00   \n",
      "2024-04-04 13:45:00+05:30  NSE:BAJFINANCE  7326.00  7330.00  7309.25  7316.90   \n",
      "2024-04-04 14:15:00+05:30  NSE:BAJFINANCE  7316.90  7322.00  7290.00  7300.90   \n",
      "2024-04-04 14:45:00+05:30  NSE:BAJFINANCE  7300.90  7301.15  7270.35  7276.45   \n",
      "2024-04-04 15:15:00+05:30  NSE:BAJFINANCE  7276.45  7293.00  7273.60  7290.00   \n",
      "\n",
      "                           Volume  IsComplete  \n",
      "Timestamp                                      \n",
      "2024-03-06 09:15:00+05:30  475027        True  \n",
      "2024-03-06 09:45:00+05:30  229604        True  \n",
      "2024-03-06 10:15:00+05:30  192416        True  \n",
      "2024-03-06 10:45:00+05:30   93422        True  \n",
      "2024-03-06 11:15:00+05:30  192102        True  \n",
      "...                           ...         ...  \n",
      "2024-04-04 13:15:00+05:30  107567        True  \n",
      "2024-04-04 13:45:00+05:30   35566        True  \n",
      "2024-04-04 14:15:00+05:30   52669        True  \n",
      "2024-04-04 14:45:00+05:30   75994        True  \n",
      "2024-04-04 15:15:00+05:30   58753       False  \n",
      "\n",
      "[234 rows x 7 columns], 'NSE:BHEL':                              Symbol    Open    High     Low   Close    Volume  \\\n",
      "Timestamp                                                                       \n",
      "2024-03-06 09:15:00+05:30  NSE:BHEL  270.70  272.00  262.60  263.60  17484433   \n",
      "2024-03-06 09:45:00+05:30  NSE:BHEL  263.70  263.70  252.65  253.00  14839237   \n",
      "2024-03-06 10:15:00+05:30  NSE:BHEL  253.00  255.65  251.15  252.35   8144816   \n",
      "2024-03-06 10:45:00+05:30  NSE:BHEL  252.30  253.95  250.20  250.95   6511946   \n",
      "2024-03-06 11:15:00+05:30  NSE:BHEL  250.90  253.80  249.60  251.75   5080110   \n",
      "...                             ...     ...     ...     ...     ...       ...   \n",
      "2024-04-04 13:15:00+05:30  NSE:BHEL  250.60  251.35  249.80  251.05    649171   \n",
      "2024-04-04 13:45:00+05:30  NSE:BHEL  251.05  251.25  250.05  250.35    652158   \n",
      "2024-04-04 14:15:00+05:30  NSE:BHEL  250.35  251.50  250.20  251.05    628782   \n",
      "2024-04-04 14:45:00+05:30  NSE:BHEL  251.10  251.95  250.50  251.20    956105   \n",
      "2024-04-04 15:15:00+05:30  NSE:BHEL  251.30  252.00  251.15  251.80   1071773   \n",
      "\n",
      "                           IsComplete  \n",
      "Timestamp                              \n",
      "2024-03-06 09:15:00+05:30        True  \n",
      "2024-03-06 09:45:00+05:30        True  \n",
      "2024-03-06 10:15:00+05:30        True  \n",
      "2024-03-06 10:45:00+05:30        True  \n",
      "2024-03-06 11:15:00+05:30        True  \n",
      "...                               ...  \n",
      "2024-04-04 13:15:00+05:30        True  \n",
      "2024-04-04 13:45:00+05:30        True  \n",
      "2024-04-04 14:15:00+05:30        True  \n",
      "2024-04-04 14:45:00+05:30        True  \n",
      "2024-04-04 15:15:00+05:30       False  \n",
      "\n",
      "[234 rows x 7 columns], 'NSE:BIOCON':                                Symbol    Open    High     Low   Close  \\\n",
      "Timestamp                                                               \n",
      "2024-03-06 09:15:00+05:30  NSE:BIOCON  280.00  280.85  275.55  276.15   \n",
      "2024-03-06 09:45:00+05:30  NSE:BIOCON  276.15  276.75  270.05  272.40   \n",
      "2024-03-06 10:15:00+05:30  NSE:BIOCON  272.40  274.00  270.80  272.60   \n",
      "2024-03-06 10:45:00+05:30  NSE:BIOCON  272.60  272.85  270.65  271.90   \n",
      "2024-03-06 11:15:00+05:30  NSE:BIOCON  272.00  272.05  269.25  270.25   \n",
      "...                               ...     ...     ...     ...     ...   \n",
      "2024-04-04 13:15:00+05:30  NSE:BIOCON  270.95  271.50  270.65  270.90   \n",
      "2024-04-04 13:45:00+05:30  NSE:BIOCON  270.90  271.15  270.05  270.30   \n",
      "2024-04-04 14:15:00+05:30  NSE:BIOCON  270.30  271.25  270.10  270.95   \n",
      "2024-04-04 14:45:00+05:30  NSE:BIOCON  270.95  271.40  269.80  269.90   \n",
      "2024-04-04 15:15:00+05:30  NSE:BIOCON  269.95  271.05  269.80  270.70   \n",
      "\n",
      "                            Volume  IsComplete  \n",
      "Timestamp                                       \n",
      "2024-03-06 09:15:00+05:30   599602        True  \n",
      "2024-03-06 09:45:00+05:30  1085606        True  \n",
      "2024-03-06 10:15:00+05:30  1264812        True  \n",
      "2024-03-06 10:45:00+05:30   281088        True  \n",
      "2024-03-06 11:15:00+05:30   461574        True  \n",
      "...                            ...         ...  \n",
      "2024-04-04 13:15:00+05:30    60731        True  \n",
      "2024-04-04 13:45:00+05:30    35131        True  \n",
      "2024-04-04 14:15:00+05:30    48160        True  \n",
      "2024-04-04 14:45:00+05:30   162065        True  \n",
      "2024-04-04 15:15:00+05:30   221277       False  \n",
      "\n",
      "[234 rows x 7 columns], 'NSE:CHOLAFIN':                                  Symbol     Open     High      Low    Close  \\\n",
      "Timestamp                                                                     \n",
      "2024-03-06 09:15:00+05:30  NSE:CHOLAFIN  1041.00  1056.30  1033.65  1037.40   \n",
      "2024-03-06 09:45:00+05:30  NSE:CHOLAFIN  1037.95  1039.75  1025.20  1027.75   \n",
      "2024-03-06 10:15:00+05:30  NSE:CHOLAFIN  1027.75  1034.10  1023.55  1027.25   \n",
      "2024-03-06 10:45:00+05:30  NSE:CHOLAFIN  1027.15  1029.30  1021.85  1023.10   \n",
      "2024-03-06 11:15:00+05:30  NSE:CHOLAFIN  1023.80  1024.90  1019.70  1021.35   \n",
      "...                                 ...      ...      ...      ...      ...   \n",
      "2024-04-04 13:15:00+05:30  NSE:CHOLAFIN  1210.15  1212.00  1209.50  1209.65   \n",
      "2024-04-04 13:45:00+05:30  NSE:CHOLAFIN  1209.65  1211.00  1206.00  1206.00   \n",
      "2024-04-04 14:15:00+05:30  NSE:CHOLAFIN  1206.00  1209.00  1197.95  1199.10   \n",
      "2024-04-04 14:45:00+05:30  NSE:CHOLAFIN  1199.10  1202.00  1195.00  1195.65   \n",
      "2024-04-04 15:15:00+05:30  NSE:CHOLAFIN  1195.90  1200.00  1193.90  1197.00   \n",
      "\n",
      "                           Volume  IsComplete  \n",
      "Timestamp                                      \n",
      "2024-03-06 09:15:00+05:30  207504        True  \n",
      "2024-03-06 09:45:00+05:30   98340        True  \n",
      "2024-03-06 10:15:00+05:30  459303        True  \n",
      "2024-03-06 10:45:00+05:30   83659        True  \n",
      "2024-03-06 11:15:00+05:30   92852        True  \n",
      "...                           ...         ...  \n",
      "2024-04-04 13:15:00+05:30   50306        True  \n",
      "2024-04-04 13:45:00+05:30  127199        True  \n",
      "2024-04-04 14:15:00+05:30  113970        True  \n",
      "2024-04-04 14:45:00+05:30   92972        True  \n",
      "2024-04-04 15:15:00+05:30   75125       False  \n",
      "\n",
      "[234 rows x 7 columns], 'NSE:CIPLA':                               Symbol     Open     High      Low    Close  \\\n",
      "Timestamp                                                                  \n",
      "2024-03-06 09:15:00+05:30  NSE:CIPLA  1476.00  1479.90  1458.60  1466.95   \n",
      "2024-03-06 09:45:00+05:30  NSE:CIPLA  1467.80  1469.95  1458.70  1463.40   \n",
      "2024-03-06 10:15:00+05:30  NSE:CIPLA  1463.40  1468.00  1460.00  1464.50   \n",
      "2024-03-06 10:45:00+05:30  NSE:CIPLA  1464.40  1464.45  1459.10  1459.25   \n",
      "2024-03-06 11:15:00+05:30  NSE:CIPLA  1459.25  1460.00  1454.25  1456.15   \n",
      "...                              ...      ...      ...      ...      ...   \n",
      "2024-04-04 13:15:00+05:30  NSE:CIPLA  1458.45  1468.00  1457.10  1465.00   \n",
      "2024-04-04 13:45:00+05:30  NSE:CIPLA  1465.00  1466.85  1460.50  1462.05   \n",
      "2024-04-04 14:15:00+05:30  NSE:CIPLA  1462.00  1467.10  1461.45  1462.45   \n",
      "2024-04-04 14:45:00+05:30  NSE:CIPLA  1462.25  1463.90  1456.05  1458.65   \n",
      "2024-04-04 15:15:00+05:30  NSE:CIPLA  1458.60  1464.45  1458.00  1458.10   \n",
      "\n",
      "                           Volume  IsComplete  \n",
      "Timestamp                                      \n",
      "2024-03-06 09:15:00+05:30   87519        True  \n",
      "2024-03-06 09:45:00+05:30   81097        True  \n",
      "2024-03-06 10:15:00+05:30  136286        True  \n",
      "2024-03-06 10:45:00+05:30   60700        True  \n",
      "2024-03-06 11:15:00+05:30   55768        True  \n",
      "...                           ...         ...  \n",
      "2024-04-04 13:15:00+05:30  152788        True  \n",
      "2024-04-04 13:45:00+05:30   51604        True  \n",
      "2024-04-04 14:15:00+05:30   57097        True  \n",
      "2024-04-04 14:45:00+05:30  179335        True  \n",
      "2024-04-04 15:15:00+05:30   67757       False  \n",
      "\n",
      "[234 rows x 7 columns], 'NSE:DLF':                             Symbol    Open    High     Low   Close  Volume  \\\n",
      "Timestamp                                                                    \n",
      "2024-03-06 09:15:00+05:30  NSE:DLF  930.95  933.90  925.00  929.00  441273   \n",
      "2024-03-06 09:45:00+05:30  NSE:DLF  929.00  929.65  912.30  918.35  554801   \n",
      "2024-03-06 10:15:00+05:30  NSE:DLF  918.35  922.55  915.20  920.65  196813   \n",
      "2024-03-06 10:45:00+05:30  NSE:DLF  921.10  923.85  918.20  921.60   97020   \n",
      "2024-03-06 11:15:00+05:30  NSE:DLF  921.60  921.85  913.95  915.65  154156   \n",
      "...                            ...     ...     ...     ...     ...     ...   \n",
      "2024-04-04 13:15:00+05:30  NSE:DLF  889.20  893.50  889.15  891.40  311977   \n",
      "2024-04-04 13:45:00+05:30  NSE:DLF  891.25  892.10  885.10  887.30  480508   \n",
      "2024-04-04 14:15:00+05:30  NSE:DLF  887.40  891.40  887.05  891.10  267717   \n",
      "2024-04-04 14:45:00+05:30  NSE:DLF  891.20  891.25  886.20  887.00  492386   \n",
      "2024-04-04 15:15:00+05:30  NSE:DLF  887.00  890.70  886.65  890.40  514205   \n",
      "\n",
      "                           IsComplete  \n",
      "Timestamp                              \n",
      "2024-03-06 09:15:00+05:30        True  \n",
      "2024-03-06 09:45:00+05:30        True  \n",
      "2024-03-06 10:15:00+05:30        True  \n",
      "2024-03-06 10:45:00+05:30        True  \n",
      "2024-03-06 11:15:00+05:30        True  \n",
      "...                               ...  \n",
      "2024-04-04 13:15:00+05:30        True  \n",
      "2024-04-04 13:45:00+05:30        True  \n",
      "2024-04-04 14:15:00+05:30        True  \n",
      "2024-04-04 14:45:00+05:30        True  \n",
      "2024-04-04 15:15:00+05:30       False  \n",
      "\n",
      "[234 rows x 7 columns], 'NSE:DRREDDY':                                 Symbol     Open     High      Low    Close  \\\n",
      "Timestamp                                                                    \n",
      "2024-03-06 09:15:00+05:30  NSE:DRREDDY  6303.30  6319.90  6240.25  6260.60   \n",
      "2024-03-06 09:45:00+05:30  NSE:DRREDDY  6260.00  6269.90  6209.00  6232.20   \n",
      "2024-03-06 10:15:00+05:30  NSE:DRREDDY  6232.20  6248.35  6215.00  6219.55   \n",
      "2024-03-06 10:45:00+05:30  NSE:DRREDDY  6220.00  6238.30  6210.10  6222.90   \n",
      "2024-03-06 11:15:00+05:30  NSE:DRREDDY  6222.95  6222.95  6196.00  6205.10   \n",
      "...                                ...      ...      ...      ...      ...   \n",
      "2024-04-04 13:15:00+05:30  NSE:DRREDDY  6130.00  6168.35  6124.30  6159.15   \n",
      "2024-04-04 13:45:00+05:30  NSE:DRREDDY  6159.15  6168.40  6143.05  6152.25   \n",
      "2024-04-04 14:15:00+05:30  NSE:DRREDDY  6154.90  6175.00  6147.00  6166.10   \n",
      "2024-04-04 14:45:00+05:30  NSE:DRREDDY  6166.10  6167.70  6131.15  6137.80   \n",
      "2024-04-04 15:15:00+05:30  NSE:DRREDDY  6137.85  6154.75  6133.65  6140.00   \n",
      "\n",
      "                           Volume  IsComplete  \n",
      "Timestamp                                      \n",
      "2024-03-06 09:15:00+05:30   41222        True  \n",
      "2024-03-06 09:45:00+05:30   33395        True  \n",
      "2024-03-06 10:15:00+05:30   13898        True  \n",
      "2024-03-06 10:45:00+05:30   12220        True  \n",
      "2024-03-06 11:15:00+05:30   11050        True  \n",
      "...                           ...         ...  \n",
      "2024-04-04 13:15:00+05:30   39757        True  \n",
      "2024-04-04 13:45:00+05:30   20609        True  \n",
      "2024-04-04 14:15:00+05:30   16116        True  \n",
      "2024-04-04 14:45:00+05:30   35102        True  \n",
      "2024-04-04 15:15:00+05:30   28222       False  \n",
      "\n",
      "[234 rows x 7 columns], 'NSE:GODREJCP':                                  Symbol     Open     High      Low    Close  \\\n",
      "Timestamp                                                                     \n",
      "2024-03-06 09:15:00+05:30  NSE:GODREJCP  1248.70  1251.50  1233.30  1242.15   \n",
      "2024-03-06 09:45:00+05:30  NSE:GODREJCP  1243.00  1244.30  1226.85  1232.85   \n",
      "2024-03-06 10:15:00+05:30  NSE:GODREJCP  1232.85  1239.95  1230.65  1236.75   \n",
      "2024-03-06 10:45:00+05:30  NSE:GODREJCP  1236.75  1240.00  1234.00  1234.00   \n",
      "2024-03-06 11:15:00+05:30  NSE:GODREJCP  1234.00  1243.20  1232.40  1235.05   \n",
      "...                                 ...      ...      ...      ...      ...   \n",
      "2024-04-04 13:15:00+05:30  NSE:GODREJCP  1185.55  1188.80  1185.35  1187.80   \n",
      "2024-04-04 13:45:00+05:30  NSE:GODREJCP  1187.10  1187.85  1178.15  1178.15   \n",
      "2024-04-04 14:15:00+05:30  NSE:GODREJCP  1178.75  1183.55  1177.40  1179.00   \n",
      "2024-04-04 14:45:00+05:30  NSE:GODREJCP  1179.00  1180.90  1173.75  1177.75   \n",
      "2024-04-04 15:15:00+05:30  NSE:GODREJCP  1177.95  1180.30  1175.20  1177.95   \n",
      "\n",
      "                           Volume  IsComplete  \n",
      "Timestamp                                      \n",
      "2024-03-06 09:15:00+05:30   79396        True  \n",
      "2024-03-06 09:45:00+05:30   32814        True  \n",
      "2024-03-06 10:15:00+05:30   25370        True  \n",
      "2024-03-06 10:45:00+05:30   23456        True  \n",
      "2024-03-06 11:15:00+05:30   48399        True  \n",
      "...                           ...         ...  \n",
      "2024-04-04 13:15:00+05:30   35079        True  \n",
      "2024-04-04 13:45:00+05:30   93688        True  \n",
      "2024-04-04 14:15:00+05:30   91528        True  \n",
      "2024-04-04 14:45:00+05:30  118397        True  \n",
      "2024-04-04 15:15:00+05:30   88803       False  \n",
      "\n",
      "[234 rows x 7 columns], 'NSE:GRASIM':                                Symbol     Open     High      Low    Close  \\\n",
      "Timestamp                                                                   \n",
      "2024-03-06 09:15:00+05:30  NSE:GRASIM  2237.90  2252.95  2235.00  2240.00   \n",
      "2024-03-06 09:45:00+05:30  NSE:GRASIM  2240.00  2242.90  2215.50  2224.40   \n",
      "2024-03-06 10:15:00+05:30  NSE:GRASIM  2224.40  2229.65  2214.05  2219.55   \n",
      "2024-03-06 10:45:00+05:30  NSE:GRASIM  2218.25  2219.20  2207.15  2209.90   \n",
      "2024-03-06 11:15:00+05:30  NSE:GRASIM  2209.90  2210.40  2200.00  2204.00   \n",
      "...                               ...      ...      ...      ...      ...   \n",
      "2024-04-04 13:15:00+05:30  NSE:GRASIM  2261.80  2279.75  2256.25  2276.50   \n",
      "2024-04-04 13:45:00+05:30  NSE:GRASIM  2276.50  2280.00  2271.05  2278.70   \n",
      "2024-04-04 14:15:00+05:30  NSE:GRASIM  2278.70  2282.25  2272.55  2279.45   \n",
      "2024-04-04 14:45:00+05:30  NSE:GRASIM  2279.45  2281.85  2269.45  2277.00   \n",
      "2024-04-04 15:15:00+05:30  NSE:GRASIM  2277.00  2285.00  2275.35  2285.00   \n",
      "\n",
      "                           Volume  IsComplete  \n",
      "Timestamp                                      \n",
      "2024-03-06 09:15:00+05:30   47917        True  \n",
      "2024-03-06 09:45:00+05:30   35296        True  \n",
      "2024-03-06 10:15:00+05:30   23069        True  \n",
      "2024-03-06 10:45:00+05:30   21913        True  \n",
      "2024-03-06 11:15:00+05:30   38654        True  \n",
      "...                           ...         ...  \n",
      "2024-04-04 13:15:00+05:30   97423        True  \n",
      "2024-04-04 13:45:00+05:30   25750        True  \n",
      "2024-04-04 14:15:00+05:30   28225        True  \n",
      "2024-04-04 14:45:00+05:30   68965        True  \n",
      "2024-04-04 15:15:00+05:30   53867       False  \n",
      "\n",
      "[234 rows x 7 columns], 'NSE:HEROMOTOCO':                                    Symbol     Open     High      Low    Close  \\\n",
      "Timestamp                                                                       \n",
      "2024-03-06 09:15:00+05:30  NSE:HEROMOTOCO  4580.00  4610.00  4553.40  4597.50   \n",
      "2024-03-06 09:45:00+05:30  NSE:HEROMOTOCO  4597.50  4600.80  4536.10  4562.15   \n",
      "2024-03-06 10:15:00+05:30  NSE:HEROMOTOCO  4562.15  4596.85  4556.70  4596.10   \n",
      "2024-03-06 10:45:00+05:30  NSE:HEROMOTOCO  4595.00  4600.00  4560.20  4562.10   \n",
      "2024-03-06 11:15:00+05:30  NSE:HEROMOTOCO  4562.10  4575.00  4558.05  4565.50   \n",
      "...                                   ...      ...      ...      ...      ...   \n",
      "2024-04-04 13:15:00+05:30  NSE:HEROMOTOCO  4484.25  4510.00  4476.00  4509.00   \n",
      "2024-04-04 13:45:00+05:30  NSE:HEROMOTOCO  4509.00  4528.10  4507.00  4519.00   \n",
      "2024-04-04 14:15:00+05:30  NSE:HEROMOTOCO  4519.00  4532.00  4512.15  4527.20   \n",
      "2024-04-04 14:45:00+05:30  NSE:HEROMOTOCO  4527.25  4534.70  4515.70  4518.95   \n",
      "2024-04-04 15:15:00+05:30  NSE:HEROMOTOCO  4518.95  4530.00  4517.00  4527.20   \n",
      "\n",
      "                           Volume  IsComplete  \n",
      "Timestamp                                      \n",
      "2024-03-06 09:15:00+05:30   44323        True  \n",
      "2024-03-06 09:45:00+05:30   32631        True  \n",
      "2024-03-06 10:15:00+05:30   16915        True  \n",
      "2024-03-06 10:45:00+05:30   29459        True  \n",
      "2024-03-06 11:15:00+05:30   11854        True  \n",
      "...                           ...         ...  \n",
      "2024-04-04 13:15:00+05:30  112863        True  \n",
      "2024-04-04 13:45:00+05:30   81151        True  \n",
      "2024-04-04 14:15:00+05:30   75050        True  \n",
      "2024-04-04 14:45:00+05:30  114648        True  \n",
      "2024-04-04 15:15:00+05:30   71769       False  \n",
      "\n",
      "[234 rows x 7 columns], 'NSE:ICICIBANK':                                   Symbol     Open     High      Low    Close  \\\n",
      "Timestamp                                                                      \n",
      "2024-03-06 09:15:00+05:30  NSE:ICICIBANK  1080.30  1103.10  1080.30  1102.95   \n",
      "2024-03-06 09:45:00+05:30  NSE:ICICIBANK  1102.95  1112.90  1098.90  1110.50   \n",
      "2024-03-06 10:15:00+05:30  NSE:ICICIBANK  1110.35  1113.55  1100.25  1102.40   \n",
      "2024-03-06 10:45:00+05:30  NSE:ICICIBANK  1102.50  1106.95  1100.40  1103.00   \n",
      "2024-03-06 11:15:00+05:30  NSE:ICICIBANK  1102.55  1107.85  1102.05  1106.75   \n",
      "...                                  ...      ...      ...      ...      ...   \n",
      "2024-04-04 13:15:00+05:30  NSE:ICICIBANK  1075.30  1081.00  1074.55  1075.70   \n",
      "2024-04-04 13:45:00+05:30  NSE:ICICIBANK  1075.50  1077.50  1072.50  1074.80   \n",
      "2024-04-04 14:15:00+05:30  NSE:ICICIBANK  1074.80  1080.80  1074.50  1080.80   \n",
      "2024-04-04 14:45:00+05:30  NSE:ICICIBANK  1080.65  1081.30  1075.95  1079.50   \n",
      "2024-04-04 15:15:00+05:30  NSE:ICICIBANK  1079.35  1081.85  1079.05  1080.90   \n",
      "\n",
      "                            Volume  IsComplete  \n",
      "Timestamp                                       \n",
      "2024-03-06 09:15:00+05:30  2241085        True  \n",
      "2024-03-06 09:45:00+05:30  3031724        True  \n",
      "2024-03-06 10:15:00+05:30  2341648        True  \n",
      "2024-03-06 10:45:00+05:30  1557210        True  \n",
      "2024-03-06 11:15:00+05:30   900746        True  \n",
      "...                            ...         ...  \n",
      "2024-04-04 13:15:00+05:30  1728130        True  \n",
      "2024-04-04 13:45:00+05:30   883222        True  \n",
      "2024-04-04 14:15:00+05:30  1964120        True  \n",
      "2024-04-04 14:45:00+05:30  2870540        True  \n",
      "2024-04-04 15:15:00+05:30  1061419       False  \n",
      "\n",
      "[234 rows x 7 columns], 'NSE:ICICIPRULI':                                    Symbol    Open    High     Low   Close  \\\n",
      "Timestamp                                                                   \n",
      "2024-03-06 09:15:00+05:30  NSE:ICICIPRULI  555.00  560.20  554.15  559.15   \n",
      "2024-03-06 09:45:00+05:30  NSE:ICICIPRULI  559.15  559.80  549.35  554.95   \n",
      "2024-03-06 10:15:00+05:30  NSE:ICICIPRULI  554.95  560.60  552.95  559.05   \n",
      "2024-03-06 10:45:00+05:30  NSE:ICICIPRULI  559.05  560.00  554.50  557.00   \n",
      "2024-03-06 11:15:00+05:30  NSE:ICICIPRULI  557.00  557.40  554.80  555.70   \n",
      "...                                   ...     ...     ...     ...     ...   \n",
      "2024-04-04 13:15:00+05:30  NSE:ICICIPRULI  614.45  616.25  613.00  614.90   \n",
      "2024-04-04 13:45:00+05:30  NSE:ICICIPRULI  614.90  615.75  607.65  607.85   \n",
      "2024-04-04 14:15:00+05:30  NSE:ICICIPRULI  607.85  609.65  606.80  608.60   \n",
      "2024-04-04 14:45:00+05:30  NSE:ICICIPRULI  608.60  609.50  602.55  606.35   \n",
      "2024-04-04 15:15:00+05:30  NSE:ICICIPRULI  606.05  608.85  606.00  608.60   \n",
      "\n",
      "                           Volume  IsComplete  \n",
      "Timestamp                                      \n",
      "2024-03-06 09:15:00+05:30  370424        True  \n",
      "2024-03-06 09:45:00+05:30  343655        True  \n",
      "2024-03-06 10:15:00+05:30  397688        True  \n",
      "2024-03-06 10:45:00+05:30  339133        True  \n",
      "2024-03-06 11:15:00+05:30  245605        True  \n",
      "...                           ...         ...  \n",
      "2024-04-04 13:15:00+05:30   55792        True  \n",
      "2024-04-04 13:45:00+05:30  350739        True  \n",
      "2024-04-04 14:15:00+05:30  134509        True  \n",
      "2024-04-04 14:45:00+05:30  236070        True  \n",
      "2024-04-04 15:15:00+05:30  155292       False  \n",
      "\n",
      "[234 rows x 7 columns], 'NSE:IGL':                             Symbol    Open    High     Low   Close   Volume  \\\n",
      "Timestamp                                                                     \n",
      "2024-03-06 09:15:00+05:30  NSE:IGL  458.40  458.40  430.80  431.45  2809908   \n",
      "2024-03-06 09:45:00+05:30  NSE:IGL  431.45  435.95  427.20  429.65  1616141   \n",
      "2024-03-06 10:15:00+05:30  NSE:IGL  429.65  434.60  428.45  433.90   776571   \n",
      "2024-03-06 10:45:00+05:30  NSE:IGL  433.90  434.65  424.30  429.45   801041   \n",
      "2024-03-06 11:15:00+05:30  NSE:IGL  429.45  430.35  426.75  428.95   439167   \n",
      "...                            ...     ...     ...     ...     ...      ...   \n",
      "2024-04-04 13:15:00+05:30  NSE:IGL  437.35  437.35  435.35  435.85   113342   \n",
      "2024-04-04 13:45:00+05:30  NSE:IGL  435.85  436.20  434.50  435.00    83565   \n",
      "2024-04-04 14:15:00+05:30  NSE:IGL  435.00  438.20  434.65  437.40   480832   \n",
      "2024-04-04 14:45:00+05:30  NSE:IGL  437.40  437.80  436.05  437.20   223664   \n",
      "2024-04-04 15:15:00+05:30  NSE:IGL  437.20  438.10  436.65  437.60   193177   \n",
      "\n",
      "                           IsComplete  \n",
      "Timestamp                              \n",
      "2024-03-06 09:15:00+05:30        True  \n",
      "2024-03-06 09:45:00+05:30        True  \n",
      "2024-03-06 10:15:00+05:30        True  \n",
      "2024-03-06 10:45:00+05:30        True  \n",
      "2024-03-06 11:15:00+05:30        True  \n",
      "...                               ...  \n",
      "2024-04-04 13:15:00+05:30        True  \n",
      "2024-04-04 13:45:00+05:30        True  \n",
      "2024-04-04 14:15:00+05:30        True  \n",
      "2024-04-04 14:45:00+05:30        True  \n",
      "2024-04-04 15:15:00+05:30       False  \n",
      "\n",
      "[234 rows x 7 columns], 'NSE:INDIAMART':                                   Symbol     Open     High      Low    Close  \\\n",
      "Timestamp                                                                      \n",
      "2024-03-06 09:15:00+05:30  NSE:INDIAMART  2634.90  2635.65  2609.05  2621.55   \n",
      "2024-03-06 09:45:00+05:30  NSE:INDIAMART  2621.55  2621.55  2584.85  2598.50   \n",
      "2024-03-06 10:15:00+05:30  NSE:INDIAMART  2598.50  2611.80  2594.75  2603.15   \n",
      "2024-03-06 10:45:00+05:30  NSE:INDIAMART  2603.15  2609.10  2580.00  2582.70   \n",
      "2024-03-06 11:15:00+05:30  NSE:INDIAMART  2582.70  2590.75  2571.00  2575.55   \n",
      "...                                  ...      ...      ...      ...      ...   \n",
      "2024-04-04 13:15:00+05:30  NSE:INDIAMART  2551.00  2559.70  2548.00  2551.90   \n",
      "2024-04-04 13:45:00+05:30  NSE:INDIAMART  2551.90  2551.95  2538.00  2543.95   \n",
      "2024-04-04 14:15:00+05:30  NSE:INDIAMART  2543.95  2554.85  2540.00  2545.30   \n",
      "2024-04-04 14:45:00+05:30  NSE:INDIAMART  2545.30  2548.00  2535.00  2539.00   \n",
      "2024-04-04 15:15:00+05:30  NSE:INDIAMART  2539.00  2543.60  2535.00  2540.00   \n",
      "\n",
      "                           Volume  IsComplete  \n",
      "Timestamp                                      \n",
      "2024-03-06 09:15:00+05:30    8980        True  \n",
      "2024-03-06 09:45:00+05:30   14512        True  \n",
      "2024-03-06 10:15:00+05:30    9438        True  \n",
      "2024-03-06 10:45:00+05:30    7929        True  \n",
      "2024-03-06 11:15:00+05:30    8804        True  \n",
      "...                           ...         ...  \n",
      "2024-04-04 13:15:00+05:30   21709        True  \n",
      "2024-04-04 13:45:00+05:30   37423        True  \n",
      "2024-04-04 14:15:00+05:30   20623        True  \n",
      "2024-04-04 14:45:00+05:30   39984        True  \n",
      "2024-04-04 15:15:00+05:30   31572       False  \n",
      "\n",
      "[234 rows x 7 columns], 'NSE:INDIGO':                                Symbol     Open     High      Low    Close  \\\n",
      "Timestamp                                                                   \n",
      "2024-03-06 09:15:00+05:30  NSE:INDIGO  3196.90  3196.90  3103.05  3115.30   \n",
      "2024-03-06 09:45:00+05:30  NSE:INDIGO  3113.15  3116.90  3067.50  3087.80   \n",
      "2024-03-06 10:15:00+05:30  NSE:INDIGO  3087.80  3097.35  3065.00  3090.10   \n",
      "2024-03-06 10:45:00+05:30  NSE:INDIGO  3090.10  3099.00  3056.30  3069.65   \n",
      "2024-03-06 11:15:00+05:30  NSE:INDIGO  3069.80  3075.80  3050.60  3059.25   \n",
      "...                               ...      ...      ...      ...      ...   \n",
      "2024-04-04 13:15:00+05:30  NSE:INDIGO  3471.20  3493.50  3466.60  3486.00   \n",
      "2024-04-04 13:45:00+05:30  NSE:INDIGO  3486.00  3486.00  3462.15  3464.00   \n",
      "2024-04-04 14:15:00+05:30  NSE:INDIGO  3464.15  3483.25  3463.10  3478.80   \n",
      "2024-04-04 14:45:00+05:30  NSE:INDIGO  3478.80  3490.00  3475.15  3484.75   \n",
      "2024-04-04 15:15:00+05:30  NSE:INDIGO  3487.40  3491.85  3480.20  3489.00   \n",
      "\n",
      "                           Volume  IsComplete  \n",
      "Timestamp                                      \n",
      "2024-03-06 09:15:00+05:30  671294        True  \n",
      "2024-03-06 09:45:00+05:30   60415        True  \n",
      "2024-03-06 10:15:00+05:30   52857        True  \n",
      "2024-03-06 10:45:00+05:30   30817        True  \n",
      "2024-03-06 11:15:00+05:30   29074        True  \n",
      "...                           ...         ...  \n",
      "2024-04-04 13:15:00+05:30   32005        True  \n",
      "2024-04-04 13:45:00+05:30   60325        True  \n",
      "2024-04-04 14:15:00+05:30   65014        True  \n",
      "2024-04-04 14:45:00+05:30   58143        True  \n",
      "2024-04-04 15:15:00+05:30   36824       False  \n",
      "\n",
      "[234 rows x 7 columns], 'NSE:INDUSTOWER':                                    Symbol    Open    High     Low   Close  \\\n",
      "Timestamp                                                                   \n",
      "2024-03-06 09:15:00+05:30  NSE:INDUSTOWER  260.55  261.00  254.00  258.10   \n",
      "2024-03-06 09:45:00+05:30  NSE:INDUSTOWER  258.25  258.25  249.50  250.75   \n",
      "2024-03-06 10:15:00+05:30  NSE:INDUSTOWER  250.75  253.90  248.95  253.60   \n",
      "2024-03-06 10:45:00+05:30  NSE:INDUSTOWER  253.65  253.95  247.65  249.05   \n",
      "2024-03-06 11:15:00+05:30  NSE:INDUSTOWER  248.95  250.00  247.10  247.50   \n",
      "...                                   ...     ...     ...     ...     ...   \n",
      "2024-04-04 13:15:00+05:30  NSE:INDUSTOWER  304.90  307.00  304.80  306.60   \n",
      "2024-04-04 13:45:00+05:30  NSE:INDUSTOWER  306.60  307.60  305.35  307.15   \n",
      "2024-04-04 14:15:00+05:30  NSE:INDUSTOWER  307.15  307.90  306.15  307.15   \n",
      "2024-04-04 14:45:00+05:30  NSE:INDUSTOWER  307.05  307.50  305.75  305.80   \n",
      "2024-04-04 15:15:00+05:30  NSE:INDUSTOWER  305.90  307.85  305.80  307.70   \n",
      "\n",
      "                            Volume  IsComplete  \n",
      "Timestamp                                       \n",
      "2024-03-06 09:15:00+05:30  3327745        True  \n",
      "2024-03-06 09:45:00+05:30  4058584        True  \n",
      "2024-03-06 10:15:00+05:30  2930674        True  \n",
      "2024-03-06 10:45:00+05:30  2206419        True  \n",
      "2024-03-06 11:15:00+05:30  1844691        True  \n",
      "...                            ...         ...  \n",
      "2024-04-04 13:15:00+05:30   547058        True  \n",
      "2024-04-04 13:45:00+05:30   656868        True  \n",
      "2024-04-04 14:15:00+05:30   650413        True  \n",
      "2024-04-04 14:45:00+05:30   802900        True  \n",
      "2024-04-04 15:15:00+05:30   582360       False  \n",
      "\n",
      "[234 rows x 7 columns], 'NSE:JSWSTEEL':                                  Symbol    Open    High     Low   Close  \\\n",
      "Timestamp                                                                 \n",
      "2024-03-06 09:15:00+05:30  NSE:JSWSTEEL  820.40  823.00  811.10  813.65   \n",
      "2024-03-06 09:45:00+05:30  NSE:JSWSTEEL  814.70  814.70  802.80  806.30   \n",
      "2024-03-06 10:15:00+05:30  NSE:JSWSTEEL  806.70  808.50  802.55  805.25   \n",
      "2024-03-06 10:45:00+05:30  NSE:JSWSTEEL  805.25  806.30  802.00  805.50   \n",
      "2024-03-06 11:15:00+05:30  NSE:JSWSTEEL  805.05  805.75  800.00  801.90   \n",
      "...                                 ...     ...     ...     ...     ...   \n",
      "2024-04-04 13:15:00+05:30  NSE:JSWSTEEL  861.15  866.50  860.20  864.50   \n",
      "2024-04-04 13:45:00+05:30  NSE:JSWSTEEL  864.50  865.90  860.65  863.30   \n",
      "2024-04-04 14:15:00+05:30  NSE:JSWSTEEL  863.25  867.50  862.75  866.35   \n",
      "2024-04-04 14:45:00+05:30  NSE:JSWSTEEL  866.40  868.00  861.05  861.70   \n",
      "2024-04-04 15:15:00+05:30  NSE:JSWSTEEL  861.65  863.70  861.00  862.50   \n",
      "\n",
      "                           Volume  IsComplete  \n",
      "Timestamp                                      \n",
      "2024-03-06 09:15:00+05:30  215238        True  \n",
      "2024-03-06 09:45:00+05:30  210673        True  \n",
      "2024-03-06 10:15:00+05:30  155889        True  \n",
      "2024-03-06 10:45:00+05:30  122961        True  \n",
      "2024-03-06 11:15:00+05:30  151212        True  \n",
      "...                           ...         ...  \n",
      "2024-04-04 13:15:00+05:30  239450        True  \n",
      "2024-04-04 13:45:00+05:30   88860        True  \n",
      "2024-04-04 14:15:00+05:30  125342        True  \n",
      "2024-04-04 14:45:00+05:30  249155        True  \n",
      "2024-04-04 15:15:00+05:30  167386       False  \n",
      "\n",
      "[234 rows x 7 columns], 'NSE:KOTAKBANK':                                   Symbol     Open     High      Low    Close  \\\n",
      "Timestamp                                                                      \n",
      "2024-03-06 09:15:00+05:30  NSE:KOTAKBANK  1722.85  1743.85  1718.40  1743.25   \n",
      "2024-03-06 09:45:00+05:30  NSE:KOTAKBANK  1743.30  1753.65  1738.85  1753.00   \n",
      "2024-03-06 10:15:00+05:30  NSE:KOTAKBANK  1752.90  1764.35  1750.20  1752.70   \n",
      "2024-03-06 10:45:00+05:30  NSE:KOTAKBANK  1752.70  1756.70  1744.25  1754.55   \n",
      "2024-03-06 11:15:00+05:30  NSE:KOTAKBANK  1754.60  1756.00  1749.75  1753.40   \n",
      "...                                  ...      ...      ...      ...      ...   \n",
      "2024-04-04 13:15:00+05:30  NSE:KOTAKBANK  1735.00  1744.00  1733.10  1742.80   \n",
      "2024-04-04 13:45:00+05:30  NSE:KOTAKBANK  1742.80  1751.50  1740.35  1749.30   \n",
      "2024-04-04 14:15:00+05:30  NSE:KOTAKBANK  1749.30  1750.45  1745.10  1749.10   \n",
      "2024-04-04 14:45:00+05:30  NSE:KOTAKBANK  1750.00  1750.90  1742.65  1750.70   \n",
      "2024-04-04 15:15:00+05:30  NSE:KOTAKBANK  1750.75  1751.00  1746.10  1748.50   \n",
      "\n",
      "                            Volume  IsComplete  \n",
      "Timestamp                                       \n",
      "2024-03-06 09:15:00+05:30   620972        True  \n",
      "2024-03-06 09:45:00+05:30  1034651        True  \n",
      "2024-03-06 10:15:00+05:30   983951        True  \n",
      "2024-03-06 10:45:00+05:30   593347        True  \n",
      "2024-03-06 11:15:00+05:30   319677        True  \n",
      "...                            ...         ...  \n",
      "2024-04-04 13:15:00+05:30   593233        True  \n",
      "2024-04-04 13:45:00+05:30   558899        True  \n",
      "2024-04-04 14:15:00+05:30   305299        True  \n",
      "2024-04-04 14:45:00+05:30   732335        True  \n",
      "2024-04-04 15:15:00+05:30   312988       False  \n",
      "\n",
      "[234 rows x 7 columns], 'NSE:LICHSGFIN':                                   Symbol    Open    High     Low   Close  \\\n",
      "Timestamp                                                                  \n",
      "2024-03-06 09:15:00+05:30  NSE:LICHSGFIN  656.00  656.45  637.00  639.80   \n",
      "2024-03-06 09:45:00+05:30  NSE:LICHSGFIN  639.80  640.25  627.90  630.00   \n",
      "2024-03-06 10:15:00+05:30  NSE:LICHSGFIN  630.00  632.80  625.50  630.00   \n",
      "2024-03-06 10:45:00+05:30  NSE:LICHSGFIN  630.00  636.20  623.00  630.90   \n",
      "2024-03-06 11:15:00+05:30  NSE:LICHSGFIN  630.50  631.95  626.45  629.30   \n",
      "...                                  ...     ...     ...     ...     ...   \n",
      "2024-04-04 13:15:00+05:30  NSE:LICHSGFIN  646.95  649.70  646.50  648.00   \n",
      "2024-04-04 13:45:00+05:30  NSE:LICHSGFIN  648.00  648.00  645.20  645.65   \n",
      "2024-04-04 14:15:00+05:30  NSE:LICHSGFIN  645.95  646.90  644.60  646.10   \n",
      "2024-04-04 14:45:00+05:30  NSE:LICHSGFIN  646.10  647.90  641.90  642.35   \n",
      "2024-04-04 15:15:00+05:30  NSE:LICHSGFIN  642.10  645.35  641.85  644.60   \n",
      "\n",
      "                           Volume  IsComplete  \n",
      "Timestamp                                      \n",
      "2024-03-06 09:15:00+05:30  425313        True  \n",
      "2024-03-06 09:45:00+05:30  321227        True  \n",
      "2024-03-06 10:15:00+05:30  255846        True  \n",
      "2024-03-06 10:45:00+05:30  422523        True  \n",
      "2024-03-06 11:15:00+05:30  364036        True  \n",
      "...                           ...         ...  \n",
      "2024-04-04 13:15:00+05:30  155949        True  \n",
      "2024-04-04 13:45:00+05:30  112014        True  \n",
      "2024-04-04 14:15:00+05:30  212602        True  \n",
      "2024-04-04 14:45:00+05:30  193121        True  \n",
      "2024-04-04 15:15:00+05:30  172195       False  \n",
      "\n",
      "[234 rows x 7 columns], 'NSE:LT':                            Symbol     Open     High      Low    Close  Volume  \\\n",
      "Timestamp                                                                       \n",
      "2024-03-06 09:15:00+05:30  NSE:LT  3618.00  3634.10  3598.10  3611.25  149025   \n",
      "2024-03-06 09:45:00+05:30  NSE:LT  3610.75  3611.25  3586.05  3607.80  227813   \n",
      "2024-03-06 10:15:00+05:30  NSE:LT  3608.45  3617.70  3595.55  3606.35  108237   \n",
      "2024-03-06 10:45:00+05:30  NSE:LT  3606.35  3626.15  3606.00  3609.60   90685   \n",
      "2024-03-06 11:15:00+05:30  NSE:LT  3609.60  3619.90  3598.00  3600.00   73957   \n",
      "...                           ...      ...      ...      ...      ...     ...   \n",
      "2024-04-04 13:15:00+05:30  NSE:LT  3797.05  3819.40  3791.80  3809.30  291344   \n",
      "2024-04-04 13:45:00+05:30  NSE:LT  3809.30  3815.85  3800.00  3807.00  102644   \n",
      "2024-04-04 14:15:00+05:30  NSE:LT  3806.60  3815.00  3802.20  3813.30  106789   \n",
      "2024-04-04 14:45:00+05:30  NSE:LT  3813.20  3814.60  3786.25  3798.40  213107   \n",
      "2024-04-04 15:15:00+05:30  NSE:LT  3798.40  3811.15  3797.25  3810.00   89284   \n",
      "\n",
      "                           IsComplete  \n",
      "Timestamp                              \n",
      "2024-03-06 09:15:00+05:30        True  \n",
      "2024-03-06 09:45:00+05:30        True  \n",
      "2024-03-06 10:15:00+05:30        True  \n",
      "2024-03-06 10:45:00+05:30        True  \n",
      "2024-03-06 11:15:00+05:30        True  \n",
      "...                               ...  \n",
      "2024-04-04 13:15:00+05:30        True  \n",
      "2024-04-04 13:45:00+05:30        True  \n",
      "2024-04-04 14:15:00+05:30        True  \n",
      "2024-04-04 14:45:00+05:30        True  \n",
      "2024-04-04 15:15:00+05:30       False  \n",
      "\n",
      "[234 rows x 7 columns], 'NSE:LUPIN':                               Symbol     Open     High      Low    Close  \\\n",
      "Timestamp                                                                  \n",
      "2024-03-06 09:15:00+05:30  NSE:LUPIN  1675.00  1681.75  1668.60  1680.50   \n",
      "2024-03-06 09:45:00+05:30  NSE:LUPIN  1680.50  1681.50  1652.55  1663.45   \n",
      "2024-03-06 10:15:00+05:30  NSE:LUPIN  1663.45  1665.00  1657.50  1663.75   \n",
      "2024-03-06 10:45:00+05:30  NSE:LUPIN  1663.75  1665.45  1653.10  1656.25   \n",
      "2024-03-06 11:15:00+05:30  NSE:LUPIN  1656.25  1658.30  1649.95  1653.30   \n",
      "...                              ...      ...      ...      ...      ...   \n",
      "2024-04-04 13:15:00+05:30  NSE:LUPIN  1599.90  1604.60  1599.45  1601.95   \n",
      "2024-04-04 13:45:00+05:30  NSE:LUPIN  1601.95  1602.50  1592.95  1595.00   \n",
      "2024-04-04 14:15:00+05:30  NSE:LUPIN  1594.95  1598.00  1592.05  1592.55   \n",
      "2024-04-04 14:45:00+05:30  NSE:LUPIN  1592.55  1592.95  1583.45  1585.45   \n",
      "2024-04-04 15:15:00+05:30  NSE:LUPIN  1585.45  1592.55  1585.05  1588.10   \n",
      "\n",
      "                           Volume  IsComplete  \n",
      "Timestamp                                      \n",
      "2024-03-06 09:15:00+05:30   65606        True  \n",
      "2024-03-06 09:45:00+05:30  157161        True  \n",
      "2024-03-06 10:15:00+05:30   35269        True  \n",
      "2024-03-06 10:45:00+05:30   56622        True  \n",
      "2024-03-06 11:15:00+05:30   30538        True  \n",
      "...                           ...         ...  \n",
      "2024-04-04 13:15:00+05:30   30278        True  \n",
      "2024-04-04 13:45:00+05:30   31372        True  \n",
      "2024-04-04 14:15:00+05:30   67895        True  \n",
      "2024-04-04 14:45:00+05:30   73207        True  \n",
      "2024-04-04 15:15:00+05:30   55015       False  \n",
      "\n",
      "[234 rows x 7 columns], 'NSE:MCDOWELL-N':                                    Symbol     Open     High      Low    Close  \\\n",
      "Timestamp                                                                       \n",
      "2024-03-06 09:15:00+05:30  NSE:MCDOWELL-N  1145.60  1153.80  1145.60  1153.80   \n",
      "2024-03-06 09:45:00+05:30  NSE:MCDOWELL-N  1153.85  1154.15  1138.60  1144.10   \n",
      "2024-03-06 10:15:00+05:30  NSE:MCDOWELL-N  1143.80  1154.90  1143.20  1154.90   \n",
      "2024-03-06 10:45:00+05:30  NSE:MCDOWELL-N  1154.85  1155.35  1145.00  1147.85   \n",
      "2024-03-06 11:15:00+05:30  NSE:MCDOWELL-N  1147.95  1149.75  1144.90  1145.20   \n",
      "...                                   ...      ...      ...      ...      ...   \n",
      "2024-04-04 13:15:00+05:30  NSE:MCDOWELL-N  1116.55  1117.45  1113.75  1116.95   \n",
      "2024-04-04 13:45:00+05:30  NSE:MCDOWELL-N  1117.00  1117.40  1111.15  1115.10   \n",
      "2024-04-04 14:15:00+05:30  NSE:MCDOWELL-N  1115.10  1117.80  1112.55  1116.80   \n",
      "2024-04-04 14:45:00+05:30  NSE:MCDOWELL-N  1116.80  1120.90  1116.80  1120.30   \n",
      "2024-04-04 15:15:00+05:30  NSE:MCDOWELL-N  1120.25  1123.90  1118.05  1119.95   \n",
      "\n",
      "                           Volume  IsComplete  \n",
      "Timestamp                                      \n",
      "2024-03-06 09:15:00+05:30   46898        True  \n",
      "2024-03-06 09:45:00+05:30   70663        True  \n",
      "2024-03-06 10:15:00+05:30   40780        True  \n",
      "2024-03-06 10:45:00+05:30   71776        True  \n",
      "2024-03-06 11:15:00+05:30   47209        True  \n",
      "...                           ...         ...  \n",
      "2024-04-04 13:15:00+05:30   17375        True  \n",
      "2024-04-04 13:45:00+05:30   55890        True  \n",
      "2024-04-04 14:15:00+05:30   86268        True  \n",
      "2024-04-04 14:45:00+05:30   62425        True  \n",
      "2024-04-04 15:15:00+05:30   40653       False  \n",
      "\n",
      "[234 rows x 7 columns], 'NSE:MRF':                             Symbol       Open       High        Low  \\\n",
      "Timestamp                                                             \n",
      "2024-03-06 09:15:00+05:30  NSE:MRF  145580.00  145850.00  144800.00   \n",
      "2024-03-06 09:45:00+05:30  NSE:MRF  145688.50  145688.50  144300.00   \n",
      "2024-03-06 10:15:00+05:30  NSE:MRF  144999.00  145000.00  144500.00   \n",
      "2024-03-06 10:45:00+05:30  NSE:MRF  144828.55  144840.95  144448.05   \n",
      "2024-03-06 11:15:00+05:30  NSE:MRF  144664.95  144671.85  144200.00   \n",
      "...                            ...        ...        ...        ...   \n",
      "2024-04-04 13:15:00+05:30  NSE:MRF  135819.30  135898.95  135500.00   \n",
      "2024-04-04 13:45:00+05:30  NSE:MRF  135664.60  135743.60  135458.00   \n",
      "2024-04-04 14:15:00+05:30  NSE:MRF  135485.00  135748.95  135462.75   \n",
      "2024-04-04 14:45:00+05:30  NSE:MRF  135720.00  135809.00  135450.00   \n",
      "2024-04-04 15:15:00+05:30  NSE:MRF  135470.00  135487.95  135106.15   \n",
      "\n",
      "                               Close  Volume  IsComplete  \n",
      "Timestamp                                                 \n",
      "2024-03-06 09:15:00+05:30  145600.00     790        True  \n",
      "2024-03-06 09:45:00+05:30  144999.00     771        True  \n",
      "2024-03-06 10:15:00+05:30  144828.55     209        True  \n",
      "2024-03-06 10:45:00+05:30  144664.95     172        True  \n",
      "2024-03-06 11:15:00+05:30  144484.90     271        True  \n",
      "...                              ...     ...         ...  \n",
      "2024-04-04 13:15:00+05:30  135617.85     277        True  \n",
      "2024-04-04 13:45:00+05:30  135485.00     195        True  \n",
      "2024-04-04 14:15:00+05:30  135720.00     149        True  \n",
      "2024-04-04 14:45:00+05:30  135470.00     428        True  \n",
      "2024-04-04 15:15:00+05:30  135400.00     682       False  \n",
      "\n",
      "[234 rows x 7 columns], 'NSE:NAUKRI':                                Symbol     Open     High      Low    Close  \\\n",
      "Timestamp                                                                   \n",
      "2024-03-06 09:15:00+05:30  NSE:NAUKRI  5017.45  5141.95  5015.00  5134.00   \n",
      "2024-03-06 09:45:00+05:30  NSE:NAUKRI  5134.00  5138.25  5040.00  5070.35   \n",
      "2024-03-06 10:15:00+05:30  NSE:NAUKRI  5070.35  5078.85  5050.30  5071.85   \n",
      "2024-03-06 10:45:00+05:30  NSE:NAUKRI  5071.85  5071.85  5057.70  5060.75   \n",
      "2024-03-06 11:15:00+05:30  NSE:NAUKRI  5061.05  5065.55  5013.40  5020.00   \n",
      "...                               ...      ...      ...      ...      ...   \n",
      "2024-04-04 13:15:00+05:30  NSE:NAUKRI  5682.00  5698.00  5675.75  5686.20   \n",
      "2024-04-04 13:45:00+05:30  NSE:NAUKRI  5684.55  5686.10  5634.35  5636.00   \n",
      "2024-04-04 14:15:00+05:30  NSE:NAUKRI  5636.00  5659.90  5618.20  5638.85   \n",
      "2024-04-04 14:45:00+05:30  NSE:NAUKRI  5638.85  5649.00  5621.05  5622.05   \n",
      "2024-04-04 15:15:00+05:30  NSE:NAUKRI  5622.05  5644.70  5618.65  5626.00   \n",
      "\n",
      "                           Volume  IsComplete  \n",
      "Timestamp                                      \n",
      "2024-03-06 09:15:00+05:30  102748        True  \n",
      "2024-03-06 09:45:00+05:30   48642        True  \n",
      "2024-03-06 10:15:00+05:30   64408        True  \n",
      "2024-03-06 10:45:00+05:30   46369        True  \n",
      "2024-03-06 11:15:00+05:30   26530        True  \n",
      "...                           ...         ...  \n",
      "2024-04-04 13:15:00+05:30    9226        True  \n",
      "2024-04-04 13:45:00+05:30   20437        True  \n",
      "2024-04-04 14:15:00+05:30   19509        True  \n",
      "2024-04-04 14:45:00+05:30   20304        True  \n",
      "2024-04-04 15:15:00+05:30   17856       False  \n",
      "\n",
      "[234 rows x 7 columns], 'NSE:NESTLEIND':                                   Symbol     Open     High      Low    Close  \\\n",
      "Timestamp                                                                      \n",
      "2024-03-06 09:15:00+05:30  NSE:NESTLEIND  2540.00  2566.20  2529.40  2565.05   \n",
      "2024-03-06 09:45:00+05:30  NSE:NESTLEIND  2563.70  2566.75  2540.80  2550.05   \n",
      "2024-03-06 10:15:00+05:30  NSE:NESTLEIND  2550.05  2555.75  2536.35  2539.90   \n",
      "2024-03-06 10:45:00+05:30  NSE:NESTLEIND  2539.60  2540.70  2518.80  2520.15   \n",
      "2024-03-06 11:15:00+05:30  NSE:NESTLEIND  2520.25  2523.90  2514.05  2518.50   \n",
      "...                                  ...      ...      ...      ...      ...   \n",
      "2024-04-04 13:15:00+05:30  NSE:NESTLEIND  2542.90  2554.95  2541.00  2548.70   \n",
      "2024-04-04 13:45:00+05:30  NSE:NESTLEIND  2548.70  2550.45  2542.00  2545.15   \n",
      "2024-04-04 14:15:00+05:30  NSE:NESTLEIND  2545.15  2552.75  2545.00  2548.00   \n",
      "2024-04-04 14:45:00+05:30  NSE:NESTLEIND  2548.00  2551.05  2541.30  2548.00   \n",
      "2024-04-04 15:15:00+05:30  NSE:NESTLEIND  2548.05  2556.55  2548.00  2551.00   \n",
      "\n",
      "                           Volume  IsComplete  \n",
      "Timestamp                                      \n",
      "2024-03-06 09:15:00+05:30   50517        True  \n",
      "2024-03-06 09:45:00+05:30   49604        True  \n",
      "2024-03-06 10:15:00+05:30   36763        True  \n",
      "2024-03-06 10:45:00+05:30  132456        True  \n",
      "2024-03-06 11:15:00+05:30   40188        True  \n",
      "...                           ...         ...  \n",
      "2024-04-04 13:15:00+05:30  104264        True  \n",
      "2024-04-04 13:45:00+05:30   63018        True  \n",
      "2024-04-04 14:15:00+05:30   74780        True  \n",
      "2024-04-04 14:45:00+05:30  194232        True  \n",
      "2024-04-04 15:15:00+05:30  122189       False  \n",
      "\n",
      "[234 rows x 7 columns], 'NSE:PIIND':                               Symbol     Open     High      Low    Close  \\\n",
      "Timestamp                                                                  \n",
      "2024-03-06 09:15:00+05:30  NSE:PIIND  3622.75  3643.80  3603.25  3620.00   \n",
      "2024-03-06 09:45:00+05:30  NSE:PIIND  3620.00  3623.40  3580.45  3618.55   \n",
      "2024-03-06 10:15:00+05:30  NSE:PIIND  3618.55  3628.50  3609.80  3626.15   \n",
      "2024-03-06 10:45:00+05:30  NSE:PIIND  3626.15  3628.95  3605.55  3619.45   \n",
      "2024-03-06 11:15:00+05:30  NSE:PIIND  3619.45  3620.00  3601.10  3610.95   \n",
      "...                              ...      ...      ...      ...      ...   \n",
      "2024-04-04 13:15:00+05:30  NSE:PIIND  3858.10  3861.35  3847.00  3847.00   \n",
      "2024-04-04 13:45:00+05:30  NSE:PIIND  3847.00  3848.30  3824.10  3831.00   \n",
      "2024-04-04 14:15:00+05:30  NSE:PIIND  3831.00  3840.00  3827.25  3833.80   \n",
      "2024-04-04 14:45:00+05:30  NSE:PIIND  3833.15  3834.35  3806.30  3811.90   \n",
      "2024-04-04 15:15:00+05:30  NSE:PIIND  3811.90  3827.00  3811.90  3825.50   \n",
      "\n",
      "                           Volume  IsComplete  \n",
      "Timestamp                                      \n",
      "2024-03-06 09:15:00+05:30   13323        True  \n",
      "2024-03-06 09:45:00+05:30   24002        True  \n",
      "2024-03-06 10:15:00+05:30   17033        True  \n",
      "2024-03-06 10:45:00+05:30   29681        True  \n",
      "2024-03-06 11:15:00+05:30   28235        True  \n",
      "...                           ...         ...  \n",
      "2024-04-04 13:15:00+05:30   21603        True  \n",
      "2024-04-04 13:45:00+05:30   25383        True  \n",
      "2024-04-04 14:15:00+05:30   19302        True  \n",
      "2024-04-04 14:45:00+05:30   48551        True  \n",
      "2024-04-04 15:15:00+05:30   18475       False  \n",
      "\n",
      "[234 rows x 7 columns], 'NSE:POWERGRID':                                   Symbol    Open    High     Low   Close  \\\n",
      "Timestamp                                                                  \n",
      "2024-03-06 09:15:00+05:30  NSE:POWERGRID  290.30  294.35  289.40  290.70   \n",
      "2024-03-06 09:45:00+05:30  NSE:POWERGRID  290.80  290.95  286.50  288.45   \n",
      "2024-03-06 10:15:00+05:30  NSE:POWERGRID  288.45  289.95  287.90  289.55   \n",
      "2024-03-06 10:45:00+05:30  NSE:POWERGRID  289.55  290.65  287.50  287.95   \n",
      "2024-03-06 11:15:00+05:30  NSE:POWERGRID  287.95  288.45  286.85  287.00   \n",
      "...                                  ...     ...     ...     ...     ...   \n",
      "2024-04-04 13:15:00+05:30  NSE:POWERGRID  277.95  279.50  277.50  278.00   \n",
      "2024-04-04 13:45:00+05:30  NSE:POWERGRID  278.05  278.85  277.60  278.15   \n",
      "2024-04-04 14:15:00+05:30  NSE:POWERGRID  278.15  278.55  277.45  277.75   \n",
      "2024-04-04 14:45:00+05:30  NSE:POWERGRID  277.75  278.45  277.00  277.55   \n",
      "2024-04-04 15:15:00+05:30  NSE:POWERGRID  277.50  278.30  277.40  277.95   \n",
      "\n",
      "                            Volume  IsComplete  \n",
      "Timestamp                                       \n",
      "2024-03-06 09:15:00+05:30  2192782        True  \n",
      "2024-03-06 09:45:00+05:30  2616754        True  \n",
      "2024-03-06 10:15:00+05:30   972637        True  \n",
      "2024-03-06 10:45:00+05:30   826504        True  \n",
      "2024-03-06 11:15:00+05:30   546484        True  \n",
      "...                            ...         ...  \n",
      "2024-04-04 13:15:00+05:30  1274753        True  \n",
      "2024-04-04 13:45:00+05:30   850774        True  \n",
      "2024-04-04 14:15:00+05:30  1376103        True  \n",
      "2024-04-04 14:45:00+05:30  1569988        True  \n",
      "2024-04-04 15:15:00+05:30  1254570       False  \n",
      "\n",
      "[234 rows x 7 columns], 'NSE:SBILIFE':                                 Symbol     Open     High      Low    Close  \\\n",
      "Timestamp                                                                    \n",
      "2024-03-06 09:15:00+05:30  NSE:SBILIFE  1492.25  1515.00  1487.00  1503.35   \n",
      "2024-03-06 09:45:00+05:30  NSE:SBILIFE  1504.20  1504.65  1488.40  1496.50   \n",
      "2024-03-06 10:15:00+05:30  NSE:SBILIFE  1496.50  1498.00  1488.65  1493.95   \n",
      "2024-03-06 10:45:00+05:30  NSE:SBILIFE  1493.95  1495.00  1490.00  1490.50   \n",
      "2024-03-06 11:15:00+05:30  NSE:SBILIFE  1490.50  1493.25  1488.20  1490.85   \n",
      "...                                ...      ...      ...      ...      ...   \n",
      "2024-04-04 13:15:00+05:30  NSE:SBILIFE  1472.35  1475.00  1467.00  1470.75   \n",
      "2024-04-04 13:45:00+05:30  NSE:SBILIFE  1470.05  1470.90  1463.50  1465.15   \n",
      "2024-04-04 14:15:00+05:30  NSE:SBILIFE  1464.50  1466.00  1462.00  1465.05   \n",
      "2024-04-04 14:45:00+05:30  NSE:SBILIFE  1464.40  1467.50  1461.80  1463.05   \n",
      "2024-04-04 15:15:00+05:30  NSE:SBILIFE  1463.20  1469.85  1462.25  1465.00   \n",
      "\n",
      "                           Volume  IsComplete  \n",
      "Timestamp                                      \n",
      "2024-03-06 09:15:00+05:30  306851        True  \n",
      "2024-03-06 09:45:00+05:30  181060        True  \n",
      "2024-03-06 10:15:00+05:30  111366        True  \n",
      "2024-03-06 10:45:00+05:30   30367        True  \n",
      "2024-03-06 11:15:00+05:30   26122        True  \n",
      "...                           ...         ...  \n",
      "2024-04-04 13:15:00+05:30  131033        True  \n",
      "2024-04-04 13:45:00+05:30   55177        True  \n",
      "2024-04-04 14:15:00+05:30   45024        True  \n",
      "2024-04-04 14:45:00+05:30  366515        True  \n",
      "2024-04-04 15:15:00+05:30   50538       False  \n",
      "\n",
      "[234 rows x 7 columns], 'NSE:SHREECEM':                                  Symbol      Open      High       Low  \\\n",
      "Timestamp                                                               \n",
      "2024-03-06 09:15:00+05:30  NSE:SHREECEM  25009.75  25127.30  24901.00   \n",
      "2024-03-06 09:45:00+05:30  NSE:SHREECEM  24990.25  25098.85  24857.00   \n",
      "2024-03-06 10:15:00+05:30  NSE:SHREECEM  24941.20  24961.95  24908.70   \n",
      "2024-03-06 10:45:00+05:30  NSE:SHREECEM  24952.90  24952.90  24720.00   \n",
      "2024-03-06 11:15:00+05:30  NSE:SHREECEM  24732.10  24732.10  24606.00   \n",
      "...                                 ...       ...       ...       ...   \n",
      "2024-04-04 13:15:00+05:30  NSE:SHREECEM  25999.90  26129.95  25972.95   \n",
      "2024-04-04 13:45:00+05:30  NSE:SHREECEM  26025.40  26050.00  25955.40   \n",
      "2024-04-04 14:15:00+05:30  NSE:SHREECEM  25963.50  26044.95  25948.00   \n",
      "2024-04-04 14:45:00+05:30  NSE:SHREECEM  25969.70  25993.55  25883.45   \n",
      "2024-04-04 15:15:00+05:30  NSE:SHREECEM  25906.95  25971.00  25851.00   \n",
      "\n",
      "                              Close  Volume  IsComplete  \n",
      "Timestamp                                                \n",
      "2024-03-06 09:15:00+05:30  24990.25    2390        True  \n",
      "2024-03-06 09:45:00+05:30  24941.20    2299        True  \n",
      "2024-03-06 10:15:00+05:30  24952.90     644        True  \n",
      "2024-03-06 10:45:00+05:30  24732.10    1150        True  \n",
      "2024-03-06 11:15:00+05:30  24650.00    2629        True  \n",
      "...                             ...     ...         ...  \n",
      "2024-04-04 13:15:00+05:30  26025.40    3457        True  \n",
      "2024-04-04 13:45:00+05:30  25963.50    3721        True  \n",
      "2024-04-04 14:15:00+05:30  25952.85    4708        True  \n",
      "2024-04-04 14:45:00+05:30  25907.00    6431        True  \n",
      "2024-04-04 15:15:00+05:30  25970.00    7839       False  \n",
      "\n",
      "[234 rows x 7 columns], 'NSE:TATASTEEL':                                   Symbol    Open    High     Low   Close  \\\n",
      "Timestamp                                                                  \n",
      "2024-03-06 09:15:00+05:30  NSE:TATASTEEL  151.80  152.65  149.60  150.30   \n",
      "2024-03-06 09:45:00+05:30  NSE:TATASTEEL  150.35  150.45  148.30  149.00   \n",
      "2024-03-06 10:15:00+05:30  NSE:TATASTEEL  149.05  149.60  148.50  149.00   \n",
      "2024-03-06 10:45:00+05:30  NSE:TATASTEEL  149.00  149.50  148.40  148.80   \n",
      "2024-03-06 11:15:00+05:30  NSE:TATASTEEL  148.80  149.00  147.95  148.25   \n",
      "...                                  ...     ...     ...     ...     ...   \n",
      "2024-04-04 13:15:00+05:30  NSE:TATASTEEL  163.05  163.85  162.85  163.60   \n",
      "2024-04-04 13:45:00+05:30  NSE:TATASTEEL  163.55  163.80  163.10  163.35   \n",
      "2024-04-04 14:15:00+05:30  NSE:TATASTEEL  163.35  163.85  163.10  163.80   \n",
      "2024-04-04 14:45:00+05:30  NSE:TATASTEEL  163.80  164.60  162.80  162.95   \n",
      "2024-04-04 15:15:00+05:30  NSE:TATASTEEL  162.90  163.95  162.90  163.80   \n",
      "\n",
      "                            Volume  IsComplete  \n",
      "Timestamp                                       \n",
      "2024-03-06 09:15:00+05:30  7026148        True  \n",
      "2024-03-06 09:45:00+05:30  5522351        True  \n",
      "2024-03-06 10:15:00+05:30  5045377        True  \n",
      "2024-03-06 10:45:00+05:30  2086962        True  \n",
      "2024-03-06 11:15:00+05:30  2030230        True  \n",
      "...                            ...         ...  \n",
      "2024-04-04 13:15:00+05:30  3386471        True  \n",
      "2024-04-04 13:45:00+05:30  2706227        True  \n",
      "2024-04-04 14:15:00+05:30  2835854        True  \n",
      "2024-04-04 14:45:00+05:30  7337662        True  \n",
      "2024-04-04 15:15:00+05:30  3779866       False  \n",
      "\n",
      "[234 rows x 7 columns], 'NSE:TORNTPHARM':                                    Symbol     Open     High      Low    Close  \\\n",
      "Timestamp                                                                       \n",
      "2024-03-06 09:15:00+05:30  NSE:TORNTPHARM  2684.00  2742.60  2659.75  2688.50   \n",
      "2024-03-06 09:45:00+05:30  NSE:TORNTPHARM  2688.50  2694.65  2668.60  2677.35   \n",
      "2024-03-06 10:15:00+05:30  NSE:TORNTPHARM  2677.35  2679.05  2656.25  2671.00   \n",
      "2024-03-06 10:45:00+05:30  NSE:TORNTPHARM  2671.00  2674.95  2647.05  2664.70   \n",
      "2024-03-06 11:15:00+05:30  NSE:TORNTPHARM  2664.70  2666.30  2653.30  2660.00   \n",
      "...                                   ...      ...      ...      ...      ...   \n",
      "2024-04-04 13:15:00+05:30  NSE:TORNTPHARM  2541.85  2553.55  2541.85  2552.00   \n",
      "2024-04-04 13:45:00+05:30  NSE:TORNTPHARM  2552.00  2553.80  2531.90  2535.90   \n",
      "2024-04-04 14:15:00+05:30  NSE:TORNTPHARM  2535.90  2544.80  2531.00  2533.55   \n",
      "2024-04-04 14:45:00+05:30  NSE:TORNTPHARM  2531.85  2537.10  2529.00  2535.10   \n",
      "2024-04-04 15:15:00+05:30  NSE:TORNTPHARM  2536.00  2549.95  2534.55  2549.45   \n",
      "\n",
      "                           Volume  IsComplete  \n",
      "Timestamp                                      \n",
      "2024-03-06 09:15:00+05:30  176644        True  \n",
      "2024-03-06 09:45:00+05:30   48250        True  \n",
      "2024-03-06 10:15:00+05:30   29675        True  \n",
      "2024-03-06 10:45:00+05:30   32636        True  \n",
      "2024-03-06 11:15:00+05:30   13220        True  \n",
      "...                           ...         ...  \n",
      "2024-04-04 13:15:00+05:30    7124        True  \n",
      "2024-04-04 13:45:00+05:30   21721        True  \n",
      "2024-04-04 14:15:00+05:30   18065        True  \n",
      "2024-04-04 14:45:00+05:30   26474        True  \n",
      "2024-04-04 15:15:00+05:30   22298       False  \n",
      "\n",
      "[234 rows x 7 columns], 'NSE:TVSMOTOR':                                  Symbol     Open     High      Low    Close  \\\n",
      "Timestamp                                                                     \n",
      "2024-03-06 09:15:00+05:30  NSE:TVSMOTOR  2295.20  2295.20  2268.30  2282.85   \n",
      "2024-03-06 09:45:00+05:30  NSE:TVSMOTOR  2282.80  2283.60  2245.25  2260.10   \n",
      "2024-03-06 10:15:00+05:30  NSE:TVSMOTOR  2261.00  2273.75  2250.95  2271.50   \n",
      "2024-03-06 10:45:00+05:30  NSE:TVSMOTOR  2272.75  2283.50  2267.45  2274.70   \n",
      "2024-03-06 11:15:00+05:30  NSE:TVSMOTOR  2274.70  2278.30  2249.15  2250.00   \n",
      "...                                 ...      ...      ...      ...      ...   \n",
      "2024-04-04 13:15:00+05:30  NSE:TVSMOTOR  2075.40  2085.00  2075.20  2081.15   \n",
      "2024-04-04 13:45:00+05:30  NSE:TVSMOTOR  2081.50  2084.45  2069.75  2069.85   \n",
      "2024-04-04 14:15:00+05:30  NSE:TVSMOTOR  2069.85  2079.40  2069.25  2076.90   \n",
      "2024-04-04 14:45:00+05:30  NSE:TVSMOTOR  2077.85  2086.00  2077.30  2085.55   \n",
      "2024-04-04 15:15:00+05:30  NSE:TVSMOTOR  2085.30  2094.45  2085.00  2092.00   \n",
      "\n",
      "                           Volume  IsComplete  \n",
      "Timestamp                                      \n",
      "2024-03-06 09:15:00+05:30  155915        True  \n",
      "2024-03-06 09:45:00+05:30  116074        True  \n",
      "2024-03-06 10:15:00+05:30   42057        True  \n",
      "2024-03-06 10:45:00+05:30   88928        True  \n",
      "2024-03-06 11:15:00+05:30   68819        True  \n",
      "...                           ...         ...  \n",
      "2024-04-04 13:15:00+05:30   45633        True  \n",
      "2024-04-04 13:45:00+05:30   84461        True  \n",
      "2024-04-04 14:15:00+05:30   76845        True  \n",
      "2024-04-04 14:45:00+05:30  119241        True  \n",
      "2024-04-04 15:15:00+05:30   97872       False  \n",
      "\n",
      "[234 rows x 7 columns], 'NSE:UBL':                             Symbol     Open     High      Low    Close  \\\n",
      "Timestamp                                                                \n",
      "2024-03-06 09:15:00+05:30  NSE:UBL  1705.95  1707.00  1696.00  1699.90   \n",
      "2024-03-06 09:45:00+05:30  NSE:UBL  1699.90  1703.15  1678.15  1683.70   \n",
      "2024-03-06 10:15:00+05:30  NSE:UBL  1683.70  1686.95  1679.00  1684.80   \n",
      "2024-03-06 10:45:00+05:30  NSE:UBL  1684.80  1684.80  1673.90  1676.05   \n",
      "2024-03-06 11:15:00+05:30  NSE:UBL  1676.05  1688.00  1674.70  1685.90   \n",
      "...                            ...      ...      ...      ...      ...   \n",
      "2024-04-04 13:15:00+05:30  NSE:UBL  1784.20  1788.15  1780.85  1784.85   \n",
      "2024-04-04 13:45:00+05:30  NSE:UBL  1784.85  1785.70  1779.10  1780.70   \n",
      "2024-04-04 14:15:00+05:30  NSE:UBL  1779.55  1784.95  1779.25  1782.85   \n",
      "2024-04-04 14:45:00+05:30  NSE:UBL  1782.85  1785.60  1780.00  1782.00   \n",
      "2024-04-04 15:15:00+05:30  NSE:UBL  1782.00  1784.90  1774.15  1781.55   \n",
      "\n",
      "                           Volume  IsComplete  \n",
      "Timestamp                                      \n",
      "2024-03-06 09:15:00+05:30    9003        True  \n",
      "2024-03-06 09:45:00+05:30   22256        True  \n",
      "2024-03-06 10:15:00+05:30    2755        True  \n",
      "2024-03-06 10:45:00+05:30    3125        True  \n",
      "2024-03-06 11:15:00+05:30    5706        True  \n",
      "...                           ...         ...  \n",
      "2024-04-04 13:15:00+05:30   18200        True  \n",
      "2024-04-04 13:45:00+05:30   23054        True  \n",
      "2024-04-04 14:15:00+05:30   18260        True  \n",
      "2024-04-04 14:45:00+05:30   18315        True  \n",
      "2024-04-04 15:15:00+05:30   22579       False  \n",
      "\n",
      "[234 rows x 7 columns]}\n",
      "\\Processing symbol \\Processing symbol \\Processing symbol \\Processing symbol \\Processing symbol    \\Processing symbol  NSE:ABBNSE:ABBOTINDIANSE:ADANIENT\\Processing symbol   \n",
      "\n",
      "\\Processing symbol \n",
      "\\Processing symbol \\Processing symbol  NSE:AMBUJACEM\\Processing symbol \\Processing symbol \\Processing symbol NSE:ASHOKLEY\\Processing symbol  \\Processing symbol  NSE:BAJAJFINSV\\Processing symbol \n",
      "  NSE:BAJFINANCE\n",
      "\\Processing symbol  \\Processing symbol \\Processing symbol   \n",
      "NSE:BIOCON\\Processing symbol  NSE:CHOLAFINNSE:DLFNSE:ADANIPORTS\n",
      "\\Processing symbol NSE:GODREJCP   NSE:GRASIM NSE:DRREDDY\\Processing symbol \n",
      "\\Processing symbol NSE:HEROMOTOCO\\Processing symbol  \n",
      "\n",
      "\n",
      "\n",
      " NSE:ICICIBANKNSE:BHEL\n",
      "NSE:ICICIPRULINSE:CIPLA\n",
      " \n",
      " NSE:IGL NSE:INDIAMART\n",
      "\n",
      "\n",
      "\n",
      "NSE:INDUSTOWER\n",
      "NSE:INDIGONSE:JSWSTEEL\n",
      "\n",
      "\n",
      "\n",
      "\\Processing symbol  NSE:KOTAKBANK\\Processing symbol \n",
      "\\Processing symbol   \\Processing symbol NSE:LT NSE:LICHSGFIN\\Processing symbol \n",
      "NSE:LUPIN\n",
      " \n",
      "NSE:MCDOWELL-N\\Processing symbol \n",
      " NSE:MRF\\Processing symbol \n",
      " NSE:NAUKRI\\Processing symbol \n",
      " NSE:NESTLEIND\\Processing symbol \n",
      "\\Processing symbol  \\Processing symbol  NSE:PIIND NSE:POWERGRID\n",
      "\\Processing symbol \n",
      " NSE:SHREECEM\\Processing symbol  \\Processing symbol \n",
      " \\Processing symbol NSE:TATASTEELNSE:TORNTPHARM\n",
      "\n",
      "\\Processing symbol  NSE:UBL\n",
      " NSE:TVSMOTOR\n",
      "NSE:SBILIFE\n"
     ]
    }
   ],
   "source": [
    "import pytz\n",
    "import asyncio\n",
    "\n",
    "strategy_start = time(2,25) \n",
    "strategy_end = time(15,25)\n",
    "\n",
    "india_tz = pytz.timezone('Asia/Kolkata')\n",
    "india_time = datetime.now(india_tz)\n",
    "index_symbol = \"NSE:NIFTY 50\"\n",
    "\n",
    "code_run_before_start = False \n",
    "\n",
    "lookback_days = 30\n",
    "\n",
    "strategy_interval = 2\n",
    "\n",
    "\n",
    "runt_times = calculate_run_times(start_hour=strategy_start.hour , start_minute=strategy_start.minute , end_hour=strategy_end.hour , end_minute=strategy_end.minute , interval=strategy_interval)\n",
    "\n",
    "print(\"\\n run times are \" , runt_times)\n",
    "\n",
    "while True:\n",
    "    \n",
    "        now = datetime.now(india_tz)\n",
    "        timet.sleep(0.1)\n",
    "        #print(\"\\n Current time: \" , now)\n",
    "        \n",
    "\n",
    "        if strategy_start<now.time()<strategy_end:\n",
    "                \n",
    "                \n",
    "                #print(\"Strategy is live \" , )\n",
    "                now_rounded = now.replace(second=0, microsecond=0).time()\n",
    "                print(now_rounded)\n",
    "                \n",
    "                next_run = get_next_run_time(start_hour=strategy_start.hour , start_minute=strategy_start.minute , interval=1)        \n",
    "                \n",
    "                if now_rounded in runt_times:\n",
    "                        \n",
    "                        # Place your code here that you want to run at each scheduled time\n",
    "                        print(f\"Running code for scheduled time: {now_rounded}\")\n",
    "                        \n",
    "                        #== we fetch live index candles and combine with historical index data                                                \n",
    "                        ind_live = fetch_live_candles(symbol=index_symbol ,lookback_days=0 , interval=30 , product='indexes')\n",
    "                        \n",
    "                        #print( \"Index live candles\", ind_live.tail(2) )\n",
    "                        \n",
    "                        if ind_live is not None and not ind_live.empty:\n",
    "                                ind_com = pd.concat([ind_df, ind_live], join='outer', axis=0)\n",
    "                        \n",
    "                        else:\n",
    "                                \n",
    "                                \n",
    "                                ind_com =ind_df\n",
    "                                print(\"\\n Error fetching live index candle\")        \n",
    "                        \n",
    "                        \n",
    "                        print(\"Historical index is \" , ind_df.tail(5))\n",
    "                        ind_com = ind_com[~ind_com.index.duplicated(keep='first')]\n",
    "                        \n",
    "                        print(\"\\n Merged today index with yesterday to create complete index : \\n\" , ind_com )\n",
    "\n",
    "                        \n",
    "                        ind_com = process_index(ind_com)\n",
    "                        \n",
    "                        \n",
    "                        #--- now we fetch live Stock candles\n",
    "                        try:\n",
    "                                results = await fetch_all_live_candles_async(today_stocks , 0 , product='stocks' , interval=30)\n",
    "                                \n",
    "                                #print(\"Live stock candles:\", results.tail(5))\n",
    "                                await asyncio.sleep(0.1)\n",
    "                                #print(results)\n",
    "                                \n",
    "                        except RuntimeError as error:\n",
    "                                print(f\"Error: {error}\")\n",
    "                        \n",
    "                        \n",
    "                        \n",
    "                        \n",
    "                        # Remove the executed time from the list\n",
    "                        if (now_rounded) in runt_times:\n",
    "                                print(\"\\n Removing run time: \" ,now_rounded )\n",
    "                                runt_times.remove(now_rounded)\n",
    "                                                        \n",
    "                        \n",
    "                        \n",
    "                        #=== This is the dataframe on which the strategy would run\n",
    "                        \n",
    "                        com_df =  {key: pd.concat([today_stocks_his[key], results[key]], axis=0)  for key in today_stocks_his if key in results}\n",
    "                        \n",
    "                        #== sort by index and remove duplicates\n",
    "                        com_df = sort_dataframes_dict(com_df)\n",
    "                        \n",
    "                        print(\"\\n After removing duplicates and sorting , stock_data is \\n \" , com_df)\n",
    "                        \n",
    "                        #-- process_symbol for all symbols for today\n",
    "                        com_dfs = process_symbol_concurrent(com_df, index=ind_com)\n",
    "                        \n",
    "                        \n",
    "                        \n",
    "                        \n",
    "                        \n",
    "                        # Sleep for slightly longer than the interval to ensure we don't hit the same time twice\n",
    "                        # This is to account for any execution time of your code and minor discrepancies\n",
    "                        timet.sleep(strategy_interval * 30 )\n",
    "                        \n",
    "                        break \n",
    "                       \n",
    "                                \n",
    "                \n",
    "        elif now.time() <= strategy_start and not code_run_before_start:\n",
    "                \n",
    "                print(\"Before strategy start time, waiting for market to open.\\n Doing preprocessing\")\n",
    "                \n",
    "                \n",
    "                today_stocks , ind_df = pre_strategy_code(stock_limit=40 , lookback=lookback_days)\n",
    "                        # Your one-time code here\n",
    "                print(\"\\n Stocks for today are : \\n\" , today_stocks)        \n",
    "                timet.sleep(5)\n",
    "                        # Set the flag to True to prevent this block from running again\n",
    "                \n",
    "                #=== this should run before market starts\n",
    "                \n",
    "                #today_stocks_his = await fetch_all_live_candles_async(today_stocks , lookback_days=lookback_days , product='stocks' , interval=30)\n",
    "                \n",
    "                \n",
    "                today_stocks_his = await fetch_historical_data_from_date_for_symbols(symbols=today_stocks , time_interval=30 , start_date=(now.date() - timedelta(days=lookback_days)) , end_date=(now.date()-timedelta(days=1)))\n",
    "                \n",
    "                #print(today_stocks_his)\n",
    "                        \n",
    "                code_run_before_start = True\n",
    "                \n",
    "                 \n",
    "        \n",
    "               \n",
    "        elif now.time() >= strategy_end:\n",
    "                print(\"\\n After strategy end time, market closed.\")\n",
    "                timet.sleep(10)\n",
    "                break"
   ]
  },
  {
   "cell_type": "code",
   "execution_count": null,
   "metadata": {},
   "outputs": [],
   "source": [
    "ind_live"
   ]
  },
  {
   "cell_type": "code",
   "execution_count": null,
   "metadata": {},
   "outputs": [],
   "source": [
    "dd = await fetch_all_live_candles_async(stock_list=today_stocks, lookback_days=0, product='stocks', interval=30)"
   ]
  },
  {
   "cell_type": "code",
   "execution_count": null,
   "metadata": {},
   "outputs": [],
   "source": [
    "for symbol, df in com_df.items():\n",
    "    # Sort the DataFrame by its index if it's not already sorted\n",
    "    if not df.index.is_monotonic_increasing:\n",
    "        df.sort_index(inplace=True)\n",
    "    \n",
    "    # Remove duplicates based on the index\n",
    "    df = df.loc[~df.index.duplicated(keep='first')]\n",
    "    \n",
    "    # Update the dictionary with the cleaned DataFrame\n",
    "    com_df[symbol] = df"
   ]
  },
  {
   "cell_type": "code",
   "execution_count": null,
   "metadata": {},
   "outputs": [],
   "source": [
    "def sort_dataframes_dict(dataframes_dict):\n",
    "    \n",
    "    #--- function used to remove duplicates and than sort by index ( if timestamp)\n",
    "    for symbol, df in dataframes_dict.items():\n",
    "        if not df.index.is_monotonic_increasing or df.index.duplicated().any():\n",
    "            df.sort_index(inplace=True)\n",
    "            df = df.loc[~df.index.duplicated(keep='first')]\n",
    "            dataframes_dict[symbol] = df\n",
    "\n",
    "\n",
    "\n"
   ]
  },
  {
   "cell_type": "code",
   "execution_count": null,
   "metadata": {},
   "outputs": [],
   "source": [
    "concatenated_dfs = {key: pd.concat([today_stocks_his[key], results[key]], axis=0)\n",
    "                    for key in today_stocks_his if key in results}"
   ]
  },
  {
   "cell_type": "code",
   "execution_count": null,
   "metadata": {},
   "outputs": [],
   "source": [
    "import pandas as pd\n",
    "import concurrent.futures\n",
    "\n",
    "# Assuming `today_stocks_his` and `results` are your dictionaries of DataFrames\n",
    "#com_df = {key: pd.concat([today_stocks_his[key], results[key]], axis=0) for key in today_stocks_his if key in results}\n",
    "\n",
    "\n",
    "def process_dataframes_async(com_df, index):\n",
    "    with concurrent.futures.ThreadPoolExecutor() as executor:\n",
    "        futures = [executor.submit(process_symbol2, df, index) for df in com_df.values()]\n",
    "        # Wait for all futures to complete\n",
    "        concurrent.futures.wait(futures)\n",
    "        # Collect results\n",
    "        results = [future.result() for future in futures]\n",
    "    return results\n",
    "\n",
    "# Example usage\n",
    "index = ind_com\n",
    "ss = process_dataframes_async(concatenated_dfs, index=ind_com)\n"
   ]
  },
  {
   "cell_type": "code",
   "execution_count": null,
   "metadata": {},
   "outputs": [],
   "source": []
  },
  {
   "cell_type": "code",
   "execution_count": null,
   "metadata": {},
   "outputs": [],
   "source": [
    "def compare_dataframe_lists(list1, list2):\n",
    "    # Check if the lists are the same length\n",
    "    if len(list1) != len(list2):\n",
    "        return False\n",
    "    \n",
    "    # Iterate through both lists and compare DataFrames\n",
    "    for df1, df2 in zip(list1, list2):\n",
    "        if not df1.equals(df2):\n",
    "            return False  # Found DataFrames that are not equal\n",
    "    return True  # All corresponding DataFrames are equal"
   ]
  },
  {
   "cell_type": "code",
   "execution_count": 27,
   "metadata": {},
   "outputs": [
    {
     "name": "stdout",
     "output_type": "stream",
     "text": [
      "\n",
      " Processing signals of : \n",
      " Processing signals of : \n",
      " Processing signals of :  \n",
      " Processing signals of : \n",
      " Processing signals of :  NSE:AMBUJACEM\n",
      " Processing signals of :  \n",
      " Processing signals of :  \n",
      " \n",
      " Processing signals of : NSE:ABBOTINDIANSE:ADANIENT NSE:BAJAJFINSV\n",
      " Processing signals of :  NSE:BAJFINANCE\n",
      " Processing signals of : \n",
      "\n",
      " \n",
      "\n",
      " Processing signals of : NSE:ADANIPORTS\n",
      " Processing signals of : NSE:BIOCON\n",
      "  \n",
      " Processing signals of : NSE:DLF\n",
      "\n",
      " Processing signals of :  NSE:CHOLAFINNSE:GRASIM\n",
      "\n",
      "\n",
      " Processing signals of :   \n",
      " Processing signals of : \n",
      "\n",
      "NSE:DRREDDYNSE:HEROMOTOCO  \n",
      " Processing signals of :  "
     ]
    },
    {
     "name": "stderr",
     "output_type": "stream",
     "text": [
      "/tmp/ipykernel_21521/3164365030.py:66: FutureWarning: Series.__getitem__ treating keys as positions is deprecated. In a future version, integer keys will always be treated as labels (consistent with DataFrame behavior). To access a value by position, use `ser.iloc[pos]`\n",
      "  if ( df['signal'][i-1]==1 or df['signal'][i]==1) and position == 0  and df['Close'][i]<df['Close'][i-1] and df['indClose'][i]>df['indtodayo'][i]*0.999 :\n"
     ]
    },
    {
     "name": "stdout",
     "output_type": "stream",
     "text": [
      "\n",
      " Processing signals of : NSE:BHEL\n",
      "NSE:ASHOKLEY\n",
      " Processing signals of :  "
     ]
    },
    {
     "name": "stderr",
     "output_type": "stream",
     "text": [
      "/tmp/ipykernel_21521/3164365030.py:66: FutureWarning: Series.__getitem__ treating keys as positions is deprecated. In a future version, integer keys will always be treated as labels (consistent with DataFrame behavior). To access a value by position, use `ser.iloc[pos]`\n",
      "  if ( df['signal'][i-1]==1 or df['signal'][i]==1) and position == 0  and df['Close'][i]<df['Close'][i-1] and df['indClose'][i]>df['indtodayo'][i]*0.999 :\n"
     ]
    },
    {
     "name": "stdout",
     "output_type": "stream",
     "text": [
      "NSE:GODREJCP"
     ]
    },
    {
     "name": "stderr",
     "output_type": "stream",
     "text": [
      "/tmp/ipykernel_21521/3164365030.py:66: FutureWarning: Series.__getitem__ treating keys as positions is deprecated. In a future version, integer keys will always be treated as labels (consistent with DataFrame behavior). To access a value by position, use `ser.iloc[pos]`\n",
      "  if ( df['signal'][i-1]==1 or df['signal'][i]==1) and position == 0  and df['Close'][i]<df['Close'][i-1] and df['indClose'][i]>df['indtodayo'][i]*0.999 :\n",
      "/tmp/ipykernel_21521/3164365030.py:66: FutureWarning: Series.__getitem__ treating keys as positions is deprecated. In a future version, integer keys will always be treated as labels (consistent with DataFrame behavior). To access a value by position, use `ser.iloc[pos]`\n",
      "  if ( df['signal'][i-1]==1 or df['signal'][i]==1) and position == 0  and df['Close'][i]<df['Close'][i-1] and df['indClose'][i]>df['indtodayo'][i]*0.999 :\n"
     ]
    },
    {
     "name": "stdout",
     "output_type": "stream",
     "text": [
      "\n",
      " \n",
      "NSE:INDIGO"
     ]
    },
    {
     "name": "stderr",
     "output_type": "stream",
     "text": [
      "/tmp/ipykernel_21521/3164365030.py:66: FutureWarning: Series.__getitem__ treating keys as positions is deprecated. In a future version, integer keys will always be treated as labels (consistent with DataFrame behavior). To access a value by position, use `ser.iloc[pos]`\n",
      "  if ( df['signal'][i-1]==1 or df['signal'][i]==1) and position == 0  and df['Close'][i]<df['Close'][i-1] and df['indClose'][i]>df['indtodayo'][i]*0.999 :\n"
     ]
    },
    {
     "name": "stdout",
     "output_type": "stream",
     "text": [
      " \n",
      " Processing signals of : \n",
      "\n",
      " Processing signals of : "
     ]
    },
    {
     "name": "stderr",
     "output_type": "stream",
     "text": [
      "/tmp/ipykernel_21521/3164365030.py:66: FutureWarning: Series.__getitem__ treating keys as positions is deprecated. In a future version, integer keys will always be treated as labels (consistent with DataFrame behavior). To access a value by position, use `ser.iloc[pos]`\n",
      "  if ( df['signal'][i-1]==1 or df['signal'][i]==1) and position == 0  and df['Close'][i]<df['Close'][i-1] and df['indClose'][i]>df['indtodayo'][i]*0.999 :\n"
     ]
    },
    {
     "name": "stdout",
     "output_type": "stream",
     "text": [
      "NSE:ABB"
     ]
    },
    {
     "name": "stderr",
     "output_type": "stream",
     "text": [
      "/tmp/ipykernel_21521/3164365030.py:66: FutureWarning: Series.__getitem__ treating keys as positions is deprecated. In a future version, integer keys will always be treated as labels (consistent with DataFrame behavior). To access a value by position, use `ser.iloc[pos]`\n",
      "  if ( df['signal'][i-1]==1 or df['signal'][i]==1) and position == 0  and df['Close'][i]<df['Close'][i-1] and df['indClose'][i]>df['indtodayo'][i]*0.999 :\n"
     ]
    },
    {
     "name": "stdout",
     "output_type": "stream",
     "text": [
      "\n",
      "NSE:INDUSTOWER"
     ]
    },
    {
     "name": "stderr",
     "output_type": "stream",
     "text": [
      "/tmp/ipykernel_21521/3164365030.py:66: FutureWarning: Series.__getitem__ treating keys as positions is deprecated. In a future version, integer keys will always be treated as labels (consistent with DataFrame behavior). To access a value by position, use `ser.iloc[pos]`\n",
      "  if ( df['signal'][i-1]==1 or df['signal'][i]==1) and position == 0  and df['Close'][i]<df['Close'][i-1] and df['indClose'][i]>df['indtodayo'][i]*0.999 :\n"
     ]
    },
    {
     "name": "stdout",
     "output_type": "stream",
     "text": [
      "NSE:ICICIBANK"
     ]
    },
    {
     "name": "stderr",
     "output_type": "stream",
     "text": [
      "/tmp/ipykernel_21521/3164365030.py:66: FutureWarning: Series.__getitem__ treating keys as positions is deprecated. In a future version, integer keys will always be treated as labels (consistent with DataFrame behavior). To access a value by position, use `ser.iloc[pos]`\n",
      "  if ( df['signal'][i-1]==1 or df['signal'][i]==1) and position == 0  and df['Close'][i]<df['Close'][i-1] and df['indClose'][i]>df['indtodayo'][i]*0.999 :\n",
      "/tmp/ipykernel_21521/3164365030.py:73: FutureWarning: Series.__getitem__ treating keys as positions is deprecated. In a future version, integer keys will always be treated as labels (consistent with DataFrame behavior). To access a value by position, use `ser.iloc[pos]`\n",
      "  print(\"\\n Position taken long at : \" , df.index[i] , \"-- entry Price - :  \" , entry_price , 'R1 today' ,df['R1'][i]*1.002  )\n"
     ]
    },
    {
     "name": "stdout",
     "output_type": "stream",
     "text": [
      " "
     ]
    },
    {
     "name": "stderr",
     "output_type": "stream",
     "text": [
      "/tmp/ipykernel_21521/3164365030.py:66: FutureWarning: Series.__getitem__ treating keys as positions is deprecated. In a future version, integer keys will always be treated as labels (consistent with DataFrame behavior). To access a value by position, use `ser.iloc[pos]`\n",
      "  if ( df['signal'][i-1]==1 or df['signal'][i]==1) and position == 0  and df['Close'][i]<df['Close'][i-1] and df['indClose'][i]>df['indtodayo'][i]*0.999 :\n"
     ]
    },
    {
     "name": "stdout",
     "output_type": "stream",
     "text": [
      "\n",
      "\n",
      "NSE:CIPLA"
     ]
    },
    {
     "name": "stderr",
     "output_type": "stream",
     "text": [
      "/tmp/ipykernel_21521/3164365030.py:66: FutureWarning: Series.__getitem__ treating keys as positions is deprecated. In a future version, integer keys will always be treated as labels (consistent with DataFrame behavior). To access a value by position, use `ser.iloc[pos]`\n",
      "  if ( df['signal'][i-1]==1 or df['signal'][i]==1) and position == 0  and df['Close'][i]<df['Close'][i-1] and df['indClose'][i]>df['indtodayo'][i]*0.999 :\n"
     ]
    },
    {
     "name": "stdout",
     "output_type": "stream",
     "text": [
      "\n"
     ]
    },
    {
     "name": "stderr",
     "output_type": "stream",
     "text": [
      "/tmp/ipykernel_21521/3164365030.py:66: FutureWarning: Series.__getitem__ treating keys as positions is deprecated. In a future version, integer keys will always be treated as labels (consistent with DataFrame behavior). To access a value by position, use `ser.iloc[pos]`\n",
      "  if ( df['signal'][i-1]==1 or df['signal'][i]==1) and position == 0  and df['Close'][i]<df['Close'][i-1] and df['indClose'][i]>df['indtodayo'][i]*0.999 :\n"
     ]
    },
    {
     "name": "stdout",
     "output_type": "stream",
     "text": [
      "\n",
      " Processing signals of : "
     ]
    },
    {
     "name": "stderr",
     "output_type": "stream",
     "text": [
      "/tmp/ipykernel_21521/3164365030.py:66: FutureWarning: Series.__getitem__ treating keys as positions is deprecated. In a future version, integer keys will always be treated as labels (consistent with DataFrame behavior). To access a value by position, use `ser.iloc[pos]`\n",
      "  if ( df['signal'][i-1]==1 or df['signal'][i]==1) and position == 0  and df['Close'][i]<df['Close'][i-1] and df['indClose'][i]>df['indtodayo'][i]*0.999 :\n",
      "/tmp/ipykernel_21521/3164365030.py:66: FutureWarning: Series.__getitem__ treating keys as positions is deprecated. In a future version, integer keys will always be treated as labels (consistent with DataFrame behavior). To access a value by position, use `ser.iloc[pos]`\n",
      "  if ( df['signal'][i-1]==1 or df['signal'][i]==1) and position == 0  and df['Close'][i]<df['Close'][i-1] and df['indClose'][i]>df['indtodayo'][i]*0.999 :\n"
     ]
    },
    {
     "name": "stdout",
     "output_type": "stream",
     "text": [
      "\n",
      " Processing signals of : \n",
      " Position taken long at : \n",
      " Processing signals of : \n"
     ]
    },
    {
     "name": "stderr",
     "output_type": "stream",
     "text": [
      "/tmp/ipykernel_21521/3164365030.py:66: FutureWarning: Series.__getitem__ treating keys as positions is deprecated. In a future version, integer keys will always be treated as labels (consistent with DataFrame behavior). To access a value by position, use `ser.iloc[pos]`\n",
      "  if ( df['signal'][i-1]==1 or df['signal'][i]==1) and position == 0  and df['Close'][i]<df['Close'][i-1] and df['indClose'][i]>df['indtodayo'][i]*0.999 :\n"
     ]
    },
    {
     "name": "stdout",
     "output_type": "stream",
     "text": [
      " "
     ]
    },
    {
     "name": "stderr",
     "output_type": "stream",
     "text": [
      "/tmp/ipykernel_21521/3164365030.py:66: FutureWarning: Series.__getitem__ treating keys as positions is deprecated. In a future version, integer keys will always be treated as labels (consistent with DataFrame behavior). To access a value by position, use `ser.iloc[pos]`\n",
      "  if ( df['signal'][i-1]==1 or df['signal'][i]==1) and position == 0  and df['Close'][i]<df['Close'][i-1] and df['indClose'][i]>df['indtodayo'][i]*0.999 :\n",
      "/tmp/ipykernel_21521/3164365030.py:66: FutureWarning: Series.__getitem__ treating keys as positions is deprecated. In a future version, integer keys will always be treated as labels (consistent with DataFrame behavior). To access a value by position, use `ser.iloc[pos]`\n",
      "  if ( df['signal'][i-1]==1 or df['signal'][i]==1) and position == 0  and df['Close'][i]<df['Close'][i-1] and df['indClose'][i]>df['indtodayo'][i]*0.999 :\n"
     ]
    },
    {
     "name": "stdout",
     "output_type": "stream",
     "text": [
      "   "
     ]
    },
    {
     "name": "stderr",
     "output_type": "stream",
     "text": [
      "/tmp/ipykernel_21521/3164365030.py:66: FutureWarning: Series.__getitem__ treating keys as positions is deprecated. In a future version, integer keys will always be treated as labels (consistent with DataFrame behavior). To access a value by position, use `ser.iloc[pos]`\n",
      "  if ( df['signal'][i-1]==1 or df['signal'][i]==1) and position == 0  and df['Close'][i]<df['Close'][i-1] and df['indClose'][i]>df['indtodayo'][i]*0.999 :\n"
     ]
    },
    {
     "name": "stdout",
     "output_type": "stream",
     "text": [
      "\n",
      "\n",
      "NSE:JSWSTEELNSE:IGL"
     ]
    },
    {
     "name": "stderr",
     "output_type": "stream",
     "text": [
      "/tmp/ipykernel_21521/3164365030.py:73: FutureWarning: Series.__getitem__ treating keys as positions is deprecated. In a future version, integer keys will always be treated as labels (consistent with DataFrame behavior). To access a value by position, use `ser.iloc[pos]`\n",
      "  print(\"\\n Position taken long at : \" , df.index[i] , \"-- entry Price - :  \" , entry_price , 'R1 today' ,df['R1'][i]*1.002  )\n"
     ]
    },
    {
     "name": "stdout",
     "output_type": "stream",
     "text": [
      "NSE:ICICIPRULI "
     ]
    },
    {
     "name": "stderr",
     "output_type": "stream",
     "text": [
      "/tmp/ipykernel_21521/3164365030.py:66: FutureWarning: Series.__getitem__ treating keys as positions is deprecated. In a future version, integer keys will always be treated as labels (consistent with DataFrame behavior). To access a value by position, use `ser.iloc[pos]`\n",
      "  if ( df['signal'][i-1]==1 or df['signal'][i]==1) and position == 0  and df['Close'][i]<df['Close'][i-1] and df['indClose'][i]>df['indtodayo'][i]*0.999 :\n"
     ]
    },
    {
     "name": "stdout",
     "output_type": "stream",
     "text": [
      "2024-03-06 09:15:00+05:30"
     ]
    },
    {
     "name": "stderr",
     "output_type": "stream",
     "text": [
      "/tmp/ipykernel_21521/3164365030.py:73: FutureWarning: Series.__getitem__ treating keys as positions is deprecated. In a future version, integer keys will always be treated as labels (consistent with DataFrame behavior). To access a value by position, use `ser.iloc[pos]`\n",
      "  print(\"\\n Position taken long at : \" , df.index[i] , \"-- entry Price - :  \" , entry_price , 'R1 today' ,df['R1'][i]*1.002  )\n",
      "/tmp/ipykernel_21521/3164365030.py:73: FutureWarning: Series.__getitem__ treating keys as positions is deprecated. In a future version, integer keys will always be treated as labels (consistent with DataFrame behavior). To access a value by position, use `ser.iloc[pos]`\n",
      "  print(\"\\n Position taken long at : \" , df.index[i] , \"-- entry Price - :  \" , entry_price , 'R1 today' ,df['R1'][i]*1.002  )\n"
     ]
    },
    {
     "name": "stdout",
     "output_type": "stream",
     "text": [
      "\n"
     ]
    },
    {
     "name": "stderr",
     "output_type": "stream",
     "text": [
      "/tmp/ipykernel_21521/3164365030.py:73: FutureWarning: Series.__getitem__ treating keys as positions is deprecated. In a future version, integer keys will always be treated as labels (consistent with DataFrame behavior). To access a value by position, use `ser.iloc[pos]`\n",
      "  print(\"\\n Position taken long at : \" , df.index[i] , \"-- entry Price - :  \" , entry_price , 'R1 today' ,df['R1'][i]*1.002  )\n"
     ]
    },
    {
     "name": "stdout",
     "output_type": "stream",
     "text": [
      "\n",
      " Position taken long at : "
     ]
    },
    {
     "name": "stderr",
     "output_type": "stream",
     "text": [
      "/tmp/ipykernel_21521/3164365030.py:66: FutureWarning: Series.__getitem__ treating keys as positions is deprecated. In a future version, integer keys will always be treated as labels (consistent with DataFrame behavior). To access a value by position, use `ser.iloc[pos]`\n",
      "  if ( df['signal'][i-1]==1 or df['signal'][i]==1) and position == 0  and df['Close'][i]<df['Close'][i-1] and df['indClose'][i]>df['indtodayo'][i]*0.999 :\n",
      "/tmp/ipykernel_21521/3164365030.py:73: FutureWarning: Series.__getitem__ treating keys as positions is deprecated. In a future version, integer keys will always be treated as labels (consistent with DataFrame behavior). To access a value by position, use `ser.iloc[pos]`\n",
      "  print(\"\\n Position taken long at : \" , df.index[i] , \"-- entry Price - :  \" , entry_price , 'R1 today' ,df['R1'][i]*1.002  )\n",
      "/tmp/ipykernel_21521/3164365030.py:73: FutureWarning: Series.__getitem__ treating keys as positions is deprecated. In a future version, integer keys will always be treated as labels (consistent with DataFrame behavior). To access a value by position, use `ser.iloc[pos]`\n",
      "  print(\"\\n Position taken long at : \" , df.index[i] , \"-- entry Price - :  \" , entry_price , 'R1 today' ,df['R1'][i]*1.002  )\n",
      "/tmp/ipykernel_21521/3164365030.py:73: FutureWarning: Series.__getitem__ treating keys as positions is deprecated. In a future version, integer keys will always be treated as labels (consistent with DataFrame behavior). To access a value by position, use `ser.iloc[pos]`\n",
      "  print(\"\\n Position taken long at : \" , df.index[i] , \"-- entry Price - :  \" , entry_price , 'R1 today' ,df['R1'][i]*1.002  )\n",
      "/tmp/ipykernel_21521/3164365030.py:73: FutureWarning: Series.__getitem__ treating keys as positions is deprecated. In a future version, integer keys will always be treated as labels (consistent with DataFrame behavior). To access a value by position, use `ser.iloc[pos]`\n",
      "  print(\"\\n Position taken long at : \" , df.index[i] , \"-- entry Price - :  \" , entry_price , 'R1 today' ,df['R1'][i]*1.002  )\n"
     ]
    },
    {
     "name": "stdout",
     "output_type": "stream",
     "text": [
      "\n"
     ]
    },
    {
     "name": "stderr",
     "output_type": "stream",
     "text": [
      "/tmp/ipykernel_21521/3164365030.py:73: FutureWarning: Series.__getitem__ treating keys as positions is deprecated. In a future version, integer keys will always be treated as labels (consistent with DataFrame behavior). To access a value by position, use `ser.iloc[pos]`\n",
      "  print(\"\\n Position taken long at : \" , df.index[i] , \"-- entry Price - :  \" , entry_price , 'R1 today' ,df['R1'][i]*1.002  )\n"
     ]
    },
    {
     "name": "stdout",
     "output_type": "stream",
     "text": [
      "\n",
      " Position taken long at : "
     ]
    },
    {
     "name": "stderr",
     "output_type": "stream",
     "text": [
      "/tmp/ipykernel_21521/3164365030.py:66: FutureWarning: Series.__getitem__ treating keys as positions is deprecated. In a future version, integer keys will always be treated as labels (consistent with DataFrame behavior). To access a value by position, use `ser.iloc[pos]`\n",
      "  if ( df['signal'][i-1]==1 or df['signal'][i]==1) and position == 0  and df['Close'][i]<df['Close'][i-1] and df['indClose'][i]>df['indtodayo'][i]*0.999 :\n"
     ]
    },
    {
     "name": "stdout",
     "output_type": "stream",
     "text": [
      "\n",
      " Position taken long at :  \n",
      " Position taken long at : \n",
      " Position taken long at :   \n",
      " Position taken long at :   2024-03-21 11:15:00+05:30  2024-03-18 14:45:00+05:302024-03-21 11:15:00+05:30 2024-03-21 11:15:00+05:302024-03-21 13:15:00+05:30 -- entry Price - :    "
     ]
    },
    {
     "name": "stderr",
     "output_type": "stream",
     "text": [
      "/tmp/ipykernel_21521/3164365030.py:66: FutureWarning: Series.__getitem__ treating keys as positions is deprecated. In a future version, integer keys will always be treated as labels (consistent with DataFrame behavior). To access a value by position, use `ser.iloc[pos]`\n",
      "  if ( df['signal'][i-1]==1 or df['signal'][i]==1) and position == 0  and df['Close'][i]<df['Close'][i-1] and df['indClose'][i]>df['indtodayo'][i]*0.999 :\n"
     ]
    },
    {
     "name": "stdout",
     "output_type": "stream",
     "text": [
      "-- entry Price - :  NSE:INDIAMART-- entry Price - :  "
     ]
    },
    {
     "name": "stderr",
     "output_type": "stream",
     "text": [
      "/tmp/ipykernel_21521/3164365030.py:73: FutureWarning: Series.__getitem__ treating keys as positions is deprecated. In a future version, integer keys will always be treated as labels (consistent with DataFrame behavior). To access a value by position, use `ser.iloc[pos]`\n",
      "  print(\"\\n Position taken long at : \" , df.index[i] , \"-- entry Price - :  \" , entry_price , 'R1 today' ,df['R1'][i]*1.002  )\n"
     ]
    },
    {
     "name": "stdout",
     "output_type": "stream",
     "text": [
      "  \n",
      "-- entry Price - :    "
     ]
    },
    {
     "name": "stderr",
     "output_type": "stream",
     "text": [
      "/tmp/ipykernel_21521/3164365030.py:73: FutureWarning: Series.__getitem__ treating keys as positions is deprecated. In a future version, integer keys will always be treated as labels (consistent with DataFrame behavior). To access a value by position, use `ser.iloc[pos]`\n",
      "  print(\"\\n Position taken long at : \" , df.index[i] , \"-- entry Price - :  \" , entry_price , 'R1 today' ,df['R1'][i]*1.002  )\n",
      "/tmp/ipykernel_21521/3164365030.py:73: FutureWarning: Series.__getitem__ treating keys as positions is deprecated. In a future version, integer keys will always be treated as labels (consistent with DataFrame behavior). To access a value by position, use `ser.iloc[pos]`\n",
      "  print(\"\\n Position taken long at : \" , df.index[i] , \"-- entry Price - :  \" , entry_price , 'R1 today' ,df['R1'][i]*1.002  )\n",
      "/tmp/ipykernel_21521/3164365030.py:66: FutureWarning: Series.__getitem__ treating keys as positions is deprecated. In a future version, integer keys will always be treated as labels (consistent with DataFrame behavior). To access a value by position, use `ser.iloc[pos]`\n",
      "  if ( df['signal'][i-1]==1 or df['signal'][i]==1) and position == 0  and df['Close'][i]<df['Close'][i-1] and df['indClose'][i]>df['indtodayo'][i]*0.999 :\n"
     ]
    },
    {
     "name": "stdout",
     "output_type": "stream",
     "text": [
      "588.33093.4\n",
      " Position taken long at : -- entry Price - :  250.5\n",
      " Position taken long at : \n",
      " Position taken long at : 2024-03-21 11:15:00+05:30\n",
      " Position taken long at :  "
     ]
    },
    {
     "name": "stderr",
     "output_type": "stream",
     "text": [
      "/tmp/ipykernel_21521/3164365030.py:73: FutureWarning: Series.__getitem__ treating keys as positions is deprecated. In a future version, integer keys will always be treated as labels (consistent with DataFrame behavior). To access a value by position, use `ser.iloc[pos]`\n",
      "  print(\"\\n Position taken long at : \" , df.index[i] , \"-- entry Price - :  \" , entry_price , 'R1 today' ,df['R1'][i]*1.002  )\n"
     ]
    },
    {
     "name": "stdout",
     "output_type": "stream",
     "text": [
      "       "
     ]
    },
    {
     "name": "stderr",
     "output_type": "stream",
     "text": [
      "/tmp/ipykernel_21521/3164365030.py:73: FutureWarning: Series.__getitem__ treating keys as positions is deprecated. In a future version, integer keys will always be treated as labels (consistent with DataFrame behavior). To access a value by position, use `ser.iloc[pos]`\n",
      "  print(\"\\n Position taken long at : \" , df.index[i] , \"-- entry Price - :  \" , entry_price , 'R1 today' ,df['R1'][i]*1.002  )\n"
     ]
    },
    {
     "name": "stdout",
     "output_type": "stream",
     "text": [
      "R1 today\n",
      " Position taken long at :  R1 today2024-03-21 14:45:00+05:30"
     ]
    },
    {
     "name": "stderr",
     "output_type": "stream",
     "text": [
      "/tmp/ipykernel_21521/3164365030.py:73: FutureWarning: Series.__getitem__ treating keys as positions is deprecated. In a future version, integer keys will always be treated as labels (consistent with DataFrame behavior). To access a value by position, use `ser.iloc[pos]`\n",
      "  print(\"\\n Position taken long at : \" , df.index[i] , \"-- entry Price - :  \" , entry_price , 'R1 today' ,df['R1'][i]*1.002  )\n"
     ]
    },
    {
     "name": "stdout",
     "output_type": "stream",
     "text": [
      "28503.8"
     ]
    },
    {
     "name": "stderr",
     "output_type": "stream",
     "text": [
      "/tmp/ipykernel_21521/3164365030.py:73: FutureWarning: Series.__getitem__ treating keys as positions is deprecated. In a future version, integer keys will always be treated as labels (consistent with DataFrame behavior). To access a value by position, use `ser.iloc[pos]`\n",
      "  print(\"\\n Position taken long at : \" , df.index[i] , \"-- entry Price - :  \" , entry_price , 'R1 today' ,df['R1'][i]*1.002  )\n"
     ]
    },
    {
     "name": "stdout",
     "output_type": "stream",
     "text": [
      "R1 today2024-03-18 12:15:00+05:30\n",
      " Position taken long at : 2024-03-21 15:15:00+05:30-- entry Price - :   \n",
      " Position taken long at :  2024-03-21 11:15:00+05:30  \n",
      " Position taken long at :  \n",
      " Position taken long at :  "
     ]
    },
    {
     "name": "stderr",
     "output_type": "stream",
     "text": [
      "/tmp/ipykernel_21521/3164365030.py:66: FutureWarning: Series.__getitem__ treating keys as positions is deprecated. In a future version, integer keys will always be treated as labels (consistent with DataFrame behavior). To access a value by position, use `ser.iloc[pos]`\n",
      "  if ( df['signal'][i-1]==1 or df['signal'][i]==1) and position == 0  and df['Close'][i]<df['Close'][i-1] and df['indClose'][i]>df['indtodayo'][i]*0.999 :\n"
     ]
    },
    {
     "name": "stdout",
     "output_type": "stream",
     "text": [
      "    588.0738 2024-03-21 11:15:00+05:30 -- entry Price - :  3087.9970000000003 R1 today 249.48129999999995-- entry Price - :  2024-03-18 14:45:00+05:30-- entry Price - :  1598.65\n",
      "2024-03-18 13:15:00+05:30 -- entry Price - :   \n",
      "2024-03-20 13:45:00+05:30 2024-03-28 11:45:00+05:30\n",
      "     "
     ]
    },
    {
     "name": "stderr",
     "output_type": "stream",
     "text": [
      "/tmp/ipykernel_21521/3164365030.py:73: FutureWarning: Series.__getitem__ treating keys as positions is deprecated. In a future version, integer keys will always be treated as labels (consistent with DataFrame behavior). To access a value by position, use `ser.iloc[pos]`\n",
      "  print(\"\\n Position taken long at : \" , df.index[i] , \"-- entry Price - :  \" , entry_price , 'R1 today' ,df['R1'][i]*1.002  )\n"
     ]
    },
    {
     "name": "stdout",
     "output_type": "stream",
     "text": [
      "-- entry Price - :  "
     ]
    },
    {
     "name": "stderr",
     "output_type": "stream",
     "text": [
      "/tmp/ipykernel_21521/3164365030.py:85: FutureWarning: Series.__getitem__ treating keys as positions is deprecated. In a future version, integer keys will always be treated as labels (consistent with DataFrame behavior). To access a value by position, use `ser.iloc[pos]`\n",
      "  if (position == 1 and row['Close'] < min(df['prevdayl'][i]*0.995 ,df['todayl'][i-1]*1.005) and bar_counts[i]>=2):\n"
     ]
    },
    {
     "name": "stdout",
     "output_type": "stream",
     "text": [
      " 237.35 28688.980100000008"
     ]
    },
    {
     "name": "stderr",
     "output_type": "stream",
     "text": [
      "/tmp/ipykernel_21521/3164365030.py:85: FutureWarning: Series.__getitem__ treating keys as positions is deprecated. In a future version, integer keys will always be treated as labels (consistent with DataFrame behavior). To access a value by position, use `ser.iloc[pos]`\n",
      "  if (position == 1 and row['Close'] < min(df['prevdayl'][i]*0.995 ,df['todayl'][i-1]*1.005) and bar_counts[i]>=2):\n"
     ]
    },
    {
     "name": "stdout",
     "output_type": "stream",
     "text": [
      " -- entry Price - :  3225.2-- entry Price - :  "
     ]
    },
    {
     "name": "stderr",
     "output_type": "stream",
     "text": [
      "/tmp/ipykernel_21521/3164365030.py:85: FutureWarning: Series.__getitem__ treating keys as positions is deprecated. In a future version, integer keys will always be treated as labels (consistent with DataFrame behavior). To access a value by position, use `ser.iloc[pos]`\n",
      "  if (position == 1 and row['Close'] < min(df['prevdayl'][i]*0.995 ,df['todayl'][i-1]*1.005) and bar_counts[i]>=2):\n"
     ]
    },
    {
     "name": "stdout",
     "output_type": "stream",
     "text": [
      "166.7R1 today-- entry Price - :  \n",
      " Position taken long at :  1264.5 -- entry Price - :  "
     ]
    },
    {
     "name": "stderr",
     "output_type": "stream",
     "text": [
      "/tmp/ipykernel_21521/3164365030.py:156: FutureWarning: Series.__getitem__ treating keys as positions is deprecated. In a future version, integer keys will always be treated as labels (consistent with DataFrame behavior). To access a value by position, use `ser.iloc[pos]`\n",
      "  if position!=0 and df['todayo'][i]<df['x_day_low'][i] and df['Close'][i]<df['Low'][i-1] and day_count>=1 and df.index[i].time()>=datetime.time(10 , 45):\n"
     ]
    },
    {
     "name": "stdout",
     "output_type": "stream",
     "text": [
      "\n"
     ]
    },
    {
     "name": "stderr",
     "output_type": "stream",
     "text": [
      "/tmp/ipykernel_21521/3164365030.py:73: FutureWarning: Series.__getitem__ treating keys as positions is deprecated. In a future version, integer keys will always be treated as labels (consistent with DataFrame behavior). To access a value by position, use `ser.iloc[pos]`\n",
      "  print(\"\\n Position taken long at : \" , df.index[i] , \"-- entry Price - :  \" , entry_price , 'R1 today' ,df['R1'][i]*1.002  )\n"
     ]
    },
    {
     "name": "stdout",
     "output_type": "stream",
     "text": [
      "-- entry Price - :  841.5129999999999  "
     ]
    },
    {
     "name": "stderr",
     "output_type": "stream",
     "text": [
      "/tmp/ipykernel_21521/3164365030.py:156: FutureWarning: Series.__getitem__ treating keys as positions is deprecated. In a future version, integer keys will always be treated as labels (consistent with DataFrame behavior). To access a value by position, use `ser.iloc[pos]`\n",
      "  if position!=0 and df['todayo'][i]<df['x_day_low'][i] and df['Close'][i]<df['Low'][i-1] and day_count>=1 and df.index[i].time()>=datetime.time(10 , 45):\n"
     ]
    },
    {
     "name": "stdout",
     "output_type": "stream",
     "text": [
      "    "
     ]
    },
    {
     "name": "stderr",
     "output_type": "stream",
     "text": [
      "/tmp/ipykernel_21521/3164365030.py:156: FutureWarning: Series.__getitem__ treating keys as positions is deprecated. In a future version, integer keys will always be treated as labels (consistent with DataFrame behavior). To access a value by position, use `ser.iloc[pos]`\n",
      "  if position!=0 and df['todayo'][i]<df['x_day_low'][i] and df['Close'][i]<df['Low'][i-1] and day_count>=1 and df.index[i].time()>=datetime.time(10 , 45):\n"
     ]
    },
    {
     "name": "stdout",
     "output_type": "stream",
     "text": [
      " 1449.55 R1 today  "
     ]
    },
    {
     "name": "stderr",
     "output_type": "stream",
     "text": [
      "/tmp/ipykernel_21521/3164365030.py:166: FutureWarning: Series.__getitem__ treating keys as positions is deprecated. In a future version, integer keys will always be treated as labels (consistent with DataFrame behavior). To access a value by position, use `ser.iloc[pos]`\n",
      "  if position!=0 and df['High'][i]<df['S1'][i-1] and df['Close'][i]<df['Close'][i-1] and day_count>=1 and df.index[i].time()>=time(10 , 45):\n"
     ]
    },
    {
     "name": "stdout",
     "output_type": "stream",
     "text": [
      "6259.0R1 today"
     ]
    },
    {
     "name": "stderr",
     "output_type": "stream",
     "text": [
      "/tmp/ipykernel_21521/3164365030.py:85: FutureWarning: Series.__getitem__ treating keys as positions is deprecated. In a future version, integer keys will always be treated as labels (consistent with DataFrame behavior). To access a value by position, use `ser.iloc[pos]`\n",
      "  if (position == 1 and row['Close'] < min(df['prevdayl'][i]*0.995 ,df['todayl'][i-1]*1.005) and bar_counts[i]>=2):\n"
     ]
    },
    {
     "name": "stdout",
     "output_type": "stream",
     "text": [
      "1240.0R1 today1599.4926000000003"
     ]
    },
    {
     "name": "stderr",
     "output_type": "stream",
     "text": [
      "/tmp/ipykernel_21521/3164365030.py:166: FutureWarning: Series.__getitem__ treating keys as positions is deprecated. In a future version, integer keys will always be treated as labels (consistent with DataFrame behavior). To access a value by position, use `ser.iloc[pos]`\n",
      "  if position!=0 and df['High'][i]<df['S1'][i-1] and df['Close'][i]<df['Close'][i-1] and day_count>=1 and df.index[i].time()>=time(10 , 45):\n"
     ]
    },
    {
     "name": "stdout",
     "output_type": "stream",
     "text": [
      "2204.22024-03-18 14:15:00+05:30R1 today  "
     ]
    },
    {
     "name": "stderr",
     "output_type": "stream",
     "text": [
      "/tmp/ipykernel_21521/3164365030.py:166: FutureWarning: Series.__getitem__ treating keys as positions is deprecated. In a future version, integer keys will always be treated as labels (consistent with DataFrame behavior). To access a value by position, use `ser.iloc[pos]`\n",
      "  if position!=0 and df['High'][i]<df['S1'][i-1] and df['Close'][i]<df['Close'][i-1] and day_count>=1 and df.index[i].time()>=time(10 , 45):\n"
     ]
    },
    {
     "name": "stdout",
     "output_type": "stream",
     "text": [
      "1084.44679.0  "
     ]
    },
    {
     "name": "stderr",
     "output_type": "stream",
     "text": [
      "/tmp/ipykernel_21521/3164365030.py:177: FutureWarning: Series.__getitem__ treating keys as positions is deprecated. In a future version, integer keys will always be treated as labels (consistent with DataFrame behavior). To access a value by position, use `ser.iloc[pos]`\n",
      "  if position!=0 and df['Low'][i]<min(df['Open'][i] , entry_price*0.98) and bar_counts[i]>1:\n",
      "/tmp/ipykernel_21521/3164365030.py:73: FutureWarning: Series.__getitem__ treating keys as positions is deprecated. In a future version, integer keys will always be treated as labels (consistent with DataFrame behavior). To access a value by position, use `ser.iloc[pos]`\n",
      "  print(\"\\n Position taken long at : \" , df.index[i] , \"-- entry Price - :  \" , entry_price , 'R1 today' ,df['R1'][i]*1.002  )\n"
     ]
    },
    {
     "name": "stdout",
     "output_type": "stream",
     "text": [
      "  \n"
     ]
    },
    {
     "name": "stderr",
     "output_type": "stream",
     "text": [
      "/tmp/ipykernel_21521/3164365030.py:156: FutureWarning: Series.__getitem__ treating keys as positions is deprecated. In a future version, integer keys will always be treated as labels (consistent with DataFrame behavior). To access a value by position, use `ser.iloc[pos]`\n",
      "  if position!=0 and df['todayo'][i]<df['x_day_low'][i] and df['Close'][i]<df['Low'][i-1] and day_count>=1 and df.index[i].time()>=datetime.time(10 , 45):\n"
     ]
    },
    {
     "name": "stdout",
     "output_type": "stream",
     "text": [
      "   "
     ]
    },
    {
     "name": "stderr",
     "output_type": "stream",
     "text": [
      "/tmp/ipykernel_21521/3164365030.py:177: FutureWarning: Series.__getitem__ treating keys as positions is deprecated. In a future version, integer keys will always be treated as labels (consistent with DataFrame behavior). To access a value by position, use `ser.iloc[pos]`\n",
      "  if position!=0 and df['Low'][i]<min(df['Open'][i] , entry_price*0.98) and bar_counts[i]>1:\n"
     ]
    },
    {
     "name": "stdout",
     "output_type": "stream",
     "text": [
      "R1 today 228.99039999999997 "
     ]
    },
    {
     "name": "stderr",
     "output_type": "stream",
     "text": [
      "/tmp/ipykernel_21521/3164365030.py:177: FutureWarning: Series.__getitem__ treating keys as positions is deprecated. In a future version, integer keys will always be treated as labels (consistent with DataFrame behavior). To access a value by position, use `ser.iloc[pos]`\n",
      "  if position!=0 and df['Low'][i]<min(df['Open'][i] , entry_price*0.98) and bar_counts[i]>1:\n"
     ]
    },
    {
     "name": "stdout",
     "output_type": "stream",
     "text": [
      "R1 today3221.3297999999986\n",
      " Position taken long at : R1 today163.40949999999998"
     ]
    },
    {
     "name": "stderr",
     "output_type": "stream",
     "text": [
      "/tmp/ipykernel_21521/3164365030.py:192: FutureWarning: Series.__getitem__ treating keys as positions is deprecated. In a future version, integer keys will always be treated as labels (consistent with DataFrame behavior). To access a value by position, use `ser.iloc[pos]`\n",
      "  if position == 1 and row['Close'] > entry_price*(1+(1.25*df['5drng'][i])) and df['Close'][i]>df['Close'][i-1] and bar_counts[i]>10:\n"
     ]
    },
    {
     "name": "stdout",
     "output_type": "stream",
     "text": [
      "R1 today-- entry Price - :  "
     ]
    },
    {
     "name": "stderr",
     "output_type": "stream",
     "text": [
      "/tmp/ipykernel_21521/3164365030.py:85: FutureWarning: Series.__getitem__ treating keys as positions is deprecated. In a future version, integer keys will always be treated as labels (consistent with DataFrame behavior). To access a value by position, use `ser.iloc[pos]`\n",
      "  if (position == 1 and row['Close'] < min(df['prevdayl'][i]*0.995 ,df['todayl'][i-1]*1.005) and bar_counts[i]>=2):\n"
     ]
    },
    {
     "name": "stdout",
     "output_type": "stream",
     "text": [
      " 1257.0758"
     ]
    },
    {
     "name": "stderr",
     "output_type": "stream",
     "text": [
      "/tmp/ipykernel_21521/3164365030.py:166: FutureWarning: Series.__getitem__ treating keys as positions is deprecated. In a future version, integer keys will always be treated as labels (consistent with DataFrame behavior). To access a value by position, use `ser.iloc[pos]`\n",
      "  if position!=0 and df['High'][i]<df['S1'][i-1] and df['Close'][i]<df['Close'][i-1] and day_count>=1 and df.index[i].time()>=time(10 , 45):\n"
     ]
    },
    {
     "name": "stdout",
     "output_type": "stream",
     "text": [
      " \n",
      "R1 todayR1 today"
     ]
    },
    {
     "name": "stderr",
     "output_type": "stream",
     "text": [
      "/tmp/ipykernel_21521/3164365030.py:192: FutureWarning: Series.__getitem__ treating keys as positions is deprecated. In a future version, integer keys will always be treated as labels (consistent with DataFrame behavior). To access a value by position, use `ser.iloc[pos]`\n",
      "  if position == 1 and row['Close'] > entry_price*(1+(1.25*df['5drng'][i])) and df['Close'][i]>df['Close'][i-1] and bar_counts[i]>10:\n"
     ]
    },
    {
     "name": "stdout",
     "output_type": "stream",
     "text": [
      " \n",
      "  "
     ]
    },
    {
     "name": "stderr",
     "output_type": "stream",
     "text": [
      "/tmp/ipykernel_21521/3164365030.py:192: FutureWarning: Series.__getitem__ treating keys as positions is deprecated. In a future version, integer keys will always be treated as labels (consistent with DataFrame behavior). To access a value by position, use `ser.iloc[pos]`\n",
      "  if position == 1 and row['Close'] > entry_price*(1+(1.25*df['5drng'][i])) and df['Close'][i]>df['Close'][i-1] and bar_counts[i]>10:\n"
     ]
    },
    {
     "name": "stdout",
     "output_type": "stream",
     "text": [
      "\n",
      " "
     ]
    },
    {
     "name": "stderr",
     "output_type": "stream",
     "text": [
      "/tmp/ipykernel_21521/3164365030.py:203: FutureWarning: Series.__getitem__ treating keys as positions is deprecated. In a future version, integer keys will always be treated as labels (consistent with DataFrame behavior). To access a value by position, use `ser.iloc[pos]`\n",
      "  if position >0 and df['Close'][i-1]>df['R2'][i-1]*1.01 and df['Close'][i]<df['R2'][i-1]*1.01 and bar_counts[i]>5 and df.index[i].time() >= time(9, 30):\n"
     ]
    },
    {
     "name": "stdout",
     "output_type": "stream",
     "text": [
      " 854.4\n",
      "1439.373"
     ]
    },
    {
     "name": "stderr",
     "output_type": "stream",
     "text": [
      "/tmp/ipykernel_21521/3164365030.py:156: FutureWarning: Series.__getitem__ treating keys as positions is deprecated. In a future version, integer keys will always be treated as labels (consistent with DataFrame behavior). To access a value by position, use `ser.iloc[pos]`\n",
      "  if position!=0 and df['todayo'][i]<df['x_day_low'][i] and df['Close'][i]<df['Low'][i-1] and day_count>=1 and df.index[i].time()>=datetime.time(10 , 45):\n"
     ]
    },
    {
     "name": "stdout",
     "output_type": "stream",
     "text": [
      " "
     ]
    },
    {
     "name": "stderr",
     "output_type": "stream",
     "text": [
      "/tmp/ipykernel_21521/3164365030.py:177: FutureWarning: Series.__getitem__ treating keys as positions is deprecated. In a future version, integer keys will always be treated as labels (consistent with DataFrame behavior). To access a value by position, use `ser.iloc[pos]`\n",
      "  if position!=0 and df['Low'][i]<min(df['Open'][i] , entry_price*0.98) and bar_counts[i]>1:\n"
     ]
    },
    {
     "name": "stdout",
     "output_type": "stream",
     "text": [
      " "
     ]
    },
    {
     "name": "stderr",
     "output_type": "stream",
     "text": [
      "/tmp/ipykernel_21521/3164365030.py:85: FutureWarning: Series.__getitem__ treating keys as positions is deprecated. In a future version, integer keys will always be treated as labels (consistent with DataFrame behavior). To access a value by position, use `ser.iloc[pos]`\n",
      "  if (position == 1 and row['Close'] < min(df['prevdayl'][i]*0.995 ,df['todayl'][i-1]*1.005) and bar_counts[i]>=2):\n",
      "/tmp/ipykernel_21521/3164365030.py:203: FutureWarning: Series.__getitem__ treating keys as positions is deprecated. In a future version, integer keys will always be treated as labels (consistent with DataFrame behavior). To access a value by position, use `ser.iloc[pos]`\n",
      "  if position >0 and df['Close'][i-1]>df['R2'][i-1]*1.01 and df['Close'][i]<df['R2'][i-1]*1.01 and bar_counts[i]>5 and df.index[i].time() >= time(9, 30):\n"
     ]
    },
    {
     "name": "stdout",
     "output_type": "stream",
     "text": [
      "nan2024-03-18 13:15:00+05:301222.8408"
     ]
    },
    {
     "name": "stderr",
     "output_type": "stream",
     "text": [
      "/tmp/ipykernel_21521/3164365030.py:85: FutureWarning: Series.__getitem__ treating keys as positions is deprecated. In a future version, integer keys will always be treated as labels (consistent with DataFrame behavior). To access a value by position, use `ser.iloc[pos]`\n",
      "  if (position == 1 and row['Close'] < min(df['prevdayl'][i]*0.995 ,df['todayl'][i-1]*1.005) and bar_counts[i]>=2):\n",
      "/tmp/ipykernel_21521/3164365030.py:203: FutureWarning: Series.__getitem__ treating keys as positions is deprecated. In a future version, integer keys will always be treated as labels (consistent with DataFrame behavior). To access a value by position, use `ser.iloc[pos]`\n",
      "  if position >0 and df['Close'][i-1]>df['R2'][i-1]*1.01 and df['Close'][i]<df['R2'][i-1]*1.01 and bar_counts[i]>5 and df.index[i].time() >= time(9, 30):\n"
     ]
    },
    {
     "name": "stdout",
     "output_type": "stream",
     "text": [
      "2201.7113000000015746.85"
     ]
    },
    {
     "name": "stderr",
     "output_type": "stream",
     "text": [
      "/tmp/ipykernel_21521/3164365030.py:85: FutureWarning: Series.__getitem__ treating keys as positions is deprecated. In a future version, integer keys will always be treated as labels (consistent with DataFrame behavior). To access a value by position, use `ser.iloc[pos]`\n",
      "  if (position == 1 and row['Close'] < min(df['prevdayl'][i]*0.995 ,df['todayl'][i-1]*1.005) and bar_counts[i]>=2):\n"
     ]
    },
    {
     "name": "stdout",
     "output_type": "stream",
     "text": [
      " \n",
      "4671.925200000001"
     ]
    },
    {
     "name": "stderr",
     "output_type": "stream",
     "text": [
      "/tmp/ipykernel_21521/3164365030.py:85: FutureWarning: Series.__getitem__ treating keys as positions is deprecated. In a future version, integer keys will always be treated as labels (consistent with DataFrame behavior). To access a value by position, use `ser.iloc[pos]`\n",
      "  if (position == 1 and row['Close'] < min(df['prevdayl'][i]*0.995 ,df['todayl'][i-1]*1.005) and bar_counts[i]>=2):\n"
     ]
    },
    {
     "name": "stdout",
     "output_type": "stream",
     "text": [
      "1090.5601"
     ]
    },
    {
     "name": "stderr",
     "output_type": "stream",
     "text": [
      "/tmp/ipykernel_21521/3164365030.py:166: FutureWarning: Series.__getitem__ treating keys as positions is deprecated. In a future version, integer keys will always be treated as labels (consistent with DataFrame behavior). To access a value by position, use `ser.iloc[pos]`\n",
      "  if position!=0 and df['High'][i]<df['S1'][i-1] and df['Close'][i]<df['Close'][i-1] and day_count>=1 and df.index[i].time()>=time(10 , 45):\n"
     ]
    },
    {
     "name": "stdout",
     "output_type": "stream",
     "text": [
      "\n",
      " "
     ]
    },
    {
     "name": "stderr",
     "output_type": "stream",
     "text": [
      "/tmp/ipykernel_21521/3164365030.py:156: FutureWarning: Series.__getitem__ treating keys as positions is deprecated. In a future version, integer keys will always be treated as labels (consistent with DataFrame behavior). To access a value by position, use `ser.iloc[pos]`\n",
      "  if position!=0 and df['todayo'][i]<df['x_day_low'][i] and df['Close'][i]<df['Low'][i-1] and day_count>=1 and df.index[i].time()>=datetime.time(10 , 45):\n"
     ]
    },
    {
     "name": "stdout",
     "output_type": "stream",
     "text": [
      "\n",
      "\n",
      " "
     ]
    },
    {
     "name": "stderr",
     "output_type": "stream",
     "text": [
      "/tmp/ipykernel_21521/3164365030.py:156: FutureWarning: Series.__getitem__ treating keys as positions is deprecated. In a future version, integer keys will always be treated as labels (consistent with DataFrame behavior). To access a value by position, use `ser.iloc[pos]`\n",
      "  if position!=0 and df['todayo'][i]<df['x_day_low'][i] and df['Close'][i]<df['Low'][i-1] and day_count>=1 and df.index[i].time()>=datetime.time(10 , 45):\n",
      "/tmp/ipykernel_21521/3164365030.py:192: FutureWarning: Series.__getitem__ treating keys as positions is deprecated. In a future version, integer keys will always be treated as labels (consistent with DataFrame behavior). To access a value by position, use `ser.iloc[pos]`\n",
      "  if position == 1 and row['Close'] > entry_price*(1+(1.25*df['5drng'][i])) and df['Close'][i]>df['Close'][i-1] and bar_counts[i]>10:\n"
     ]
    },
    {
     "name": "stdout",
     "output_type": "stream",
     "text": [
      "\n",
      "R1 today"
     ]
    },
    {
     "name": "stderr",
     "output_type": "stream",
     "text": [
      "/tmp/ipykernel_21521/3164365030.py:156: FutureWarning: Series.__getitem__ treating keys as positions is deprecated. In a future version, integer keys will always be treated as labels (consistent with DataFrame behavior). To access a value by position, use `ser.iloc[pos]`\n",
      "  if position!=0 and df['todayo'][i]<df['x_day_low'][i] and df['Close'][i]<df['Low'][i-1] and day_count>=1 and df.index[i].time()>=datetime.time(10 , 45):\n",
      "/tmp/ipykernel_21521/3164365030.py:85: FutureWarning: Series.__getitem__ treating keys as positions is deprecated. In a future version, integer keys will always be treated as labels (consistent with DataFrame behavior). To access a value by position, use `ser.iloc[pos]`\n",
      "  if (position == 1 and row['Close'] < min(df['prevdayl'][i]*0.995 ,df['todayl'][i-1]*1.005) and bar_counts[i]>=2):\n"
     ]
    },
    {
     "name": "stdout",
     "output_type": "stream",
     "text": [
      "\n"
     ]
    },
    {
     "name": "stderr",
     "output_type": "stream",
     "text": [
      "/tmp/ipykernel_21521/3164365030.py:156: FutureWarning: Series.__getitem__ treating keys as positions is deprecated. In a future version, integer keys will always be treated as labels (consistent with DataFrame behavior). To access a value by position, use `ser.iloc[pos]`\n",
      "  if position!=0 and df['todayo'][i]<df['x_day_low'][i] and df['Close'][i]<df['Low'][i-1] and day_count>=1 and df.index[i].time()>=datetime.time(10 , 45):\n"
     ]
    },
    {
     "name": "stdout",
     "output_type": "stream",
     "text": [
      "R1 today"
     ]
    },
    {
     "name": "stderr",
     "output_type": "stream",
     "text": [
      "/tmp/ipykernel_21521/3164365030.py:177: FutureWarning: Series.__getitem__ treating keys as positions is deprecated. In a future version, integer keys will always be treated as labels (consistent with DataFrame behavior). To access a value by position, use `ser.iloc[pos]`\n",
      "  if position!=0 and df['Low'][i]<min(df['Open'][i] , entry_price*0.98) and bar_counts[i]>1:\n",
      "/tmp/ipykernel_21521/3164365030.py:85: FutureWarning: Series.__getitem__ treating keys as positions is deprecated. In a future version, integer keys will always be treated as labels (consistent with DataFrame behavior). To access a value by position, use `ser.iloc[pos]`\n",
      "  if (position == 1 and row['Close'] < min(df['prevdayl'][i]*0.995 ,df['todayl'][i-1]*1.005) and bar_counts[i]>=2):\n"
     ]
    },
    {
     "name": "stdout",
     "output_type": "stream",
     "text": [
      "-- entry Price - :   "
     ]
    },
    {
     "name": "stderr",
     "output_type": "stream",
     "text": [
      "/tmp/ipykernel_21521/3164365030.py:112: FutureWarning: Series.__getitem__ treating keys as positions is deprecated. In a future version, integer keys will always be treated as labels (consistent with DataFrame behavior). To access a value by position, use `ser.iloc[pos]`\n",
      "  if position != 0 and bar_counts[i]>4 and df['indClose'][i]<df[\"indOpen\"][i-1]*0.985 and df['High'][i]<df['todayh'][i-1]*0.985:\n",
      "/tmp/ipykernel_21521/3164365030.py:166: FutureWarning: Series.__getitem__ treating keys as positions is deprecated. In a future version, integer keys will always be treated as labels (consistent with DataFrame behavior). To access a value by position, use `ser.iloc[pos]`\n",
      "  if position!=0 and df['High'][i]<df['S1'][i-1] and df['Close'][i]<df['Close'][i-1] and day_count>=1 and df.index[i].time()>=time(10 , 45):\n",
      "/tmp/ipykernel_21521/3164365030.py:85: FutureWarning: Series.__getitem__ treating keys as positions is deprecated. In a future version, integer keys will always be treated as labels (consistent with DataFrame behavior). To access a value by position, use `ser.iloc[pos]`\n",
      "  if (position == 1 and row['Close'] < min(df['prevdayl'][i]*0.995 ,df['todayl'][i-1]*1.005) and bar_counts[i]>=2):\n",
      "/tmp/ipykernel_21521/3164365030.py:85: FutureWarning: Series.__getitem__ treating keys as positions is deprecated. In a future version, integer keys will always be treated as labels (consistent with DataFrame behavior). To access a value by position, use `ser.iloc[pos]`\n",
      "  if (position == 1 and row['Close'] < min(df['prevdayl'][i]*0.995 ,df['todayl'][i-1]*1.005) and bar_counts[i]>=2):\n",
      "/tmp/ipykernel_21521/3164365030.py:166: FutureWarning: Series.__getitem__ treating keys as positions is deprecated. In a future version, integer keys will always be treated as labels (consistent with DataFrame behavior). To access a value by position, use `ser.iloc[pos]`\n",
      "  if position!=0 and df['High'][i]<df['S1'][i-1] and df['Close'][i]<df['Close'][i-1] and day_count>=1 and df.index[i].time()>=time(10 , 45):\n",
      "/tmp/ipykernel_21521/3164365030.py:85: FutureWarning: Series.__getitem__ treating keys as positions is deprecated. In a future version, integer keys will always be treated as labels (consistent with DataFrame behavior). To access a value by position, use `ser.iloc[pos]`\n",
      "  if (position == 1 and row['Close'] < min(df['prevdayl'][i]*0.995 ,df['todayl'][i-1]*1.005) and bar_counts[i]>=2):\n",
      "/tmp/ipykernel_21521/3164365030.py:203: FutureWarning: Series.__getitem__ treating keys as positions is deprecated. In a future version, integer keys will always be treated as labels (consistent with DataFrame behavior). To access a value by position, use `ser.iloc[pos]`\n",
      "  if position >0 and df['Close'][i-1]>df['R2'][i-1]*1.01 and df['Close'][i]<df['R2'][i-1]*1.01 and bar_counts[i]>5 and df.index[i].time() >= time(9, 30):\n",
      "/tmp/ipykernel_21521/3164365030.py:156: FutureWarning: Series.__getitem__ treating keys as positions is deprecated. In a future version, integer keys will always be treated as labels (consistent with DataFrame behavior). To access a value by position, use `ser.iloc[pos]`\n",
      "  if position!=0 and df['todayo'][i]<df['x_day_low'][i] and df['Close'][i]<df['Low'][i-1] and day_count>=1 and df.index[i].time()>=datetime.time(10 , 45):\n",
      "/tmp/ipykernel_21521/3164365030.py:166: FutureWarning: Series.__getitem__ treating keys as positions is deprecated. In a future version, integer keys will always be treated as labels (consistent with DataFrame behavior). To access a value by position, use `ser.iloc[pos]`\n",
      "  if position!=0 and df['High'][i]<df['S1'][i-1] and df['Close'][i]<df['Close'][i-1] and day_count>=1 and df.index[i].time()>=time(10 , 45):\n"
     ]
    },
    {
     "name": "stdout",
     "output_type": "stream",
     "text": [
      " "
     ]
    },
    {
     "name": "stderr",
     "output_type": "stream",
     "text": [
      "/tmp/ipykernel_21521/3164365030.py:166: FutureWarning: Series.__getitem__ treating keys as positions is deprecated. In a future version, integer keys will always be treated as labels (consistent with DataFrame behavior). To access a value by position, use `ser.iloc[pos]`\n",
      "  if position!=0 and df['High'][i]<df['S1'][i-1] and df['Close'][i]<df['Close'][i-1] and day_count>=1 and df.index[i].time()>=time(10 , 45):\n",
      "/tmp/ipykernel_21521/3164365030.py:112: FutureWarning: Series.__getitem__ treating keys as positions is deprecated. In a future version, integer keys will always be treated as labels (consistent with DataFrame behavior). To access a value by position, use `ser.iloc[pos]`\n",
      "  if position != 0 and bar_counts[i]>4 and df['indClose'][i]<df[\"indOpen\"][i-1]*0.985 and df['High'][i]<df['todayh'][i-1]*0.985:\n",
      "/tmp/ipykernel_21521/3164365030.py:177: FutureWarning: Series.__getitem__ treating keys as positions is deprecated. In a future version, integer keys will always be treated as labels (consistent with DataFrame behavior). To access a value by position, use `ser.iloc[pos]`\n",
      "  if position!=0 and df['Low'][i]<min(df['Open'][i] , entry_price*0.98) and bar_counts[i]>1:\n",
      "/tmp/ipykernel_21521/3164365030.py:192: FutureWarning: Series.__getitem__ treating keys as positions is deprecated. In a future version, integer keys will always be treated as labels (consistent with DataFrame behavior). To access a value by position, use `ser.iloc[pos]`\n",
      "  if position == 1 and row['Close'] > entry_price*(1+(1.25*df['5drng'][i])) and df['Close'][i]>df['Close'][i-1] and bar_counts[i]>10:\n",
      "/tmp/ipykernel_21521/3164365030.py:112: FutureWarning: Series.__getitem__ treating keys as positions is deprecated. In a future version, integer keys will always be treated as labels (consistent with DataFrame behavior). To access a value by position, use `ser.iloc[pos]`\n",
      "  if position != 0 and bar_counts[i]>4 and df['indClose'][i]<df[\"indOpen\"][i-1]*0.985 and df['High'][i]<df['todayh'][i-1]*0.985:\n"
     ]
    },
    {
     "name": "stdout",
     "output_type": "stream",
     "text": [
      " "
     ]
    },
    {
     "name": "stderr",
     "output_type": "stream",
     "text": [
      "/tmp/ipykernel_21521/3164365030.py:156: FutureWarning: Series.__getitem__ treating keys as positions is deprecated. In a future version, integer keys will always be treated as labels (consistent with DataFrame behavior). To access a value by position, use `ser.iloc[pos]`\n",
      "  if position!=0 and df['todayo'][i]<df['x_day_low'][i] and df['Close'][i]<df['Low'][i-1] and day_count>=1 and df.index[i].time()>=datetime.time(10 , 45):\n",
      "/tmp/ipykernel_21521/3164365030.py:156: FutureWarning: Series.__getitem__ treating keys as positions is deprecated. In a future version, integer keys will always be treated as labels (consistent with DataFrame behavior). To access a value by position, use `ser.iloc[pos]`\n",
      "  if position!=0 and df['todayo'][i]<df['x_day_low'][i] and df['Close'][i]<df['Low'][i-1] and day_count>=1 and df.index[i].time()>=datetime.time(10 , 45):\n"
     ]
    },
    {
     "name": "stdout",
     "output_type": "stream",
     "text": [
      "\n",
      " Position taken long at : "
     ]
    },
    {
     "name": "stderr",
     "output_type": "stream",
     "text": [
      "/tmp/ipykernel_21521/3164365030.py:177: FutureWarning: Series.__getitem__ treating keys as positions is deprecated. In a future version, integer keys will always be treated as labels (consistent with DataFrame behavior). To access a value by position, use `ser.iloc[pos]`\n",
      "  if position!=0 and df['Low'][i]<min(df['Open'][i] , entry_price*0.98) and bar_counts[i]>1:\n",
      "/tmp/ipykernel_21521/3164365030.py:156: FutureWarning: Series.__getitem__ treating keys as positions is deprecated. In a future version, integer keys will always be treated as labels (consistent with DataFrame behavior). To access a value by position, use `ser.iloc[pos]`\n",
      "  if position!=0 and df['todayo'][i]<df['x_day_low'][i] and df['Close'][i]<df['Low'][i-1] and day_count>=1 and df.index[i].time()>=datetime.time(10 , 45):\n",
      "/tmp/ipykernel_21521/3164365030.py:156: FutureWarning: Series.__getitem__ treating keys as positions is deprecated. In a future version, integer keys will always be treated as labels (consistent with DataFrame behavior). To access a value by position, use `ser.iloc[pos]`\n",
      "  if position!=0 and df['todayo'][i]<df['x_day_low'][i] and df['Close'][i]<df['Low'][i-1] and day_count>=1 and df.index[i].time()>=datetime.time(10 , 45):\n"
     ]
    },
    {
     "name": "stdout",
     "output_type": "stream",
     "text": [
      "5741.426599999999"
     ]
    },
    {
     "name": "stderr",
     "output_type": "stream",
     "text": [
      "/tmp/ipykernel_21521/3164365030.py:166: FutureWarning: Series.__getitem__ treating keys as positions is deprecated. In a future version, integer keys will always be treated as labels (consistent with DataFrame behavior). To access a value by position, use `ser.iloc[pos]`\n",
      "  if position!=0 and df['High'][i]<df['S1'][i-1] and df['Close'][i]<df['Close'][i-1] and day_count>=1 and df.index[i].time()>=time(10 , 45):\n"
     ]
    },
    {
     "name": "stdout",
     "output_type": "stream",
     "text": [
      "\n"
     ]
    },
    {
     "name": "stderr",
     "output_type": "stream",
     "text": [
      "/tmp/ipykernel_21521/3164365030.py:177: FutureWarning: Series.__getitem__ treating keys as positions is deprecated. In a future version, integer keys will always be treated as labels (consistent with DataFrame behavior). To access a value by position, use `ser.iloc[pos]`\n",
      "  if position!=0 and df['Low'][i]<min(df['Open'][i] , entry_price*0.98) and bar_counts[i]>1:\n"
     ]
    },
    {
     "name": "stdout",
     "output_type": "stream",
     "text": [
      "\n",
      " Position taken long at : "
     ]
    },
    {
     "name": "stderr",
     "output_type": "stream",
     "text": [
      "/tmp/ipykernel_21521/3164365030.py:177: FutureWarning: Series.__getitem__ treating keys as positions is deprecated. In a future version, integer keys will always be treated as labels (consistent with DataFrame behavior). To access a value by position, use `ser.iloc[pos]`\n",
      "  if position!=0 and df['Low'][i]<min(df['Open'][i] , entry_price*0.98) and bar_counts[i]>1:\n",
      "/tmp/ipykernel_21521/3164365030.py:133: FutureWarning: Series.__getitem__ treating keys as positions is deprecated. In a future version, integer keys will always be treated as labels (consistent with DataFrame behavior). To access a value by position, use `ser.iloc[pos]`\n",
      "  if position > 0 and day_count>=1 and bar_counts[i]>3 and df['Close'][i]<df['Low'][i-1]*0.985  :\n",
      "/tmp/ipykernel_21521/3164365030.py:73: FutureWarning: Series.__getitem__ treating keys as positions is deprecated. In a future version, integer keys will always be treated as labels (consistent with DataFrame behavior). To access a value by position, use `ser.iloc[pos]`\n",
      "  print(\"\\n Position taken long at : \" , df.index[i] , \"-- entry Price - :  \" , entry_price , 'R1 today' ,df['R1'][i]*1.002  )\n",
      "/tmp/ipykernel_21521/3164365030.py:85: FutureWarning: Series.__getitem__ treating keys as positions is deprecated. In a future version, integer keys will always be treated as labels (consistent with DataFrame behavior). To access a value by position, use `ser.iloc[pos]`\n",
      "  if (position == 1 and row['Close'] < min(df['prevdayl'][i]*0.995 ,df['todayl'][i-1]*1.005) and bar_counts[i]>=2):\n",
      "/tmp/ipykernel_21521/3164365030.py:124: FutureWarning: Series.__getitem__ treating keys as positions is deprecated. In a future version, integer keys will always be treated as labels (consistent with DataFrame behavior). To access a value by position, use `ser.iloc[pos]`\n",
      "  if position > 0 and day_count>=1 and bar_counts[i]>6 and df['Close'][i]<df['prevdayl'][i]*0.97 and df['Close'][i]<df['Close'][i-1] :\n",
      "/tmp/ipykernel_21521/3164365030.py:124: FutureWarning: Series.__getitem__ treating keys as positions is deprecated. In a future version, integer keys will always be treated as labels (consistent with DataFrame behavior). To access a value by position, use `ser.iloc[pos]`\n",
      "  if position > 0 and day_count>=1 and bar_counts[i]>6 and df['Close'][i]<df['prevdayl'][i]*0.97 and df['Close'][i]<df['Close'][i-1] :\n",
      "/tmp/ipykernel_21521/3164365030.py:73: FutureWarning: Series.__getitem__ treating keys as positions is deprecated. In a future version, integer keys will always be treated as labels (consistent with DataFrame behavior). To access a value by position, use `ser.iloc[pos]`\n",
      "  print(\"\\n Position taken long at : \" , df.index[i] , \"-- entry Price - :  \" , entry_price , 'R1 today' ,df['R1'][i]*1.002  )\n",
      "/tmp/ipykernel_21521/3164365030.py:203: FutureWarning: Series.__getitem__ treating keys as positions is deprecated. In a future version, integer keys will always be treated as labels (consistent with DataFrame behavior). To access a value by position, use `ser.iloc[pos]`\n",
      "  if position >0 and df['Close'][i-1]>df['R2'][i-1]*1.01 and df['Close'][i]<df['R2'][i-1]*1.01 and bar_counts[i]>5 and df.index[i].time() >= time(9, 30):\n",
      "/tmp/ipykernel_21521/3164365030.py:192: FutureWarning: Series.__getitem__ treating keys as positions is deprecated. In a future version, integer keys will always be treated as labels (consistent with DataFrame behavior). To access a value by position, use `ser.iloc[pos]`\n",
      "  if position == 1 and row['Close'] > entry_price*(1+(1.25*df['5drng'][i])) and df['Close'][i]>df['Close'][i-1] and bar_counts[i]>10:\n"
     ]
    },
    {
     "name": "stdout",
     "output_type": "stream",
     "text": [
      "800.55"
     ]
    },
    {
     "name": "stderr",
     "output_type": "stream",
     "text": [
      "/tmp/ipykernel_21521/3164365030.py:166: FutureWarning: Series.__getitem__ treating keys as positions is deprecated. In a future version, integer keys will always be treated as labels (consistent with DataFrame behavior). To access a value by position, use `ser.iloc[pos]`\n",
      "  if position!=0 and df['High'][i]<df['S1'][i-1] and df['Close'][i]<df['Close'][i-1] and day_count>=1 and df.index[i].time()>=time(10 , 45):\n",
      "/tmp/ipykernel_21521/3164365030.py:166: FutureWarning: Series.__getitem__ treating keys as positions is deprecated. In a future version, integer keys will always be treated as labels (consistent with DataFrame behavior). To access a value by position, use `ser.iloc[pos]`\n",
      "  if position!=0 and df['High'][i]<df['S1'][i-1] and df['Close'][i]<df['Close'][i-1] and day_count>=1 and df.index[i].time()>=time(10 , 45):\n",
      "/tmp/ipykernel_21521/3164365030.py:192: FutureWarning: Series.__getitem__ treating keys as positions is deprecated. In a future version, integer keys will always be treated as labels (consistent with DataFrame behavior). To access a value by position, use `ser.iloc[pos]`\n",
      "  if position == 1 and row['Close'] > entry_price*(1+(1.25*df['5drng'][i])) and df['Close'][i]>df['Close'][i-1] and bar_counts[i]>10:\n"
     ]
    },
    {
     "name": "stdout",
     "output_type": "stream",
     "text": [
      "\n"
     ]
    },
    {
     "name": "stderr",
     "output_type": "stream",
     "text": [
      "/tmp/ipykernel_21521/3164365030.py:166: FutureWarning: Series.__getitem__ treating keys as positions is deprecated. In a future version, integer keys will always be treated as labels (consistent with DataFrame behavior). To access a value by position, use `ser.iloc[pos]`\n",
      "  if position!=0 and df['High'][i]<df['S1'][i-1] and df['Close'][i]<df['Close'][i-1] and day_count>=1 and df.index[i].time()>=time(10 , 45):\n",
      "/tmp/ipykernel_21521/3164365030.py:166: FutureWarning: Series.__getitem__ treating keys as positions is deprecated. In a future version, integer keys will always be treated as labels (consistent with DataFrame behavior). To access a value by position, use `ser.iloc[pos]`\n",
      "  if position!=0 and df['High'][i]<df['S1'][i-1] and df['Close'][i]<df['Close'][i-1] and day_count>=1 and df.index[i].time()>=time(10 , 45):\n"
     ]
    },
    {
     "name": "stdout",
     "output_type": "stream",
     "text": [
      " "
     ]
    },
    {
     "name": "stderr",
     "output_type": "stream",
     "text": [
      "/tmp/ipykernel_21521/3164365030.py:177: FutureWarning: Series.__getitem__ treating keys as positions is deprecated. In a future version, integer keys will always be treated as labels (consistent with DataFrame behavior). To access a value by position, use `ser.iloc[pos]`\n",
      "  if position!=0 and df['Low'][i]<min(df['Open'][i] , entry_price*0.98) and bar_counts[i]>1:\n",
      "/tmp/ipykernel_21521/3164365030.py:85: FutureWarning: Series.__getitem__ treating keys as positions is deprecated. In a future version, integer keys will always be treated as labels (consistent with DataFrame behavior). To access a value by position, use `ser.iloc[pos]`\n",
      "  if (position == 1 and row['Close'] < min(df['prevdayl'][i]*0.995 ,df['todayl'][i-1]*1.005) and bar_counts[i]>=2):\n",
      "/tmp/ipykernel_21521/3164365030.py:192: FutureWarning: Series.__getitem__ treating keys as positions is deprecated. In a future version, integer keys will always be treated as labels (consistent with DataFrame behavior). To access a value by position, use `ser.iloc[pos]`\n",
      "  if position == 1 and row['Close'] > entry_price*(1+(1.25*df['5drng'][i])) and df['Close'][i]>df['Close'][i-1] and bar_counts[i]>10:\n"
     ]
    },
    {
     "name": "stdout",
     "output_type": "stream",
     "text": [
      "\n",
      " Position taken long at : "
     ]
    },
    {
     "name": "stderr",
     "output_type": "stream",
     "text": [
      "/tmp/ipykernel_21521/3164365030.py:192: FutureWarning: Series.__getitem__ treating keys as positions is deprecated. In a future version, integer keys will always be treated as labels (consistent with DataFrame behavior). To access a value by position, use `ser.iloc[pos]`\n",
      "  if position == 1 and row['Close'] > entry_price*(1+(1.25*df['5drng'][i])) and df['Close'][i]>df['Close'][i-1] and bar_counts[i]>10:\n",
      "/tmp/ipykernel_21521/3164365030.py:133: FutureWarning: Series.__getitem__ treating keys as positions is deprecated. In a future version, integer keys will always be treated as labels (consistent with DataFrame behavior). To access a value by position, use `ser.iloc[pos]`\n",
      "  if position > 0 and day_count>=1 and bar_counts[i]>3 and df['Close'][i]<df['Low'][i-1]*0.985  :\n",
      "/tmp/ipykernel_21521/3164365030.py:133: FutureWarning: Series.__getitem__ treating keys as positions is deprecated. In a future version, integer keys will always be treated as labels (consistent with DataFrame behavior). To access a value by position, use `ser.iloc[pos]`\n",
      "  if position > 0 and day_count>=1 and bar_counts[i]>3 and df['Close'][i]<df['Low'][i-1]*0.985  :\n",
      "/tmp/ipykernel_21521/3164365030.py:156: FutureWarning: Series.__getitem__ treating keys as positions is deprecated. In a future version, integer keys will always be treated as labels (consistent with DataFrame behavior). To access a value by position, use `ser.iloc[pos]`\n",
      "  if position!=0 and df['todayo'][i]<df['x_day_low'][i] and df['Close'][i]<df['Low'][i-1] and day_count>=1 and df.index[i].time()>=datetime.time(10 , 45):\n"
     ]
    },
    {
     "name": "stdout",
     "output_type": "stream",
     "text": [
      "\n",
      " Position taken long at :  "
     ]
    },
    {
     "name": "stderr",
     "output_type": "stream",
     "text": [
      "/tmp/ipykernel_21521/3164365030.py:203: FutureWarning: Series.__getitem__ treating keys as positions is deprecated. In a future version, integer keys will always be treated as labels (consistent with DataFrame behavior). To access a value by position, use `ser.iloc[pos]`\n",
      "  if position >0 and df['Close'][i-1]>df['R2'][i-1]*1.01 and df['Close'][i]<df['R2'][i-1]*1.01 and bar_counts[i]>5 and df.index[i].time() >= time(9, 30):\n",
      "/tmp/ipykernel_21521/3164365030.py:112: FutureWarning: Series.__getitem__ treating keys as positions is deprecated. In a future version, integer keys will always be treated as labels (consistent with DataFrame behavior). To access a value by position, use `ser.iloc[pos]`\n",
      "  if position != 0 and bar_counts[i]>4 and df['indClose'][i]<df[\"indOpen\"][i-1]*0.985 and df['High'][i]<df['todayh'][i-1]*0.985:\n"
     ]
    },
    {
     "name": "stdout",
     "output_type": "stream",
     "text": [
      " "
     ]
    },
    {
     "name": "stderr",
     "output_type": "stream",
     "text": [
      "/tmp/ipykernel_21521/3164365030.py:177: FutureWarning: Series.__getitem__ treating keys as positions is deprecated. In a future version, integer keys will always be treated as labels (consistent with DataFrame behavior). To access a value by position, use `ser.iloc[pos]`\n",
      "  if position!=0 and df['Low'][i]<min(df['Open'][i] , entry_price*0.98) and bar_counts[i]>1:\n",
      "/tmp/ipykernel_21521/3164365030.py:203: FutureWarning: Series.__getitem__ treating keys as positions is deprecated. In a future version, integer keys will always be treated as labels (consistent with DataFrame behavior). To access a value by position, use `ser.iloc[pos]`\n",
      "  if position >0 and df['Close'][i-1]>df['R2'][i-1]*1.01 and df['Close'][i]<df['R2'][i-1]*1.01 and bar_counts[i]>5 and df.index[i].time() >= time(9, 30):\n",
      "/tmp/ipykernel_21521/3164365030.py:177: FutureWarning: Series.__getitem__ treating keys as positions is deprecated. In a future version, integer keys will always be treated as labels (consistent with DataFrame behavior). To access a value by position, use `ser.iloc[pos]`\n",
      "  if position!=0 and df['Low'][i]<min(df['Open'][i] , entry_price*0.98) and bar_counts[i]>1:\n",
      "/tmp/ipykernel_21521/3164365030.py:85: FutureWarning: Series.__getitem__ treating keys as positions is deprecated. In a future version, integer keys will always be treated as labels (consistent with DataFrame behavior). To access a value by position, use `ser.iloc[pos]`\n",
      "  if (position == 1 and row['Close'] < min(df['prevdayl'][i]*0.995 ,df['todayl'][i-1]*1.005) and bar_counts[i]>=2):\n"
     ]
    },
    {
     "name": "stdout",
     "output_type": "stream",
     "text": [
      "2024-03-18 11:45:00+05:30"
     ]
    },
    {
     "name": "stderr",
     "output_type": "stream",
     "text": [
      "/tmp/ipykernel_21521/3164365030.py:73: FutureWarning: Series.__getitem__ treating keys as positions is deprecated. In a future version, integer keys will always be treated as labels (consistent with DataFrame behavior). To access a value by position, use `ser.iloc[pos]`\n",
      "  print(\"\\n Position taken long at : \" , df.index[i] , \"-- entry Price - :  \" , entry_price , 'R1 today' ,df['R1'][i]*1.002  )\n",
      "/tmp/ipykernel_21521/3164365030.py:177: FutureWarning: Series.__getitem__ treating keys as positions is deprecated. In a future version, integer keys will always be treated as labels (consistent with DataFrame behavior). To access a value by position, use `ser.iloc[pos]`\n",
      "  if position!=0 and df['Low'][i]<min(df['Open'][i] , entry_price*0.98) and bar_counts[i]>1:\n",
      "/tmp/ipykernel_21521/3164365030.py:192: FutureWarning: Series.__getitem__ treating keys as positions is deprecated. In a future version, integer keys will always be treated as labels (consistent with DataFrame behavior). To access a value by position, use `ser.iloc[pos]`\n",
      "  if position == 1 and row['Close'] > entry_price*(1+(1.25*df['5drng'][i])) and df['Close'][i]>df['Close'][i-1] and bar_counts[i]>10:\n"
     ]
    },
    {
     "name": "stdout",
     "output_type": "stream",
     "text": [
      " "
     ]
    },
    {
     "name": "stderr",
     "output_type": "stream",
     "text": [
      "/tmp/ipykernel_21521/3164365030.py:203: FutureWarning: Series.__getitem__ treating keys as positions is deprecated. In a future version, integer keys will always be treated as labels (consistent with DataFrame behavior). To access a value by position, use `ser.iloc[pos]`\n",
      "  if position >0 and df['Close'][i-1]>df['R2'][i-1]*1.01 and df['Close'][i]<df['R2'][i-1]*1.01 and bar_counts[i]>5 and df.index[i].time() >= time(9, 30):\n",
      "/tmp/ipykernel_21521/3164365030.py:156: FutureWarning: Series.__getitem__ treating keys as positions is deprecated. In a future version, integer keys will always be treated as labels (consistent with DataFrame behavior). To access a value by position, use `ser.iloc[pos]`\n",
      "  if position!=0 and df['todayo'][i]<df['x_day_low'][i] and df['Close'][i]<df['Low'][i-1] and day_count>=1 and df.index[i].time()>=datetime.time(10 , 45):\n",
      "/tmp/ipykernel_21521/3164365030.py:177: FutureWarning: Series.__getitem__ treating keys as positions is deprecated. In a future version, integer keys will always be treated as labels (consistent with DataFrame behavior). To access a value by position, use `ser.iloc[pos]`\n",
      "  if position!=0 and df['Low'][i]<min(df['Open'][i] , entry_price*0.98) and bar_counts[i]>1:\n",
      "/tmp/ipykernel_21521/3164365030.py:203: FutureWarning: Series.__getitem__ treating keys as positions is deprecated. In a future version, integer keys will always be treated as labels (consistent with DataFrame behavior). To access a value by position, use `ser.iloc[pos]`\n",
      "  if position >0 and df['Close'][i-1]>df['R2'][i-1]*1.01 and df['Close'][i]<df['R2'][i-1]*1.01 and bar_counts[i]>5 and df.index[i].time() >= time(9, 30):\n"
     ]
    },
    {
     "name": "stdout",
     "output_type": "stream",
     "text": [
      " R1 today"
     ]
    },
    {
     "name": "stderr",
     "output_type": "stream",
     "text": [
      "/tmp/ipykernel_21521/3164365030.py:166: FutureWarning: Series.__getitem__ treating keys as positions is deprecated. In a future version, integer keys will always be treated as labels (consistent with DataFrame behavior). To access a value by position, use `ser.iloc[pos]`\n",
      "  if position!=0 and df['High'][i]<df['S1'][i-1] and df['Close'][i]<df['Close'][i-1] and day_count>=1 and df.index[i].time()>=time(10 , 45):\n"
     ]
    },
    {
     "name": "stdout",
     "output_type": "stream",
     "text": [
      "2024-03-21 11:15:00+05:30"
     ]
    },
    {
     "name": "stderr",
     "output_type": "stream",
     "text": [
      "/tmp/ipykernel_21521/3164365030.py:124: FutureWarning: Series.__getitem__ treating keys as positions is deprecated. In a future version, integer keys will always be treated as labels (consistent with DataFrame behavior). To access a value by position, use `ser.iloc[pos]`\n",
      "  if position > 0 and day_count>=1 and bar_counts[i]>6 and df['Close'][i]<df['prevdayl'][i]*0.97 and df['Close'][i]<df['Close'][i-1] :\n",
      "/tmp/ipykernel_21521/3164365030.py:192: FutureWarning: Series.__getitem__ treating keys as positions is deprecated. In a future version, integer keys will always be treated as labels (consistent with DataFrame behavior). To access a value by position, use `ser.iloc[pos]`\n",
      "  if position == 1 and row['Close'] > entry_price*(1+(1.25*df['5drng'][i])) and df['Close'][i]>df['Close'][i-1] and bar_counts[i]>10:\n"
     ]
    },
    {
     "name": "stdout",
     "output_type": "stream",
     "text": [
      " "
     ]
    },
    {
     "name": "stderr",
     "output_type": "stream",
     "text": [
      "/tmp/ipykernel_21521/3164365030.py:192: FutureWarning: Series.__getitem__ treating keys as positions is deprecated. In a future version, integer keys will always be treated as labels (consistent with DataFrame behavior). To access a value by position, use `ser.iloc[pos]`\n",
      "  if position == 1 and row['Close'] > entry_price*(1+(1.25*df['5drng'][i])) and df['Close'][i]>df['Close'][i-1] and bar_counts[i]>10:\n",
      "/tmp/ipykernel_21521/3164365030.py:112: FutureWarning: Series.__getitem__ treating keys as positions is deprecated. In a future version, integer keys will always be treated as labels (consistent with DataFrame behavior). To access a value by position, use `ser.iloc[pos]`\n",
      "  if position != 0 and bar_counts[i]>4 and df['indClose'][i]<df[\"indOpen\"][i-1]*0.985 and df['High'][i]<df['todayh'][i-1]*0.985:\n",
      "/tmp/ipykernel_21521/3164365030.py:156: FutureWarning: Series.__getitem__ treating keys as positions is deprecated. In a future version, integer keys will always be treated as labels (consistent with DataFrame behavior). To access a value by position, use `ser.iloc[pos]`\n",
      "  if position!=0 and df['todayo'][i]<df['x_day_low'][i] and df['Close'][i]<df['Low'][i-1] and day_count>=1 and df.index[i].time()>=datetime.time(10 , 45):\n"
     ]
    },
    {
     "name": "stdout",
     "output_type": "stream",
     "text": [
      "\n",
      " Position taken long at : "
     ]
    },
    {
     "name": "stderr",
     "output_type": "stream",
     "text": [
      "/tmp/ipykernel_21521/3164365030.py:203: FutureWarning: Series.__getitem__ treating keys as positions is deprecated. In a future version, integer keys will always be treated as labels (consistent with DataFrame behavior). To access a value by position, use `ser.iloc[pos]`\n",
      "  if position >0 and df['Close'][i-1]>df['R2'][i-1]*1.01 and df['Close'][i]<df['R2'][i-1]*1.01 and bar_counts[i]>5 and df.index[i].time() >= time(9, 30):\n"
     ]
    },
    {
     "name": "stdout",
     "output_type": "stream",
     "text": [
      "2024-03-20 15:15:00+05:30"
     ]
    },
    {
     "name": "stderr",
     "output_type": "stream",
     "text": [
      "/tmp/ipykernel_21521/3164365030.py:192: FutureWarning: Series.__getitem__ treating keys as positions is deprecated. In a future version, integer keys will always be treated as labels (consistent with DataFrame behavior). To access a value by position, use `ser.iloc[pos]`\n",
      "  if position == 1 and row['Close'] > entry_price*(1+(1.25*df['5drng'][i])) and df['Close'][i]>df['Close'][i-1] and bar_counts[i]>10:\n",
      "/tmp/ipykernel_21521/3164365030.py:166: FutureWarning: Series.__getitem__ treating keys as positions is deprecated. In a future version, integer keys will always be treated as labels (consistent with DataFrame behavior). To access a value by position, use `ser.iloc[pos]`\n",
      "  if position!=0 and df['High'][i]<df['S1'][i-1] and df['Close'][i]<df['Close'][i-1] and day_count>=1 and df.index[i].time()>=time(10 , 45):\n",
      "/tmp/ipykernel_21521/3164365030.py:73: FutureWarning: Series.__getitem__ treating keys as positions is deprecated. In a future version, integer keys will always be treated as labels (consistent with DataFrame behavior). To access a value by position, use `ser.iloc[pos]`\n",
      "  print(\"\\n Position taken long at : \" , df.index[i] , \"-- entry Price - :  \" , entry_price , 'R1 today' ,df['R1'][i]*1.002  )\n"
     ]
    },
    {
     "name": "stdout",
     "output_type": "stream",
     "text": [
      "2024-03-21 15:15:00+05:30 "
     ]
    },
    {
     "name": "stderr",
     "output_type": "stream",
     "text": [
      "/tmp/ipykernel_21521/3164365030.py:192: FutureWarning: Series.__getitem__ treating keys as positions is deprecated. In a future version, integer keys will always be treated as labels (consistent with DataFrame behavior). To access a value by position, use `ser.iloc[pos]`\n",
      "  if position == 1 and row['Close'] > entry_price*(1+(1.25*df['5drng'][i])) and df['Close'][i]>df['Close'][i-1] and bar_counts[i]>10:\n"
     ]
    },
    {
     "name": "stdout",
     "output_type": "stream",
     "text": [
      " "
     ]
    },
    {
     "name": "stderr",
     "output_type": "stream",
     "text": [
      "/tmp/ipykernel_21521/3164365030.py:124: FutureWarning: Series.__getitem__ treating keys as positions is deprecated. In a future version, integer keys will always be treated as labels (consistent with DataFrame behavior). To access a value by position, use `ser.iloc[pos]`\n",
      "  if position > 0 and day_count>=1 and bar_counts[i]>6 and df['Close'][i]<df['prevdayl'][i]*0.97 and df['Close'][i]<df['Close'][i-1] :\n",
      "/tmp/ipykernel_21521/3164365030.py:177: FutureWarning: Series.__getitem__ treating keys as positions is deprecated. In a future version, integer keys will always be treated as labels (consistent with DataFrame behavior). To access a value by position, use `ser.iloc[pos]`\n",
      "  if position!=0 and df['Low'][i]<min(df['Open'][i] , entry_price*0.98) and bar_counts[i]>1:\n",
      "/tmp/ipykernel_21521/3164365030.py:133: FutureWarning: Series.__getitem__ treating keys as positions is deprecated. In a future version, integer keys will always be treated as labels (consistent with DataFrame behavior). To access a value by position, use `ser.iloc[pos]`\n",
      "  if position > 0 and day_count>=1 and bar_counts[i]>3 and df['Close'][i]<df['Low'][i-1]*0.985  :\n",
      "/tmp/ipykernel_21521/3164365030.py:203: FutureWarning: Series.__getitem__ treating keys as positions is deprecated. In a future version, integer keys will always be treated as labels (consistent with DataFrame behavior). To access a value by position, use `ser.iloc[pos]`\n",
      "  if position >0 and df['Close'][i-1]>df['R2'][i-1]*1.01 and df['Close'][i]<df['R2'][i-1]*1.01 and bar_counts[i]>5 and df.index[i].time() >= time(9, 30):\n"
     ]
    },
    {
     "name": "stdout",
     "output_type": "stream",
     "text": [
      "-- entry Price - :  "
     ]
    },
    {
     "name": "stderr",
     "output_type": "stream",
     "text": [
      "/tmp/ipykernel_21521/3164365030.py:203: FutureWarning: Series.__getitem__ treating keys as positions is deprecated. In a future version, integer keys will always be treated as labels (consistent with DataFrame behavior). To access a value by position, use `ser.iloc[pos]`\n",
      "  if position >0 and df['Close'][i-1]>df['R2'][i-1]*1.01 and df['Close'][i]<df['R2'][i-1]*1.01 and bar_counts[i]>5 and df.index[i].time() >= time(9, 30):\n",
      "/tmp/ipykernel_21521/3164365030.py:112: FutureWarning: Series.__getitem__ treating keys as positions is deprecated. In a future version, integer keys will always be treated as labels (consistent with DataFrame behavior). To access a value by position, use `ser.iloc[pos]`\n",
      "  if position != 0 and bar_counts[i]>4 and df['indClose'][i]<df[\"indOpen\"][i-1]*0.985 and df['High'][i]<df['todayh'][i-1]*0.985:\n",
      "/tmp/ipykernel_21521/3164365030.py:133: FutureWarning: Series.__getitem__ treating keys as positions is deprecated. In a future version, integer keys will always be treated as labels (consistent with DataFrame behavior). To access a value by position, use `ser.iloc[pos]`\n",
      "  if position > 0 and day_count>=1 and bar_counts[i]>3 and df['Close'][i]<df['Low'][i-1]*0.985  :\n"
     ]
    },
    {
     "name": "stdout",
     "output_type": "stream",
     "text": [
      " "
     ]
    },
    {
     "name": "stderr",
     "output_type": "stream",
     "text": [
      "/tmp/ipykernel_21521/3164365030.py:166: FutureWarning: Series.__getitem__ treating keys as positions is deprecated. In a future version, integer keys will always be treated as labels (consistent with DataFrame behavior). To access a value by position, use `ser.iloc[pos]`\n",
      "  if position!=0 and df['High'][i]<df['S1'][i-1] and df['Close'][i]<df['Close'][i-1] and day_count>=1 and df.index[i].time()>=time(10 , 45):\n"
     ]
    },
    {
     "name": "stdout",
     "output_type": "stream",
     "text": [
      " "
     ]
    },
    {
     "name": "stderr",
     "output_type": "stream",
     "text": [
      "/tmp/ipykernel_21521/3164365030.py:203: FutureWarning: Series.__getitem__ treating keys as positions is deprecated. In a future version, integer keys will always be treated as labels (consistent with DataFrame behavior). To access a value by position, use `ser.iloc[pos]`\n",
      "  if position >0 and df['Close'][i-1]>df['R2'][i-1]*1.01 and df['Close'][i]<df['R2'][i-1]*1.01 and bar_counts[i]>5 and df.index[i].time() >= time(9, 30):\n"
     ]
    },
    {
     "name": "stdout",
     "output_type": "stream",
     "text": [
      "\n",
      " Position taken long at :  "
     ]
    },
    {
     "name": "stderr",
     "output_type": "stream",
     "text": [
      "/tmp/ipykernel_21521/3164365030.py:177: FutureWarning: Series.__getitem__ treating keys as positions is deprecated. In a future version, integer keys will always be treated as labels (consistent with DataFrame behavior). To access a value by position, use `ser.iloc[pos]`\n",
      "  if position!=0 and df['Low'][i]<min(df['Open'][i] , entry_price*0.98) and bar_counts[i]>1:\n"
     ]
    },
    {
     "name": "stdout",
     "output_type": "stream",
     "text": [
      "791.5633000000003"
     ]
    },
    {
     "name": "stderr",
     "output_type": "stream",
     "text": [
      "/tmp/ipykernel_21521/3164365030.py:203: FutureWarning: Series.__getitem__ treating keys as positions is deprecated. In a future version, integer keys will always be treated as labels (consistent with DataFrame behavior). To access a value by position, use `ser.iloc[pos]`\n",
      "  if position >0 and df['Close'][i-1]>df['R2'][i-1]*1.01 and df['Close'][i]<df['R2'][i-1]*1.01 and bar_counts[i]>5 and df.index[i].time() >= time(9, 30):\n"
     ]
    },
    {
     "name": "stdout",
     "output_type": "stream",
     "text": [
      "-- entry Price - :  "
     ]
    },
    {
     "name": "stderr",
     "output_type": "stream",
     "text": [
      "/tmp/ipykernel_21521/3164365030.py:133: FutureWarning: Series.__getitem__ treating keys as positions is deprecated. In a future version, integer keys will always be treated as labels (consistent with DataFrame behavior). To access a value by position, use `ser.iloc[pos]`\n",
      "  if position > 0 and day_count>=1 and bar_counts[i]>3 and df['Close'][i]<df['Low'][i-1]*0.985  :\n",
      "/tmp/ipykernel_21521/3164365030.py:192: FutureWarning: Series.__getitem__ treating keys as positions is deprecated. In a future version, integer keys will always be treated as labels (consistent with DataFrame behavior). To access a value by position, use `ser.iloc[pos]`\n",
      "  if position == 1 and row['Close'] > entry_price*(1+(1.25*df['5drng'][i])) and df['Close'][i]>df['Close'][i-1] and bar_counts[i]>10:\n"
     ]
    },
    {
     "name": "stdout",
     "output_type": "stream",
     "text": [
      " "
     ]
    },
    {
     "name": "stderr",
     "output_type": "stream",
     "text": [
      "/tmp/ipykernel_21521/3164365030.py:112: FutureWarning: Series.__getitem__ treating keys as positions is deprecated. In a future version, integer keys will always be treated as labels (consistent with DataFrame behavior). To access a value by position, use `ser.iloc[pos]`\n",
      "  if position != 0 and bar_counts[i]>4 and df['indClose'][i]<df[\"indOpen\"][i-1]*0.985 and df['High'][i]<df['todayh'][i-1]*0.985:\n"
     ]
    },
    {
     "name": "stdout",
     "output_type": "stream",
     "text": [
      "2024-03-21 15:15:00+05:30-- entry Price - :  "
     ]
    },
    {
     "name": "stderr",
     "output_type": "stream",
     "text": [
      "/tmp/ipykernel_21521/3164365030.py:177: FutureWarning: Series.__getitem__ treating keys as positions is deprecated. In a future version, integer keys will always be treated as labels (consistent with DataFrame behavior). To access a value by position, use `ser.iloc[pos]`\n",
      "  if position!=0 and df['Low'][i]<min(df['Open'][i] , entry_price*0.98) and bar_counts[i]>1:\n"
     ]
    },
    {
     "name": "stdout",
     "output_type": "stream",
     "text": [
      " \n"
     ]
    },
    {
     "name": "stderr",
     "output_type": "stream",
     "text": [
      "/tmp/ipykernel_21521/3164365030.py:112: FutureWarning: Series.__getitem__ treating keys as positions is deprecated. In a future version, integer keys will always be treated as labels (consistent with DataFrame behavior). To access a value by position, use `ser.iloc[pos]`\n",
      "  if position != 0 and bar_counts[i]>4 and df['indClose'][i]<df[\"indOpen\"][i-1]*0.985 and df['High'][i]<df['todayh'][i-1]*0.985:\n",
      "/tmp/ipykernel_21521/3164365030.py:192: FutureWarning: Series.__getitem__ treating keys as positions is deprecated. In a future version, integer keys will always be treated as labels (consistent with DataFrame behavior). To access a value by position, use `ser.iloc[pos]`\n",
      "  if position == 1 and row['Close'] > entry_price*(1+(1.25*df['5drng'][i])) and df['Close'][i]>df['Close'][i-1] and bar_counts[i]>10:\n"
     ]
    },
    {
     "name": "stdout",
     "output_type": "stream",
     "text": [
      " "
     ]
    },
    {
     "name": "stderr",
     "output_type": "stream",
     "text": [
      "/tmp/ipykernel_21521/3164365030.py:112: FutureWarning: Series.__getitem__ treating keys as positions is deprecated. In a future version, integer keys will always be treated as labels (consistent with DataFrame behavior). To access a value by position, use `ser.iloc[pos]`\n",
      "  if position != 0 and bar_counts[i]>4 and df['indClose'][i]<df[\"indOpen\"][i-1]*0.985 and df['High'][i]<df['todayh'][i-1]*0.985:\n",
      "/tmp/ipykernel_21521/3164365030.py:133: FutureWarning: Series.__getitem__ treating keys as positions is deprecated. In a future version, integer keys will always be treated as labels (consistent with DataFrame behavior). To access a value by position, use `ser.iloc[pos]`\n",
      "  if position > 0 and day_count>=1 and bar_counts[i]>3 and df['Close'][i]<df['Low'][i-1]*0.985  :\n",
      "/tmp/ipykernel_21521/3164365030.py:124: FutureWarning: Series.__getitem__ treating keys as positions is deprecated. In a future version, integer keys will always be treated as labels (consistent with DataFrame behavior). To access a value by position, use `ser.iloc[pos]`\n",
      "  if position > 0 and day_count>=1 and bar_counts[i]>6 and df['Close'][i]<df['prevdayl'][i]*0.97 and df['Close'][i]<df['Close'][i-1] :\n"
     ]
    },
    {
     "name": "stdout",
     "output_type": "stream",
     "text": [
      "6338.45"
     ]
    },
    {
     "name": "stderr",
     "output_type": "stream",
     "text": [
      "/tmp/ipykernel_21521/3164365030.py:203: FutureWarning: Series.__getitem__ treating keys as positions is deprecated. In a future version, integer keys will always be treated as labels (consistent with DataFrame behavior). To access a value by position, use `ser.iloc[pos]`\n",
      "  if position >0 and df['Close'][i-1]>df['R2'][i-1]*1.01 and df['Close'][i]<df['R2'][i-1]*1.01 and bar_counts[i]>5 and df.index[i].time() >= time(9, 30):\n",
      "/tmp/ipykernel_21521/3164365030.py:112: FutureWarning: Series.__getitem__ treating keys as positions is deprecated. In a future version, integer keys will always be treated as labels (consistent with DataFrame behavior). To access a value by position, use `ser.iloc[pos]`\n",
      "  if position != 0 and bar_counts[i]>4 and df['indClose'][i]<df[\"indOpen\"][i-1]*0.985 and df['High'][i]<df['todayh'][i-1]*0.985:\n"
     ]
    },
    {
     "name": "stdout",
     "output_type": "stream",
     "text": [
      " "
     ]
    },
    {
     "name": "stderr",
     "output_type": "stream",
     "text": [
      "/tmp/ipykernel_21521/3164365030.py:124: FutureWarning: Series.__getitem__ treating keys as positions is deprecated. In a future version, integer keys will always be treated as labels (consistent with DataFrame behavior). To access a value by position, use `ser.iloc[pos]`\n",
      "  if position > 0 and day_count>=1 and bar_counts[i]>6 and df['Close'][i]<df['prevdayl'][i]*0.97 and df['Close'][i]<df['Close'][i-1] :\n"
     ]
    },
    {
     "name": "stdout",
     "output_type": "stream",
     "text": [
      " "
     ]
    },
    {
     "name": "stderr",
     "output_type": "stream",
     "text": [
      "/tmp/ipykernel_21521/3164365030.py:192: FutureWarning: Series.__getitem__ treating keys as positions is deprecated. In a future version, integer keys will always be treated as labels (consistent with DataFrame behavior). To access a value by position, use `ser.iloc[pos]`\n",
      "  if position == 1 and row['Close'] > entry_price*(1+(1.25*df['5drng'][i])) and df['Close'][i]>df['Close'][i-1] and bar_counts[i]>10:\n",
      "/tmp/ipykernel_21521/3164365030.py:85: FutureWarning: Series.__getitem__ treating keys as positions is deprecated. In a future version, integer keys will always be treated as labels (consistent with DataFrame behavior). To access a value by position, use `ser.iloc[pos]`\n",
      "  if (position == 1 and row['Close'] < min(df['prevdayl'][i]*0.995 ,df['todayl'][i-1]*1.005) and bar_counts[i]>=2):\n",
      "/tmp/ipykernel_21521/3164365030.py:203: FutureWarning: Series.__getitem__ treating keys as positions is deprecated. In a future version, integer keys will always be treated as labels (consistent with DataFrame behavior). To access a value by position, use `ser.iloc[pos]`\n",
      "  if position >0 and df['Close'][i-1]>df['R2'][i-1]*1.01 and df['Close'][i]<df['R2'][i-1]*1.01 and bar_counts[i]>5 and df.index[i].time() >= time(9, 30):\n",
      "/tmp/ipykernel_21521/3164365030.py:112: FutureWarning: Series.__getitem__ treating keys as positions is deprecated. In a future version, integer keys will always be treated as labels (consistent with DataFrame behavior). To access a value by position, use `ser.iloc[pos]`\n",
      "  if position != 0 and bar_counts[i]>4 and df['indClose'][i]<df[\"indOpen\"][i-1]*0.985 and df['High'][i]<df['todayh'][i-1]*0.985:\n"
     ]
    },
    {
     "name": "stdout",
     "output_type": "stream",
     "text": [
      " -- entry Price - :  -- entry Price - :  "
     ]
    },
    {
     "name": "stderr",
     "output_type": "stream",
     "text": [
      "/tmp/ipykernel_21521/3164365030.py:112: FutureWarning: Series.__getitem__ treating keys as positions is deprecated. In a future version, integer keys will always be treated as labels (consistent with DataFrame behavior). To access a value by position, use `ser.iloc[pos]`\n",
      "  if position != 0 and bar_counts[i]>4 and df['indClose'][i]<df[\"indOpen\"][i-1]*0.985 and df['High'][i]<df['todayh'][i-1]*0.985:\n"
     ]
    },
    {
     "name": "stdout",
     "output_type": "stream",
     "text": [
      "2024-03-21 11:15:00+05:30"
     ]
    },
    {
     "name": "stderr",
     "output_type": "stream",
     "text": [
      "/tmp/ipykernel_21521/3164365030.py:133: FutureWarning: Series.__getitem__ treating keys as positions is deprecated. In a future version, integer keys will always be treated as labels (consistent with DataFrame behavior). To access a value by position, use `ser.iloc[pos]`\n",
      "  if position > 0 and day_count>=1 and bar_counts[i]>3 and df['Close'][i]<df['Low'][i-1]*0.985  :\n"
     ]
    },
    {
     "name": "stdout",
     "output_type": "stream",
     "text": [
      "248.3"
     ]
    },
    {
     "name": "stderr",
     "output_type": "stream",
     "text": [
      "/tmp/ipykernel_21521/3164365030.py:203: FutureWarning: Series.__getitem__ treating keys as positions is deprecated. In a future version, integer keys will always be treated as labels (consistent with DataFrame behavior). To access a value by position, use `ser.iloc[pos]`\n",
      "  if position >0 and df['Close'][i-1]>df['R2'][i-1]*1.01 and df['Close'][i]<df['R2'][i-1]*1.01 and bar_counts[i]>5 and df.index[i].time() >= time(9, 30):\n",
      "/tmp/ipykernel_21521/3164365030.py:112: FutureWarning: Series.__getitem__ treating keys as positions is deprecated. In a future version, integer keys will always be treated as labels (consistent with DataFrame behavior). To access a value by position, use `ser.iloc[pos]`\n",
      "  if position != 0 and bar_counts[i]>4 and df['indClose'][i]<df[\"indOpen\"][i-1]*0.985 and df['High'][i]<df['todayh'][i-1]*0.985:\n"
     ]
    },
    {
     "name": "stdout",
     "output_type": "stream",
     "text": [
      "R1 today"
     ]
    },
    {
     "name": "stderr",
     "output_type": "stream",
     "text": [
      "/tmp/ipykernel_21521/3164365030.py:156: FutureWarning: Series.__getitem__ treating keys as positions is deprecated. In a future version, integer keys will always be treated as labels (consistent with DataFrame behavior). To access a value by position, use `ser.iloc[pos]`\n",
      "  if position!=0 and df['todayo'][i]<df['x_day_low'][i] and df['Close'][i]<df['Low'][i-1] and day_count>=1 and df.index[i].time()>=datetime.time(10 , 45):\n"
     ]
    },
    {
     "name": "stdout",
     "output_type": "stream",
     "text": [
      "  "
     ]
    },
    {
     "name": "stderr",
     "output_type": "stream",
     "text": [
      "/tmp/ipykernel_21521/3164365030.py:133: FutureWarning: Series.__getitem__ treating keys as positions is deprecated. In a future version, integer keys will always be treated as labels (consistent with DataFrame behavior). To access a value by position, use `ser.iloc[pos]`\n",
      "  if position > 0 and day_count>=1 and bar_counts[i]>3 and df['Close'][i]<df['Low'][i-1]*0.985  :\n",
      "/tmp/ipykernel_21521/3164365030.py:124: FutureWarning: Series.__getitem__ treating keys as positions is deprecated. In a future version, integer keys will always be treated as labels (consistent with DataFrame behavior). To access a value by position, use `ser.iloc[pos]`\n",
      "  if position > 0 and day_count>=1 and bar_counts[i]>6 and df['Close'][i]<df['prevdayl'][i]*0.97 and df['Close'][i]<df['Close'][i-1] :\n"
     ]
    },
    {
     "name": "stdout",
     "output_type": "stream",
     "text": [
      " 412.85579.5"
     ]
    },
    {
     "name": "stderr",
     "output_type": "stream",
     "text": [
      "/tmp/ipykernel_21521/3164365030.py:166: FutureWarning: Series.__getitem__ treating keys as positions is deprecated. In a future version, integer keys will always be treated as labels (consistent with DataFrame behavior). To access a value by position, use `ser.iloc[pos]`\n",
      "  if position!=0 and df['High'][i]<df['S1'][i-1] and df['Close'][i]<df['Close'][i-1] and day_count>=1 and df.index[i].time()>=time(10 , 45):\n",
      "/tmp/ipykernel_21521/3164365030.py:112: FutureWarning: Series.__getitem__ treating keys as positions is deprecated. In a future version, integer keys will always be treated as labels (consistent with DataFrame behavior). To access a value by position, use `ser.iloc[pos]`\n",
      "  if position != 0 and bar_counts[i]>4 and df['indClose'][i]<df[\"indOpen\"][i-1]*0.985 and df['High'][i]<df['todayh'][i-1]*0.985:\n",
      "/tmp/ipykernel_21521/3164365030.py:182: FutureWarning: Series.__getitem__ treating keys as positions is deprecated. In a future version, integer keys will always be treated as labels (consistent with DataFrame behavior). To access a value by position, use `ser.iloc[pos]`\n",
      "  exit_price = min(df['Open'][i] , entry_price*0.98)\n"
     ]
    },
    {
     "name": "stdout",
     "output_type": "stream",
     "text": [
      "  "
     ]
    },
    {
     "name": "stderr",
     "output_type": "stream",
     "text": [
      "/tmp/ipykernel_21521/3164365030.py:112: FutureWarning: Series.__getitem__ treating keys as positions is deprecated. In a future version, integer keys will always be treated as labels (consistent with DataFrame behavior). To access a value by position, use `ser.iloc[pos]`\n",
      "  if position != 0 and bar_counts[i]>4 and df['indClose'][i]<df[\"indOpen\"][i-1]*0.985 and df['High'][i]<df['todayh'][i-1]*0.985:\n",
      "/tmp/ipykernel_21521/3164365030.py:124: FutureWarning: Series.__getitem__ treating keys as positions is deprecated. In a future version, integer keys will always be treated as labels (consistent with DataFrame behavior). To access a value by position, use `ser.iloc[pos]`\n",
      "  if position > 0 and day_count>=1 and bar_counts[i]>6 and df['Close'][i]<df['prevdayl'][i]*0.97 and df['Close'][i]<df['Close'][i-1] :\n"
     ]
    },
    {
     "name": "stdout",
     "output_type": "stream",
     "text": [
      "R1 todayR1 today1050.0"
     ]
    },
    {
     "name": "stderr",
     "output_type": "stream",
     "text": [
      "/tmp/ipykernel_21521/3164365030.py:124: FutureWarning: Series.__getitem__ treating keys as positions is deprecated. In a future version, integer keys will always be treated as labels (consistent with DataFrame behavior). To access a value by position, use `ser.iloc[pos]`\n",
      "  if position > 0 and day_count>=1 and bar_counts[i]>6 and df['Close'][i]<df['prevdayl'][i]*0.97 and df['Close'][i]<df['Close'][i-1] :\n"
     ]
    },
    {
     "name": "stdout",
     "output_type": "stream",
     "text": [
      " "
     ]
    },
    {
     "name": "stderr",
     "output_type": "stream",
     "text": [
      "/tmp/ipykernel_21521/3164365030.py:112: FutureWarning: Series.__getitem__ treating keys as positions is deprecated. In a future version, integer keys will always be treated as labels (consistent with DataFrame behavior). To access a value by position, use `ser.iloc[pos]`\n",
      "  if position != 0 and bar_counts[i]>4 and df['indClose'][i]<df[\"indOpen\"][i-1]*0.985 and df['High'][i]<df['todayh'][i-1]*0.985:\n"
     ]
    },
    {
     "name": "stdout",
     "output_type": "stream",
     "text": [
      " "
     ]
    },
    {
     "name": "stderr",
     "output_type": "stream",
     "text": [
      "/tmp/ipykernel_21521/3164365030.py:186: FutureWarning: Series.__getitem__ treating keys as positions is deprecated. In a future version, integer keys will always be treated as labels (consistent with DataFrame behavior). To access a value by position, use `ser.iloc[pos]`\n",
      "  print(\"\\ Fixed stoploss:  S1 is : \" , min(df['Open'][i] , entry_price*0.98) ,   \" -- exit  at\" , exit_price ,  \"time is \" , df.index[i].time() , \"Low of bar is :\" , df['Low'][i] )\n",
      "/tmp/ipykernel_21521/3164365030.py:133: FutureWarning: Series.__getitem__ treating keys as positions is deprecated. In a future version, integer keys will always be treated as labels (consistent with DataFrame behavior). To access a value by position, use `ser.iloc[pos]`\n",
      "  if position > 0 and day_count>=1 and bar_counts[i]>3 and df['Close'][i]<df['Low'][i-1]*0.985  :\n",
      "/tmp/ipykernel_21521/3164365030.py:124: FutureWarning: Series.__getitem__ treating keys as positions is deprecated. In a future version, integer keys will always be treated as labels (consistent with DataFrame behavior). To access a value by position, use `ser.iloc[pos]`\n",
      "  if position > 0 and day_count>=1 and bar_counts[i]>6 and df['Close'][i]<df['prevdayl'][i]*0.97 and df['Close'][i]<df['Close'][i-1] :\n"
     ]
    },
    {
     "name": "stdout",
     "output_type": "stream",
     "text": [
      "  "
     ]
    },
    {
     "name": "stderr",
     "output_type": "stream",
     "text": [
      "/tmp/ipykernel_21521/3164365030.py:143: FutureWarning: Series.__getitem__ treating keys as positions is deprecated. In a future version, integer keys will always be treated as labels (consistent with DataFrame behavior). To access a value by position, use `ser.iloc[pos]`\n",
      "  if position != 0 and intra_Exit==0 and day_count>=n_day_Exit and bar_counts[i]>1 and df['Close'][i]<df['Close'][i-1]  :\n"
     ]
    },
    {
     "name": "stdout",
     "output_type": "stream",
     "text": [
      "407.16270000000003"
     ]
    },
    {
     "name": "stderr",
     "output_type": "stream",
     "text": [
      "/tmp/ipykernel_21521/3164365030.py:133: FutureWarning: Series.__getitem__ treating keys as positions is deprecated. In a future version, integer keys will always be treated as labels (consistent with DataFrame behavior). To access a value by position, use `ser.iloc[pos]`\n",
      "  if position > 0 and day_count>=1 and bar_counts[i]>3 and df['Close'][i]<df['Low'][i-1]*0.985  :\n",
      "/tmp/ipykernel_21521/3164365030.py:143: FutureWarning: Series.__getitem__ treating keys as positions is deprecated. In a future version, integer keys will always be treated as labels (consistent with DataFrame behavior). To access a value by position, use `ser.iloc[pos]`\n",
      "  if position != 0 and intra_Exit==0 and day_count>=n_day_Exit and bar_counts[i]>1 and df['Close'][i]<df['Close'][i-1]  :\n",
      "/tmp/ipykernel_21521/3164365030.py:133: FutureWarning: Series.__getitem__ treating keys as positions is deprecated. In a future version, integer keys will always be treated as labels (consistent with DataFrame behavior). To access a value by position, use `ser.iloc[pos]`\n",
      "  if position > 0 and day_count>=1 and bar_counts[i]>3 and df['Close'][i]<df['Low'][i-1]*0.985  :\n"
     ]
    },
    {
     "name": "stdout",
     "output_type": "stream",
     "text": [
      "569.4032"
     ]
    },
    {
     "name": "stderr",
     "output_type": "stream",
     "text": [
      "/tmp/ipykernel_21521/3164365030.py:177: FutureWarning: Series.__getitem__ treating keys as positions is deprecated. In a future version, integer keys will always be treated as labels (consistent with DataFrame behavior). To access a value by position, use `ser.iloc[pos]`\n",
      "  if position!=0 and df['Low'][i]<min(df['Open'][i] , entry_price*0.98) and bar_counts[i]>1:\n"
     ]
    },
    {
     "name": "stdout",
     "output_type": "stream",
     "text": [
      "\\ Fixed stoploss:  S1 is : "
     ]
    },
    {
     "name": "stderr",
     "output_type": "stream",
     "text": [
      "/tmp/ipykernel_21521/3164365030.py:143: FutureWarning: Series.__getitem__ treating keys as positions is deprecated. In a future version, integer keys will always be treated as labels (consistent with DataFrame behavior). To access a value by position, use `ser.iloc[pos]`\n",
      "  if position != 0 and intra_Exit==0 and day_count>=n_day_Exit and bar_counts[i]>1 and df['Close'][i]<df['Close'][i-1]  :\n"
     ]
    },
    {
     "name": "stdout",
     "output_type": "stream",
     "text": [
      "-- entry Price - :  "
     ]
    },
    {
     "name": "stderr",
     "output_type": "stream",
     "text": [
      "/tmp/ipykernel_21521/3164365030.py:133: FutureWarning: Series.__getitem__ treating keys as positions is deprecated. In a future version, integer keys will always be treated as labels (consistent with DataFrame behavior). To access a value by position, use `ser.iloc[pos]`\n",
      "  if position > 0 and day_count>=1 and bar_counts[i]>3 and df['Close'][i]<df['Low'][i-1]*0.985  :\n"
     ]
    },
    {
     "name": "stdout",
     "output_type": "stream",
     "text": [
      "R1 today"
     ]
    },
    {
     "name": "stderr",
     "output_type": "stream",
     "text": [
      "/tmp/ipykernel_21521/3164365030.py:124: FutureWarning: Series.__getitem__ treating keys as positions is deprecated. In a future version, integer keys will always be treated as labels (consistent with DataFrame behavior). To access a value by position, use `ser.iloc[pos]`\n",
      "  if position > 0 and day_count>=1 and bar_counts[i]>6 and df['Close'][i]<df['prevdayl'][i]*0.97 and df['Close'][i]<df['Close'][i-1] :\n"
     ]
    },
    {
     "name": "stdout",
     "output_type": "stream",
     "text": [
      "\n"
     ]
    },
    {
     "name": "stderr",
     "output_type": "stream",
     "text": [
      "/tmp/ipykernel_21521/3164365030.py:133: FutureWarning: Series.__getitem__ treating keys as positions is deprecated. In a future version, integer keys will always be treated as labels (consistent with DataFrame behavior). To access a value by position, use `ser.iloc[pos]`\n",
      "  if position > 0 and day_count>=1 and bar_counts[i]>3 and df['Close'][i]<df['Low'][i-1]*0.985  :\n",
      "/tmp/ipykernel_21521/3164365030.py:112: FutureWarning: Series.__getitem__ treating keys as positions is deprecated. In a future version, integer keys will always be treated as labels (consistent with DataFrame behavior). To access a value by position, use `ser.iloc[pos]`\n",
      "  if position != 0 and bar_counts[i]>4 and df['indClose'][i]<df[\"indOpen\"][i-1]*0.985 and df['High'][i]<df['todayh'][i-1]*0.985:\n"
     ]
    },
    {
     "name": "stdout",
     "output_type": "stream",
     "text": [
      "\n"
     ]
    },
    {
     "name": "stderr",
     "output_type": "stream",
     "text": [
      "/tmp/ipykernel_21521/3164365030.py:133: FutureWarning: Series.__getitem__ treating keys as positions is deprecated. In a future version, integer keys will always be treated as labels (consistent with DataFrame behavior). To access a value by position, use `ser.iloc[pos]`\n",
      "  if position > 0 and day_count>=1 and bar_counts[i]>3 and df['Close'][i]<df['Low'][i-1]*0.985  :\n"
     ]
    },
    {
     "name": "stdout",
     "output_type": "stream",
     "text": [
      " \n",
      " Carryforward exit EOD long at"
     ]
    },
    {
     "name": "stderr",
     "output_type": "stream",
     "text": [
      "/tmp/ipykernel_21521/3164365030.py:192: FutureWarning: Series.__getitem__ treating keys as positions is deprecated. In a future version, integer keys will always be treated as labels (consistent with DataFrame behavior). To access a value by position, use `ser.iloc[pos]`\n",
      "  if position == 1 and row['Close'] > entry_price*(1+(1.25*df['5drng'][i])) and df['Close'][i]>df['Close'][i-1] and bar_counts[i]>10:\n"
     ]
    },
    {
     "name": "stdout",
     "output_type": "stream",
     "text": [
      " "
     ]
    },
    {
     "name": "stderr",
     "output_type": "stream",
     "text": [
      "/tmp/ipykernel_21521/3164365030.py:124: FutureWarning: Series.__getitem__ treating keys as positions is deprecated. In a future version, integer keys will always be treated as labels (consistent with DataFrame behavior). To access a value by position, use `ser.iloc[pos]`\n",
      "  if position > 0 and day_count>=1 and bar_counts[i]>6 and df['Close'][i]<df['prevdayl'][i]*0.97 and df['Close'][i]<df['Close'][i-1] :\n",
      "/tmp/ipykernel_21521/3164365030.py:85: FutureWarning: Series.__getitem__ treating keys as positions is deprecated. In a future version, integer keys will always be treated as labels (consistent with DataFrame behavior). To access a value by position, use `ser.iloc[pos]`\n",
      "  if (position == 1 and row['Close'] < min(df['prevdayl'][i]*0.995 ,df['todayl'][i-1]*1.005) and bar_counts[i]>=2):\n"
     ]
    },
    {
     "name": "stdout",
     "output_type": "stream",
     "text": [
      " 1215.26333.808999999999"
     ]
    },
    {
     "name": "stderr",
     "output_type": "stream",
     "text": [
      "/tmp/ipykernel_21521/3164365030.py:85: FutureWarning: Series.__getitem__ treating keys as positions is deprecated. In a future version, integer keys will always be treated as labels (consistent with DataFrame behavior). To access a value by position, use `ser.iloc[pos]`\n",
      "  if (position == 1 and row['Close'] < min(df['prevdayl'][i]*0.995 ,df['todayl'][i-1]*1.005) and bar_counts[i]>=2):\n"
     ]
    },
    {
     "name": "stdout",
     "output_type": "stream",
     "text": [
      " 2643.1"
     ]
    },
    {
     "name": "stderr",
     "output_type": "stream",
     "text": [
      "/tmp/ipykernel_21521/3164365030.py:203: FutureWarning: Series.__getitem__ treating keys as positions is deprecated. In a future version, integer keys will always be treated as labels (consistent with DataFrame behavior). To access a value by position, use `ser.iloc[pos]`\n",
      "  if position >0 and df['Close'][i-1]>df['R2'][i-1]*1.01 and df['Close'][i]<df['R2'][i-1]*1.01 and bar_counts[i]>5 and df.index[i].time() >= time(9, 30):\n"
     ]
    },
    {
     "name": "stdout",
     "output_type": "stream",
     "text": [
      "\n",
      " Carryforward exit EOD long at"
     ]
    },
    {
     "name": "stderr",
     "output_type": "stream",
     "text": [
      "/tmp/ipykernel_21521/3164365030.py:124: FutureWarning: Series.__getitem__ treating keys as positions is deprecated. In a future version, integer keys will always be treated as labels (consistent with DataFrame behavior). To access a value by position, use `ser.iloc[pos]`\n",
      "  if position > 0 and day_count>=1 and bar_counts[i]>6 and df['Close'][i]<df['prevdayl'][i]*0.97 and df['Close'][i]<df['Close'][i-1] :\n"
     ]
    },
    {
     "name": "stdout",
     "output_type": "stream",
     "text": [
      "1056.2248999999997\n"
     ]
    },
    {
     "name": "stderr",
     "output_type": "stream",
     "text": [
      "/tmp/ipykernel_21521/3164365030.py:156: FutureWarning: Series.__getitem__ treating keys as positions is deprecated. In a future version, integer keys will always be treated as labels (consistent with DataFrame behavior). To access a value by position, use `ser.iloc[pos]`\n",
      "  if position!=0 and df['todayo'][i]<df['x_day_low'][i] and df['Close'][i]<df['Low'][i-1] and day_count>=1 and df.index[i].time()>=datetime.time(10 , 45):\n"
     ]
    },
    {
     "name": "stdout",
     "output_type": "stream",
     "text": [
      "\n",
      " Carryforward exit EOD long at "
     ]
    },
    {
     "name": "stderr",
     "output_type": "stream",
     "text": [
      "/tmp/ipykernel_21521/3164365030.py:156: FutureWarning: Series.__getitem__ treating keys as positions is deprecated. In a future version, integer keys will always be treated as labels (consistent with DataFrame behavior). To access a value by position, use `ser.iloc[pos]`\n",
      "  if position!=0 and df['todayo'][i]<df['x_day_low'][i] and df['Close'][i]<df['Low'][i-1] and day_count>=1 and df.index[i].time()>=datetime.time(10 , 45):\n"
     ]
    },
    {
     "name": "stdout",
     "output_type": "stream",
     "text": [
      " \n"
     ]
    },
    {
     "name": "stderr",
     "output_type": "stream",
     "text": [
      "/tmp/ipykernel_21521/3164365030.py:124: FutureWarning: Series.__getitem__ treating keys as positions is deprecated. In a future version, integer keys will always be treated as labels (consistent with DataFrame behavior). To access a value by position, use `ser.iloc[pos]`\n",
      "  if position > 0 and day_count>=1 and bar_counts[i]>6 and df['Close'][i]<df['prevdayl'][i]*0.97 and df['Close'][i]<df['Close'][i-1] :\n"
     ]
    },
    {
     "name": "stdout",
     "output_type": "stream",
     "text": [
      " "
     ]
    },
    {
     "name": "stderr",
     "output_type": "stream",
     "text": [
      "/tmp/ipykernel_21521/3164365030.py:124: FutureWarning: Series.__getitem__ treating keys as positions is deprecated. In a future version, integer keys will always be treated as labels (consistent with DataFrame behavior). To access a value by position, use `ser.iloc[pos]`\n",
      "  if position > 0 and day_count>=1 and bar_counts[i]>6 and df['Close'][i]<df['prevdayl'][i]*0.97 and df['Close'][i]<df['Close'][i-1] :\n"
     ]
    },
    {
     "name": "stdout",
     "output_type": "stream",
     "text": [
      " "
     ]
    },
    {
     "name": "stderr",
     "output_type": "stream",
     "text": [
      "/tmp/ipykernel_21521/3164365030.py:133: FutureWarning: Series.__getitem__ treating keys as positions is deprecated. In a future version, integer keys will always be treated as labels (consistent with DataFrame behavior). To access a value by position, use `ser.iloc[pos]`\n",
      "  if position > 0 and day_count>=1 and bar_counts[i]>3 and df['Close'][i]<df['Low'][i-1]*0.985  :\n"
     ]
    },
    {
     "name": "stdout",
     "output_type": "stream",
     "text": [
      "R1 today"
     ]
    },
    {
     "name": "stderr",
     "output_type": "stream",
     "text": [
      "/tmp/ipykernel_21521/3164365030.py:166: FutureWarning: Series.__getitem__ treating keys as positions is deprecated. In a future version, integer keys will always be treated as labels (consistent with DataFrame behavior). To access a value by position, use `ser.iloc[pos]`\n",
      "  if position!=0 and df['High'][i]<df['S1'][i-1] and df['Close'][i]<df['Close'][i-1] and day_count>=1 and df.index[i].time()>=time(10 , 45):\n",
      "/tmp/ipykernel_21521/3164365030.py:124: FutureWarning: Series.__getitem__ treating keys as positions is deprecated. In a future version, integer keys will always be treated as labels (consistent with DataFrame behavior). To access a value by position, use `ser.iloc[pos]`\n",
      "  if position > 0 and day_count>=1 and bar_counts[i]>6 and df['Close'][i]<df['prevdayl'][i]*0.97 and df['Close'][i]<df['Close'][i-1] :\n"
     ]
    },
    {
     "name": "stdout",
     "output_type": "stream",
     "text": [
      "2024-03-26 10:15:00+05:30"
     ]
    },
    {
     "name": "stderr",
     "output_type": "stream",
     "text": [
      "/tmp/ipykernel_21521/3164365030.py:85: FutureWarning: Series.__getitem__ treating keys as positions is deprecated. In a future version, integer keys will always be treated as labels (consistent with DataFrame behavior). To access a value by position, use `ser.iloc[pos]`\n",
      "  if (position == 1 and row['Close'] < min(df['prevdayl'][i]*0.995 ,df['todayl'][i-1]*1.005) and bar_counts[i]>=2):\n"
     ]
    },
    {
     "name": "stdout",
     "output_type": "stream",
     "text": [
      " -- exit  at"
     ]
    },
    {
     "name": "stderr",
     "output_type": "stream",
     "text": [
      "/tmp/ipykernel_21521/3164365030.py:166: FutureWarning: Series.__getitem__ treating keys as positions is deprecated. In a future version, integer keys will always be treated as labels (consistent with DataFrame behavior). To access a value by position, use `ser.iloc[pos]`\n",
      "  if position!=0 and df['High'][i]<df['S1'][i-1] and df['Close'][i]<df['Close'][i-1] and day_count>=1 and df.index[i].time()>=time(10 , 45):\n"
     ]
    },
    {
     "name": "stdout",
     "output_type": "stream",
     "text": [
      " "
     ]
    },
    {
     "name": "stderr",
     "output_type": "stream",
     "text": [
      "/tmp/ipykernel_21521/3164365030.py:85: FutureWarning: Series.__getitem__ treating keys as positions is deprecated. In a future version, integer keys will always be treated as labels (consistent with DataFrame behavior). To access a value by position, use `ser.iloc[pos]`\n",
      "  if (position == 1 and row['Close'] < min(df['prevdayl'][i]*0.995 ,df['todayl'][i-1]*1.005) and bar_counts[i]>=2):\n"
     ]
    },
    {
     "name": "stdout",
     "output_type": "stream",
     "text": [
      " 2024-03-26 10:15:00+05:30"
     ]
    },
    {
     "name": "stderr",
     "output_type": "stream",
     "text": [
      "/tmp/ipykernel_21521/3164365030.py:177: FutureWarning: Series.__getitem__ treating keys as positions is deprecated. In a future version, integer keys will always be treated as labels (consistent with DataFrame behavior). To access a value by position, use `ser.iloc[pos]`\n",
      "  if position!=0 and df['Low'][i]<min(df['Open'][i] , entry_price*0.98) and bar_counts[i]>1:\n",
      "/tmp/ipykernel_21521/3164365030.py:133: FutureWarning: Series.__getitem__ treating keys as positions is deprecated. In a future version, integer keys will always be treated as labels (consistent with DataFrame behavior). To access a value by position, use `ser.iloc[pos]`\n",
      "  if position > 0 and day_count>=1 and bar_counts[i]>3 and df['Close'][i]<df['Low'][i-1]*0.985  :\n",
      "/tmp/ipykernel_21521/3164365030.py:143: FutureWarning: Series.__getitem__ treating keys as positions is deprecated. In a future version, integer keys will always be treated as labels (consistent with DataFrame behavior). To access a value by position, use `ser.iloc[pos]`\n",
      "  if position != 0 and intra_Exit==0 and day_count>=n_day_Exit and bar_counts[i]>1 and df['Close'][i]<df['Close'][i-1]  :\n"
     ]
    },
    {
     "name": "stdout",
     "output_type": "stream",
     "text": [
      " "
     ]
    },
    {
     "name": "stderr",
     "output_type": "stream",
     "text": [
      "/tmp/ipykernel_21521/3164365030.py:156: FutureWarning: Series.__getitem__ treating keys as positions is deprecated. In a future version, integer keys will always be treated as labels (consistent with DataFrame behavior). To access a value by position, use `ser.iloc[pos]`\n",
      "  if position!=0 and df['todayo'][i]<df['x_day_low'][i] and df['Close'][i]<df['Low'][i-1] and day_count>=1 and df.index[i].time()>=datetime.time(10 , 45):\n"
     ]
    },
    {
     "name": "stdout",
     "output_type": "stream",
     "text": [
      "R1 today"
     ]
    },
    {
     "name": "stderr",
     "output_type": "stream",
     "text": [
      "/tmp/ipykernel_21521/3164365030.py:156: FutureWarning: Series.__getitem__ treating keys as positions is deprecated. In a future version, integer keys will always be treated as labels (consistent with DataFrame behavior). To access a value by position, use `ser.iloc[pos]`\n",
      "  if position!=0 and df['todayo'][i]<df['x_day_low'][i] and df['Close'][i]<df['Low'][i-1] and day_count>=1 and df.index[i].time()>=datetime.time(10 , 45):\n"
     ]
    },
    {
     "name": "stdout",
     "output_type": "stream",
     "text": [
      " 2617.3408999999997"
     ]
    },
    {
     "name": "stderr",
     "output_type": "stream",
     "text": [
      "/tmp/ipykernel_21521/3164365030.py:192: FutureWarning: Series.__getitem__ treating keys as positions is deprecated. In a future version, integer keys will always be treated as labels (consistent with DataFrame behavior). To access a value by position, use `ser.iloc[pos]`\n",
      "  if position == 1 and row['Close'] > entry_price*(1+(1.25*df['5drng'][i])) and df['Close'][i]>df['Close'][i-1] and bar_counts[i]>10:\n"
     ]
    },
    {
     "name": "stdout",
     "output_type": "stream",
     "text": [
      "1215.2"
     ]
    },
    {
     "name": "stderr",
     "output_type": "stream",
     "text": [
      "/tmp/ipykernel_21521/3164365030.py:112: FutureWarning: Series.__getitem__ treating keys as positions is deprecated. In a future version, integer keys will always be treated as labels (consistent with DataFrame behavior). To access a value by position, use `ser.iloc[pos]`\n",
      "  if position != 0 and bar_counts[i]>4 and df['indClose'][i]<df[\"indOpen\"][i-1]*0.985 and df['High'][i]<df['todayh'][i-1]*0.985:\n",
      "/tmp/ipykernel_21521/3164365030.py:166: FutureWarning: Series.__getitem__ treating keys as positions is deprecated. In a future version, integer keys will always be treated as labels (consistent with DataFrame behavior). To access a value by position, use `ser.iloc[pos]`\n",
      "  if position!=0 and df['High'][i]<df['S1'][i-1] and df['Close'][i]<df['Close'][i-1] and day_count>=1 and df.index[i].time()>=time(10 , 45):\n"
     ]
    },
    {
     "name": "stdout",
     "output_type": "stream",
     "text": [
      "1 "
     ]
    },
    {
     "name": "stderr",
     "output_type": "stream",
     "text": [
      "/tmp/ipykernel_21521/3164365030.py:166: FutureWarning: Series.__getitem__ treating keys as positions is deprecated. In a future version, integer keys will always be treated as labels (consistent with DataFrame behavior). To access a value by position, use `ser.iloc[pos]`\n",
      "  if position!=0 and df['High'][i]<df['S1'][i-1] and df['Close'][i]<df['Close'][i-1] and day_count>=1 and df.index[i].time()>=time(10 , 45):\n"
     ]
    },
    {
     "name": "stdout",
     "output_type": "stream",
     "text": [
      " \n"
     ]
    },
    {
     "name": "stderr",
     "output_type": "stream",
     "text": [
      "/tmp/ipykernel_21521/3164365030.py:203: FutureWarning: Series.__getitem__ treating keys as positions is deprecated. In a future version, integer keys will always be treated as labels (consistent with DataFrame behavior). To access a value by position, use `ser.iloc[pos]`\n",
      "  if position >0 and df['Close'][i-1]>df['R2'][i-1]*1.01 and df['Close'][i]<df['R2'][i-1]*1.01 and bar_counts[i]>5 and df.index[i].time() >= time(9, 30):\n"
     ]
    },
    {
     "name": "stdout",
     "output_type": "stream",
     "text": [
      " 251.03439999999998"
     ]
    },
    {
     "name": "stderr",
     "output_type": "stream",
     "text": [
      "/tmp/ipykernel_21521/3164365030.py:177: FutureWarning: Series.__getitem__ treating keys as positions is deprecated. In a future version, integer keys will always be treated as labels (consistent with DataFrame behavior). To access a value by position, use `ser.iloc[pos]`\n",
      "  if position!=0 and df['Low'][i]<min(df['Open'][i] , entry_price*0.98) and bar_counts[i]>1:\n"
     ]
    },
    {
     "name": "stdout",
     "output_type": "stream",
     "text": [
      "time is position at  \n"
     ]
    },
    {
     "name": "stderr",
     "output_type": "stream",
     "text": [
      "/tmp/ipykernel_21521/3164365030.py:177: FutureWarning: Series.__getitem__ treating keys as positions is deprecated. In a future version, integer keys will always be treated as labels (consistent with DataFrame behavior). To access a value by position, use `ser.iloc[pos]`\n",
      "  if position!=0 and df['Low'][i]<min(df['Open'][i] , entry_price*0.98) and bar_counts[i]>1:\n",
      "/tmp/ipykernel_21521/3164365030.py:133: FutureWarning: Series.__getitem__ treating keys as positions is deprecated. In a future version, integer keys will always be treated as labels (consistent with DataFrame behavior). To access a value by position, use `ser.iloc[pos]`\n",
      "  if position > 0 and day_count>=1 and bar_counts[i]>3 and df['Close'][i]<df['Low'][i-1]*0.985  :\n"
     ]
    },
    {
     "name": "stdout",
     "output_type": "stream",
     "text": [
      "\n",
      " Position Hit 2 day low "
     ]
    },
    {
     "name": "stderr",
     "output_type": "stream",
     "text": [
      "/tmp/ipykernel_21521/3164365030.py:192: FutureWarning: Series.__getitem__ treating keys as positions is deprecated. In a future version, integer keys will always be treated as labels (consistent with DataFrame behavior). To access a value by position, use `ser.iloc[pos]`\n",
      "  if position == 1 and row['Close'] > entry_price*(1+(1.25*df['5drng'][i])) and df['Close'][i]>df['Close'][i-1] and bar_counts[i]>10:\n",
      "/tmp/ipykernel_21521/3164365030.py:85: FutureWarning: Series.__getitem__ treating keys as positions is deprecated. In a future version, integer keys will always be treated as labels (consistent with DataFrame behavior). To access a value by position, use `ser.iloc[pos]`\n",
      "  if (position == 1 and row['Close'] < min(df['prevdayl'][i]*0.995 ,df['todayl'][i-1]*1.005) and bar_counts[i]>=2):\n"
     ]
    },
    {
     "name": "stdout",
     "output_type": "stream",
     "text": [
      "2024-03-20 09:15:00+05:30  "
     ]
    },
    {
     "name": "stderr",
     "output_type": "stream",
     "text": [
      "/tmp/ipykernel_21521/3164365030.py:85: FutureWarning: Series.__getitem__ treating keys as positions is deprecated. In a future version, integer keys will always be treated as labels (consistent with DataFrame behavior). To access a value by position, use `ser.iloc[pos]`\n",
      "  if (position == 1 and row['Close'] < min(df['prevdayl'][i]*0.995 ,df['todayl'][i-1]*1.005) and bar_counts[i]>=2):\n",
      "/tmp/ipykernel_21521/3164365030.py:192: FutureWarning: Series.__getitem__ treating keys as positions is deprecated. In a future version, integer keys will always be treated as labels (consistent with DataFrame behavior). To access a value by position, use `ser.iloc[pos]`\n",
      "  if position == 1 and row['Close'] > entry_price*(1+(1.25*df['5drng'][i])) and df['Close'][i]>df['Close'][i-1] and bar_counts[i]>10:\n"
     ]
    },
    {
     "name": "stdout",
     "output_type": "stream",
     "text": [
      "10:15:00"
     ]
    },
    {
     "name": "stderr",
     "output_type": "stream",
     "text": [
      "/tmp/ipykernel_21521/3164365030.py:203: FutureWarning: Series.__getitem__ treating keys as positions is deprecated. In a future version, integer keys will always be treated as labels (consistent with DataFrame behavior). To access a value by position, use `ser.iloc[pos]`\n",
      "  if position >0 and df['Close'][i-1]>df['R2'][i-1]*1.01 and df['Close'][i]<df['R2'][i-1]*1.01 and bar_counts[i]>5 and df.index[i].time() >= time(9, 30):\n"
     ]
    },
    {
     "name": "stdout",
     "output_type": "stream",
     "text": [
      " "
     ]
    },
    {
     "name": "stderr",
     "output_type": "stream",
     "text": [
      "/tmp/ipykernel_21521/3164365030.py:124: FutureWarning: Series.__getitem__ treating keys as positions is deprecated. In a future version, integer keys will always be treated as labels (consistent with DataFrame behavior). To access a value by position, use `ser.iloc[pos]`\n",
      "  if position > 0 and day_count>=1 and bar_counts[i]>6 and df['Close'][i]<df['prevdayl'][i]*0.97 and df['Close'][i]<df['Close'][i-1] :\n"
     ]
    },
    {
     "name": "stdout",
     "output_type": "stream",
     "text": [
      "2024-03-22 15:15:00+05:30 "
     ]
    },
    {
     "name": "stderr",
     "output_type": "stream",
     "text": [
      "/tmp/ipykernel_21521/3164365030.py:203: FutureWarning: Series.__getitem__ treating keys as positions is deprecated. In a future version, integer keys will always be treated as labels (consistent with DataFrame behavior). To access a value by position, use `ser.iloc[pos]`\n",
      "  if position >0 and df['Close'][i-1]>df['R2'][i-1]*1.01 and df['Close'][i]<df['R2'][i-1]*1.01 and bar_counts[i]>5 and df.index[i].time() >= time(9, 30):\n",
      "/tmp/ipykernel_21521/3164365030.py:177: FutureWarning: Series.__getitem__ treating keys as positions is deprecated. In a future version, integer keys will always be treated as labels (consistent with DataFrame behavior). To access a value by position, use `ser.iloc[pos]`\n",
      "  if position!=0 and df['Low'][i]<min(df['Open'][i] , entry_price*0.98) and bar_counts[i]>1:\n"
     ]
    },
    {
     "name": "stdout",
     "output_type": "stream",
     "text": [
      " "
     ]
    },
    {
     "name": "stderr",
     "output_type": "stream",
     "text": [
      "/tmp/ipykernel_21521/3164365030.py:156: FutureWarning: Series.__getitem__ treating keys as positions is deprecated. In a future version, integer keys will always be treated as labels (consistent with DataFrame behavior). To access a value by position, use `ser.iloc[pos]`\n",
      "  if position!=0 and df['todayo'][i]<df['x_day_low'][i] and df['Close'][i]<df['Low'][i-1] and day_count>=1 and df.index[i].time()>=datetime.time(10 , 45):\n",
      "/tmp/ipykernel_21521/3164365030.py:143: FutureWarning: Series.__getitem__ treating keys as positions is deprecated. In a future version, integer keys will always be treated as labels (consistent with DataFrame behavior). To access a value by position, use `ser.iloc[pos]`\n",
      "  if position != 0 and intra_Exit==0 and day_count>=n_day_Exit and bar_counts[i]>1 and df['Close'][i]<df['Close'][i-1]  :\n"
     ]
    },
    {
     "name": "stdout",
     "output_type": "stream",
     "text": [
      "3134.0"
     ]
    },
    {
     "name": "stderr",
     "output_type": "stream",
     "text": [
      "/tmp/ipykernel_21521/3164365030.py:133: FutureWarning: Series.__getitem__ treating keys as positions is deprecated. In a future version, integer keys will always be treated as labels (consistent with DataFrame behavior). To access a value by position, use `ser.iloc[pos]`\n",
      "  if position > 0 and day_count>=1 and bar_counts[i]>3 and df['Close'][i]<df['Low'][i-1]*0.985  :\n"
     ]
    },
    {
     "name": "stdout",
     "output_type": "stream",
     "text": [
      "1 "
     ]
    },
    {
     "name": "stderr",
     "output_type": "stream",
     "text": [
      "/tmp/ipykernel_21521/3164365030.py:166: FutureWarning: Series.__getitem__ treating keys as positions is deprecated. In a future version, integer keys will always be treated as labels (consistent with DataFrame behavior). To access a value by position, use `ser.iloc[pos]`\n",
      "  if position!=0 and df['High'][i]<df['S1'][i-1] and df['Close'][i]<df['Close'][i-1] and day_count>=1 and df.index[i].time()>=time(10 , 45):\n",
      "/tmp/ipykernel_21521/3164365030.py:192: FutureWarning: Series.__getitem__ treating keys as positions is deprecated. In a future version, integer keys will always be treated as labels (consistent with DataFrame behavior). To access a value by position, use `ser.iloc[pos]`\n",
      "  if position == 1 and row['Close'] > entry_price*(1+(1.25*df['5drng'][i])) and df['Close'][i]>df['Close'][i-1] and bar_counts[i]>10:\n"
     ]
    },
    {
     "name": "stdout",
     "output_type": "stream",
     "text": [
      " Low of bar is :position at  "
     ]
    },
    {
     "name": "stderr",
     "output_type": "stream",
     "text": [
      "/tmp/ipykernel_21521/3164365030.py:203: FutureWarning: Series.__getitem__ treating keys as positions is deprecated. In a future version, integer keys will always be treated as labels (consistent with DataFrame behavior). To access a value by position, use `ser.iloc[pos]`\n",
      "  if position >0 and df['Close'][i-1]>df['R2'][i-1]*1.01 and df['Close'][i]<df['R2'][i-1]*1.01 and bar_counts[i]>5 and df.index[i].time() >= time(9, 30):\n"
     ]
    },
    {
     "name": "stdout",
     "output_type": "stream",
     "text": [
      " Day_count: "
     ]
    },
    {
     "name": "stderr",
     "output_type": "stream",
     "text": [
      "/tmp/ipykernel_21521/3164365030.py:112: FutureWarning: Series.__getitem__ treating keys as positions is deprecated. In a future version, integer keys will always be treated as labels (consistent with DataFrame behavior). To access a value by position, use `ser.iloc[pos]`\n",
      "  if position != 0 and bar_counts[i]>4 and df['indClose'][i]<df[\"indOpen\"][i-1]*0.985 and df['High'][i]<df['todayh'][i-1]*0.985:\n",
      "/tmp/ipykernel_21521/3164365030.py:177: FutureWarning: Series.__getitem__ treating keys as positions is deprecated. In a future version, integer keys will always be treated as labels (consistent with DataFrame behavior). To access a value by position, use `ser.iloc[pos]`\n",
      "  if position!=0 and df['Low'][i]<min(df['Open'][i] , entry_price*0.98) and bar_counts[i]>1:\n"
     ]
    },
    {
     "name": "stdout",
     "output_type": "stream",
     "text": [
      "\n",
      " Carryforward exit EOD long at "
     ]
    },
    {
     "name": "stderr",
     "output_type": "stream",
     "text": [
      "/tmp/ipykernel_21521/3164365030.py:112: FutureWarning: Series.__getitem__ treating keys as positions is deprecated. In a future version, integer keys will always be treated as labels (consistent with DataFrame behavior). To access a value by position, use `ser.iloc[pos]`\n",
      "  if position != 0 and bar_counts[i]>4 and df['indClose'][i]<df[\"indOpen\"][i-1]*0.985 and df['High'][i]<df['todayh'][i-1]*0.985:\n"
     ]
    },
    {
     "name": "stdout",
     "output_type": "stream",
     "text": [
      "  1212.61"
     ]
    },
    {
     "name": "stderr",
     "output_type": "stream",
     "text": [
      "/tmp/ipykernel_21521/3164365030.py:143: FutureWarning: Series.__getitem__ treating keys as positions is deprecated. In a future version, integer keys will always be treated as labels (consistent with DataFrame behavior). To access a value by position, use `ser.iloc[pos]`\n",
      "  if position != 0 and intra_Exit==0 and day_count>=n_day_Exit and bar_counts[i]>1 and df['Close'][i]<df['Close'][i-1]  :\n",
      "/tmp/ipykernel_21521/3164365030.py:192: FutureWarning: Series.__getitem__ treating keys as positions is deprecated. In a future version, integer keys will always be treated as labels (consistent with DataFrame behavior). To access a value by position, use `ser.iloc[pos]`\n",
      "  if position == 1 and row['Close'] > entry_price*(1+(1.25*df['5drng'][i])) and df['Close'][i]>df['Close'][i-1] and bar_counts[i]>10:\n",
      "/tmp/ipykernel_21521/3164365030.py:143: FutureWarning: Series.__getitem__ treating keys as positions is deprecated. In a future version, integer keys will always be treated as labels (consistent with DataFrame behavior). To access a value by position, use `ser.iloc[pos]`\n",
      "  if position != 0 and intra_Exit==0 and day_count>=n_day_Exit and bar_counts[i]>1 and df['Close'][i]<df['Close'][i-1]  :\n"
     ]
    },
    {
     "name": "stdout",
     "output_type": "stream",
     "text": [
      "\n",
      " Carryforward exit EOD long at 28094.8\n"
     ]
    },
    {
     "name": "stderr",
     "output_type": "stream",
     "text": [
      "/tmp/ipykernel_21521/3164365030.py:112: FutureWarning: Series.__getitem__ treating keys as positions is deprecated. In a future version, integer keys will always be treated as labels (consistent with DataFrame behavior). To access a value by position, use `ser.iloc[pos]`\n",
      "  if position != 0 and bar_counts[i]>4 and df['indClose'][i]<df[\"indOpen\"][i-1]*0.985 and df['High'][i]<df['todayh'][i-1]*0.985:\n",
      "/tmp/ipykernel_21521/3164365030.py:143: FutureWarning: Series.__getitem__ treating keys as positions is deprecated. In a future version, integer keys will always be treated as labels (consistent with DataFrame behavior). To access a value by position, use `ser.iloc[pos]`\n",
      "  if position != 0 and intra_Exit==0 and day_count>=n_day_Exit and bar_counts[i]>1 and df['Close'][i]<df['Close'][i-1]  :\n"
     ]
    },
    {
     "name": "stdout",
     "output_type": "stream",
     "text": [
      "2\n",
      " Position Hit 2 day low "
     ]
    },
    {
     "name": "stderr",
     "output_type": "stream",
     "text": [
      "/tmp/ipykernel_21521/3164365030.py:182: FutureWarning: Series.__getitem__ treating keys as positions is deprecated. In a future version, integer keys will always be treated as labels (consistent with DataFrame behavior). To access a value by position, use `ser.iloc[pos]`\n",
      "  exit_price = min(df['Open'][i] , entry_price*0.98)\n"
     ]
    },
    {
     "name": "stdout",
     "output_type": "stream",
     "text": [
      " "
     ]
    },
    {
     "name": "stderr",
     "output_type": "stream",
     "text": [
      "/tmp/ipykernel_21521/3164365030.py:203: FutureWarning: Series.__getitem__ treating keys as positions is deprecated. In a future version, integer keys will always be treated as labels (consistent with DataFrame behavior). To access a value by position, use `ser.iloc[pos]`\n",
      "  if position >0 and df['Close'][i-1]>df['R2'][i-1]*1.01 and df['Close'][i]<df['R2'][i-1]*1.01 and bar_counts[i]>5 and df.index[i].time() >= time(9, 30):\n"
     ]
    },
    {
     "name": "stdout",
     "output_type": "stream",
     "text": [
      "\n",
      " Carryforward exit EOD long at1  \n"
     ]
    },
    {
     "name": "stderr",
     "output_type": "stream",
     "text": [
      "/tmp/ipykernel_21521/3164365030.py:133: FutureWarning: Series.__getitem__ treating keys as positions is deprecated. In a future version, integer keys will always be treated as labels (consistent with DataFrame behavior). To access a value by position, use `ser.iloc[pos]`\n",
      "  if position > 0 and day_count>=1 and bar_counts[i]>3 and df['Close'][i]<df['Low'][i-1]*0.985  :\n"
     ]
    },
    {
     "name": "stdout",
     "output_type": "stream",
     "text": [
      "\n",
      " Carryforward exit EOD long at"
     ]
    },
    {
     "name": "stderr",
     "output_type": "stream",
     "text": [
      "/tmp/ipykernel_21521/3164365030.py:143: FutureWarning: Series.__getitem__ treating keys as positions is deprecated. In a future version, integer keys will always be treated as labels (consistent with DataFrame behavior). To access a value by position, use `ser.iloc[pos]`\n",
      "  if position != 0 and intra_Exit==0 and day_count>=n_day_Exit and bar_counts[i]>1 and df['Close'][i]<df['Close'][i-1]  :\n",
      "/tmp/ipykernel_21521/3164365030.py:186: FutureWarning: Series.__getitem__ treating keys as positions is deprecated. In a future version, integer keys will always be treated as labels (consistent with DataFrame behavior). To access a value by position, use `ser.iloc[pos]`\n",
      "  print(\"\\ Fixed stoploss:  S1 is : \" , min(df['Open'][i] , entry_price*0.98) ,   \" -- exit  at\" , exit_price ,  \"time is \" , df.index[i].time() , \"Low of bar is :\" , df['Low'][i] )\n"
     ]
    },
    {
     "name": "stdout",
     "output_type": "stream",
     "text": [
      "position at   "
     ]
    },
    {
     "name": "stderr",
     "output_type": "stream",
     "text": [
      "/tmp/ipykernel_21521/3164365030.py:143: FutureWarning: Series.__getitem__ treating keys as positions is deprecated. In a future version, integer keys will always be treated as labels (consistent with DataFrame behavior). To access a value by position, use `ser.iloc[pos]`\n",
      "  if position != 0 and intra_Exit==0 and day_count>=n_day_Exit and bar_counts[i]>1 and df['Close'][i]<df['Close'][i-1]  :\n",
      "/tmp/ipykernel_21521/3164365030.py:124: FutureWarning: Series.__getitem__ treating keys as positions is deprecated. In a future version, integer keys will always be treated as labels (consistent with DataFrame behavior). To access a value by position, use `ser.iloc[pos]`\n",
      "  if position > 0 and day_count>=1 and bar_counts[i]>6 and df['Close'][i]<df['prevdayl'][i]*0.97 and df['Close'][i]<df['Close'][i-1] :\n",
      "/tmp/ipykernel_21521/3164365030.py:156: FutureWarning: Series.__getitem__ treating keys as positions is deprecated. In a future version, integer keys will always be treated as labels (consistent with DataFrame behavior). To access a value by position, use `ser.iloc[pos]`\n",
      "  if position!=0 and df['todayo'][i]<df['x_day_low'][i] and df['Close'][i]<df['Low'][i-1] and day_count>=1 and df.index[i].time()>=datetime.time(10 , 45):\n"
     ]
    },
    {
     "name": "stdout",
     "output_type": "stream",
     "text": [
      " 2024-03-26 12:45:00+05:30 \n",
      " Carryforward exit EOD long atDay_count:  \n",
      " Carryforward exit EOD long at \\ Fixed stoploss:  S1 is : 2024-04-02 09:15:00+05:30"
     ]
    },
    {
     "name": "stderr",
     "output_type": "stream",
     "text": [
      "/tmp/ipykernel_21521/3164365030.py:124: FutureWarning: Series.__getitem__ treating keys as positions is deprecated. In a future version, integer keys will always be treated as labels (consistent with DataFrame behavior). To access a value by position, use `ser.iloc[pos]`\n",
      "  if position > 0 and day_count>=1 and bar_counts[i]>6 and df['Close'][i]<df['prevdayl'][i]*0.97 and df['Close'][i]<df['Close'][i-1] :\n"
     ]
    },
    {
     "name": "stdout",
     "output_type": "stream",
     "text": [
      "position at  "
     ]
    },
    {
     "name": "stderr",
     "output_type": "stream",
     "text": [
      "/tmp/ipykernel_21521/3164365030.py:112: FutureWarning: Series.__getitem__ treating keys as positions is deprecated. In a future version, integer keys will always be treated as labels (consistent with DataFrame behavior). To access a value by position, use `ser.iloc[pos]`\n",
      "  if position != 0 and bar_counts[i]>4 and df['indClose'][i]<df[\"indOpen\"][i-1]*0.985 and df['High'][i]<df['todayh'][i-1]*0.985:\n"
     ]
    },
    {
     "name": "stdout",
     "output_type": "stream",
     "text": [
      " "
     ]
    },
    {
     "name": "stderr",
     "output_type": "stream",
     "text": [
      "/tmp/ipykernel_21521/3164365030.py:166: FutureWarning: Series.__getitem__ treating keys as positions is deprecated. In a future version, integer keys will always be treated as labels (consistent with DataFrame behavior). To access a value by position, use `ser.iloc[pos]`\n",
      "  if position!=0 and df['High'][i]<df['S1'][i-1] and df['Close'][i]<df['Close'][i-1] and day_count>=1 and df.index[i].time()>=time(10 , 45):\n"
     ]
    },
    {
     "name": "stdout",
     "output_type": "stream",
     "text": [
      "2024-03-20 09:15:00+05:30  2024-03-26 09:15:00+05:30 255.9"
     ]
    },
    {
     "name": "stderr",
     "output_type": "stream",
     "text": [
      "/tmp/ipykernel_21521/3164365030.py:143: FutureWarning: Series.__getitem__ treating keys as positions is deprecated. In a future version, integer keys will always be treated as labels (consistent with DataFrame behavior). To access a value by position, use `ser.iloc[pos]`\n",
      "  if position != 0 and intra_Exit==0 and day_count>=n_day_Exit and bar_counts[i]>1 and df['Close'][i]<df['Close'][i-1]  :\n"
     ]
    },
    {
     "name": "stdout",
     "output_type": "stream",
     "text": [
      "  "
     ]
    },
    {
     "name": "stderr",
     "output_type": "stream",
     "text": [
      "/tmp/ipykernel_21521/3164365030.py:133: FutureWarning: Series.__getitem__ treating keys as positions is deprecated. In a future version, integer keys will always be treated as labels (consistent with DataFrame behavior). To access a value by position, use `ser.iloc[pos]`\n",
      "  if position > 0 and day_count>=1 and bar_counts[i]>3 and df['Close'][i]<df['Low'][i-1]*0.985  :\n"
     ]
    },
    {
     "name": "stdout",
     "output_type": "stream",
     "text": [
      " "
     ]
    },
    {
     "name": "stderr",
     "output_type": "stream",
     "text": [
      "/tmp/ipykernel_21521/3164365030.py:133: FutureWarning: Series.__getitem__ treating keys as positions is deprecated. In a future version, integer keys will always be treated as labels (consistent with DataFrame behavior). To access a value by position, use `ser.iloc[pos]`\n",
      "  if position > 0 and day_count>=1 and bar_counts[i]>3 and df['Close'][i]<df['Low'][i-1]*0.985  :\n"
     ]
    },
    {
     "name": "stdout",
     "output_type": "stream",
     "text": [
      "1 "
     ]
    },
    {
     "name": "stderr",
     "output_type": "stream",
     "text": [
      "/tmp/ipykernel_21521/3164365030.py:143: FutureWarning: Series.__getitem__ treating keys as positions is deprecated. In a future version, integer keys will always be treated as labels (consistent with DataFrame behavior). To access a value by position, use `ser.iloc[pos]`\n",
      "  if position != 0 and intra_Exit==0 and day_count>=n_day_Exit and bar_counts[i]>1 and df['Close'][i]<df['Close'][i-1]  :\n"
     ]
    },
    {
     "name": "stdout",
     "output_type": "stream",
     "text": [
      " 2024-03-26 09:45:00+05:30"
     ]
    },
    {
     "name": "stderr",
     "output_type": "stream",
     "text": [
      "/tmp/ipykernel_21521/3164365030.py:177: FutureWarning: Series.__getitem__ treating keys as positions is deprecated. In a future version, integer keys will always be treated as labels (consistent with DataFrame behavior). To access a value by position, use `ser.iloc[pos]`\n",
      "  if position!=0 and df['Low'][i]<min(df['Open'][i] , entry_price*0.98) and bar_counts[i]>1:\n"
     ]
    },
    {
     "name": "stdout",
     "output_type": "stream",
     "text": [
      "2 2024-03-26 09:15:00+05:30 \n",
      " Carryforward exit EOD long at"
     ]
    },
    {
     "name": "stderr",
     "output_type": "stream",
     "text": [
      "/tmp/ipykernel_21521/3164365030.py:143: FutureWarning: Series.__getitem__ treating keys as positions is deprecated. In a future version, integer keys will always be treated as labels (consistent with DataFrame behavior). To access a value by position, use `ser.iloc[pos]`\n",
      "  if position != 0 and intra_Exit==0 and day_count>=n_day_Exit and bar_counts[i]>1 and df['Close'][i]<df['Close'][i-1]  :\n"
     ]
    },
    {
     "name": "stdout",
     "output_type": "stream",
     "text": [
      "15631.9130000000005"
     ]
    },
    {
     "name": "stderr",
     "output_type": "stream",
     "text": [
      "/tmp/ipykernel_21521/3164365030.py:124: FutureWarning: Series.__getitem__ treating keys as positions is deprecated. In a future version, integer keys will always be treated as labels (consistent with DataFrame behavior). To access a value by position, use `ser.iloc[pos]`\n",
      "  if position > 0 and day_count>=1 and bar_counts[i]>6 and df['Close'][i]<df['prevdayl'][i]*0.97 and df['Close'][i]<df['Close'][i-1] :\n"
     ]
    },
    {
     "name": "stdout",
     "output_type": "stream",
     "text": [
      "1584.0 2024-03-20 09:45:00+05:301 \n",
      " Carryforward exit EOD long at"
     ]
    },
    {
     "name": "stderr",
     "output_type": "stream",
     "text": [
      "/tmp/ipykernel_21521/3164365030.py:124: FutureWarning: Series.__getitem__ treating keys as positions is deprecated. In a future version, integer keys will always be treated as labels (consistent with DataFrame behavior). To access a value by position, use `ser.iloc[pos]`\n",
      "  if position > 0 and day_count>=1 and bar_counts[i]>6 and df['Close'][i]<df['prevdayl'][i]*0.97 and df['Close'][i]<df['Close'][i-1] :\n"
     ]
    },
    {
     "name": "stdout",
     "output_type": "stream",
     "text": [
      "\n"
     ]
    },
    {
     "name": "stderr",
     "output_type": "stream",
     "text": [
      "/tmp/ipykernel_21521/3164365030.py:112: FutureWarning: Series.__getitem__ treating keys as positions is deprecated. In a future version, integer keys will always be treated as labels (consistent with DataFrame behavior). To access a value by position, use `ser.iloc[pos]`\n",
      "  if position != 0 and bar_counts[i]>4 and df['indClose'][i]<df[\"indOpen\"][i-1]*0.985 and df['High'][i]<df['todayh'][i-1]*0.985:\n"
     ]
    },
    {
     "name": "stdout",
     "output_type": "stream",
     "text": [
      "1"
     ]
    },
    {
     "name": "stderr",
     "output_type": "stream",
     "text": [
      "/tmp/ipykernel_21521/3164365030.py:192: FutureWarning: Series.__getitem__ treating keys as positions is deprecated. In a future version, integer keys will always be treated as labels (consistent with DataFrame behavior). To access a value by position, use `ser.iloc[pos]`\n",
      "  if position == 1 and row['Close'] > entry_price*(1+(1.25*df['5drng'][i])) and df['Close'][i]>df['Close'][i-1] and bar_counts[i]>10:\n"
     ]
    },
    {
     "name": "stdout",
     "output_type": "stream",
     "text": [
      " Day_count:    \n",
      " Position taken long at : \n"
     ]
    },
    {
     "name": "stderr",
     "output_type": "stream",
     "text": [
      "/tmp/ipykernel_21521/3164365030.py:182: FutureWarning: Series.__getitem__ treating keys as positions is deprecated. In a future version, integer keys will always be treated as labels (consistent with DataFrame behavior). To access a value by position, use `ser.iloc[pos]`\n",
      "  exit_price = min(df['Open'][i] , entry_price*0.98)\n",
      "/tmp/ipykernel_21521/3164365030.py:133: FutureWarning: Series.__getitem__ treating keys as positions is deprecated. In a future version, integer keys will always be treated as labels (consistent with DataFrame behavior). To access a value by position, use `ser.iloc[pos]`\n",
      "  if position > 0 and day_count>=1 and bar_counts[i]>3 and df['Close'][i]<df['Low'][i-1]*0.985  :\n"
     ]
    },
    {
     "name": "stdout",
     "output_type": "stream",
     "text": [
      "position at    1 \n",
      " Carryforward exit EOD long at "
     ]
    },
    {
     "name": "stderr",
     "output_type": "stream",
     "text": [
      "/tmp/ipykernel_21521/3164365030.py:143: FutureWarning: Series.__getitem__ treating keys as positions is deprecated. In a future version, integer keys will always be treated as labels (consistent with DataFrame behavior). To access a value by position, use `ser.iloc[pos]`\n",
      "  if position != 0 and intra_Exit==0 and day_count>=n_day_Exit and bar_counts[i]>1 and df['Close'][i]<df['Close'][i-1]  :\n"
     ]
    },
    {
     "name": "stdout",
     "output_type": "stream",
     "text": [
      "\n",
      " Position taken long at : 1"
     ]
    },
    {
     "name": "stderr",
     "output_type": "stream",
     "text": [
      "/tmp/ipykernel_21521/3164365030.py:203: FutureWarning: Series.__getitem__ treating keys as positions is deprecated. In a future version, integer keys will always be treated as labels (consistent with DataFrame behavior). To access a value by position, use `ser.iloc[pos]`\n",
      "  if position >0 and df['Close'][i-1]>df['R2'][i-1]*1.01 and df['Close'][i]<df['R2'][i-1]*1.01 and bar_counts[i]>5 and df.index[i].time() >= time(9, 30):\n"
     ]
    },
    {
     "name": "stdout",
     "output_type": "stream",
     "text": [
      " 2024-03-22 10:15:00+05:30position at   -- exit  at "
     ]
    },
    {
     "name": "stderr",
     "output_type": "stream",
     "text": [
      "/tmp/ipykernel_21521/3164365030.py:186: FutureWarning: Series.__getitem__ treating keys as positions is deprecated. In a future version, integer keys will always be treated as labels (consistent with DataFrame behavior). To access a value by position, use `ser.iloc[pos]`\n",
      "  print(\"\\ Fixed stoploss:  S1 is : \" , min(df['Open'][i] , entry_price*0.98) ,   \" -- exit  at\" , exit_price ,  \"time is \" , df.index[i].time() , \"Low of bar is :\" , df['Low'][i] )\n"
     ]
    },
    {
     "name": "stdout",
     "output_type": "stream",
     "text": [
      " 1position at   2024-03-26 09:15:00+05:30 position at   "
     ]
    },
    {
     "name": "stderr",
     "output_type": "stream",
     "text": [
      "/tmp/ipykernel_21521/3164365030.py:124: FutureWarning: Series.__getitem__ treating keys as positions is deprecated. In a future version, integer keys will always be treated as labels (consistent with DataFrame behavior). To access a value by position, use `ser.iloc[pos]`\n",
      "  if position > 0 and day_count>=1 and bar_counts[i]>6 and df['Close'][i]<df['prevdayl'][i]*0.97 and df['Close'][i]<df['Close'][i-1] :\n"
     ]
    },
    {
     "name": "stdout",
     "output_type": "stream",
     "text": [
      "\n",
      " Carryforward exit EOD long at 2   \n",
      " Carryforward exit EOD long at2024-03-21 11:15:00+05:30"
     ]
    },
    {
     "name": "stderr",
     "output_type": "stream",
     "text": [
      "/tmp/ipykernel_21521/3164365030.py:143: FutureWarning: Series.__getitem__ treating keys as positions is deprecated. In a future version, integer keys will always be treated as labels (consistent with DataFrame behavior). To access a value by position, use `ser.iloc[pos]`\n",
      "  if position != 0 and intra_Exit==0 and day_count>=n_day_Exit and bar_counts[i]>1 and df['Close'][i]<df['Close'][i-1]  :\n"
     ]
    },
    {
     "name": "stdout",
     "output_type": "stream",
     "text": [
      "169.55\\ Fixed stoploss:  S1 is :   position at   2024-03-11 09:45:00+05:30 2024-03-28 10:45:00+05:30 position at  1\n",
      "4641.55631.9130000000005   \n",
      " Carryforward exit EOD long at position at  2152.15"
     ]
    },
    {
     "name": "stderr",
     "output_type": "stream",
     "text": [
      "/tmp/ipykernel_21521/3164365030.py:112: FutureWarning: Series.__getitem__ treating keys as positions is deprecated. In a future version, integer keys will always be treated as labels (consistent with DataFrame behavior). To access a value by position, use `ser.iloc[pos]`\n",
      "  if position != 0 and bar_counts[i]>4 and df['indClose'][i]<df[\"indOpen\"][i-1]*0.985 and df['High'][i]<df['todayh'][i-1]*0.985:\n"
     ]
    },
    {
     "name": "stdout",
     "output_type": "stream",
     "text": [
      " 1 1468.8 2024-03-20 09:15:00+05:30    2024-03-26 11:45:00+05:30-- entry Price - :  Day_count:  6211.681 \n",
      "590.2 1 -- entry Price - :   861.2position at  Day_count: "
     ]
    },
    {
     "name": "stderr",
     "output_type": "stream",
     "text": [
      "/tmp/ipykernel_21521/3164365030.py:143: FutureWarning: Series.__getitem__ treating keys as positions is deprecated. In a future version, integer keys will always be treated as labels (consistent with DataFrame behavior). To access a value by position, use `ser.iloc[pos]`\n",
      "  if position != 0 and intra_Exit==0 and day_count>=n_day_Exit and bar_counts[i]>1 and df['Close'][i]<df['Close'][i-1]  :\n"
     ]
    },
    {
     "name": "stdout",
     "output_type": "stream",
     "text": [
      "time is \n",
      " Position taken long at :    2024-03-26 09:15:00+05:30 3230.1 position at   Day_count:  1     11229.5\n",
      " Position taken long at : 2  -- exit  at Day_count:  position at   \n",
      " Carryforward exit EOD long at3154.55 Day_count: "
     ]
    },
    {
     "name": "stderr",
     "output_type": "stream",
     "text": [
      "/tmp/ipykernel_21521/3164365030.py:124: FutureWarning: Series.__getitem__ treating keys as positions is deprecated. In a future version, integer keys will always be treated as labels (consistent with DataFrame behavior). To access a value by position, use `ser.iloc[pos]`\n",
      "  if position > 0 and day_count>=1 and bar_counts[i]>6 and df['Close'][i]<df['prevdayl'][i]*0.97 and df['Close'][i]<df['Close'][i-1] :\n"
     ]
    },
    {
     "name": "stdout",
     "output_type": "stream",
     "text": [
      "1090.15214:45:002024-03-28 11:15:00+05:30  "
     ]
    },
    {
     "name": "stderr",
     "output_type": "stream",
     "text": [
      "/tmp/ipykernel_21521/3164365030.py:143: FutureWarning: Series.__getitem__ treating keys as positions is deprecated. In a future version, integer keys will always be treated as labels (consistent with DataFrame behavior). To access a value by position, use `ser.iloc[pos]`\n",
      "  if position != 0 and intra_Exit==0 and day_count>=n_day_Exit and bar_counts[i]>1 and df['Close'][i]<df['Close'][i-1]  :\n"
     ]
    },
    {
     "name": "stdout",
     "output_type": "stream",
     "text": [
      " \n",
      "1 Day_count:  236.75 2  position at    \n"
     ]
    },
    {
     "name": "stderr",
     "output_type": "stream",
     "text": [
      "/tmp/ipykernel_21521/3164365030.py:133: FutureWarning: Series.__getitem__ treating keys as positions is deprecated. In a future version, integer keys will always be treated as labels (consistent with DataFrame behavior). To access a value by position, use `ser.iloc[pos]`\n",
      "  if position > 0 and day_count>=1 and bar_counts[i]>3 and df['Close'][i]<df['Low'][i-1]*0.985  :\n"
     ]
    },
    {
     "name": "stdout",
     "output_type": "stream",
     "text": [
      "  position at  R1 today2024-03-27 12:15:00+05:30 6211.681"
     ]
    },
    {
     "name": "stderr",
     "output_type": "stream",
     "text": [
      "/tmp/ipykernel_21521/3164365030.py:143: FutureWarning: Series.__getitem__ treating keys as positions is deprecated. In a future version, integer keys will always be treated as labels (consistent with DataFrame behavior). To access a value by position, use `ser.iloc[pos]`\n",
      "  if position != 0 and intra_Exit==0 and day_count>=n_day_Exit and bar_counts[i]>1 and df['Close'][i]<df['Close'][i-1]  :\n"
     ]
    },
    {
     "name": "stdout",
     "output_type": "stream",
     "text": [
      "  6431.52\n",
      "2024-03-26 09:45:00+05:30R1 today 2Day_count: Low of bar is :-- entry Price - :     position at   2\n",
      " Carryforward exit EOD long atDay_count:  \n",
      "  \n",
      " Position taken long at : 795.35\n",
      "  \n",
      " Position taken long at :  1300.01230.7232000000001-- entry Price - :   time is \n",
      "  Day_count: 13145.9961000000003  25611.5 1648.75 \n",
      " 411.7 2024-03-22 10:15:00+05:302  \n",
      "2024-03-28 15:15:00+05:30Day_count: \n",
      "\n",
      "2024-03-27 12:15:00+05:30 Day_count: 260.85 [(Timestamp('2024-03-28 11:45:00+0530', tz='UTC+05:30'), 'NSE:HEROMOTOCO', 1, 4679.0, 1), (Timestamp('2024-04-02 09:15:00+0530', tz='UTC+05:30'), 'NSE:HEROMOTOCO', 0, 4641.5, 16)]09:45:00 \n",
      "2position at     R1 today  Day_count: \n",
      "1\n",
      " Position taken long at : \n",
      " \n",
      " Position taken long at : -- entry Price - :  2-- entry Price - :   \n",
      " Position taken long at : 2R1 today   \n",
      " Position taken long at : \n",
      " Carryforward exit EOD long at593.5  \n",
      " 1607.0744000000004 \n",
      "\n",
      " Position taken long at :  \n",
      " Position taken long at : 2position at  2024-03-27 10:45:00+05:30   2024-03-27 12:45:00+05:3027100.0170.95\n",
      "2024-03-21 10:45:00+05:30 260.854\n",
      "   2024-03-28 11:45:00+05:30\n",
      " Position taken long at : 2024-03-26 12:45:00+05:30 \n",
      "Creating trade log forDay_count:     2024-03-28 13:45:00+05:30\n",
      "257.02024-03-20 13:45:00+05:30-- entry Price - :     Low of bar is : "
     ]
    },
    {
     "name": "stderr",
     "output_type": "stream",
     "text": [
      "/tmp/ipykernel_21521/3164365030.py:124: FutureWarning: Series.__getitem__ treating keys as positions is deprecated. In a future version, integer keys will always be treated as labels (consistent with DataFrame behavior). To access a value by position, use `ser.iloc[pos]`\n",
      "  if position > 0 and day_count>=1 and bar_counts[i]>6 and df['Close'][i]<df['prevdayl'][i]*0.97 and df['Close'][i]<df['Close'][i-1] :\n"
     ]
    },
    {
     "name": "stdout",
     "output_type": "stream",
     "text": [
      " -- entry Price - :  R1 today"
     ]
    },
    {
     "name": "stderr",
     "output_type": "stream",
     "text": [
      "/tmp/ipykernel_21521/3164365030.py:143: FutureWarning: Series.__getitem__ treating keys as positions is deprecated. In a future version, integer keys will always be treated as labels (consistent with DataFrame behavior). To access a value by position, use `ser.iloc[pos]`\n",
      "  if position != 0 and intra_Exit==0 and day_count>=n_day_Exit and bar_counts[i]>1 and df['Close'][i]<df['Close'][i-1]  :\n"
     ]
    },
    {
     "name": "stdout",
     "output_type": "stream",
     "text": [
      "R1 today-- entry Price - :   \n",
      " Position taken long at : "
     ]
    },
    {
     "name": "stderr",
     "output_type": "stream",
     "text": [
      "/tmp/ipykernel_21521/3164365030.py:205: FutureWarning: Series.__getitem__ treating keys as positions is deprecated. In a future version, integer keys will always be treated as labels (consistent with DataFrame behavior). To access a value by position, use `ser.iloc[pos]`\n",
      "  print(\"\\n Resistance target  \" , df.index[i] , \"at  \", row['Close'] , \" R2 prev: \" , df['R2'][i-1] , \" entryprice\" , entry_price )\n"
     ]
    },
    {
     "name": "stdout",
     "output_type": "stream",
     "text": [
      "   -- entry Price - :  2024-03-27 10:45:00+05:30\n",
      " Position taken long at : 1NSE:HEROMOTOCO 2    \n",
      " Carryforward exit EOD long at-- entry Price - :   \n",
      " Resistance target  Day_count: -- entry Price - :  881.45    \n",
      "\n",
      " Position taken long at : 6205.8\n",
      "606.0\n",
      " Position taken long at : 27089.5709999999963264.55170.5738  2024-03-27 10:45:00+05:30    2260.0-- entry Price - :  2024-03-21 10:45:00+05:30position at   \n",
      "  \n",
      " \n",
      "2024-03-26 09:15:00+05:30 2024-03-28 14:45:00+05:301499.7525743.35R1 today    2024-03-28 11:15:00+05:30R1 today2024-03-27 11:15:00+05:30R1 today"
     ]
    },
    {
     "name": "stderr",
     "output_type": "stream",
     "text": [
      "/tmp/ipykernel_21521/1375693250.py:31: SettingWithCopyWarning: \n",
      "A value is trying to be set on a copy of a slice from a DataFrame.\n",
      "Try using .loc[row_indexer,col_indexer] = value instead\n",
      "\n",
      "See the caveats in the documentation: https://pandas.pydata.org/pandas-docs/stable/user_guide/indexing.html#returning-a-view-versus-a-copy\n",
      "  df['trade_end'] = (df[bar_count_col].shift(-1) < df[bar_count_col]) | (df[bar_count_col].shift(-1) == 0) | df[bar_count_col].eq(0)\n"
     ]
    },
    {
     "name": "stdout",
     "output_type": "stream",
     "text": [
      "-- entry Price - :     \n",
      "  R1 today245.7-- entry Price - :  1123.55     at  1R1 todayR1 today"
     ]
    },
    {
     "name": "stderr",
     "output_type": "stream",
     "text": [
      "/tmp/ipykernel_21521/1375693250.py:34: FutureWarning: Downcasting object dtype arrays on .fillna, .ffill, .bfill is deprecated and will change in a future version. Call result.infer_objects(copy=False) instead. To opt-in to the future behavior, set `pd.set_option('future.no_silent_downcasting', True)`\n",
      "  df['trade_start'] = df['trade_end'].shift(1).fillna(False) | df[bar_count_col].eq(1)\n"
     ]
    },
    {
     "name": "stdout",
     "output_type": "stream",
     "text": [
      "882.6785    -- entry Price - :  601.3670000000001-- entry Price - :  3262.87941340.5    2249.5568R1 today\n",
      "810.25Day_count: "
     ]
    },
    {
     "name": "stderr",
     "output_type": "stream",
     "text": [
      "/tmp/ipykernel_21521/1375693250.py:34: SettingWithCopyWarning: \n",
      "A value is trying to be set on a copy of a slice from a DataFrame.\n",
      "Try using .loc[row_indexer,col_indexer] = value instead\n",
      "\n",
      "See the caveats in the documentation: https://pandas.pydata.org/pandas-docs/stable/user_guide/indexing.html#returning-a-view-versus-a-copy\n",
      "  df['trade_start'] = df['trade_end'].shift(1).fillna(False) | df[bar_count_col].eq(1)\n"
     ]
    },
    {
     "name": "stdout",
     "output_type": "stream",
     "text": [
      " \n",
      " \n",
      " 3181.25position at  \n",
      " Position taken long at : 1493.88185759.329000000001\n",
      "   1099.5"
     ]
    },
    {
     "name": "stderr",
     "output_type": "stream",
     "text": [
      "/tmp/ipykernel_21521/1375693250.py:35: SettingWithCopyWarning: \n",
      "A value is trying to be set on a copy of a slice from a DataFrame.\n",
      "Try using .loc[row_indexer,col_indexer] = value instead\n",
      "\n",
      "See the caveats in the documentation: https://pandas.pydata.org/pandas-docs/stable/user_guide/indexing.html#returning-a-view-versus-a-copy\n",
      "  df['trade_start'] = df['trade_start'].astype(int)\n"
     ]
    },
    {
     "name": "stdout",
     "output_type": "stream",
     "text": [
      "425.25R1 today  \n",
      "\n",
      " 241.88279999999997R1 today2    R2 prev: 2667.95"
     ]
    },
    {
     "name": "stderr",
     "output_type": "stream",
     "text": [
      "/tmp/ipykernel_21521/1375693250.py:38: SettingWithCopyWarning: \n",
      "A value is trying to be set on a copy of a slice from a DataFrame.\n",
      "Try using .loc[row_indexer,col_indexer] = value instead\n",
      "\n",
      "See the caveats in the documentation: https://pandas.pydata.org/pandas-docs/stable/user_guide/indexing.html#returning-a-view-versus-a-copy\n",
      "  df['trade_id'] = df['trade_start'].cumsum()\n"
     ]
    },
    {
     "name": "stdout",
     "output_type": "stream",
     "text": [
      "\n",
      " Position Hit 2 day low 2024-03-28 11:15:00+05:30\n",
      " \n",
      "R1 todayR1 today 1321.638 807.2779999999999   3155.1833333333334\n",
      "1094.00030000000022024-03-26 09:15:00+05:30-- entry Price - :   \n",
      " \n",
      " Position taken long at : \n",
      " entryprice  605.72024-03-20 13:15:00+05:30   3154.55\n",
      " Position taken long at : -- entry Price - :  "
     ]
    },
    {
     "name": "stderr",
     "output_type": "stream",
     "text": [
      "/tmp/ipykernel_21521/3164365030.py:205: FutureWarning: Series.__getitem__ treating keys as positions is deprecated. In a future version, integer keys will always be treated as labels (consistent with DataFrame behavior). To access a value by position, use `ser.iloc[pos]`\n",
      "  print(\"\\n Resistance target  \" , df.index[i] , \"at  \", row['Close'] , \" R2 prev: \" , df['R2'][i-1] , \" entryprice\" , entry_price )\n"
     ]
    },
    {
     "name": "stdout",
     "output_type": "stream",
     "text": [
      "R1 today\n",
      "  2024-03-28 11:45:00+05:30 \n",
      " Resistance target  6703.6"
     ]
    },
    {
     "name": "stderr",
     "output_type": "stream",
     "text": [
      "/tmp/ipykernel_21521/3164365030.py:143: FutureWarning: Series.__getitem__ treating keys as positions is deprecated. In a future version, integer keys will always be treated as labels (consistent with DataFrame behavior). To access a value by position, use `ser.iloc[pos]`\n",
      "  if position != 0 and intra_Exit==0 and day_count>=n_day_Exit and bar_counts[i]>1 and df['Close'][i]<df['Close'][i-1]  :\n"
     ]
    },
    {
     "name": "stdout",
     "output_type": "stream",
     "text": [
      "\n",
      " Carryforward exit EOD long at  604.9742 \n",
      " Carryforward exit EOD long at-- entry Price - :  2024-03-28 14:45:00+05:30 \n",
      " R1 today 2024-04-02 09:15:00+05:302024-04-02 09:15:00+05:30 at    288.2  1 16680.4676 \n",
      " Position taken long at : R1 today2282.3\n",
      " Position taken long at : \n",
      "position at      286.88929999999993 R2 prev: 2024-03-28 11:15:00+05:3027441.6\n",
      "   2275.1333333333331Day_count: -- entry Price - :      position at   entryprice21151.4 \n",
      " Carryforward exit EOD long at\n",
      " Carryforward exit EOD long at  \n",
      "  2260.02024-03-28 10:45:00+05:301197.0Day_count: \n",
      "R1 today \n",
      " [(Timestamp('2024-03-21 11:15:00+0530', tz='UTC+05:30'), 'NSE:ADANIENT', 1, 3093.4, 1), (Timestamp('2024-03-26 10:15:00+0530', tz='UTC+05:30'), 'NSE:ADANIENT', 0, 3134.0, 16), (Timestamp('2024-03-28 10:45:00+0530', tz='UTC+05:30'), 'NSE:ADANIENT', 1, 3154.55, 1), (Timestamp('2024-03-28 14:45:00+0530', tz='UTC+05:30'), 'NSE:ADANIENT', 0, 3181.25, 20)] -- entry Price - :  2\n",
      "1137.9379999999999  \n"
     ]
    },
    {
     "name": "stderr",
     "output_type": "stream",
     "text": [
      "/tmp/ipykernel_21521/3164365030.py:143: FutureWarning: Series.__getitem__ treating keys as positions is deprecated. In a future version, integer keys will always be treated as labels (consistent with DataFrame behavior). To access a value by position, use `ser.iloc[pos]`\n",
      "  if position != 0 and intra_Exit==0 and day_count>=n_day_Exit and bar_counts[i]>1 and df['Close'][i]<df['Close'][i-1]  :\n"
     ]
    },
    {
     "name": "stdout",
     "output_type": "stream",
     "text": [
      "\n",
      " Carryforward exit EOD long at\n",
      "position at  6140.2\n",
      " Carryforward exit EOD long at  \n",
      " \n",
      " The Outputting to trade file  2024-04-02 09:15:00+05:30R1 today2024-03-22 09:15:00+05:30   /home/aakash_tandon/Python_strategies/Live_aakash_fno_CF_v1/symbol_wise_trades/NSE:HEROMOTOCO.csv \n",
      " Carryforward exit EOD long at1\n",
      "Creating trade log for  16141.558599999999 \n",
      "423.41179999999991638.55 \n",
      "\n",
      " Position taken long at : position at  [(Timestamp('2024-03-18 14:45:00+0530', tz='UTC+05:30'), 'NSE:ABBOTINDIA', 1, 28503.8, 1), (Timestamp('2024-03-20 09:15:00+0530', tz='UTC+05:30'), 'NSE:ABBOTINDIA', 0, 28094.8, 16), (Timestamp('2024-03-28 15:15:00+0530', tz='UTC+05:30'), 'NSE:ABBOTINDIA', 1, 27100.0, 1), (Timestamp('2024-04-02 09:15:00+0530', tz='UTC+05:30'), 'NSE:ABBOTINDIA', 0, 27441.6, 16)]\n",
      "    NSE:ADANIENTDay_count: 2024-03-27 11:45:00+05:30\n",
      " \n",
      " Carryforward exit EOD long at2024-04-01 10:15:00+05:30 1488.952 -- entry Price - :  \n",
      "  1\n",
      " Position Hit 2 day low  "
     ]
    },
    {
     "name": "stderr",
     "output_type": "stream",
     "text": [
      "/tmp/ipykernel_21521/3164365030.py:205: FutureWarning: Series.__getitem__ treating keys as positions is deprecated. In a future version, integer keys will always be treated as labels (consistent with DataFrame behavior). To access a value by position, use `ser.iloc[pos]`\n",
      "  print(\"\\n Resistance target  \" , df.index[i] , \"at  \", row['Close'] , \" R2 prev: \" , df['R2'][i-1] , \" entryprice\" , entry_price )\n"
     ]
    },
    {
     "name": "stdout",
     "output_type": "stream",
     "text": [
      "\n",
      " Day_count: [(Timestamp('2024-03-18 13:15:00+0530', tz='UTC+05:30'), 'NSE:GRASIM', 1, 2204.2, 1), (Timestamp('2024-03-20 09:15:00+0530', tz='UTC+05:30'), 'NSE:GRASIM', 0, 2152.15, 13), (Timestamp('2024-03-28 11:45:00+0530', tz='UTC+05:30'), 'NSE:GRASIM', 1, 2260.0, 1), (Timestamp('2024-03-28 14:45:00+0530', tz='UTC+05:30'), 'NSE:GRASIM', 0, 2282.3, 20)]1213.55\n",
      " Resistance target  position at   \n",
      "  "
     ]
    },
    {
     "name": "stderr",
     "output_type": "stream",
     "text": [
      "/tmp/ipykernel_21521/1375693250.py:31: SettingWithCopyWarning: \n",
      "A value is trying to be set on a copy of a slice from a DataFrame.\n",
      "Try using .loc[row_indexer,col_indexer] = value instead\n",
      "\n",
      "See the caveats in the documentation: https://pandas.pydata.org/pandas-docs/stable/user_guide/indexing.html#returning-a-view-versus-a-copy\n",
      "  df['trade_end'] = (df[bar_count_col].shift(-1) < df[bar_count_col]) | (df[bar_count_col].shift(-1) == 0) | df[bar_count_col].eq(0)\n"
     ]
    },
    {
     "name": "stdout",
     "output_type": "stream",
     "text": [
      "\n",
      " Carryforward exit EOD long at 22024-04-02 09:15:00+05:302024-03-28 14:45:00+05:30 \n",
      " 173.3 2024-04-01 10:15:00+05:30\n",
      " Carryforward exit EOD long at1  \n",
      "Creating trade log for at  2024-04-01 10:45:00+05:30  Day_count:  1 position at    2024-03-26 10:15:00+05:30 NSE:ABBOTINDIA1153.6  1\n",
      "Creating trade log for2 position at  \n",
      "R1 today1083.95 \n",
      " Carryforward exit EOD long at \n",
      " 1 R2 prev:  \n",
      "\n",
      " Carryforward exit EOD long atposition at  \n",
      " Carryforward exit EOD long at NSE:GRASIM\n",
      " Carryforward exit EOD long at[(Timestamp('2024-03-21 11:15:00+0530', tz='UTC+05:30'), 'NSE:BAJAJFINSV', 1, 1598.65, 1), (Timestamp('2024-03-22 15:15:00+0530', tz='UTC+05:30'), 'NSE:BAJAJFINSV', 0, 1584.0, 13), (Timestamp('2024-03-28 11:15:00+0530', tz='UTC+05:30'), 'NSE:BAJAJFINSV', 1, 1648.75, 1), (Timestamp('2024-04-02 09:15:00+0530', tz='UTC+05:30'), 'NSE:BAJAJFINSV', 0, 1638.55, 16)]250.2 1211.6684999999998   "
     ]
    },
    {
     "name": "stderr",
     "output_type": "stream",
     "text": [
      "/tmp/ipykernel_21521/1375693250.py:34: FutureWarning: Downcasting object dtype arrays on .fillna, .ffill, .bfill is deprecated and will change in a future version. Call result.infer_objects(copy=False) instead. To opt-in to the future behavior, set `pd.set_option('future.no_silent_downcasting', True)`\n",
      "  df['trade_start'] = df['trade_end'].shift(1).fillna(False) | df[bar_count_col].eq(1)\n"
     ]
    },
    {
     "name": "stdout",
     "output_type": "stream",
     "text": [
      " 2024-04-02 09:45:00+05:30 \n",
      " position at  \n",
      "1144.28333333333332024-03-22 10:15:00+05:30"
     ]
    },
    {
     "name": "stderr",
     "output_type": "stream",
     "text": [
      "/tmp/ipykernel_21521/1375693250.py:31: SettingWithCopyWarning: \n",
      "A value is trying to be set on a copy of a slice from a DataFrame.\n",
      "Try using .loc[row_indexer,col_indexer] = value instead\n",
      "\n",
      "See the caveats in the documentation: https://pandas.pydata.org/pandas-docs/stable/user_guide/indexing.html#returning-a-view-versus-a-copy\n",
      "  df['trade_end'] = (df[bar_count_col].shift(-1) < df[bar_count_col]) | (df[bar_count_col].shift(-1) == 0) | df[bar_count_col].eq(0)\n"
     ]
    },
    {
     "name": "stdout",
     "output_type": "stream",
     "text": [
      "2024-04-01 10:45:00+05:30950.052024-03-26 13:45:00+05:30"
     ]
    },
    {
     "name": "stderr",
     "output_type": "stream",
     "text": [
      "/tmp/ipykernel_21521/3164365030.py:134: FutureWarning: Series.__getitem__ treating keys as positions is deprecated. In a future version, integer keys will always be treated as labels (consistent with DataFrame behavior). To access a value by position, use `ser.iloc[pos]`\n",
      "  print(\"\\n Large bear bar\" , df.index[i]  , \"Day_count: \" , day_count , \"close: \" , df['Close'][i] , df['Open'][i] )\n"
     ]
    },
    {
     "name": "stdout",
     "output_type": "stream",
     "text": [
      " [(Timestamp('2024-03-21 11:15:00+0530', tz='UTC+05:30'), 'NSE:CIPLA', 1, 1449.55, 1), (Timestamp('2024-03-26 09:15:00+0530', tz='UTC+05:30'), 'NSE:CIPLA', 0, 1468.8, 16), (Timestamp('2024-03-28 13:45:00+0530', tz='UTC+05:30'), 'NSE:CIPLA', 1, 1499.75, 1), (Timestamp('2024-04-02 09:15:00+0530', tz='UTC+05:30'), 'NSE:CIPLA', 0, 1488.95, 16)]2024-04-01 09:45:00+05:30 "
     ]
    },
    {
     "name": "stderr",
     "output_type": "stream",
     "text": [
      "/tmp/ipykernel_21521/1375693250.py:34: SettingWithCopyWarning: \n",
      "A value is trying to be set on a copy of a slice from a DataFrame.\n",
      "Try using .loc[row_indexer,col_indexer] = value instead\n",
      "\n",
      "See the caveats in the documentation: https://pandas.pydata.org/pandas-docs/stable/user_guide/indexing.html#returning-a-view-versus-a-copy\n",
      "  df['trade_start'] = df['trade_end'].shift(1).fillna(False) | df[bar_count_col].eq(1)\n"
     ]
    },
    {
     "name": "stdout",
     "output_type": "stream",
     "text": [
      "Day_count: \n",
      "      [(Timestamp('2024-03-21 11:15:00+0530', tz='UTC+05:30'), 'NSE:INDIAMART', 1, 2643.1, 1), (Timestamp('2024-03-26 09:15:00+0530', tz='UTC+05:30'), 'NSE:INDIAMART', 0, 2667.95, 16)]1"
     ]
    },
    {
     "name": "stderr",
     "output_type": "stream",
     "text": [
      "/tmp/ipykernel_21521/1375693250.py:34: FutureWarning: Downcasting object dtype arrays on .fillna, .ffill, .bfill is deprecated and will change in a future version. Call result.infer_objects(copy=False) instead. To opt-in to the future behavior, set `pd.set_option('future.no_silent_downcasting', True)`\n",
      "  df['trade_start'] = df['trade_end'].shift(1).fillna(False) | df[bar_count_col].eq(1)\n"
     ]
    },
    {
     "name": "stdout",
     "output_type": "stream",
     "text": [
      "\n",
      " Large bear bar\n",
      " 2024-04-01 11:15:00+05:30\n",
      " \n",
      " The Outputting dataframe to file file  821.3"
     ]
    },
    {
     "name": "stderr",
     "output_type": "stream",
     "text": [
      "/tmp/ipykernel_21521/1375693250.py:35: SettingWithCopyWarning: \n",
      "A value is trying to be set on a copy of a slice from a DataFrame.\n",
      "Try using .loc[row_indexer,col_indexer] = value instead\n",
      "\n",
      "See the caveats in the documentation: https://pandas.pydata.org/pandas-docs/stable/user_guide/indexing.html#returning-a-view-versus-a-copy\n",
      "  df['trade_start'] = df['trade_start'].astype(int)\n"
     ]
    },
    {
     "name": "stdout",
     "output_type": "stream",
     "text": [
      " entryprice 11"
     ]
    },
    {
     "name": "stderr",
     "output_type": "stream",
     "text": [
      "/tmp/ipykernel_21521/1375693250.py:31: SettingWithCopyWarning: \n",
      "A value is trying to be set on a copy of a slice from a DataFrame.\n",
      "Try using .loc[row_indexer,col_indexer] = value instead\n",
      "\n",
      "See the caveats in the documentation: https://pandas.pydata.org/pandas-docs/stable/user_guide/indexing.html#returning-a-view-versus-a-copy\n",
      "  df['trade_end'] = (df[bar_count_col].shift(-1) < df[bar_count_col]) | (df[bar_count_col].shift(-1) == 0) | df[bar_count_col].eq(0)\n"
     ]
    },
    {
     "name": "stdout",
     "output_type": "stream",
     "text": [
      "Day_count: 1\n",
      "  1  "
     ]
    },
    {
     "name": "stderr",
     "output_type": "stream",
     "text": [
      "/tmp/ipykernel_21521/1375693250.py:34: SettingWithCopyWarning: \n",
      "A value is trying to be set on a copy of a slice from a DataFrame.\n",
      "Try using .loc[row_indexer,col_indexer] = value instead\n",
      "\n",
      "See the caveats in the documentation: https://pandas.pydata.org/pandas-docs/stable/user_guide/indexing.html#returning-a-view-versus-a-copy\n",
      "  df['trade_start'] = df['trade_end'].shift(1).fillna(False) | df[bar_count_col].eq(1)\n"
     ]
    },
    {
     "name": "stdout",
     "output_type": "stream",
     "text": [
      "  position at  [(Timestamp('2024-03-20 13:45:00+0530', tz='UTC+05:30'), 'NSE:ICICIBANK', 1, 1084.4, 1), (Timestamp('2024-03-22 10:15:00+0530', tz='UTC+05:30'), 'NSE:ICICIBANK', 0, 1090.15, 16), (Timestamp('2024-03-28 11:15:00+0530', tz='UTC+05:30'), 'NSE:ICICIBANK', 1, 1099.5, 1), (Timestamp('2024-04-02 09:15:00+0530', tz='UTC+05:30'), 'NSE:ICICIBANK', 0, 1083.95, 13)] "
     ]
    },
    {
     "name": "stderr",
     "output_type": "stream",
     "text": [
      "/tmp/ipykernel_21521/1375693250.py:38: SettingWithCopyWarning: \n",
      "A value is trying to be set on a copy of a slice from a DataFrame.\n",
      "Try using .loc[row_indexer,col_indexer] = value instead\n",
      "\n",
      "See the caveats in the documentation: https://pandas.pydata.org/pandas-docs/stable/user_guide/indexing.html#returning-a-view-versus-a-copy\n",
      "  df['trade_id'] = df['trade_start'].cumsum()\n"
     ]
    },
    {
     "name": "stdout",
     "output_type": "stream",
     "text": [
      "2  position at  2024-04-02 09:15:00+05:30"
     ]
    },
    {
     "name": "stderr",
     "output_type": "stream",
     "text": [
      "/tmp/ipykernel_21521/1375693250.py:34: FutureWarning: Downcasting object dtype arrays on .fillna, .ffill, .bfill is deprecated and will change in a future version. Call result.infer_objects(copy=False) instead. To opt-in to the future behavior, set `pd.set_option('future.no_silent_downcasting', True)`\n",
      "  df['trade_start'] = df['trade_end'].shift(1).fillna(False) | df[bar_count_col].eq(1)\n"
     ]
    },
    {
     "name": "stdout",
     "output_type": "stream",
     "text": [
      "  1\n",
      "Creating trade log for/home/aakash_tandon/Python_strategies/Live_aakash_fno_CF_v1/symbol_wise_dataframe/NSE:HEROMOTOCO.csvDay_count: 1151.4"
     ]
    },
    {
     "name": "stderr",
     "output_type": "stream",
     "text": [
      "/tmp/ipykernel_21521/1375693250.py:35: SettingWithCopyWarning: \n",
      "A value is trying to be set on a copy of a slice from a DataFrame.\n",
      "Try using .loc[row_indexer,col_indexer] = value instead\n",
      "\n",
      "See the caveats in the documentation: https://pandas.pydata.org/pandas-docs/stable/user_guide/indexing.html#returning-a-view-versus-a-copy\n",
      "  df['trade_start'] = df['trade_start'].astype(int)\n"
     ]
    },
    {
     "name": "stdout",
     "output_type": "stream",
     "text": [
      " \n",
      "position at  \n",
      "2position at   \n",
      "Creating trade log for [(Timestamp('2024-03-21 15:15:00+0530', tz='UTC+05:30'), 'NSE:ASHOKLEY', 1, 166.7, 1), (Timestamp('2024-03-26 12:45:00+0530', tz='UTC+05:30'), 'NSE:ASHOKLEY', 0, 169.55, 16), (Timestamp('2024-03-27 12:15:00+0530', tz='UTC+05:30'), 'NSE:ASHOKLEY', 1, 170.95, 1), (Timestamp('2024-04-01 10:15:00+0530', tz='UTC+05:30'), 'NSE:ASHOKLEY', 0, 173.3, 16)]position at  position at    \n"
     ]
    },
    {
     "name": "stderr",
     "output_type": "stream",
     "text": [
      "/tmp/ipykernel_21521/1375693250.py:34: SettingWithCopyWarning: \n",
      "A value is trying to be set on a copy of a slice from a DataFrame.\n",
      "Try using .loc[row_indexer,col_indexer] = value instead\n",
      "\n",
      "See the caveats in the documentation: https://pandas.pydata.org/pandas-docs/stable/user_guide/indexing.html#returning-a-view-versus-a-copy\n",
      "  df['trade_start'] = df['trade_end'].shift(1).fillna(False) | df[bar_count_col].eq(1)\n"
     ]
    },
    {
     "name": "stdout",
     "output_type": "stream",
     "text": [
      " "
     ]
    },
    {
     "name": "stderr",
     "output_type": "stream",
     "text": [
      "/tmp/ipykernel_21521/3164365030.py:205: FutureWarning: Series.__getitem__ treating keys as positions is deprecated. In a future version, integer keys will always be treated as labels (consistent with DataFrame behavior). To access a value by position, use `ser.iloc[pos]`\n",
      "  print(\"\\n Resistance target  \" , df.index[i] , \"at  \", row['Close'] , \" R2 prev: \" , df['R2'][i-1] , \" entryprice\" , entry_price )\n"
     ]
    },
    {
     "name": "stdout",
     "output_type": "stream",
     "text": [
      "\n",
      "5851.0 "
     ]
    },
    {
     "name": "stderr",
     "output_type": "stream",
     "text": [
      "/tmp/ipykernel_21521/1375693250.py:38: SettingWithCopyWarning: \n",
      "A value is trying to be set on a copy of a slice from a DataFrame.\n",
      "Try using .loc[row_indexer,col_indexer] = value instead\n",
      "\n",
      "See the caveats in the documentation: https://pandas.pydata.org/pandas-docs/stable/user_guide/indexing.html#returning-a-view-versus-a-copy\n",
      "  df['trade_id'] = df['trade_start'].cumsum()\n"
     ]
    },
    {
     "name": "stdout",
     "output_type": "stream",
     "text": [
      "\n",
      "Creating trade log for\n",
      " 620.75  Day_count: \n",
      "  position at  NSE:BAJAJFINSV2\n",
      " Resistance target  "
     ]
    },
    {
     "name": "stderr",
     "output_type": "stream",
     "text": [
      "/tmp/ipykernel_21521/1375693250.py:35: SettingWithCopyWarning: \n",
      "A value is trying to be set on a copy of a slice from a DataFrame.\n",
      "Try using .loc[row_indexer,col_indexer] = value instead\n",
      "\n",
      "See the caveats in the documentation: https://pandas.pydata.org/pandas-docs/stable/user_guide/indexing.html#returning-a-view-versus-a-copy\n",
      "  df['trade_start'] = df['trade_start'].astype(int)\n"
     ]
    },
    {
     "name": "stdout",
     "output_type": "stream",
     "text": [
      " 622.1 3462.0 "
     ]
    },
    {
     "name": "stderr",
     "output_type": "stream",
     "text": [
      "/tmp/ipykernel_21521/3164365030.py:143: FutureWarning: Series.__getitem__ treating keys as positions is deprecated. In a future version, integer keys will always be treated as labels (consistent with DataFrame behavior). To access a value by position, use `ser.iloc[pos]`\n",
      "  if position != 0 and intra_Exit==0 and day_count>=n_day_Exit and bar_counts[i]>1 and df['Close'][i]<df['Close'][i-1]  :\n"
     ]
    },
    {
     "name": "stdout",
     "output_type": "stream",
     "text": [
      "NSE:CIPLA 267.456754.0\n",
      "\n",
      "Creating trade log for\n",
      " \n",
      " Processing signals of : \n",
      " Carryforward exit EOD long atDay_count:  NSE:INDIAMART Day_count: \n",
      "2"
     ]
    },
    {
     "name": "stderr",
     "output_type": "stream",
     "text": [
      "/tmp/ipykernel_21521/1375693250.py:38: SettingWithCopyWarning: \n",
      "A value is trying to be set on a copy of a slice from a DataFrame.\n",
      "Try using .loc[row_indexer,col_indexer] = value instead\n",
      "\n",
      "See the caveats in the documentation: https://pandas.pydata.org/pandas-docs/stable/user_guide/indexing.html#returning-a-view-versus-a-copy\n",
      "  df['trade_id'] = df['trade_start'].cumsum()\n"
     ]
    },
    {
     "name": "stdout",
     "output_type": "stream",
     "text": [
      " \n",
      " Carryforward exit EOD long at 1372.0 2024-03-27 15:15:00+05:30   Day_count: \n",
      "Day_count:   Day_count: \n",
      "Creating trade log for Day_count:  NSE:ICICIBANK NSE:KOTAKBANK2024-04-01 09:45:00+05:302 "
     ]
    },
    {
     "name": "stderr",
     "output_type": "stream",
     "text": [
      "/tmp/ipykernel_21521/1375693250.py:31: SettingWithCopyWarning: \n",
      "A value is trying to be set on a copy of a slice from a DataFrame.\n",
      "Try using .loc[row_indexer,col_indexer] = value instead\n",
      "\n",
      "See the caveats in the documentation: https://pandas.pydata.org/pandas-docs/stable/user_guide/indexing.html#returning-a-view-versus-a-copy\n",
      "  df['trade_end'] = (df[bar_count_col].shift(-1) < df[bar_count_col]) | (df[bar_count_col].shift(-1) == 0) | df[bar_count_col].eq(0)\n"
     ]
    },
    {
     "name": "stdout",
     "output_type": "stream",
     "text": [
      " 2close:   2024-04-02 09:15:00+05:30 Day_count: \n",
      "at  \n",
      " "
     ]
    },
    {
     "name": "stderr",
     "output_type": "stream",
     "text": [
      "/tmp/ipykernel_21521/1375693250.py:31: SettingWithCopyWarning: \n",
      "A value is trying to be set on a copy of a slice from a DataFrame.\n",
      "Try using .loc[row_indexer,col_indexer] = value instead\n",
      "\n",
      "See the caveats in the documentation: https://pandas.pydata.org/pandas-docs/stable/user_guide/indexing.html#returning-a-view-versus-a-copy\n",
      "  df['trade_end'] = (df[bar_count_col].shift(-1) < df[bar_count_col]) | (df[bar_count_col].shift(-1) == 0) | df[bar_count_col].eq(0)\n"
     ]
    },
    {
     "name": "stdout",
     "output_type": "stream",
     "text": [
      "\n",
      "22\n",
      " 2NSE:ASHOKLEY[(Timestamp('2024-03-21 14:45:00+0530', tz='UTC+05:30'), 'NSE:BHEL', 1, 237.35, 1), (Timestamp('2024-03-26 09:15:00+0530', tz='UTC+05:30'), 'NSE:BHEL', 0, 236.75, 16), (Timestamp('2024-03-27 10:45:00+0530', tz='UTC+05:30'), 'NSE:BHEL', 1, 245.7, 1), (Timestamp('2024-04-01 10:15:00+0530', tz='UTC+05:30'), 'NSE:BHEL', 0, 250.2, 16)]"
     ]
    },
    {
     "name": "stderr",
     "output_type": "stream",
     "text": [
      "/tmp/ipykernel_21521/1375693250.py:34: FutureWarning: Downcasting object dtype arrays on .fillna, .ffill, .bfill is deprecated and will change in a future version. Call result.infer_objects(copy=False) instead. To opt-in to the future behavior, set `pd.set_option('future.no_silent_downcasting', True)`\n",
      "  df['trade_start'] = df['trade_end'].shift(1).fillna(False) | df[bar_count_col].eq(1)\n"
     ]
    },
    {
     "name": "stdout",
     "output_type": "stream",
     "text": [
      " 2 "
     ]
    },
    {
     "name": "stderr",
     "output_type": "stream",
     "text": [
      "/tmp/ipykernel_21521/1375693250.py:31: SettingWithCopyWarning: \n",
      "A value is trying to be set on a copy of a slice from a DataFrame.\n",
      "Try using .loc[row_indexer,col_indexer] = value instead\n",
      "\n",
      "See the caveats in the documentation: https://pandas.pydata.org/pandas-docs/stable/user_guide/indexing.html#returning-a-view-versus-a-copy\n",
      "  df['trade_end'] = (df[bar_count_col].shift(-1) < df[bar_count_col]) | (df[bar_count_col].shift(-1) == 0) | df[bar_count_col].eq(0)\n"
     ]
    },
    {
     "name": "stdout",
     "output_type": "stream",
     "text": [
      " 1\n",
      "\n",
      "306.2"
     ]
    },
    {
     "name": "stderr",
     "output_type": "stream",
     "text": [
      "/tmp/ipykernel_21521/1375693250.py:34: FutureWarning: Downcasting object dtype arrays on .fillna, .ffill, .bfill is deprecated and will change in a future version. Call result.infer_objects(copy=False) instead. To opt-in to the future behavior, set `pd.set_option('future.no_silent_downcasting', True)`\n",
      "  df['trade_start'] = df['trade_end'].shift(1).fillna(False) | df[bar_count_col].eq(1)\n"
     ]
    },
    {
     "name": "stdout",
     "output_type": "stream",
     "text": [
      "\n",
      "\n",
      "\n",
      "[(Timestamp('2024-03-21 13:15:00+0530', tz='UTC+05:30'), 'NSE:DLF', 1, 854.4, 1), (Timestamp('2024-03-26 09:15:00+0530', tz='UTC+05:30'), 'NSE:DLF', 0, 861.2, 16), (Timestamp('2024-03-27 10:45:00+0530', tz='UTC+05:30'), 'NSE:DLF', 1, 881.45, 1), (Timestamp('2024-04-01 10:45:00+0530', tz='UTC+05:30'), 'NSE:DLF', 0, 950.05, 16)]1\n",
      "21230.0"
     ]
    },
    {
     "name": "stderr",
     "output_type": "stream",
     "text": [
      "/tmp/ipykernel_21521/1375693250.py:34: SettingWithCopyWarning: \n",
      "A value is trying to be set on a copy of a slice from a DataFrame.\n",
      "Try using .loc[row_indexer,col_indexer] = value instead\n",
      "\n",
      "See the caveats in the documentation: https://pandas.pydata.org/pandas-docs/stable/user_guide/indexing.html#returning-a-view-versus-a-copy\n",
      "  df['trade_start'] = df['trade_end'].shift(1).fillna(False) | df[bar_count_col].eq(1)\n"
     ]
    },
    {
     "name": "stdout",
     "output_type": "stream",
     "text": [
      " "
     ]
    },
    {
     "name": "stderr",
     "output_type": "stream",
     "text": [
      "/tmp/ipykernel_21521/3164365030.py:66: FutureWarning: Series.__getitem__ treating keys as positions is deprecated. In a future version, integer keys will always be treated as labels (consistent with DataFrame behavior). To access a value by position, use `ser.iloc[pos]`\n",
      "  if ( df['signal'][i-1]==1 or df['signal'][i]==1) and position == 0  and df['Close'][i]<df['Close'][i-1] and df['indClose'][i]>df['indtodayo'][i]*0.999 :\n"
     ]
    },
    {
     "name": "stdout",
     "output_type": "stream",
     "text": [
      "\n",
      " Position taken long at : "
     ]
    },
    {
     "name": "stderr",
     "output_type": "stream",
     "text": [
      "/tmp/ipykernel_21521/1375693250.py:34: FutureWarning: Downcasting object dtype arrays on .fillna, .ffill, .bfill is deprecated and will change in a future version. Call result.infer_objects(copy=False) instead. To opt-in to the future behavior, set `pd.set_option('future.no_silent_downcasting', True)`\n",
      "  df['trade_start'] = df['trade_end'].shift(1).fillna(False) | df[bar_count_col].eq(1)\n"
     ]
    },
    {
     "name": "stdout",
     "output_type": "stream",
     "text": [
      " "
     ]
    },
    {
     "name": "stderr",
     "output_type": "stream",
     "text": [
      "/tmp/ipykernel_21521/1375693250.py:31: SettingWithCopyWarning: \n",
      "A value is trying to be set on a copy of a slice from a DataFrame.\n",
      "Try using .loc[row_indexer,col_indexer] = value instead\n",
      "\n",
      "See the caveats in the documentation: https://pandas.pydata.org/pandas-docs/stable/user_guide/indexing.html#returning-a-view-versus-a-copy\n",
      "  df['trade_end'] = (df[bar_count_col].shift(-1) < df[bar_count_col]) | (df[bar_count_col].shift(-1) == 0) | df[bar_count_col].eq(0)\n"
     ]
    },
    {
     "name": "stdout",
     "output_type": "stream",
     "text": [
      "\n",
      "[(Timestamp('2024-03-21 11:15:00+0530', tz='UTC+05:30'), 'NSE:CHOLAFIN', 1, 1050.0, 1), (Timestamp('2024-03-26 12:45:00+0530', tz='UTC+05:30'), 'NSE:CHOLAFIN', 0, 1123.55, 16), (Timestamp('2024-03-28 11:15:00+0530', tz='UTC+05:30'), 'NSE:CHOLAFIN', 1, 1151.4, 1), (Timestamp('2024-03-28 14:45:00+0530', tz='UTC+05:30'), 'NSE:CHOLAFIN', 0, 1153.6, 20)] "
     ]
    },
    {
     "name": "stderr",
     "output_type": "stream",
     "text": [
      "/tmp/ipykernel_21521/1375693250.py:34: SettingWithCopyWarning: \n",
      "A value is trying to be set on a copy of a slice from a DataFrame.\n",
      "Try using .loc[row_indexer,col_indexer] = value instead\n",
      "\n",
      "See the caveats in the documentation: https://pandas.pydata.org/pandas-docs/stable/user_guide/indexing.html#returning-a-view-versus-a-copy\n",
      "  df['trade_start'] = df['trade_end'].shift(1).fillna(False) | df[bar_count_col].eq(1)\n"
     ]
    },
    {
     "name": "stdout",
     "output_type": "stream",
     "text": [
      "\n",
      "position at   \n",
      " "
     ]
    },
    {
     "name": "stderr",
     "output_type": "stream",
     "text": [
      "/tmp/ipykernel_21521/1375693250.py:34: SettingWithCopyWarning: \n",
      "A value is trying to be set on a copy of a slice from a DataFrame.\n",
      "Try using .loc[row_indexer,col_indexer] = value instead\n",
      "\n",
      "See the caveats in the documentation: https://pandas.pydata.org/pandas-docs/stable/user_guide/indexing.html#returning-a-view-versus-a-copy\n",
      "  df['trade_start'] = df['trade_end'].shift(1).fillna(False) | df[bar_count_col].eq(1)\n"
     ]
    },
    {
     "name": "stdout",
     "output_type": "stream",
     "text": [
      "314.5"
     ]
    },
    {
     "name": "stderr",
     "output_type": "stream",
     "text": [
      "/tmp/ipykernel_21521/1375693250.py:35: SettingWithCopyWarning: \n",
      "A value is trying to be set on a copy of a slice from a DataFrame.\n",
      "Try using .loc[row_indexer,col_indexer] = value instead\n",
      "\n",
      "See the caveats in the documentation: https://pandas.pydata.org/pandas-docs/stable/user_guide/indexing.html#returning-a-view-versus-a-copy\n",
      "  df['trade_start'] = df['trade_start'].astype(int)\n"
     ]
    },
    {
     "name": "stdout",
     "output_type": "stream",
     "text": [
      " "
     ]
    },
    {
     "name": "stderr",
     "output_type": "stream",
     "text": [
      "/tmp/ipykernel_21521/1375693250.py:31: SettingWithCopyWarning: \n",
      "A value is trying to be set on a copy of a slice from a DataFrame.\n",
      "Try using .loc[row_indexer,col_indexer] = value instead\n",
      "\n",
      "See the caveats in the documentation: https://pandas.pydata.org/pandas-docs/stable/user_guide/indexing.html#returning-a-view-versus-a-copy\n",
      "  df['trade_end'] = (df[bar_count_col].shift(-1) < df[bar_count_col]) | (df[bar_count_col].shift(-1) == 0) | df[bar_count_col].eq(0)\n"
     ]
    },
    {
     "name": "stdout",
     "output_type": "stream",
     "text": [
      "\n"
     ]
    },
    {
     "name": "stderr",
     "output_type": "stream",
     "text": [
      "/tmp/ipykernel_21521/1375693250.py:34: FutureWarning: Downcasting object dtype arrays on .fillna, .ffill, .bfill is deprecated and will change in a future version. Call result.infer_objects(copy=False) instead. To opt-in to the future behavior, set `pd.set_option('future.no_silent_downcasting', True)`\n",
      "  df['trade_start'] = df['trade_end'].shift(1).fillna(False) | df[bar_count_col].eq(1)\n"
     ]
    },
    {
     "name": "stdout",
     "output_type": "stream",
     "text": [
      "439.2"
     ]
    },
    {
     "name": "stderr",
     "output_type": "stream",
     "text": [
      "/tmp/ipykernel_21521/1375693250.py:38: SettingWithCopyWarning: \n",
      "A value is trying to be set on a copy of a slice from a DataFrame.\n",
      "Try using .loc[row_indexer,col_indexer] = value instead\n",
      "\n",
      "See the caveats in the documentation: https://pandas.pydata.org/pandas-docs/stable/user_guide/indexing.html#returning-a-view-versus-a-copy\n",
      "  df['trade_id'] = df['trade_start'].cumsum()\n"
     ]
    },
    {
     "name": "stdout",
     "output_type": "stream",
     "text": [
      "\n",
      "Creating trade log for"
     ]
    },
    {
     "name": "stderr",
     "output_type": "stream",
     "text": [
      "/tmp/ipykernel_21521/1375693250.py:34: FutureWarning: Downcasting object dtype arrays on .fillna, .ffill, .bfill is deprecated and will change in a future version. Call result.infer_objects(copy=False) instead. To opt-in to the future behavior, set `pd.set_option('future.no_silent_downcasting', True)`\n",
      "  df['trade_start'] = df['trade_end'].shift(1).fillna(False) | df[bar_count_col].eq(1)\n"
     ]
    },
    {
     "name": "stdout",
     "output_type": "stream",
     "text": [
      "  \n",
      " \n",
      " The Outputting to trade file [(Timestamp('2024-03-21 15:15:00+0530', tz='UTC+05:30'), 'NSE:ICICIPRULI', 1, 579.5, 1), (Timestamp('2024-03-26 09:45:00+0530', tz='UTC+05:30'), 'NSE:ICICIPRULI', 0, 593.5, 16), (Timestamp('2024-03-28 11:15:00+0530', tz='UTC+05:30'), 'NSE:ICICIPRULI', 1, 605.7, 1), (Timestamp('2024-04-02 09:45:00+0530', tz='UTC+05:30'), 'NSE:ICICIPRULI', 0, 620.75, 16)]NSE:BHELDay_count: \n",
      "Creating trade log for"
     ]
    },
    {
     "name": "stderr",
     "output_type": "stream",
     "text": [
      "/tmp/ipykernel_21521/1375693250.py:34: SettingWithCopyWarning: \n",
      "A value is trying to be set on a copy of a slice from a DataFrame.\n",
      "Try using .loc[row_indexer,col_indexer] = value instead\n",
      "\n",
      "See the caveats in the documentation: https://pandas.pydata.org/pandas-docs/stable/user_guide/indexing.html#returning-a-view-versus-a-copy\n",
      "  df['trade_start'] = df['trade_end'].shift(1).fillna(False) | df[bar_count_col].eq(1)\n"
     ]
    },
    {
     "name": "stdout",
     "output_type": "stream",
     "text": [
      "\n",
      " "
     ]
    },
    {
     "name": "stderr",
     "output_type": "stream",
     "text": [
      "/tmp/ipykernel_21521/1375693250.py:34: SettingWithCopyWarning: \n",
      "A value is trying to be set on a copy of a slice from a DataFrame.\n",
      "Try using .loc[row_indexer,col_indexer] = value instead\n",
      "\n",
      "See the caveats in the documentation: https://pandas.pydata.org/pandas-docs/stable/user_guide/indexing.html#returning-a-view-versus-a-copy\n",
      "  df['trade_start'] = df['trade_end'].shift(1).fillna(False) | df[bar_count_col].eq(1)\n"
     ]
    },
    {
     "name": "stdout",
     "output_type": "stream",
     "text": [
      "\n",
      " R2 prev:   \n",
      "Creating trade log for"
     ]
    },
    {
     "name": "stderr",
     "output_type": "stream",
     "text": [
      "/tmp/ipykernel_21521/1375693250.py:35: SettingWithCopyWarning: \n",
      "A value is trying to be set on a copy of a slice from a DataFrame.\n",
      "Try using .loc[row_indexer,col_indexer] = value instead\n",
      "\n",
      "See the caveats in the documentation: https://pandas.pydata.org/pandas-docs/stable/user_guide/indexing.html#returning-a-view-versus-a-copy\n",
      "  df['trade_start'] = df['trade_start'].astype(int)\n"
     ]
    },
    {
     "name": "stdout",
     "output_type": "stream",
     "text": [
      "/home/aakash_tandon/Python_strategies/Live_aakash_fno_CF_v1/symbol_wise_trades/NSE:ADANIENT.csv "
     ]
    },
    {
     "name": "stderr",
     "output_type": "stream",
     "text": [
      "/tmp/ipykernel_21521/1375693250.py:35: SettingWithCopyWarning: \n",
      "A value is trying to be set on a copy of a slice from a DataFrame.\n",
      "Try using .loc[row_indexer,col_indexer] = value instead\n",
      "\n",
      "See the caveats in the documentation: https://pandas.pydata.org/pandas-docs/stable/user_guide/indexing.html#returning-a-view-versus-a-copy\n",
      "  df['trade_start'] = df['trade_start'].astype(int)\n",
      "/tmp/ipykernel_21521/1375693250.py:35: SettingWithCopyWarning: \n",
      "A value is trying to be set on a copy of a slice from a DataFrame.\n",
      "Try using .loc[row_indexer,col_indexer] = value instead\n",
      "\n",
      "See the caveats in the documentation: https://pandas.pydata.org/pandas-docs/stable/user_guide/indexing.html#returning-a-view-versus-a-copy\n",
      "  df['trade_start'] = df['trade_start'].astype(int)\n"
     ]
    },
    {
     "name": "stdout",
     "output_type": "stream",
     "text": [
      "NSE:DLF2 1218.5"
     ]
    },
    {
     "name": "stderr",
     "output_type": "stream",
     "text": [
      "/tmp/ipykernel_21521/1375693250.py:38: SettingWithCopyWarning: \n",
      "A value is trying to be set on a copy of a slice from a DataFrame.\n",
      "Try using .loc[row_indexer,col_indexer] = value instead\n",
      "\n",
      "See the caveats in the documentation: https://pandas.pydata.org/pandas-docs/stable/user_guide/indexing.html#returning-a-view-versus-a-copy\n",
      "  df['trade_id'] = df['trade_start'].cumsum()\n"
     ]
    },
    {
     "name": "stdout",
     "output_type": "stream",
     "text": [
      "NSE:CHOLAFIN"
     ]
    },
    {
     "name": "stderr",
     "output_type": "stream",
     "text": [
      "/tmp/ipykernel_21521/1375693250.py:38: SettingWithCopyWarning: \n",
      "A value is trying to be set on a copy of a slice from a DataFrame.\n",
      "Try using .loc[row_indexer,col_indexer] = value instead\n",
      "\n",
      "See the caveats in the documentation: https://pandas.pydata.org/pandas-docs/stable/user_guide/indexing.html#returning-a-view-versus-a-copy\n",
      "  df['trade_id'] = df['trade_start'].cumsum()\n"
     ]
    },
    {
     "name": "stdout",
     "output_type": "stream",
     "text": [
      "\n"
     ]
    },
    {
     "name": "stderr",
     "output_type": "stream",
     "text": [
      "/tmp/ipykernel_21521/1375693250.py:35: SettingWithCopyWarning: \n",
      "A value is trying to be set on a copy of a slice from a DataFrame.\n",
      "Try using .loc[row_indexer,col_indexer] = value instead\n",
      "\n",
      "See the caveats in the documentation: https://pandas.pydata.org/pandas-docs/stable/user_guide/indexing.html#returning-a-view-versus-a-copy\n",
      "  df['trade_start'] = df['trade_start'].astype(int)\n"
     ]
    },
    {
     "name": "stdout",
     "output_type": "stream",
     "text": [
      "\n",
      " \n"
     ]
    },
    {
     "name": "stderr",
     "output_type": "stream",
     "text": [
      "/tmp/ipykernel_21521/1375693250.py:38: SettingWithCopyWarning: \n",
      "A value is trying to be set on a copy of a slice from a DataFrame.\n",
      "Try using .loc[row_indexer,col_indexer] = value instead\n",
      "\n",
      "See the caveats in the documentation: https://pandas.pydata.org/pandas-docs/stable/user_guide/indexing.html#returning-a-view-versus-a-copy\n",
      "  df['trade_id'] = df['trade_start'].cumsum()\n"
     ]
    },
    {
     "name": "stdout",
     "output_type": "stream",
     "text": [
      "position at  \n",
      "\n",
      " \n",
      " The Outputting to trade file  entryprice"
     ]
    },
    {
     "name": "stderr",
     "output_type": "stream",
     "text": [
      "/tmp/ipykernel_21521/1375693250.py:31: SettingWithCopyWarning: \n",
      "A value is trying to be set on a copy of a slice from a DataFrame.\n",
      "Try using .loc[row_indexer,col_indexer] = value instead\n",
      "\n",
      "See the caveats in the documentation: https://pandas.pydata.org/pandas-docs/stable/user_guide/indexing.html#returning-a-view-versus-a-copy\n",
      "  df['trade_end'] = (df[bar_count_col].shift(-1) < df[bar_count_col]) | (df[bar_count_col].shift(-1) == 0) | df[bar_count_col].eq(0)\n"
     ]
    },
    {
     "name": "stdout",
     "output_type": "stream",
     "text": [
      "\n",
      " Position taken long at : "
     ]
    },
    {
     "name": "stderr",
     "output_type": "stream",
     "text": [
      "/tmp/ipykernel_21521/1375693250.py:38: SettingWithCopyWarning: \n",
      "A value is trying to be set on a copy of a slice from a DataFrame.\n",
      "Try using .loc[row_indexer,col_indexer] = value instead\n",
      "\n",
      "See the caveats in the documentation: https://pandas.pydata.org/pandas-docs/stable/user_guide/indexing.html#returning-a-view-versus-a-copy\n",
      "  df['trade_id'] = df['trade_start'].cumsum()\n"
     ]
    },
    {
     "name": "stdout",
     "output_type": "stream",
     "text": [
      "[(Timestamp('2024-03-21 11:15:00+0530', tz='UTC+05:30'), 'NSE:AMBUJACEM', 1, 588.3, 1), (Timestamp('2024-03-26 09:45:00+0530', tz='UTC+05:30'), 'NSE:AMBUJACEM', 0, 590.2, 16), (Timestamp('2024-03-27 12:45:00+0530', tz='UTC+05:30'), 'NSE:AMBUJACEM', 1, 606.0, 1), (Timestamp('2024-04-01 10:45:00+0530', tz='UTC+05:30'), 'NSE:AMBUJACEM', 0, 622.1, 16)]2024-03-28 11:15:00+05:30 \n",
      "Creating trade log for[(Timestamp('2024-03-21 11:15:00+0530', tz='UTC+05:30'), 'NSE:BIOCON', 1, 250.5, 1), (Timestamp('2024-03-26 10:15:00+0530', tz='UTC+05:30'), 'NSE:BIOCON', 0, 255.9, 16), (Timestamp('2024-03-27 12:15:00+0530', tz='UTC+05:30'), 'NSE:BIOCON', 1, 260.85, 1), (Timestamp('2024-04-01 09:45:00+0530', tz='UTC+05:30'), 'NSE:BIOCON', 0, 267.45, 16)]\n",
      " Position taken long at :  /home/aakash_tandon/Python_strategies/Live_aakash_fno_CF_v1/symbol_wise_trades/NSE:ABBOTINDIA.csv\n",
      " Position taken long at : [(Timestamp('2024-03-20 15:15:00+0530', tz='UTC+05:30'), 'NSE:INDUSTOWER', 1, 248.3, 1), (Timestamp('2024-03-22 10:15:00+0530', tz='UTC+05:30'), 'NSE:INDUSTOWER', 0, 257.0, 16), (Timestamp('2024-03-28 11:45:00+0530', tz='UTC+05:30'), 'NSE:INDUSTOWER', 1, 288.2, 1), (Timestamp('2024-04-02 09:15:00+0530', tz='UTC+05:30'), 'NSE:INDUSTOWER', 0, 306.2, 15)]"
     ]
    },
    {
     "name": "stderr",
     "output_type": "stream",
     "text": [
      "/tmp/ipykernel_21521/1375693250.py:34: FutureWarning: Downcasting object dtype arrays on .fillna, .ffill, .bfill is deprecated and will change in a future version. Call result.infer_objects(copy=False) instead. To opt-in to the future behavior, set `pd.set_option('future.no_silent_downcasting', True)`\n",
      "  df['trade_start'] = df['trade_end'].shift(1).fillna(False) | df[bar_count_col].eq(1)\n"
     ]
    },
    {
     "name": "stdout",
     "output_type": "stream",
     "text": [
      " \n",
      " -- entry Price - :  \n",
      " \n",
      "NSE:ICICIPRULI"
     ]
    },
    {
     "name": "stderr",
     "output_type": "stream",
     "text": [
      "/tmp/ipykernel_21521/1375693250.py:31: SettingWithCopyWarning: \n",
      "A value is trying to be set on a copy of a slice from a DataFrame.\n",
      "Try using .loc[row_indexer,col_indexer] = value instead\n",
      "\n",
      "See the caveats in the documentation: https://pandas.pydata.org/pandas-docs/stable/user_guide/indexing.html#returning-a-view-versus-a-copy\n",
      "  df['trade_end'] = (df[bar_count_col].shift(-1) < df[bar_count_col]) | (df[bar_count_col].shift(-1) == 0) | df[bar_count_col].eq(0)\n"
     ]
    },
    {
     "name": "stdout",
     "output_type": "stream",
     "text": [
      "   "
     ]
    },
    {
     "name": "stderr",
     "output_type": "stream",
     "text": [
      "/tmp/ipykernel_21521/1375693250.py:34: SettingWithCopyWarning: \n",
      "A value is trying to be set on a copy of a slice from a DataFrame.\n",
      "Try using .loc[row_indexer,col_indexer] = value instead\n",
      "\n",
      "See the caveats in the documentation: https://pandas.pydata.org/pandas-docs/stable/user_guide/indexing.html#returning-a-view-versus-a-copy\n",
      "  df['trade_start'] = df['trade_end'].shift(1).fillna(False) | df[bar_count_col].eq(1)\n"
     ]
    },
    {
     "name": "stdout",
     "output_type": "stream",
     "text": [
      "2024-03-27 14:45:00+05:301213.552024-04-02 15:15:00+05:30832.15 \n",
      " \n",
      " The Outputting to trade file \n"
     ]
    },
    {
     "name": "stderr",
     "output_type": "stream",
     "text": [
      "/tmp/ipykernel_21521/1375693250.py:35: SettingWithCopyWarning: \n",
      "A value is trying to be set on a copy of a slice from a DataFrame.\n",
      "Try using .loc[row_indexer,col_indexer] = value instead\n",
      "\n",
      "See the caveats in the documentation: https://pandas.pydata.org/pandas-docs/stable/user_guide/indexing.html#returning-a-view-versus-a-copy\n",
      "  df['trade_start'] = df['trade_start'].astype(int)\n"
     ]
    },
    {
     "name": "stdout",
     "output_type": "stream",
     "text": [
      " \n",
      "  -- entry Price - :  -- entry Price - :   R1 today6211.95"
     ]
    },
    {
     "name": "stderr",
     "output_type": "stream",
     "text": [
      "/tmp/ipykernel_21521/1375693250.py:38: SettingWithCopyWarning: \n",
      "A value is trying to be set on a copy of a slice from a DataFrame.\n",
      "Try using .loc[row_indexer,col_indexer] = value instead\n",
      "\n",
      "See the caveats in the documentation: https://pandas.pydata.org/pandas-docs/stable/user_guide/indexing.html#returning-a-view-versus-a-copy\n",
      "  df['trade_id'] = df['trade_start'].cumsum()\n"
     ]
    },
    {
     "name": "stdout",
     "output_type": "stream",
     "text": [
      "\n",
      "Creating trade log for /home/aakash_tandon/Python_strategies/Live_aakash_fno_CF_v1/symbol_wise_trades/NSE:GRASIM.csv\n",
      " Position taken long at :   \n",
      "Creating trade log for  "
     ]
    },
    {
     "name": "stderr",
     "output_type": "stream",
     "text": [
      "/tmp/ipykernel_21521/1375693250.py:34: FutureWarning: Downcasting object dtype arrays on .fillna, .ffill, .bfill is deprecated and will change in a future version. Call result.infer_objects(copy=False) instead. To opt-in to the future behavior, set `pd.set_option('future.no_silent_downcasting', True)`\n",
      "  df['trade_start'] = df['trade_end'].shift(1).fillna(False) | df[bar_count_col].eq(1)\n"
     ]
    },
    {
     "name": "stdout",
     "output_type": "stream",
     "text": [
      " 830.79160000000027024.55"
     ]
    },
    {
     "name": "stderr",
     "output_type": "stream",
     "text": [
      "/tmp/ipykernel_21521/1375693250.py:31: SettingWithCopyWarning: \n",
      "A value is trying to be set on a copy of a slice from a DataFrame.\n",
      "Try using .loc[row_indexer,col_indexer] = value instead\n",
      "\n",
      "See the caveats in the documentation: https://pandas.pydata.org/pandas-docs/stable/user_guide/indexing.html#returning-a-view-versus-a-copy\n",
      "  df['trade_end'] = (df[bar_count_col].shift(-1) < df[bar_count_col]) | (df[bar_count_col].shift(-1) == 0) | df[bar_count_col].eq(0)\n",
      "/tmp/ipykernel_21521/1375693250.py:31: SettingWithCopyWarning: \n",
      "A value is trying to be set on a copy of a slice from a DataFrame.\n",
      "Try using .loc[row_indexer,col_indexer] = value instead\n",
      "\n",
      "See the caveats in the documentation: https://pandas.pydata.org/pandas-docs/stable/user_guide/indexing.html#returning-a-view-versus-a-copy\n",
      "  df['trade_end'] = (df[bar_count_col].shift(-1) < df[bar_count_col]) | (df[bar_count_col].shift(-1) == 0) | df[bar_count_col].eq(0)\n"
     ]
    },
    {
     "name": "stdout",
     "output_type": "stream",
     "text": [
      "NSE:BIOCONDay_count:  1402.85\n",
      "2024-03-28 09:15:00+05:30 \n"
     ]
    },
    {
     "name": "stderr",
     "output_type": "stream",
     "text": [
      "/tmp/ipykernel_21521/1375693250.py:34: SettingWithCopyWarning: \n",
      "A value is trying to be set on a copy of a slice from a DataFrame.\n",
      "Try using .loc[row_indexer,col_indexer] = value instead\n",
      "\n",
      "See the caveats in the documentation: https://pandas.pydata.org/pandas-docs/stable/user_guide/indexing.html#returning-a-view-versus-a-copy\n",
      "  df['trade_start'] = df['trade_end'].shift(1).fillna(False) | df[bar_count_col].eq(1)\n"
     ]
    },
    {
     "name": "stdout",
     "output_type": "stream",
     "text": [
      " NSE:INDUSTOWER "
     ]
    },
    {
     "name": "stderr",
     "output_type": "stream",
     "text": [
      "/tmp/ipykernel_21521/1375693250.py:34: FutureWarning: Downcasting object dtype arrays on .fillna, .ffill, .bfill is deprecated and will change in a future version. Call result.infer_objects(copy=False) instead. To opt-in to the future behavior, set `pd.set_option('future.no_silent_downcasting', True)`\n",
      "  df['trade_start'] = df['trade_end'].shift(1).fillna(False) | df[bar_count_col].eq(1)\n"
     ]
    },
    {
     "name": "stdout",
     "output_type": "stream",
     "text": [
      " [(Timestamp('2024-03-18 12:15:00+0530', tz='UTC+05:30'), 'NSE:INDIGO', 1, 3225.2, 1), (Timestamp('2024-03-20 09:45:00+0530', tz='UTC+05:30'), 'NSE:INDIGO', 0, 3230.1, 16), (Timestamp('2024-03-21 10:45:00+0530', tz='UTC+05:30'), 'NSE:INDIGO', 1, 3264.55, 1), (Timestamp('2024-03-26 13:45:00+0530', tz='UTC+05:30'), 'NSE:INDIGO', 0, 3462.0, 16)]R1 today"
     ]
    },
    {
     "name": "stderr",
     "output_type": "stream",
     "text": [
      "/tmp/ipykernel_21521/1375693250.py:34: FutureWarning: Downcasting object dtype arrays on .fillna, .ffill, .bfill is deprecated and will change in a future version. Call result.infer_objects(copy=False) instead. To opt-in to the future behavior, set `pd.set_option('future.no_silent_downcasting', True)`\n",
      "  df['trade_start'] = df['trade_end'].shift(1).fillna(False) | df[bar_count_col].eq(1)\n"
     ]
    },
    {
     "name": "stdout",
     "output_type": "stream",
     "text": [
      "2R1 today\n",
      "\n",
      "  "
     ]
    },
    {
     "name": "stderr",
     "output_type": "stream",
     "text": [
      "/tmp/ipykernel_21521/1375693250.py:34: SettingWithCopyWarning: \n",
      "A value is trying to be set on a copy of a slice from a DataFrame.\n",
      "Try using .loc[row_indexer,col_indexer] = value instead\n",
      "\n",
      "See the caveats in the documentation: https://pandas.pydata.org/pandas-docs/stable/user_guide/indexing.html#returning-a-view-versus-a-copy\n",
      "  df['trade_start'] = df['trade_end'].shift(1).fillna(False) | df[bar_count_col].eq(1)\n"
     ]
    },
    {
     "name": "stdout",
     "output_type": "stream",
     "text": [
      "\n"
     ]
    },
    {
     "name": "stderr",
     "output_type": "stream",
     "text": [
      "/tmp/ipykernel_21521/1375693250.py:35: SettingWithCopyWarning: \n",
      "A value is trying to be set on a copy of a slice from a DataFrame.\n",
      "Try using .loc[row_indexer,col_indexer] = value instead\n",
      "\n",
      "See the caveats in the documentation: https://pandas.pydata.org/pandas-docs/stable/user_guide/indexing.html#returning-a-view-versus-a-copy\n",
      "  df['trade_start'] = df['trade_start'].astype(int)\n"
     ]
    },
    {
     "name": "stdout",
     "output_type": "stream",
     "text": [
      "7012.3300000000011392.5295"
     ]
    },
    {
     "name": "stderr",
     "output_type": "stream",
     "text": [
      "/tmp/ipykernel_21521/1375693250.py:34: SettingWithCopyWarning: \n",
      "A value is trying to be set on a copy of a slice from a DataFrame.\n",
      "Try using .loc[row_indexer,col_indexer] = value instead\n",
      "\n",
      "See the caveats in the documentation: https://pandas.pydata.org/pandas-docs/stable/user_guide/indexing.html#returning-a-view-versus-a-copy\n",
      "  df['trade_start'] = df['trade_end'].shift(1).fillna(False) | df[bar_count_col].eq(1)\n"
     ]
    },
    {
     "name": "stdout",
     "output_type": "stream",
     "text": [
      "\n"
     ]
    },
    {
     "name": "stderr",
     "output_type": "stream",
     "text": [
      "/tmp/ipykernel_21521/1375693250.py:35: SettingWithCopyWarning: \n",
      "A value is trying to be set on a copy of a slice from a DataFrame.\n",
      "Try using .loc[row_indexer,col_indexer] = value instead\n",
      "\n",
      "See the caveats in the documentation: https://pandas.pydata.org/pandas-docs/stable/user_guide/indexing.html#returning-a-view-versus-a-copy\n",
      "  df['trade_start'] = df['trade_start'].astype(int)\n"
     ]
    },
    {
     "name": "stdout",
     "output_type": "stream",
     "text": [
      "\n"
     ]
    },
    {
     "name": "stderr",
     "output_type": "stream",
     "text": [
      "/tmp/ipykernel_21521/1375693250.py:38: SettingWithCopyWarning: \n",
      "A value is trying to be set on a copy of a slice from a DataFrame.\n",
      "Try using .loc[row_indexer,col_indexer] = value instead\n",
      "\n",
      "See the caveats in the documentation: https://pandas.pydata.org/pandas-docs/stable/user_guide/indexing.html#returning-a-view-versus-a-copy\n",
      "  df['trade_id'] = df['trade_start'].cumsum()\n",
      "/tmp/ipykernel_21521/1375693250.py:31: SettingWithCopyWarning: \n",
      "A value is trying to be set on a copy of a slice from a DataFrame.\n",
      "Try using .loc[row_indexer,col_indexer] = value instead\n",
      "\n",
      "See the caveats in the documentation: https://pandas.pydata.org/pandas-docs/stable/user_guide/indexing.html#returning-a-view-versus-a-copy\n",
      "  df['trade_end'] = (df[bar_count_col].shift(-1) < df[bar_count_col]) | (df[bar_count_col].shift(-1) == 0) | df[bar_count_col].eq(0)\n",
      "/tmp/ipykernel_21521/1375693250.py:38: SettingWithCopyWarning: \n",
      "A value is trying to be set on a copy of a slice from a DataFrame.\n",
      "Try using .loc[row_indexer,col_indexer] = value instead\n",
      "\n",
      "See the caveats in the documentation: https://pandas.pydata.org/pandas-docs/stable/user_guide/indexing.html#returning-a-view-versus-a-copy\n",
      "  df['trade_id'] = df['trade_start'].cumsum()\n"
     ]
    },
    {
     "name": "stdout",
     "output_type": "stream",
     "text": [
      "-- entry Price - :  "
     ]
    },
    {
     "name": "stderr",
     "output_type": "stream",
     "text": [
      "/tmp/ipykernel_21521/1375693250.py:34: FutureWarning: Downcasting object dtype arrays on .fillna, .ffill, .bfill is deprecated and will change in a future version. Call result.infer_objects(copy=False) instead. To opt-in to the future behavior, set `pd.set_option('future.no_silent_downcasting', True)`\n",
      "  df['trade_start'] = df['trade_end'].shift(1).fillna(False) | df[bar_count_col].eq(1)\n"
     ]
    },
    {
     "name": "stdout",
     "output_type": "stream",
     "text": [
      "\n",
      " \n",
      " The Outputting to trade file  "
     ]
    },
    {
     "name": "stderr",
     "output_type": "stream",
     "text": [
      "/tmp/ipykernel_21521/1375693250.py:31: SettingWithCopyWarning: \n",
      "A value is trying to be set on a copy of a slice from a DataFrame.\n",
      "Try using .loc[row_indexer,col_indexer] = value instead\n",
      "\n",
      "See the caveats in the documentation: https://pandas.pydata.org/pandas-docs/stable/user_guide/indexing.html#returning-a-view-versus-a-copy\n",
      "  df['trade_end'] = (df[bar_count_col].shift(-1) < df[bar_count_col]) | (df[bar_count_col].shift(-1) == 0) | df[bar_count_col].eq(0)\n"
     ]
    },
    {
     "name": "stdout",
     "output_type": "stream",
     "text": [
      "\n",
      "Creating trade log for[(Timestamp('2024-03-21 15:15:00+0530', tz='UTC+05:30'), 'NSE:IGL', 1, 412.85, 1), (Timestamp('2024-03-26 09:15:00+0530', tz='UTC+05:30'), 'NSE:IGL', 0, 411.7, 16), (Timestamp('2024-03-27 11:15:00+0530', tz='UTC+05:30'), 'NSE:IGL', 1, 425.25, 1), (Timestamp('2024-04-01 09:45:00+0530', tz='UTC+05:30'), 'NSE:IGL', 0, 439.2, 16)]1221.3 "
     ]
    },
    {
     "name": "stderr",
     "output_type": "stream",
     "text": [
      "/tmp/ipykernel_21521/1375693250.py:34: SettingWithCopyWarning: \n",
      "A value is trying to be set on a copy of a slice from a DataFrame.\n",
      "Try using .loc[row_indexer,col_indexer] = value instead\n",
      "\n",
      "See the caveats in the documentation: https://pandas.pydata.org/pandas-docs/stable/user_guide/indexing.html#returning-a-view-versus-a-copy\n",
      "  df['trade_start'] = df['trade_end'].shift(1).fillna(False) | df[bar_count_col].eq(1)\n"
     ]
    },
    {
     "name": "stdout",
     "output_type": "stream",
     "text": [
      " /home/aakash_tandon/Python_strategies/Live_aakash_fno_CF_v1/symbol_wise_trades/NSE:CIPLA.csv\n"
     ]
    },
    {
     "name": "stderr",
     "output_type": "stream",
     "text": [
      "/tmp/ipykernel_21521/1375693250.py:34: FutureWarning: Downcasting object dtype arrays on .fillna, .ffill, .bfill is deprecated and will change in a future version. Call result.infer_objects(copy=False) instead. To opt-in to the future behavior, set `pd.set_option('future.no_silent_downcasting', True)`\n",
      "  df['trade_start'] = df['trade_end'].shift(1).fillna(False) | df[bar_count_col].eq(1)\n",
      "/tmp/ipykernel_21521/1375693250.py:35: SettingWithCopyWarning: \n",
      "A value is trying to be set on a copy of a slice from a DataFrame.\n",
      "Try using .loc[row_indexer,col_indexer] = value instead\n",
      "\n",
      "See the caveats in the documentation: https://pandas.pydata.org/pandas-docs/stable/user_guide/indexing.html#returning-a-view-versus-a-copy\n",
      "  df['trade_start'] = df['trade_start'].astype(int)\n"
     ]
    },
    {
     "name": "stdout",
     "output_type": "stream",
     "text": [
      "NSE:INDIGO \n",
      "\n",
      " \n",
      " The Outputting dataframe to file file R1 today "
     ]
    },
    {
     "name": "stderr",
     "output_type": "stream",
     "text": [
      "/tmp/ipykernel_21521/1375693250.py:34: SettingWithCopyWarning: \n",
      "A value is trying to be set on a copy of a slice from a DataFrame.\n",
      "Try using .loc[row_indexer,col_indexer] = value instead\n",
      "\n",
      "See the caveats in the documentation: https://pandas.pydata.org/pandas-docs/stable/user_guide/indexing.html#returning-a-view-versus-a-copy\n",
      "  df['trade_start'] = df['trade_end'].shift(1).fillna(False) | df[bar_count_col].eq(1)\n",
      "/tmp/ipykernel_21521/1375693250.py:38: SettingWithCopyWarning: \n",
      "A value is trying to be set on a copy of a slice from a DataFrame.\n",
      "Try using .loc[row_indexer,col_indexer] = value instead\n",
      "\n",
      "See the caveats in the documentation: https://pandas.pydata.org/pandas-docs/stable/user_guide/indexing.html#returning-a-view-versus-a-copy\n",
      "  df['trade_id'] = df['trade_start'].cumsum()\n"
     ]
    },
    {
     "name": "stdout",
     "output_type": "stream",
     "text": [
      " \n",
      " \n",
      " The Outputting to trade file \n",
      " Position Hit 2 day low \n",
      " \n",
      " The Outputting to trade file /home/aakash_tandon/Python_strategies/Live_aakash_fno_CF_v1/symbol_wise_dataframe/NSE:ADANIENT.csv"
     ]
    },
    {
     "name": "stderr",
     "output_type": "stream",
     "text": [
      "/tmp/ipykernel_21521/1375693250.py:35: SettingWithCopyWarning: \n",
      "A value is trying to be set on a copy of a slice from a DataFrame.\n",
      "Try using .loc[row_indexer,col_indexer] = value instead\n",
      "\n",
      "See the caveats in the documentation: https://pandas.pydata.org/pandas-docs/stable/user_guide/indexing.html#returning-a-view-versus-a-copy\n",
      "  df['trade_start'] = df['trade_start'].astype(int)\n"
     ]
    },
    {
     "name": "stdout",
     "output_type": "stream",
     "text": [
      "1250.4458999999997  \n",
      "\n",
      "2024-04-04 11:15:00+05:30\n",
      " \n",
      " The Outputting to trade file  \n"
     ]
    },
    {
     "name": "stderr",
     "output_type": "stream",
     "text": [
      "/tmp/ipykernel_21521/1375693250.py:38: SettingWithCopyWarning: \n",
      "A value is trying to be set on a copy of a slice from a DataFrame.\n",
      "Try using .loc[row_indexer,col_indexer] = value instead\n",
      "\n",
      "See the caveats in the documentation: https://pandas.pydata.org/pandas-docs/stable/user_guide/indexing.html#returning-a-view-versus-a-copy\n",
      "  df['trade_id'] = df['trade_start'].cumsum()\n"
     ]
    },
    {
     "name": "stdout",
     "output_type": "stream",
     "text": [
      "\n",
      " \n",
      " The Outputting dataframe to file file 2024-03-28 12:15:00+05:30\n",
      " \n",
      " The Outputting to trade file \n",
      "Creating trade log for/home/aakash_tandon/Python_strategies/Live_aakash_fno_CF_v1/symbol_wise_trades/NSE:ASHOKLEY.csv\n",
      "  /home/aakash_tandon/Python_strategies/Live_aakash_fno_CF_v1/symbol_wise_trades/NSE:ICICIBANK.csvNSE:IGL  \n",
      "position at  1 -- entry Price - :    /home/aakash_tandon/Python_strategies/Live_aakash_fno_CF_v1/symbol_wise_trades/NSE:BAJAJFINSV.csv\n",
      " Processing signals of :  \n",
      "\n",
      "6426.65  NSE:LICHSGFIN1380.25"
     ]
    },
    {
     "name": "stderr",
     "output_type": "stream",
     "text": [
      "/tmp/ipykernel_21521/1375693250.py:31: SettingWithCopyWarning: \n",
      "A value is trying to be set on a copy of a slice from a DataFrame.\n",
      "Try using .loc[row_indexer,col_indexer] = value instead\n",
      "\n",
      "See the caveats in the documentation: https://pandas.pydata.org/pandas-docs/stable/user_guide/indexing.html#returning-a-view-versus-a-copy\n",
      "  df['trade_end'] = (df[bar_count_col].shift(-1) < df[bar_count_col]) | (df[bar_count_col].shift(-1) == 0) | df[bar_count_col].eq(0)\n",
      "/tmp/ipykernel_21521/3164365030.py:73: FutureWarning: Series.__getitem__ treating keys as positions is deprecated. In a future version, integer keys will always be treated as labels (consistent with DataFrame behavior). To access a value by position, use `ser.iloc[pos]`\n",
      "  print(\"\\n Position taken long at : \" , df.index[i] , \"-- entry Price - :  \" , entry_price , 'R1 today' ,df['R1'][i]*1.002  )\n"
     ]
    },
    {
     "name": "stdout",
     "output_type": "stream",
     "text": [
      "\n",
      "/home/aakash_tandon/Python_strategies/Live_aakash_fno_CF_v1/symbol_wise_trades/NSE:INDIAMART.csv\n",
      "\n",
      " \n",
      " The Outputting to trade file \n",
      " Position taken long at : \n",
      " "
     ]
    },
    {
     "name": "stderr",
     "output_type": "stream",
     "text": [
      "/tmp/ipykernel_21521/1375693250.py:34: FutureWarning: Downcasting object dtype arrays on .fillna, .ffill, .bfill is deprecated and will change in a future version. Call result.infer_objects(copy=False) instead. To opt-in to the future behavior, set `pd.set_option('future.no_silent_downcasting', True)`\n",
      "  df['trade_start'] = df['trade_end'].shift(1).fillna(False) | df[bar_count_col].eq(1)\n"
     ]
    },
    {
     "name": "stdout",
     "output_type": "stream",
     "text": [
      "/home/aakash_tandon/Python_strategies/Live_aakash_fno_CF_v1/symbol_wise_trades/NSE:BHEL.csv\n"
     ]
    },
    {
     "name": "stderr",
     "output_type": "stream",
     "text": [
      "/tmp/ipykernel_21521/1375693250.py:34: SettingWithCopyWarning: \n",
      "A value is trying to be set on a copy of a slice from a DataFrame.\n",
      "Try using .loc[row_indexer,col_indexer] = value instead\n",
      "\n",
      "See the caveats in the documentation: https://pandas.pydata.org/pandas-docs/stable/user_guide/indexing.html#returning-a-view-versus-a-copy\n",
      "  df['trade_start'] = df['trade_end'].shift(1).fillna(False) | df[bar_count_col].eq(1)\n",
      "/tmp/ipykernel_21521/3164365030.py:66: FutureWarning: Series.__getitem__ treating keys as positions is deprecated. In a future version, integer keys will always be treated as labels (consistent with DataFrame behavior). To access a value by position, use `ser.iloc[pos]`\n",
      "  if ( df['signal'][i-1]==1 or df['signal'][i]==1) and position == 0  and df['Close'][i]<df['Close'][i-1] and df['indClose'][i]>df['indtodayo'][i]*0.999 :\n"
     ]
    },
    {
     "name": "stdout",
     "output_type": "stream",
     "text": [
      "\n",
      "\n",
      " \n",
      " The Outputting dataframe to file file "
     ]
    },
    {
     "name": "stderr",
     "output_type": "stream",
     "text": [
      "/tmp/ipykernel_21521/1375693250.py:35: SettingWithCopyWarning: \n",
      "A value is trying to be set on a copy of a slice from a DataFrame.\n",
      "Try using .loc[row_indexer,col_indexer] = value instead\n",
      "\n",
      "See the caveats in the documentation: https://pandas.pydata.org/pandas-docs/stable/user_guide/indexing.html#returning-a-view-versus-a-copy\n",
      "  df['trade_start'] = df['trade_start'].astype(int)\n"
     ]
    },
    {
     "name": "stdout",
     "output_type": "stream",
     "text": [
      "/home/aakash_tandon/Python_strategies/Live_aakash_fno_CF_v1/symbol_wise_dataframe/NSE:ABBOTINDIA.csv [(Timestamp('2024-03-21 11:15:00+0530', tz='UTC+05:30'), 'NSE:ADANIPORTS', 1, 1264.5, 1), (Timestamp('2024-03-26 11:45:00+0530', tz='UTC+05:30'), 'NSE:ADANIPORTS', 0, 1300.0, 16), (Timestamp('2024-03-27 10:45:00+0530', tz='UTC+05:30'), 'NSE:ADANIPORTS', 1, 1340.5, 1), (Timestamp('2024-04-01 11:15:00+0530', tz='UTC+05:30'), 'NSE:ADANIPORTS', 0, 1372.0, 16), (Timestamp('2024-04-02 15:15:00+0530', tz='UTC+05:30'), 'NSE:ADANIPORTS', 1, 1402.85, 1), (Timestamp('2024-04-04 11:15:00+0530', tz='UTC+05:30'), 'NSE:ADANIPORTS', 0, 1380.25, 13)] \n"
     ]
    },
    {
     "name": "stderr",
     "output_type": "stream",
     "text": [
      "/tmp/ipykernel_21521/1375693250.py:35: SettingWithCopyWarning: \n",
      "A value is trying to be set on a copy of a slice from a DataFrame.\n",
      "Try using .loc[row_indexer,col_indexer] = value instead\n",
      "\n",
      "See the caveats in the documentation: https://pandas.pydata.org/pandas-docs/stable/user_guide/indexing.html#returning-a-view-versus-a-copy\n",
      "  df['trade_start'] = df['trade_start'].astype(int)\n",
      "/tmp/ipykernel_21521/1375693250.py:38: SettingWithCopyWarning: \n",
      "A value is trying to be set on a copy of a slice from a DataFrame.\n",
      "Try using .loc[row_indexer,col_indexer] = value instead\n",
      "\n",
      "See the caveats in the documentation: https://pandas.pydata.org/pandas-docs/stable/user_guide/indexing.html#returning-a-view-versus-a-copy\n",
      "  df['trade_id'] = df['trade_start'].cumsum()\n"
     ]
    },
    {
     "name": "stdout",
     "output_type": "stream",
     "text": [
      "/home/aakash_tandon/Python_strategies/Live_aakash_fno_CF_v1/symbol_wise_dataframe/NSE:GRASIM.csv2024-03-20 13:15:00+05:30"
     ]
    },
    {
     "name": "stderr",
     "output_type": "stream",
     "text": [
      "/tmp/ipykernel_21521/3164365030.py:73: FutureWarning: Series.__getitem__ treating keys as positions is deprecated. In a future version, integer keys will always be treated as labels (consistent with DataFrame behavior). To access a value by position, use `ser.iloc[pos]`\n",
      "  print(\"\\n Position taken long at : \" , df.index[i] , \"-- entry Price - :  \" , entry_price , 'R1 today' ,df['R1'][i]*1.002  )\n"
     ]
    },
    {
     "name": "stdout",
     "output_type": "stream",
     "text": [
      "\n",
      " \n",
      " Position taken long at : "
     ]
    },
    {
     "name": "stderr",
     "output_type": "stream",
     "text": [
      "/tmp/ipykernel_21521/1375693250.py:38: SettingWithCopyWarning: \n",
      "A value is trying to be set on a copy of a slice from a DataFrame.\n",
      "Try using .loc[row_indexer,col_indexer] = value instead\n",
      "\n",
      "See the caveats in the documentation: https://pandas.pydata.org/pandas-docs/stable/user_guide/indexing.html#returning-a-view-versus-a-copy\n",
      "  df['trade_id'] = df['trade_start'].cumsum()\n"
     ]
    },
    {
     "name": "stdout",
     "output_type": "stream",
     "text": [
      "-- entry Price - :    2024-03-06 09:15:00+05:30\n",
      " \n",
      " The Outputting to trade file \n",
      " Processing signals of :  1762.5 \n",
      " Processing signals of :  -- entry Price - :   \n",
      " \n",
      " The Outputting to trade file  NSE:LUPINR1 today/home/aakash_tandon/Python_strategies/Live_aakash_fno_CF_v1/symbol_wise_trades/NSE:DLF.csv NSE:LT \n",
      " \n",
      "\n",
      "\n",
      " Carryforward exit EOD long at/home/aakash_tandon/Python_strategies/Live_aakash_fno_CF_v1/symbol_wise_trades/NSE:ICICIPRULI.csv\n",
      " \n",
      " The Outputting dataframe to file file 1765.0397000000005[(Timestamp('2024-03-18 11:45:00+0530', tz='UTC+05:30'), 'NSE:DRREDDY', 1, 6338.45, 1), (Timestamp('2024-03-19 09:45:00+0530', tz='UTC+05:30'), 'NSE:DRREDDY', 0, 6211.681, 19), (Timestamp('2024-03-28 10:45:00+0530', tz='UTC+05:30'), 'NSE:DRREDDY', 1, 6140.2, 1), (Timestamp('2024-04-02 09:15:00+0530', tz='UTC+05:30'), 'NSE:DRREDDY', 0, 6211.95, 16)] \n",
      " Carryforward exit EOD long at\n",
      "\n",
      "\n",
      "  2024-04-01 10:45:00+05:30/home/aakash_tandon/Python_strategies/Live_aakash_fno_CF_v1/symbol_wise_dataframe/NSE:CIPLA.csv"
     ]
    },
    {
     "name": "stderr",
     "output_type": "stream",
     "text": [
      "/tmp/ipykernel_21521/3164365030.py:66: FutureWarning: Series.__getitem__ treating keys as positions is deprecated. In a future version, integer keys will always be treated as labels (consistent with DataFrame behavior). To access a value by position, use `ser.iloc[pos]`\n",
      "  if ( df['signal'][i-1]==1 or df['signal'][i]==1) and position == 0  and df['Close'][i]<df['Close'][i-1] and df['indClose'][i]>df['indtodayo'][i]*0.999 :\n"
     ]
    },
    {
     "name": "stdout",
     "output_type": "stream",
     "text": [
      " "
     ]
    },
    {
     "name": "stderr",
     "output_type": "stream",
     "text": [
      "/tmp/ipykernel_21521/3164365030.py:66: FutureWarning: Series.__getitem__ treating keys as positions is deprecated. In a future version, integer keys will always be treated as labels (consistent with DataFrame behavior). To access a value by position, use `ser.iloc[pos]`\n",
      "  if ( df['signal'][i-1]==1 or df['signal'][i]==1) and position == 0  and df['Close'][i]<df['Close'][i-1] and df['indClose'][i]>df['indtodayo'][i]*0.999 :\n"
     ]
    },
    {
     "name": "stdout",
     "output_type": "stream",
     "text": [
      "\n",
      "\n",
      "1 \n",
      " \n",
      " The Outputting dataframe to file file position at    /home/aakash_tandon/Python_strategies/Live_aakash_fno_CF_v1/symbol_wise_dataframe/NSE:ASHOKLEY.csv\n",
      " \n",
      " The Outputting to trade file \n",
      " Processing signals of : \n",
      "Creating trade log for\n",
      "\n",
      "Creating trade log for   "
     ]
    },
    {
     "name": "stderr",
     "output_type": "stream",
     "text": [
      "/tmp/ipykernel_21521/3164365030.py:85: FutureWarning: Series.__getitem__ treating keys as positions is deprecated. In a future version, integer keys will always be treated as labels (consistent with DataFrame behavior). To access a value by position, use `ser.iloc[pos]`\n",
      "  if (position == 1 and row['Close'] < min(df['prevdayl'][i]*0.995 ,df['todayl'][i-1]*1.005) and bar_counts[i]>=2):\n"
     ]
    },
    {
     "name": "stdout",
     "output_type": "stream",
     "text": [
      "\n",
      " \n",
      " The Outputting to trade file  7314.0NSE:MCDOWELL-N639.8NSE:AMBUJACEM/home/aakash_tandon/Python_strategies/Live_aakash_fno_CF_v1/symbol_wise_trades/NSE:INDUSTOWER.csv NSE:DRREDDY "
     ]
    },
    {
     "name": "stderr",
     "output_type": "stream",
     "text": [
      "/tmp/ipykernel_21521/3164365030.py:156: FutureWarning: Series.__getitem__ treating keys as positions is deprecated. In a future version, integer keys will always be treated as labels (consistent with DataFrame behavior). To access a value by position, use `ser.iloc[pos]`\n",
      "  if position!=0 and df['todayo'][i]<df['x_day_low'][i] and df['Close'][i]<df['Low'][i-1] and day_count>=1 and df.index[i].time()>=datetime.time(10 , 45):\n"
     ]
    },
    {
     "name": "stdout",
     "output_type": "stream",
     "text": [
      "\n",
      " \n",
      " \n",
      " The Outputting dataframe to file file /home/aakash_tandon/Python_strategies/Live_aakash_fno_CF_v1/symbol_wise_trades/NSE:BIOCON.csv \n",
      "\n",
      "\n",
      " Processing signals of : \n"
     ]
    },
    {
     "name": "stderr",
     "output_type": "stream",
     "text": [
      "/tmp/ipykernel_21521/3164365030.py:166: FutureWarning: Series.__getitem__ treating keys as positions is deprecated. In a future version, integer keys will always be treated as labels (consistent with DataFrame behavior). To access a value by position, use `ser.iloc[pos]`\n",
      "  if position!=0 and df['High'][i]<df['S1'][i-1] and df['Close'][i]<df['Close'][i-1] and day_count>=1 and df.index[i].time()>=time(10 , 45):\n"
     ]
    },
    {
     "name": "stdout",
     "output_type": "stream",
     "text": [
      "R1 today"
     ]
    },
    {
     "name": "stderr",
     "output_type": "stream",
     "text": [
      "/tmp/ipykernel_21521/1375693250.py:31: SettingWithCopyWarning: \n",
      "A value is trying to be set on a copy of a slice from a DataFrame.\n",
      "Try using .loc[row_indexer,col_indexer] = value instead\n",
      "\n",
      "See the caveats in the documentation: https://pandas.pydata.org/pandas-docs/stable/user_guide/indexing.html#returning-a-view-versus-a-copy\n",
      "  df['trade_end'] = (df[bar_count_col].shift(-1) < df[bar_count_col]) | (df[bar_count_col].shift(-1) == 0) | df[bar_count_col].eq(0)\n"
     ]
    },
    {
     "name": "stdout",
     "output_type": "stream",
     "text": [
      "R1 today\n",
      " \n",
      " \n",
      " The Outputting dataframe to file file   "
     ]
    },
    {
     "name": "stderr",
     "output_type": "stream",
     "text": [
      "/tmp/ipykernel_21521/3164365030.py:177: FutureWarning: Series.__getitem__ treating keys as positions is deprecated. In a future version, integer keys will always be treated as labels (consistent with DataFrame behavior). To access a value by position, use `ser.iloc[pos]`\n",
      "  if position!=0 and df['Low'][i]<min(df['Open'][i] , entry_price*0.98) and bar_counts[i]>1:\n"
     ]
    },
    {
     "name": "stdout",
     "output_type": "stream",
     "text": [
      "\n",
      "\n",
      " \n",
      " The Outputting dataframe to file file  NSE:MRF"
     ]
    },
    {
     "name": "stderr",
     "output_type": "stream",
     "text": [
      "/tmp/ipykernel_21521/1375693250.py:34: FutureWarning: Downcasting object dtype arrays on .fillna, .ffill, .bfill is deprecated and will change in a future version. Call result.infer_objects(copy=False) instead. To opt-in to the future behavior, set `pd.set_option('future.no_silent_downcasting', True)`\n",
      "  df['trade_start'] = df['trade_end'].shift(1).fillna(False) | df[bar_count_col].eq(1)\n"
     ]
    },
    {
     "name": "stdout",
     "output_type": "stream",
     "text": [
      "nan6398.705200000001 \n"
     ]
    },
    {
     "name": "stderr",
     "output_type": "stream",
     "text": [
      "/tmp/ipykernel_21521/3164365030.py:192: FutureWarning: Series.__getitem__ treating keys as positions is deprecated. In a future version, integer keys will always be treated as labels (consistent with DataFrame behavior). To access a value by position, use `ser.iloc[pos]`\n",
      "  if position == 1 and row['Close'] > entry_price*(1+(1.25*df['5drng'][i])) and df['Close'][i]>df['Close'][i-1] and bar_counts[i]>10:\n"
     ]
    },
    {
     "name": "stdout",
     "output_type": "stream",
     "text": [
      "/home/aakash_tandon/Python_strategies/Live_aakash_fno_CF_v1/symbol_wise_dataframe/NSE:BHEL.csv\n"
     ]
    },
    {
     "name": "stderr",
     "output_type": "stream",
     "text": [
      "/tmp/ipykernel_21521/3164365030.py:66: FutureWarning: Series.__getitem__ treating keys as positions is deprecated. In a future version, integer keys will always be treated as labels (consistent with DataFrame behavior). To access a value by position, use `ser.iloc[pos]`\n",
      "  if ( df['signal'][i-1]==1 or df['signal'][i]==1) and position == 0  and df['Close'][i]<df['Close'][i-1] and df['indClose'][i]>df['indtodayo'][i]*0.999 :\n"
     ]
    },
    {
     "name": "stdout",
     "output_type": "stream",
     "text": [
      "\n",
      "/home/aakash_tandon/Python_strategies/Live_aakash_fno_CF_v1/symbol_wise_dataframe/NSE:BAJAJFINSV.csv"
     ]
    },
    {
     "name": "stderr",
     "output_type": "stream",
     "text": [
      "/tmp/ipykernel_21521/1375693250.py:34: SettingWithCopyWarning: \n",
      "A value is trying to be set on a copy of a slice from a DataFrame.\n",
      "Try using .loc[row_indexer,col_indexer] = value instead\n",
      "\n",
      "See the caveats in the documentation: https://pandas.pydata.org/pandas-docs/stable/user_guide/indexing.html#returning-a-view-versus-a-copy\n",
      "  df['trade_start'] = df['trade_end'].shift(1).fillna(False) | df[bar_count_col].eq(1)\n"
     ]
    },
    {
     "name": "stdout",
     "output_type": "stream",
     "text": [
      "2024-04-02 09:15:00+05:30"
     ]
    },
    {
     "name": "stderr",
     "output_type": "stream",
     "text": [
      "/tmp/ipykernel_21521/3164365030.py:203: FutureWarning: Series.__getitem__ treating keys as positions is deprecated. In a future version, integer keys will always be treated as labels (consistent with DataFrame behavior). To access a value by position, use `ser.iloc[pos]`\n",
      "  if position >0 and df['Close'][i-1]>df['R2'][i-1]*1.01 and df['Close'][i]<df['R2'][i-1]*1.01 and bar_counts[i]>5 and df.index[i].time() >= time(9, 30):\n",
      "/tmp/ipykernel_21521/1375693250.py:31: SettingWithCopyWarning: \n",
      "A value is trying to be set on a copy of a slice from a DataFrame.\n",
      "Try using .loc[row_indexer,col_indexer] = value instead\n",
      "\n",
      "See the caveats in the documentation: https://pandas.pydata.org/pandas-docs/stable/user_guide/indexing.html#returning-a-view-versus-a-copy\n",
      "  df['trade_end'] = (df[bar_count_col].shift(-1) < df[bar_count_col]) | (df[bar_count_col].shift(-1) == 0) | df[bar_count_col].eq(0)\n",
      "/tmp/ipykernel_21521/1375693250.py:31: SettingWithCopyWarning: \n",
      "A value is trying to be set on a copy of a slice from a DataFrame.\n",
      "Try using .loc[row_indexer,col_indexer] = value instead\n",
      "\n",
      "See the caveats in the documentation: https://pandas.pydata.org/pandas-docs/stable/user_guide/indexing.html#returning-a-view-versus-a-copy\n",
      "  df['trade_end'] = (df[bar_count_col].shift(-1) < df[bar_count_col]) | (df[bar_count_col].shift(-1) == 0) | df[bar_count_col].eq(0)\n",
      "/tmp/ipykernel_21521/3164365030.py:85: FutureWarning: Series.__getitem__ treating keys as positions is deprecated. In a future version, integer keys will always be treated as labels (consistent with DataFrame behavior). To access a value by position, use `ser.iloc[pos]`\n",
      "  if (position == 1 and row['Close'] < min(df['prevdayl'][i]*0.995 ,df['todayl'][i-1]*1.005) and bar_counts[i]>=2):\n"
     ]
    },
    {
     "name": "stdout",
     "output_type": "stream",
     "text": [
      "\n",
      " \n",
      "\n",
      " \n",
      " The Outputting to trade file "
     ]
    },
    {
     "name": "stderr",
     "output_type": "stream",
     "text": [
      "/tmp/ipykernel_21521/1375693250.py:35: SettingWithCopyWarning: \n",
      "A value is trying to be set on a copy of a slice from a DataFrame.\n",
      "Try using .loc[row_indexer,col_indexer] = value instead\n",
      "\n",
      "See the caveats in the documentation: https://pandas.pydata.org/pandas-docs/stable/user_guide/indexing.html#returning-a-view-versus-a-copy\n",
      "  df['trade_start'] = df['trade_start'].astype(int)\n",
      "/tmp/ipykernel_21521/3164365030.py:66: FutureWarning: Series.__getitem__ treating keys as positions is deprecated. In a future version, integer keys will always be treated as labels (consistent with DataFrame behavior). To access a value by position, use `ser.iloc[pos]`\n",
      "  if ( df['signal'][i-1]==1 or df['signal'][i]==1) and position == 0  and df['Close'][i]<df['Close'][i-1] and df['indClose'][i]>df['indtodayo'][i]*0.999 :\n",
      "/tmp/ipykernel_21521/3164365030.py:156: FutureWarning: Series.__getitem__ treating keys as positions is deprecated. In a future version, integer keys will always be treated as labels (consistent with DataFrame behavior). To access a value by position, use `ser.iloc[pos]`\n",
      "  if position!=0 and df['todayo'][i]<df['x_day_low'][i] and df['Close'][i]<df['Low'][i-1] and day_count>=1 and df.index[i].time()>=datetime.time(10 , 45):\n",
      "/tmp/ipykernel_21521/1375693250.py:34: FutureWarning: Downcasting object dtype arrays on .fillna, .ffill, .bfill is deprecated and will change in a future version. Call result.infer_objects(copy=False) instead. To opt-in to the future behavior, set `pd.set_option('future.no_silent_downcasting', True)`\n",
      "  df['trade_start'] = df['trade_end'].shift(1).fillna(False) | df[bar_count_col].eq(1)\n"
     ]
    },
    {
     "name": "stdout",
     "output_type": "stream",
     "text": [
      " "
     ]
    },
    {
     "name": "stderr",
     "output_type": "stream",
     "text": [
      "/tmp/ipykernel_21521/3164365030.py:173: FutureWarning: Series.__getitem__ treating keys as positions is deprecated. In a future version, integer keys will always be treated as labels (consistent with DataFrame behavior). To access a value by position, use `ser.iloc[pos]`\n",
      "  print(\"\\S1 broken down exit:  S1 is : \" , df['S1'][i-1] ,   \" -- exit  at\" , exit_price ,  \"time is:  \" , df.index[i].time()  )\n",
      "/tmp/ipykernel_21521/1375693250.py:38: SettingWithCopyWarning: \n",
      "A value is trying to be set on a copy of a slice from a DataFrame.\n",
      "Try using .loc[row_indexer,col_indexer] = value instead\n",
      "\n",
      "See the caveats in the documentation: https://pandas.pydata.org/pandas-docs/stable/user_guide/indexing.html#returning-a-view-versus-a-copy\n",
      "  df['trade_id'] = df['trade_start'].cumsum()\n"
     ]
    },
    {
     "name": "stdout",
     "output_type": "stream",
     "text": [
      "/home/aakash_tandon/Python_strategies/Live_aakash_fno_CF_v1/symbol_wise_trades/NSE:INDIGO.csv"
     ]
    },
    {
     "name": "stderr",
     "output_type": "stream",
     "text": [
      "/tmp/ipykernel_21521/3164365030.py:166: FutureWarning: Series.__getitem__ treating keys as positions is deprecated. In a future version, integer keys will always be treated as labels (consistent with DataFrame behavior). To access a value by position, use `ser.iloc[pos]`\n",
      "  if position!=0 and df['High'][i]<df['S1'][i-1] and df['Close'][i]<df['Close'][i-1] and day_count>=1 and df.index[i].time()>=time(10 , 45):\n",
      "/tmp/ipykernel_21521/1375693250.py:34: SettingWithCopyWarning: \n",
      "A value is trying to be set on a copy of a slice from a DataFrame.\n",
      "Try using .loc[row_indexer,col_indexer] = value instead\n",
      "\n",
      "See the caveats in the documentation: https://pandas.pydata.org/pandas-docs/stable/user_guide/indexing.html#returning-a-view-versus-a-copy\n",
      "  df['trade_start'] = df['trade_end'].shift(1).fillna(False) | df[bar_count_col].eq(1)\n",
      "/tmp/ipykernel_21521/1375693250.py:35: SettingWithCopyWarning: \n",
      "A value is trying to be set on a copy of a slice from a DataFrame.\n",
      "Try using .loc[row_indexer,col_indexer] = value instead\n",
      "\n",
      "See the caveats in the documentation: https://pandas.pydata.org/pandas-docs/stable/user_guide/indexing.html#returning-a-view-versus-a-copy\n",
      "  df['trade_start'] = df['trade_start'].astype(int)\n"
     ]
    },
    {
     "name": "stdout",
     "output_type": "stream",
     "text": [
      "\\S1 broken down exit:  S1 is : \n",
      " \n",
      " The Outputting to trade file \n",
      " 1 \n",
      " Processing signals of :  "
     ]
    },
    {
     "name": "stderr",
     "output_type": "stream",
     "text": [
      "/tmp/ipykernel_21521/3164365030.py:112: FutureWarning: Series.__getitem__ treating keys as positions is deprecated. In a future version, integer keys will always be treated as labels (consistent with DataFrame behavior). To access a value by position, use `ser.iloc[pos]`\n",
      "  if position != 0 and bar_counts[i]>4 and df['indClose'][i]<df[\"indOpen\"][i-1]*0.985 and df['High'][i]<df['todayh'][i-1]*0.985:\n"
     ]
    },
    {
     "name": "stdout",
     "output_type": "stream",
     "text": [
      "1232.2000000000003\n",
      " \n",
      " The Outputting dataframe to file file /home/aakash_tandon/Python_strategies/Live_aakash_fno_CF_v1/symbol_wise_dataframe/NSE:INDIAMART.csv/home/aakash_tandon/Python_strategies/Live_aakash_fno_CF_v1/symbol_wise_trades/NSE:CHOLAFIN.csv\n",
      " Processing signals of :   \n",
      "\n",
      "Creating trade log for\n",
      "  -- exit  at "
     ]
    },
    {
     "name": "stderr",
     "output_type": "stream",
     "text": [
      "/tmp/ipykernel_21521/1375693250.py:38: SettingWithCopyWarning: \n",
      "A value is trying to be set on a copy of a slice from a DataFrame.\n",
      "Try using .loc[row_indexer,col_indexer] = value instead\n",
      "\n",
      "See the caveats in the documentation: https://pandas.pydata.org/pandas-docs/stable/user_guide/indexing.html#returning-a-view-versus-a-copy\n",
      "  df['trade_id'] = df['trade_start'].cumsum()\n"
     ]
    },
    {
     "name": "stdout",
     "output_type": "stream",
     "text": [
      "/home/aakash_tandon/Python_strategies/Live_aakash_fno_CF_v1/symbol_wise_dataframe/NSE:DLF.csv "
     ]
    },
    {
     "name": "stderr",
     "output_type": "stream",
     "text": [
      "/tmp/ipykernel_21521/3164365030.py:133: FutureWarning: Series.__getitem__ treating keys as positions is deprecated. In a future version, integer keys will always be treated as labels (consistent with DataFrame behavior). To access a value by position, use `ser.iloc[pos]`\n",
      "  if position > 0 and day_count>=1 and bar_counts[i]>3 and df['Close'][i]<df['Low'][i-1]*0.985  :\n"
     ]
    },
    {
     "name": "stdout",
     "output_type": "stream",
     "text": [
      "NSE:NAUKRI position at  NSE:ADANIPORTS\n",
      " \n",
      "865.35\n",
      " Processing signals of :  "
     ]
    },
    {
     "name": "stderr",
     "output_type": "stream",
     "text": [
      "/tmp/ipykernel_21521/3164365030.py:124: FutureWarning: Series.__getitem__ treating keys as positions is deprecated. In a future version, integer keys will always be treated as labels (consistent with DataFrame behavior). To access a value by position, use `ser.iloc[pos]`\n",
      "  if position > 0 and day_count>=1 and bar_counts[i]>6 and df['Close'][i]<df['prevdayl'][i]*0.97 and df['Close'][i]<df['Close'][i-1] :\n"
     ]
    },
    {
     "name": "stdout",
     "output_type": "stream",
     "text": [
      " \n",
      "Day_count: \n",
      " \n",
      " The Outputting dataframe to file file NSE:POWERGRID \n",
      " Processing signals of :  \n",
      " 2/home/aakash_tandon/Python_strategies/Live_aakash_fno_CF_v1/symbol_wise_dataframe/NSE:ICICIBANK.csv\n",
      "NSE:PIIND"
     ]
    },
    {
     "name": "stderr",
     "output_type": "stream",
     "text": [
      "/tmp/ipykernel_21521/1375693250.py:31: SettingWithCopyWarning: \n",
      "A value is trying to be set on a copy of a slice from a DataFrame.\n",
      "Try using .loc[row_indexer,col_indexer] = value instead\n",
      "\n",
      "See the caveats in the documentation: https://pandas.pydata.org/pandas-docs/stable/user_guide/indexing.html#returning-a-view-versus-a-copy\n",
      "  df['trade_end'] = (df[bar_count_col].shift(-1) < df[bar_count_col]) | (df[bar_count_col].shift(-1) == 0) | df[bar_count_col].eq(0)\n"
     ]
    },
    {
     "name": "stdout",
     "output_type": "stream",
     "text": [
      "\n"
     ]
    },
    {
     "name": "stderr",
     "output_type": "stream",
     "text": [
      "/tmp/ipykernel_21521/3164365030.py:66: FutureWarning: Series.__getitem__ treating keys as positions is deprecated. In a future version, integer keys will always be treated as labels (consistent with DataFrame behavior). To access a value by position, use `ser.iloc[pos]`\n",
      "  if ( df['signal'][i-1]==1 or df['signal'][i]==1) and position == 0  and df['Close'][i]<df['Close'][i-1] and df['indClose'][i]>df['indtodayo'][i]*0.999 :\n"
     ]
    },
    {
     "name": "stdout",
     "output_type": "stream",
     "text": [
      "\n"
     ]
    },
    {
     "name": "stderr",
     "output_type": "stream",
     "text": [
      "/tmp/ipykernel_21521/1375693250.py:34: FutureWarning: Downcasting object dtype arrays on .fillna, .ffill, .bfill is deprecated and will change in a future version. Call result.infer_objects(copy=False) instead. To opt-in to the future behavior, set `pd.set_option('future.no_silent_downcasting', True)`\n",
      "  df['trade_start'] = df['trade_end'].shift(1).fillna(False) | df[bar_count_col].eq(1)\n",
      "/tmp/ipykernel_21521/3164365030.py:66: FutureWarning: Series.__getitem__ treating keys as positions is deprecated. In a future version, integer keys will always be treated as labels (consistent with DataFrame behavior). To access a value by position, use `ser.iloc[pos]`\n",
      "  if ( df['signal'][i-1]==1 or df['signal'][i]==1) and position == 0  and df['Close'][i]<df['Close'][i-1] and df['indClose'][i]>df['indtodayo'][i]*0.999 :\n"
     ]
    },
    {
     "name": "stdout",
     "output_type": "stream",
     "text": [
      "Day_count: "
     ]
    },
    {
     "name": "stderr",
     "output_type": "stream",
     "text": [
      "/tmp/ipykernel_21521/3164365030.py:177: FutureWarning: Series.__getitem__ treating keys as positions is deprecated. In a future version, integer keys will always be treated as labels (consistent with DataFrame behavior). To access a value by position, use `ser.iloc[pos]`\n",
      "  if position!=0 and df['Low'][i]<min(df['Open'][i] , entry_price*0.98) and bar_counts[i]>1:\n",
      "/tmp/ipykernel_21521/1375693250.py:34: SettingWithCopyWarning: \n",
      "A value is trying to be set on a copy of a slice from a DataFrame.\n",
      "Try using .loc[row_indexer,col_indexer] = value instead\n",
      "\n",
      "See the caveats in the documentation: https://pandas.pydata.org/pandas-docs/stable/user_guide/indexing.html#returning-a-view-versus-a-copy\n",
      "  df['trade_start'] = df['trade_end'].shift(1).fillna(False) | df[bar_count_col].eq(1)\n"
     ]
    },
    {
     "name": "stdout",
     "output_type": "stream",
     "text": [
      "\n",
      " Processing signals of : "
     ]
    },
    {
     "name": "stderr",
     "output_type": "stream",
     "text": [
      "/tmp/ipykernel_21521/3164365030.py:66: FutureWarning: Series.__getitem__ treating keys as positions is deprecated. In a future version, integer keys will always be treated as labels (consistent with DataFrame behavior). To access a value by position, use `ser.iloc[pos]`\n",
      "  if ( df['signal'][i-1]==1 or df['signal'][i]==1) and position == 0  and df['Close'][i]<df['Close'][i-1] and df['indClose'][i]>df['indtodayo'][i]*0.999 :\n"
     ]
    },
    {
     "name": "stdout",
     "output_type": "stream",
     "text": [
      " 1225.75\n",
      " \n",
      " The Outputting dataframe to file file  [(Timestamp('2024-03-18 13:15:00+0530', tz='UTC+05:30'), 'NSE:JSWSTEEL', 1, 800.55, 1), (Timestamp('2024-03-20 09:15:00+0530', tz='UTC+05:30'), 'NSE:JSWSTEEL', 0, 795.35, 16), (Timestamp('2024-03-21 10:45:00+0530', tz='UTC+05:30'), 'NSE:JSWSTEEL', 1, 810.25, 1), (Timestamp('2024-03-26 10:15:00+0530', tz='UTC+05:30'), 'NSE:JSWSTEEL', 0, 821.3, 16), (Timestamp('2024-03-28 11:15:00+0530', tz='UTC+05:30'), 'NSE:JSWSTEEL', 1, 832.15, 1), (Timestamp('2024-04-02 09:15:00+0530', tz='UTC+05:30'), 'NSE:JSWSTEEL', 0, 865.35, 16)]\n",
      " \n",
      " The Outputting dataframe to file file \n",
      " \n",
      " The Outputting to trade file  \n",
      " Carryforward exit EOD long at"
     ]
    },
    {
     "name": "stderr",
     "output_type": "stream",
     "text": [
      "/tmp/ipykernel_21521/1375693250.py:34: FutureWarning: Downcasting object dtype arrays on .fillna, .ffill, .bfill is deprecated and will change in a future version. Call result.infer_objects(copy=False) instead. To opt-in to the future behavior, set `pd.set_option('future.no_silent_downcasting', True)`\n",
      "  df['trade_start'] = df['trade_end'].shift(1).fillna(False) | df[bar_count_col].eq(1)\n"
     ]
    },
    {
     "name": "stdout",
     "output_type": "stream",
     "text": [
      "2"
     ]
    },
    {
     "name": "stderr",
     "output_type": "stream",
     "text": [
      "/tmp/ipykernel_21521/3164365030.py:192: FutureWarning: Series.__getitem__ treating keys as positions is deprecated. In a future version, integer keys will always be treated as labels (consistent with DataFrame behavior). To access a value by position, use `ser.iloc[pos]`\n",
      "  if position == 1 and row['Close'] > entry_price*(1+(1.25*df['5drng'][i])) and df['Close'][i]>df['Close'][i-1] and bar_counts[i]>10:\n",
      "/tmp/ipykernel_21521/1375693250.py:35: SettingWithCopyWarning: \n",
      "A value is trying to be set on a copy of a slice from a DataFrame.\n",
      "Try using .loc[row_indexer,col_indexer] = value instead\n",
      "\n",
      "See the caveats in the documentation: https://pandas.pydata.org/pandas-docs/stable/user_guide/indexing.html#returning-a-view-versus-a-copy\n",
      "  df['trade_start'] = df['trade_start'].astype(int)\n"
     ]
    },
    {
     "name": "stdout",
     "output_type": "stream",
     "text": [
      " \n"
     ]
    },
    {
     "name": "stderr",
     "output_type": "stream",
     "text": [
      "/tmp/ipykernel_21521/3164365030.py:143: FutureWarning: Series.__getitem__ treating keys as positions is deprecated. In a future version, integer keys will always be treated as labels (consistent with DataFrame behavior). To access a value by position, use `ser.iloc[pos]`\n",
      "  if position != 0 and intra_Exit==0 and day_count>=n_day_Exit and bar_counts[i]>1 and df['Close'][i]<df['Close'][i-1]  :\n"
     ]
    },
    {
     "name": "stdout",
     "output_type": "stream",
     "text": [
      "NSE:NESTLEIND NSE:TATASTEEL  \n"
     ]
    },
    {
     "name": "stderr",
     "output_type": "stream",
     "text": [
      "/tmp/ipykernel_21521/3164365030.py:203: FutureWarning: Series.__getitem__ treating keys as positions is deprecated. In a future version, integer keys will always be treated as labels (consistent with DataFrame behavior). To access a value by position, use `ser.iloc[pos]`\n",
      "  if position >0 and df['Close'][i-1]>df['R2'][i-1]*1.01 and df['Close'][i]<df['R2'][i-1]*1.01 and bar_counts[i]>5 and df.index[i].time() >= time(9, 30):\n"
     ]
    },
    {
     "name": "stdout",
     "output_type": "stream",
     "text": [
      "time is:  \n"
     ]
    },
    {
     "name": "stderr",
     "output_type": "stream",
     "text": [
      "/tmp/ipykernel_21521/1375693250.py:38: SettingWithCopyWarning: \n",
      "A value is trying to be set on a copy of a slice from a DataFrame.\n",
      "Try using .loc[row_indexer,col_indexer] = value instead\n",
      "\n",
      "See the caveats in the documentation: https://pandas.pydata.org/pandas-docs/stable/user_guide/indexing.html#returning-a-view-versus-a-copy\n",
      "  df['trade_id'] = df['trade_start'].cumsum()\n"
     ]
    },
    {
     "name": "stdout",
     "output_type": "stream",
     "text": [
      "/home/aakash_tandon/Python_strategies/Live_aakash_fno_CF_v1/symbol_wise_dataframe/NSE:BIOCON.csv\n",
      " \n",
      " The Outputting to trade file "
     ]
    },
    {
     "name": "stderr",
     "output_type": "stream",
     "text": [
      "/tmp/ipykernel_21521/1375693250.py:34: SettingWithCopyWarning: \n",
      "A value is trying to be set on a copy of a slice from a DataFrame.\n",
      "Try using .loc[row_indexer,col_indexer] = value instead\n",
      "\n",
      "See the caveats in the documentation: https://pandas.pydata.org/pandas-docs/stable/user_guide/indexing.html#returning-a-view-versus-a-copy\n",
      "  df['trade_start'] = df['trade_end'].shift(1).fillna(False) | df[bar_count_col].eq(1)\n"
     ]
    },
    {
     "name": "stdout",
     "output_type": "stream",
     "text": [
      "/home/aakash_tandon/Python_strategies/Live_aakash_fno_CF_v1/symbol_wise_trades/NSE:IGL.csv2024-04-02 09:15:00+05:30\n",
      " \n",
      " The Outputting dataframe to file file  \n",
      "  "
     ]
    },
    {
     "name": "stderr",
     "output_type": "stream",
     "text": [
      "/tmp/ipykernel_21521/3164365030.py:73: FutureWarning: Series.__getitem__ treating keys as positions is deprecated. In a future version, integer keys will always be treated as labels (consistent with DataFrame behavior). To access a value by position, use `ser.iloc[pos]`\n",
      "  print(\"\\n Position taken long at : \" , df.index[i] , \"-- entry Price - :  \" , entry_price , 'R1 today' ,df['R1'][i]*1.002  )\n",
      "/tmp/ipykernel_21521/1375693250.py:35: SettingWithCopyWarning: \n",
      "A value is trying to be set on a copy of a slice from a DataFrame.\n",
      "Try using .loc[row_indexer,col_indexer] = value instead\n",
      "\n",
      "See the caveats in the documentation: https://pandas.pydata.org/pandas-docs/stable/user_guide/indexing.html#returning-a-view-versus-a-copy\n",
      "  df['trade_start'] = df['trade_start'].astype(int)\n"
     ]
    },
    {
     "name": "stdout",
     "output_type": "stream",
     "text": [
      " /home/aakash_tandon/Python_strategies/Live_aakash_fno_CF_v1/symbol_wise_dataframe/NSE:CHOLAFIN.csv\n",
      "\n",
      " Position taken long at : /home/aakash_tandon/Python_strategies/Live_aakash_fno_CF_v1/symbol_wise_trades/NSE:AMBUJACEM.csv"
     ]
    },
    {
     "name": "stderr",
     "output_type": "stream",
     "text": [
      "/tmp/ipykernel_21521/3164365030.py:182: FutureWarning: Series.__getitem__ treating keys as positions is deprecated. In a future version, integer keys will always be treated as labels (consistent with DataFrame behavior). To access a value by position, use `ser.iloc[pos]`\n",
      "  exit_price = min(df['Open'][i] , entry_price*0.98)\n"
     ]
    },
    {
     "name": "stdout",
     "output_type": "stream",
     "text": [
      "\n",
      "15:15:00\n",
      " \n",
      "Creating trade log for/home/aakash_tandon/Python_strategies/Live_aakash_fno_CF_v1/symbol_wise_dataframe/NSE:ICICIPRULI.csv"
     ]
    },
    {
     "name": "stderr",
     "output_type": "stream",
     "text": [
      "/tmp/ipykernel_21521/3164365030.py:186: FutureWarning: Series.__getitem__ treating keys as positions is deprecated. In a future version, integer keys will always be treated as labels (consistent with DataFrame behavior). To access a value by position, use `ser.iloc[pos]`\n",
      "  print(\"\\ Fixed stoploss:  S1 is : \" , min(df['Open'][i] , entry_price*0.98) ,   \" -- exit  at\" , exit_price ,  \"time is \" , df.index[i].time() , \"Low of bar is :\" , df['Low'][i] )\n"
     ]
    },
    {
     "name": "stdout",
     "output_type": "stream",
     "text": [
      "\n",
      "\n",
      " Carryforward exit EOD long at 2024-03-21 13:45:00+05:30\n",
      " Processing signals of : \\ Fixed stoploss:  S1 is :  "
     ]
    },
    {
     "name": "stderr",
     "output_type": "stream",
     "text": [
      "/tmp/ipykernel_21521/1375693250.py:38: SettingWithCopyWarning: \n",
      "A value is trying to be set on a copy of a slice from a DataFrame.\n",
      "Try using .loc[row_indexer,col_indexer] = value instead\n",
      "\n",
      "See the caveats in the documentation: https://pandas.pydata.org/pandas-docs/stable/user_guide/indexing.html#returning-a-view-versus-a-copy\n",
      "  df['trade_id'] = df['trade_start'].cumsum()\n"
     ]
    },
    {
     "name": "stdout",
     "output_type": "stream",
     "text": [
      "NSE:JSWSTEEL  \n",
      "1 "
     ]
    },
    {
     "name": "stderr",
     "output_type": "stream",
     "text": [
      "/tmp/ipykernel_21521/3164365030.py:73: FutureWarning: Series.__getitem__ treating keys as positions is deprecated. In a future version, integer keys will always be treated as labels (consistent with DataFrame behavior). To access a value by position, use `ser.iloc[pos]`\n",
      "  print(\"\\n Position taken long at : \" , df.index[i] , \"-- entry Price - :  \" , entry_price , 'R1 today' ,df['R1'][i]*1.002  )\n"
     ]
    },
    {
     "name": "stdout",
     "output_type": "stream",
     "text": [
      "\n",
      "\n",
      " Processing signals of : \n",
      "-- entry Price - :  NSE:TORNTPHARM \n",
      " Position taken long at : 627.0039999999999 \n",
      "position at   1604.35 2024-03-21 11:15:00+05:30   -- exit  at\n",
      " Processing signals of :  6430.3"
     ]
    },
    {
     "name": "stderr",
     "output_type": "stream",
     "text": [
      "/tmp/ipykernel_21521/3164365030.py:66: FutureWarning: Series.__getitem__ treating keys as positions is deprecated. In a future version, integer keys will always be treated as labels (consistent with DataFrame behavior). To access a value by position, use `ser.iloc[pos]`\n",
      "  if ( df['signal'][i-1]==1 or df['signal'][i]==1) and position == 0  and df['Close'][i]<df['Close'][i-1] and df['indClose'][i]>df['indtodayo'][i]*0.999 :\n"
     ]
    },
    {
     "name": "stdout",
     "output_type": "stream",
     "text": [
      " R1 today "
     ]
    },
    {
     "name": "stderr",
     "output_type": "stream",
     "text": [
      "/tmp/ipykernel_21521/3164365030.py:73: FutureWarning: Series.__getitem__ treating keys as positions is deprecated. In a future version, integer keys will always be treated as labels (consistent with DataFrame behavior). To access a value by position, use `ser.iloc[pos]`\n",
      "  print(\"\\n Position taken long at : \" , df.index[i] , \"-- entry Price - :  \" , entry_price , 'R1 today' ,df['R1'][i]*1.002  )\n"
     ]
    },
    {
     "name": "stdout",
     "output_type": "stream",
     "text": [
      "-- entry Price - :  NSE:UBL  "
     ]
    },
    {
     "name": "stderr",
     "output_type": "stream",
     "text": [
      "/tmp/ipykernel_21521/3164365030.py:66: FutureWarning: Series.__getitem__ treating keys as positions is deprecated. In a future version, integer keys will always be treated as labels (consistent with DataFrame behavior). To access a value by position, use `ser.iloc[pos]`\n",
      "  if ( df['signal'][i-1]==1 or df['signal'][i]==1) and position == 0  and df['Close'][i]<df['Close'][i-1] and df['indClose'][i]>df['indtodayo'][i]*0.999 :\n"
     ]
    },
    {
     "name": "stdout",
     "output_type": "stream",
     "text": [
      "  \n",
      "627.00399999999991586.3329999999999NSE:SHREECEM\n",
      " \n",
      " The Outputting dataframe to file file 2024-03-22 10:45:00+05:303574.45 [(Timestamp('2024-03-06 09:15:00+0530', tz='UTC+05:30'), 'NSE:BAJFINANCE', 1, 6259.0, 1), (Timestamp('2024-03-11 09:45:00+0530', tz='UTC+05:30'), 'NSE:BAJFINANCE', 0, 6431.5, 16), (Timestamp('2024-03-20 13:15:00+0530', tz='UTC+05:30'), 'NSE:BAJFINANCE', 1, 6703.6, 1), (Timestamp('2024-03-22 10:15:00+0530', tz='UTC+05:30'), 'NSE:BAJFINANCE', 0, 6754.0, 16), (Timestamp('2024-03-27 14:45:00+0530', tz='UTC+05:30'), 'NSE:BAJFINANCE', 1, 7024.55, 1), (Timestamp('2024-04-01 10:45:00+0530', tz='UTC+05:30'), 'NSE:BAJFINANCE', 0, 7314.0, 16)] \n",
      "[(Timestamp('2024-03-18 14:45:00+0530', tz='UTC+05:30'), 'NSE:GODREJCP', 1, 1240.0, 1), (Timestamp('2024-03-19 10:15:00+0530', tz='UTC+05:30'), 'NSE:GODREJCP', 0, 1215.2, 19), (Timestamp('2024-03-21 11:15:00+0530', tz='UTC+05:30'), 'NSE:GODREJCP', 1, 1229.5, 1), (Timestamp('2024-03-26 09:15:00+0530', tz='UTC+05:30'), 'NSE:GODREJCP', 0, 1197.0, 13), (Timestamp('2024-03-27 11:45:00+0530', tz='UTC+05:30'), 'NSE:GODREJCP', 1, 1213.55, 1), (Timestamp('2024-03-27 15:15:00+0530', tz='UTC+05:30'), 'NSE:GODREJCP', 0, 1230.0, 20), (Timestamp('2024-03-28 09:15:00+0530', tz='UTC+05:30'), 'NSE:GODREJCP', 1, 1221.3, 1), (Timestamp('2024-04-01 15:15:00+0530', tz='UTC+05:30'), 'NSE:GODREJCP', 0, 1225.75, 18)] \n",
      "  Day_count: time is \n",
      "\n",
      "/home/aakash_tandon/Python_strategies/Live_aakash_fno_CF_v1/symbol_wise_dataframe/NSE:INDUSTOWER.csv"
     ]
    },
    {
     "name": "stderr",
     "output_type": "stream",
     "text": [
      "/tmp/ipykernel_21521/3164365030.py:85: FutureWarning: Series.__getitem__ treating keys as positions is deprecated. In a future version, integer keys will always be treated as labels (consistent with DataFrame behavior). To access a value by position, use `ser.iloc[pos]`\n",
      "  if (position == 1 and row['Close'] < min(df['prevdayl'][i]*0.995 ,df['todayl'][i-1]*1.005) and bar_counts[i]>=2):\n"
     ]
    },
    {
     "name": "stdout",
     "output_type": "stream",
     "text": [
      "1\n",
      " \n",
      " The Outputting dataframe to file file R1 today"
     ]
    },
    {
     "name": "stderr",
     "output_type": "stream",
     "text": [
      "/tmp/ipykernel_21521/3164365030.py:66: FutureWarning: Series.__getitem__ treating keys as positions is deprecated. In a future version, integer keys will always be treated as labels (consistent with DataFrame behavior). To access a value by position, use `ser.iloc[pos]`\n",
      "  if ( df['signal'][i-1]==1 or df['signal'][i]==1) and position == 0  and df['Close'][i]<df['Close'][i-1] and df['indClose'][i]>df['indtodayo'][i]*0.999 :\n"
     ]
    },
    {
     "name": "stdout",
     "output_type": "stream",
     "text": [
      "   "
     ]
    },
    {
     "name": "stderr",
     "output_type": "stream",
     "text": [
      "/tmp/ipykernel_21521/3164365030.py:156: FutureWarning: Series.__getitem__ treating keys as positions is deprecated. In a future version, integer keys will always be treated as labels (consistent with DataFrame behavior). To access a value by position, use `ser.iloc[pos]`\n",
      "  if position!=0 and df['todayo'][i]<df['x_day_low'][i] and df['Close'][i]<df['Low'][i-1] and day_count>=1 and df.index[i].time()>=datetime.time(10 , 45):\n"
     ]
    },
    {
     "name": "stdout",
     "output_type": "stream",
     "text": [
      "210:15:00 "
     ]
    },
    {
     "name": "stderr",
     "output_type": "stream",
     "text": [
      "/tmp/ipykernel_21521/3164365030.py:66: FutureWarning: Series.__getitem__ treating keys as positions is deprecated. In a future version, integer keys will always be treated as labels (consistent with DataFrame behavior). To access a value by position, use `ser.iloc[pos]`\n",
      "  if ( df['signal'][i-1]==1 or df['signal'][i]==1) and position == 0  and df['Close'][i]<df['Close'][i-1] and df['indClose'][i]>df['indtodayo'][i]*0.999 :\n"
     ]
    },
    {
     "name": "stdout",
     "output_type": "stream",
     "text": [
      "position at  \n",
      " "
     ]
    },
    {
     "name": "stderr",
     "output_type": "stream",
     "text": [
      "/tmp/ipykernel_21521/3164365030.py:166: FutureWarning: Series.__getitem__ treating keys as positions is deprecated. In a future version, integer keys will always be treated as labels (consistent with DataFrame behavior). To access a value by position, use `ser.iloc[pos]`\n",
      "  if position!=0 and df['High'][i]<df['S1'][i-1] and df['Close'][i]<df['Close'][i-1] and day_count>=1 and df.index[i].time()>=time(10 , 45):\n"
     ]
    },
    {
     "name": "stdout",
     "output_type": "stream",
     "text": [
      " Low of bar is :"
     ]
    },
    {
     "name": "stderr",
     "output_type": "stream",
     "text": [
      "/tmp/ipykernel_21521/3164365030.py:177: FutureWarning: Series.__getitem__ treating keys as positions is deprecated. In a future version, integer keys will always be treated as labels (consistent with DataFrame behavior). To access a value by position, use `ser.iloc[pos]`\n",
      "  if position!=0 and df['Low'][i]<min(df['Open'][i] , entry_price*0.98) and bar_counts[i]>1:\n"
     ]
    },
    {
     "name": "stdout",
     "output_type": "stream",
     "text": [
      " 625.5\n",
      "Creating trade log for"
     ]
    },
    {
     "name": "stderr",
     "output_type": "stream",
     "text": [
      "/tmp/ipykernel_21521/3164365030.py:192: FutureWarning: Series.__getitem__ treating keys as positions is deprecated. In a future version, integer keys will always be treated as labels (consistent with DataFrame behavior). To access a value by position, use `ser.iloc[pos]`\n",
      "  if position == 1 and row['Close'] > entry_price*(1+(1.25*df['5drng'][i])) and df['Close'][i]>df['Close'][i-1] and bar_counts[i]>10:\n"
     ]
    },
    {
     "name": "stdout",
     "output_type": "stream",
     "text": [
      "\n",
      "Creating trade log for\n",
      "3536.5423  "
     ]
    },
    {
     "name": "stderr",
     "output_type": "stream",
     "text": [
      "/tmp/ipykernel_21521/3164365030.py:203: FutureWarning: Series.__getitem__ treating keys as positions is deprecated. In a future version, integer keys will always be treated as labels (consistent with DataFrame behavior). To access a value by position, use `ser.iloc[pos]`\n",
      "  if position >0 and df['Close'][i-1]>df['R2'][i-1]*1.01 and df['Close'][i]<df['R2'][i-1]*1.01 and bar_counts[i]>5 and df.index[i].time() >= time(9, 30):\n"
     ]
    },
    {
     "name": "stdout",
     "output_type": "stream",
     "text": [
      "NSE:GODREJCPNSE:BAJFINANCE\n",
      " \n",
      " The Outputting dataframe to file file "
     ]
    },
    {
     "name": "stderr",
     "output_type": "stream",
     "text": [
      "/tmp/ipykernel_21521/3164365030.py:66: FutureWarning: Series.__getitem__ treating keys as positions is deprecated. In a future version, integer keys will always be treated as labels (consistent with DataFrame behavior). To access a value by position, use `ser.iloc[pos]`\n",
      "  if ( df['signal'][i-1]==1 or df['signal'][i]==1) and position == 0  and df['Close'][i]<df['Close'][i-1] and df['indClose'][i]>df['indtodayo'][i]*0.999 :\n"
     ]
    },
    {
     "name": "stdout",
     "output_type": "stream",
     "text": [
      "\n",
      " \n",
      " The Outputting to trade file \n",
      "\n",
      " \n",
      " \n",
      " The Outputting dataframe to file file  /home/aakash_tandon/Python_strategies/Live_aakash_fno_CF_v1/symbol_wise_dataframe/NSE:IGL.csv /home/aakash_tandon/Python_strategies/Live_aakash_fno_CF_v1/symbol_wise_trades/NSE:ADANIPORTS.csv\n"
     ]
    },
    {
     "name": "stderr",
     "output_type": "stream",
     "text": [
      "/tmp/ipykernel_21521/3164365030.py:73: FutureWarning: Series.__getitem__ treating keys as positions is deprecated. In a future version, integer keys will always be treated as labels (consistent with DataFrame behavior). To access a value by position, use `ser.iloc[pos]`\n",
      "  print(\"\\n Position taken long at : \" , df.index[i] , \"-- entry Price - :  \" , entry_price , 'R1 today' ,df['R1'][i]*1.002  )\n"
     ]
    },
    {
     "name": "stdout",
     "output_type": "stream",
     "text": [
      "/home/aakash_tandon/Python_strategies/Live_aakash_fno_CF_v1/symbol_wise_dataframe/NSE:AMBUJACEM.csv\n"
     ]
    },
    {
     "name": "stderr",
     "output_type": "stream",
     "text": [
      "/tmp/ipykernel_21521/3164365030.py:73: FutureWarning: Series.__getitem__ treating keys as positions is deprecated. In a future version, integer keys will always be treated as labels (consistent with DataFrame behavior). To access a value by position, use `ser.iloc[pos]`\n",
      "  print(\"\\n Position taken long at : \" , df.index[i] , \"-- entry Price - :  \" , entry_price , 'R1 today' ,df['R1'][i]*1.002  )\n"
     ]
    },
    {
     "name": "stdout",
     "output_type": "stream",
     "text": [
      "\n",
      "\n",
      " Position taken long at : \n",
      "1778.5"
     ]
    },
    {
     "name": "stderr",
     "output_type": "stream",
     "text": [
      "/tmp/ipykernel_21521/3164365030.py:112: FutureWarning: Series.__getitem__ treating keys as positions is deprecated. In a future version, integer keys will always be treated as labels (consistent with DataFrame behavior). To access a value by position, use `ser.iloc[pos]`\n",
      "  if position != 0 and bar_counts[i]>4 and df['indClose'][i]<df[\"indOpen\"][i-1]*0.985 and df['High'][i]<df['todayh'][i-1]*0.985:\n"
     ]
    },
    {
     "name": "stdout",
     "output_type": "stream",
     "text": [
      "\n",
      " Position taken long at : \n",
      " Position taken long at :  "
     ]
    },
    {
     "name": "stderr",
     "output_type": "stream",
     "text": [
      "/tmp/ipykernel_21521/3164365030.py:85: FutureWarning: Series.__getitem__ treating keys as positions is deprecated. In a future version, integer keys will always be treated as labels (consistent with DataFrame behavior). To access a value by position, use `ser.iloc[pos]`\n",
      "  if (position == 1 and row['Close'] < min(df['prevdayl'][i]*0.995 ,df['todayl'][i-1]*1.005) and bar_counts[i]>=2):\n"
     ]
    },
    {
     "name": "stdout",
     "output_type": "stream",
     "text": [
      " "
     ]
    },
    {
     "name": "stderr",
     "output_type": "stream",
     "text": [
      "/tmp/ipykernel_21521/3164365030.py:133: FutureWarning: Series.__getitem__ treating keys as positions is deprecated. In a future version, integer keys will always be treated as labels (consistent with DataFrame behavior). To access a value by position, use `ser.iloc[pos]`\n",
      "  if position > 0 and day_count>=1 and bar_counts[i]>3 and df['Close'][i]<df['Low'][i-1]*0.985  :\n"
     ]
    },
    {
     "name": "stdout",
     "output_type": "stream",
     "text": [
      "2024-03-20 13:45:00+05:30\n",
      " Processing signals of : "
     ]
    },
    {
     "name": "stderr",
     "output_type": "stream",
     "text": [
      "/tmp/ipykernel_21521/3164365030.py:73: FutureWarning: Series.__getitem__ treating keys as positions is deprecated. In a future version, integer keys will always be treated as labels (consistent with DataFrame behavior). To access a value by position, use `ser.iloc[pos]`\n",
      "  print(\"\\n Position taken long at : \" , df.index[i] , \"-- entry Price - :  \" , entry_price , 'R1 today' ,df['R1'][i]*1.002  )\n",
      "/tmp/ipykernel_21521/1375693250.py:31: SettingWithCopyWarning: \n",
      "A value is trying to be set on a copy of a slice from a DataFrame.\n",
      "Try using .loc[row_indexer,col_indexer] = value instead\n",
      "\n",
      "See the caveats in the documentation: https://pandas.pydata.org/pandas-docs/stable/user_guide/indexing.html#returning-a-view-versus-a-copy\n",
      "  df['trade_end'] = (df[bar_count_col].shift(-1) < df[bar_count_col]) | (df[bar_count_col].shift(-1) == 0) | df[bar_count_col].eq(0)\n",
      "/tmp/ipykernel_21521/3164365030.py:73: FutureWarning: Series.__getitem__ treating keys as positions is deprecated. In a future version, integer keys will always be treated as labels (consistent with DataFrame behavior). To access a value by position, use `ser.iloc[pos]`\n",
      "  print(\"\\n Position taken long at : \" , df.index[i] , \"-- entry Price - :  \" , entry_price , 'R1 today' ,df['R1'][i]*1.002  )\n"
     ]
    },
    {
     "name": "stdout",
     "output_type": "stream",
     "text": [
      "2024-03-21 10:45:00+05:30 [(Timestamp('2024-03-18 14:15:00+0530', tz='UTC+05:30'), 'NSE:ABB', 1, 5746.85, 1), (Timestamp('2024-03-19 14:45:00+0530', tz='UTC+05:30'), 'NSE:ABB', 0, 5631.9130000000005, 19), (Timestamp('2024-03-20 13:45:00+0530', tz='UTC+05:30'), 'NSE:ABB', 1, 5743.35, 1), (Timestamp('2024-03-22 09:15:00+0530', tz='UTC+05:30'), 'NSE:ABB', 0, 5851.0, 16), (Timestamp('2024-03-28 12:15:00+0530', tz='UTC+05:30'), 'NSE:ABB', 1, 6426.65, 1), (Timestamp('2024-04-02 09:15:00+0530', tz='UTC+05:30'), 'NSE:ABB', 0, 6430.3, 16)] \n",
      " Position taken long at :  \n",
      " Processing signals of : \n"
     ]
    },
    {
     "name": "stderr",
     "output_type": "stream",
     "text": [
      "/tmp/ipykernel_21521/3164365030.py:156: FutureWarning: Series.__getitem__ treating keys as positions is deprecated. In a future version, integer keys will always be treated as labels (consistent with DataFrame behavior). To access a value by position, use `ser.iloc[pos]`\n",
      "  if position!=0 and df['todayo'][i]<df['x_day_low'][i] and df['Close'][i]<df['Low'][i-1] and day_count>=1 and df.index[i].time()>=datetime.time(10 , 45):\n"
     ]
    },
    {
     "name": "stdout",
     "output_type": "stream",
     "text": [
      "-- entry Price - :   \n",
      " \n",
      " The Outputting to trade file "
     ]
    },
    {
     "name": "stderr",
     "output_type": "stream",
     "text": [
      "/tmp/ipykernel_21521/1375693250.py:34: FutureWarning: Downcasting object dtype arrays on .fillna, .ffill, .bfill is deprecated and will change in a future version. Call result.infer_objects(copy=False) instead. To opt-in to the future behavior, set `pd.set_option('future.no_silent_downcasting', True)`\n",
      "  df['trade_start'] = df['trade_end'].shift(1).fillna(False) | df[bar_count_col].eq(1)\n"
     ]
    },
    {
     "name": "stdout",
     "output_type": "stream",
     "text": [
      "-- entry Price - :   "
     ]
    },
    {
     "name": "stderr",
     "output_type": "stream",
     "text": [
      "/tmp/ipykernel_21521/1375693250.py:31: SettingWithCopyWarning: \n",
      "A value is trying to be set on a copy of a slice from a DataFrame.\n",
      "Try using .loc[row_indexer,col_indexer] = value instead\n",
      "\n",
      "See the caveats in the documentation: https://pandas.pydata.org/pandas-docs/stable/user_guide/indexing.html#returning-a-view-versus-a-copy\n",
      "  df['trade_end'] = (df[bar_count_col].shift(-1) < df[bar_count_col]) | (df[bar_count_col].shift(-1) == 0) | df[bar_count_col].eq(0)\n"
     ]
    },
    {
     "name": "stdout",
     "output_type": "stream",
     "text": [
      "   2024-03-21 11:15:00+05:30"
     ]
    },
    {
     "name": "stderr",
     "output_type": "stream",
     "text": [
      "/tmp/ipykernel_21521/3164365030.py:166: FutureWarning: Series.__getitem__ treating keys as positions is deprecated. In a future version, integer keys will always be treated as labels (consistent with DataFrame behavior). To access a value by position, use `ser.iloc[pos]`\n",
      "  if position!=0 and df['High'][i]<df['S1'][i-1] and df['Close'][i]<df['Close'][i-1] and day_count>=1 and df.index[i].time()>=time(10 , 45):\n"
     ]
    },
    {
     "name": "stdout",
     "output_type": "stream",
     "text": [
      "Day_count: \n",
      " Position taken long at :  "
     ]
    },
    {
     "name": "stderr",
     "output_type": "stream",
     "text": [
      "/tmp/ipykernel_21521/3164365030.py:124: FutureWarning: Series.__getitem__ treating keys as positions is deprecated. In a future version, integer keys will always be treated as labels (consistent with DataFrame behavior). To access a value by position, use `ser.iloc[pos]`\n",
      "  if position > 0 and day_count>=1 and bar_counts[i]>6 and df['Close'][i]<df['prevdayl'][i]*0.97 and df['Close'][i]<df['Close'][i-1] :\n"
     ]
    },
    {
     "name": "stdout",
     "output_type": "stream",
     "text": [
      " 2024-03-27 12:45:00+05:30 NSE:SBILIFE"
     ]
    },
    {
     "name": "stderr",
     "output_type": "stream",
     "text": [
      "/tmp/ipykernel_21521/1375693250.py:34: SettingWithCopyWarning: \n",
      "A value is trying to be set on a copy of a slice from a DataFrame.\n",
      "Try using .loc[row_indexer,col_indexer] = value instead\n",
      "\n",
      "See the caveats in the documentation: https://pandas.pydata.org/pandas-docs/stable/user_guide/indexing.html#returning-a-view-versus-a-copy\n",
      "  df['trade_start'] = df['trade_end'].shift(1).fillna(False) | df[bar_count_col].eq(1)\n"
     ]
    },
    {
     "name": "stdout",
     "output_type": "stream",
     "text": [
      " /home/aakash_tandon/Python_strategies/Live_aakash_fno_CF_v1/symbol_wise_dataframe/NSE:INDIGO.csv264.1  "
     ]
    },
    {
     "name": "stderr",
     "output_type": "stream",
     "text": [
      "/tmp/ipykernel_21521/1375693250.py:34: FutureWarning: Downcasting object dtype arrays on .fillna, .ffill, .bfill is deprecated and will change in a future version. Call result.infer_objects(copy=False) instead. To opt-in to the future behavior, set `pd.set_option('future.no_silent_downcasting', True)`\n",
      "  df['trade_start'] = df['trade_end'].shift(1).fillna(False) | df[bar_count_col].eq(1)\n",
      "/tmp/ipykernel_21521/3164365030.py:177: FutureWarning: Series.__getitem__ treating keys as positions is deprecated. In a future version, integer keys will always be treated as labels (consistent with DataFrame behavior). To access a value by position, use `ser.iloc[pos]`\n",
      "  if position!=0 and df['Low'][i]<min(df['Open'][i] , entry_price*0.98) and bar_counts[i]>1:\n"
     ]
    },
    {
     "name": "stdout",
     "output_type": "stream",
     "text": [
      "/home/aakash_tandon/Python_strategies/Live_aakash_fno_CF_v1/symbol_wise_trades/NSE:DRREDDY.csv5256.05 NSE:TVSMOTOR\n",
      "\n",
      "\n",
      " "
     ]
    },
    {
     "name": "stderr",
     "output_type": "stream",
     "text": [
      "/tmp/ipykernel_21521/1375693250.py:35: SettingWithCopyWarning: \n",
      "A value is trying to be set on a copy of a slice from a DataFrame.\n",
      "Try using .loc[row_indexer,col_indexer] = value instead\n",
      "\n",
      "See the caveats in the documentation: https://pandas.pydata.org/pandas-docs/stable/user_guide/indexing.html#returning-a-view-versus-a-copy\n",
      "  df['trade_start'] = df['trade_start'].astype(int)\n"
     ]
    },
    {
     "name": "stdout",
     "output_type": "stream",
     "text": [
      "-- entry Price - :  22024-03-18 13:45:00+05:30\n",
      " \n",
      "Creating trade log for-- entry Price - :  "
     ]
    },
    {
     "name": "stderr",
     "output_type": "stream",
     "text": [
      "/tmp/ipykernel_21521/3164365030.py:192: FutureWarning: Series.__getitem__ treating keys as positions is deprecated. In a future version, integer keys will always be treated as labels (consistent with DataFrame behavior). To access a value by position, use `ser.iloc[pos]`\n",
      "  if position == 1 and row['Close'] > entry_price*(1+(1.25*df['5drng'][i])) and df['Close'][i]>df['Close'][i-1] and bar_counts[i]>10:\n"
     ]
    },
    {
     "name": "stdout",
     "output_type": "stream",
     "text": [
      "\n",
      "1104.95"
     ]
    },
    {
     "name": "stderr",
     "output_type": "stream",
     "text": [
      "/tmp/ipykernel_21521/1375693250.py:34: SettingWithCopyWarning: \n",
      "A value is trying to be set on a copy of a slice from a DataFrame.\n",
      "Try using .loc[row_indexer,col_indexer] = value instead\n",
      "\n",
      "See the caveats in the documentation: https://pandas.pydata.org/pandas-docs/stable/user_guide/indexing.html#returning-a-view-versus-a-copy\n",
      "  df['trade_start'] = df['trade_end'].shift(1).fillna(False) | df[bar_count_col].eq(1)\n"
     ]
    },
    {
     "name": "stdout",
     "output_type": "stream",
     "text": [
      "R1 today \n",
      " "
     ]
    },
    {
     "name": "stderr",
     "output_type": "stream",
     "text": [
      "/tmp/ipykernel_21521/1375693250.py:38: SettingWithCopyWarning: \n",
      "A value is trying to be set on a copy of a slice from a DataFrame.\n",
      "Try using .loc[row_indexer,col_indexer] = value instead\n",
      "\n",
      "See the caveats in the documentation: https://pandas.pydata.org/pandas-docs/stable/user_guide/indexing.html#returning-a-view-versus-a-copy\n",
      "  df['trade_id'] = df['trade_start'].cumsum()\n"
     ]
    },
    {
     "name": "stdout",
     "output_type": "stream",
     "text": [
      "R1 today "
     ]
    },
    {
     "name": "stderr",
     "output_type": "stream",
     "text": [
      "/tmp/ipykernel_21521/1375693250.py:31: SettingWithCopyWarning: \n",
      "A value is trying to be set on a copy of a slice from a DataFrame.\n",
      "Try using .loc[row_indexer,col_indexer] = value instead\n",
      "\n",
      "See the caveats in the documentation: https://pandas.pydata.org/pandas-docs/stable/user_guide/indexing.html#returning-a-view-versus-a-copy\n",
      "  df['trade_end'] = (df[bar_count_col].shift(-1) < df[bar_count_col]) | (df[bar_count_col].shift(-1) == 0) | df[bar_count_col].eq(0)\n"
     ]
    },
    {
     "name": "stdout",
     "output_type": "stream",
     "text": [
      " "
     ]
    },
    {
     "name": "stderr",
     "output_type": "stream",
     "text": [
      "/tmp/ipykernel_21521/3164365030.py:203: FutureWarning: Series.__getitem__ treating keys as positions is deprecated. In a future version, integer keys will always be treated as labels (consistent with DataFrame behavior). To access a value by position, use `ser.iloc[pos]`\n",
      "  if position >0 and df['Close'][i-1]>df['R2'][i-1]*1.01 and df['Close'][i]<df['R2'][i-1]*1.01 and bar_counts[i]>5 and df.index[i].time() >= time(9, 30):\n"
     ]
    },
    {
     "name": "stdout",
     "output_type": "stream",
     "text": [
      " "
     ]
    },
    {
     "name": "stderr",
     "output_type": "stream",
     "text": [
      "/tmp/ipykernel_21521/3164365030.py:66: FutureWarning: Series.__getitem__ treating keys as positions is deprecated. In a future version, integer keys will always be treated as labels (consistent with DataFrame behavior). To access a value by position, use `ser.iloc[pos]`\n",
      "  if ( df['signal'][i-1]==1 or df['signal'][i]==1) and position == 0  and df['Close'][i]<df['Close'][i-1] and df['indClose'][i]>df['indtodayo'][i]*0.999 :\n"
     ]
    },
    {
     "name": "stdout",
     "output_type": "stream",
     "text": [
      " -- entry Price - :  132754.1NSE:ABB "
     ]
    },
    {
     "name": "stderr",
     "output_type": "stream",
     "text": [
      "/tmp/ipykernel_21521/1375693250.py:34: FutureWarning: Downcasting object dtype arrays on .fillna, .ffill, .bfill is deprecated and will change in a future version. Call result.infer_objects(copy=False) instead. To opt-in to the future behavior, set `pd.set_option('future.no_silent_downcasting', True)`\n",
      "  df['trade_start'] = df['trade_end'].shift(1).fillna(False) | df[bar_count_col].eq(1)\n"
     ]
    },
    {
     "name": "stdout",
     "output_type": "stream",
     "text": [
      "5136.6194000000005  \n"
     ]
    },
    {
     "name": "stderr",
     "output_type": "stream",
     "text": [
      "/tmp/ipykernel_21521/3164365030.py:66: FutureWarning: Series.__getitem__ treating keys as positions is deprecated. In a future version, integer keys will always be treated as labels (consistent with DataFrame behavior). To access a value by position, use `ser.iloc[pos]`\n",
      "  if ( df['signal'][i-1]==1 or df['signal'][i]==1) and position == 0  and df['Close'][i]<df['Close'][i-1] and df['indClose'][i]>df['indtodayo'][i]*0.999 :\n"
     ]
    },
    {
     "name": "stdout",
     "output_type": "stream",
     "text": [
      "\n",
      "R1 today3715.25"
     ]
    },
    {
     "name": "stderr",
     "output_type": "stream",
     "text": [
      "/tmp/ipykernel_21521/1375693250.py:35: SettingWithCopyWarning: \n",
      "A value is trying to be set on a copy of a slice from a DataFrame.\n",
      "Try using .loc[row_indexer,col_indexer] = value instead\n",
      "\n",
      "See the caveats in the documentation: https://pandas.pydata.org/pandas-docs/stable/user_guide/indexing.html#returning-a-view-versus-a-copy\n",
      "  df['trade_start'] = df['trade_start'].astype(int)\n",
      "/tmp/ipykernel_21521/1375693250.py:34: SettingWithCopyWarning: \n",
      "A value is trying to be set on a copy of a slice from a DataFrame.\n",
      "Try using .loc[row_indexer,col_indexer] = value instead\n",
      "\n",
      "See the caveats in the documentation: https://pandas.pydata.org/pandas-docs/stable/user_guide/indexing.html#returning-a-view-versus-a-copy\n",
      "  df['trade_start'] = df['trade_end'].shift(1).fillna(False) | df[bar_count_col].eq(1)\n"
     ]
    },
    {
     "name": "stdout",
     "output_type": "stream",
     "text": [
      "  "
     ]
    },
    {
     "name": "stderr",
     "output_type": "stream",
     "text": [
      "/tmp/ipykernel_21521/3164365030.py:85: FutureWarning: Series.__getitem__ treating keys as positions is deprecated. In a future version, integer keys will always be treated as labels (consistent with DataFrame behavior). To access a value by position, use `ser.iloc[pos]`\n",
      "  if (position == 1 and row['Close'] < min(df['prevdayl'][i]*0.995 ,df['todayl'][i-1]*1.005) and bar_counts[i]>=2):\n"
     ]
    },
    {
     "name": "stdout",
     "output_type": "stream",
     "text": [
      "132642.9731"
     ]
    },
    {
     "name": "stderr",
     "output_type": "stream",
     "text": [
      "/tmp/ipykernel_21521/1375693250.py:38: SettingWithCopyWarning: \n",
      "A value is trying to be set on a copy of a slice from a DataFrame.\n",
      "Try using .loc[row_indexer,col_indexer] = value instead\n",
      "\n",
      "See the caveats in the documentation: https://pandas.pydata.org/pandas-docs/stable/user_guide/indexing.html#returning-a-view-versus-a-copy\n",
      "  df['trade_id'] = df['trade_start'].cumsum()\n"
     ]
    },
    {
     "name": "stdout",
     "output_type": "stream",
     "text": [
      "264.6282"
     ]
    },
    {
     "name": "stderr",
     "output_type": "stream",
     "text": [
      "/tmp/ipykernel_21521/3164365030.py:156: FutureWarning: Series.__getitem__ treating keys as positions is deprecated. In a future version, integer keys will always be treated as labels (consistent with DataFrame behavior). To access a value by position, use `ser.iloc[pos]`\n",
      "  if position!=0 and df['todayo'][i]<df['x_day_low'][i] and df['Close'][i]<df['Low'][i-1] and day_count>=1 and df.index[i].time()>=datetime.time(10 , 45):\n",
      "/tmp/ipykernel_21521/3164365030.py:73: FutureWarning: Series.__getitem__ treating keys as positions is deprecated. In a future version, integer keys will always be treated as labels (consistent with DataFrame behavior). To access a value by position, use `ser.iloc[pos]`\n",
      "  print(\"\\n Position taken long at : \" , df.index[i] , \"-- entry Price - :  \" , entry_price , 'R1 today' ,df['R1'][i]*1.002  )\n"
     ]
    },
    {
     "name": "stdout",
     "output_type": "stream",
     "text": [
      "\n"
     ]
    },
    {
     "name": "stderr",
     "output_type": "stream",
     "text": [
      "/tmp/ipykernel_21521/3164365030.py:112: FutureWarning: Series.__getitem__ treating keys as positions is deprecated. In a future version, integer keys will always be treated as labels (consistent with DataFrame behavior). To access a value by position, use `ser.iloc[pos]`\n",
      "  if position != 0 and bar_counts[i]>4 and df['indClose'][i]<df[\"indOpen\"][i-1]*0.985 and df['High'][i]<df['todayh'][i-1]*0.985:\n"
     ]
    },
    {
     "name": "stdout",
     "output_type": "stream",
     "text": [
      "\n",
      " Position taken long at : R1 today"
     ]
    },
    {
     "name": "stderr",
     "output_type": "stream",
     "text": [
      "/tmp/ipykernel_21521/1375693250.py:31: SettingWithCopyWarning: \n",
      "A value is trying to be set on a copy of a slice from a DataFrame.\n",
      "Try using .loc[row_indexer,col_indexer] = value instead\n",
      "\n",
      "See the caveats in the documentation: https://pandas.pydata.org/pandas-docs/stable/user_guide/indexing.html#returning-a-view-versus-a-copy\n",
      "  df['trade_end'] = (df[bar_count_col].shift(-1) < df[bar_count_col]) | (df[bar_count_col].shift(-1) == 0) | df[bar_count_col].eq(0)\n",
      "/tmp/ipykernel_21521/3164365030.py:85: FutureWarning: Series.__getitem__ treating keys as positions is deprecated. In a future version, integer keys will always be treated as labels (consistent with DataFrame behavior). To access a value by position, use `ser.iloc[pos]`\n",
      "  if (position == 1 and row['Close'] < min(df['prevdayl'][i]*0.995 ,df['todayl'][i-1]*1.005) and bar_counts[i]>=2):\n",
      "/tmp/ipykernel_21521/3164365030.py:166: FutureWarning: Series.__getitem__ treating keys as positions is deprecated. In a future version, integer keys will always be treated as labels (consistent with DataFrame behavior). To access a value by position, use `ser.iloc[pos]`\n",
      "  if position!=0 and df['High'][i]<df['S1'][i-1] and df['Close'][i]<df['Close'][i-1] and day_count>=1 and df.index[i].time()>=time(10 , 45):\n"
     ]
    },
    {
     "name": "stdout",
     "output_type": "stream",
     "text": [
      "  "
     ]
    },
    {
     "name": "stderr",
     "output_type": "stream",
     "text": [
      "/tmp/ipykernel_21521/3164365030.py:156: FutureWarning: Series.__getitem__ treating keys as positions is deprecated. In a future version, integer keys will always be treated as labels (consistent with DataFrame behavior). To access a value by position, use `ser.iloc[pos]`\n",
      "  if position!=0 and df['todayo'][i]<df['x_day_low'][i] and df['Close'][i]<df['Low'][i-1] and day_count>=1 and df.index[i].time()>=datetime.time(10 , 45):\n",
      "/tmp/ipykernel_21521/1375693250.py:35: SettingWithCopyWarning: \n",
      "A value is trying to be set on a copy of a slice from a DataFrame.\n",
      "Try using .loc[row_indexer,col_indexer] = value instead\n",
      "\n",
      "See the caveats in the documentation: https://pandas.pydata.org/pandas-docs/stable/user_guide/indexing.html#returning-a-view-versus-a-copy\n",
      "  df['trade_start'] = df['trade_start'].astype(int)\n",
      "/tmp/ipykernel_21521/3164365030.py:177: FutureWarning: Series.__getitem__ treating keys as positions is deprecated. In a future version, integer keys will always be treated as labels (consistent with DataFrame behavior). To access a value by position, use `ser.iloc[pos]`\n",
      "  if position!=0 and df['Low'][i]<min(df['Open'][i] , entry_price*0.98) and bar_counts[i]>1:\n"
     ]
    },
    {
     "name": "stdout",
     "output_type": "stream",
     "text": [
      "\n",
      " \n",
      " The Outputting dataframe to file file 2024-03-18 13:15:00+05:301111.4184"
     ]
    },
    {
     "name": "stderr",
     "output_type": "stream",
     "text": [
      "/tmp/ipykernel_21521/3164365030.py:205: FutureWarning: Series.__getitem__ treating keys as positions is deprecated. In a future version, integer keys will always be treated as labels (consistent with DataFrame behavior). To access a value by position, use `ser.iloc[pos]`\n",
      "  print(\"\\n Resistance target  \" , df.index[i] , \"at  \", row['Close'] , \" R2 prev: \" , df['R2'][i-1] , \" entryprice\" , entry_price )\n",
      "/tmp/ipykernel_21521/3164365030.py:166: FutureWarning: Series.__getitem__ treating keys as positions is deprecated. In a future version, integer keys will always be treated as labels (consistent with DataFrame behavior). To access a value by position, use `ser.iloc[pos]`\n",
      "  if position!=0 and df['High'][i]<df['S1'][i-1] and df['Close'][i]<df['Close'][i-1] and day_count>=1 and df.index[i].time()>=time(10 , 45):\n"
     ]
    },
    {
     "name": "stdout",
     "output_type": "stream",
     "text": [
      "\n",
      " "
     ]
    },
    {
     "name": "stderr",
     "output_type": "stream",
     "text": [
      "/tmp/ipykernel_21521/1375693250.py:38: SettingWithCopyWarning: \n",
      "A value is trying to be set on a copy of a slice from a DataFrame.\n",
      "Try using .loc[row_indexer,col_indexer] = value instead\n",
      "\n",
      "See the caveats in the documentation: https://pandas.pydata.org/pandas-docs/stable/user_guide/indexing.html#returning-a-view-versus-a-copy\n",
      "  df['trade_id'] = df['trade_start'].cumsum()\n"
     ]
    },
    {
     "name": "stdout",
     "output_type": "stream",
     "text": [
      "\n",
      " Resistance target  "
     ]
    },
    {
     "name": "stderr",
     "output_type": "stream",
     "text": [
      "/tmp/ipykernel_21521/3164365030.py:192: FutureWarning: Series.__getitem__ treating keys as positions is deprecated. In a future version, integer keys will always be treated as labels (consistent with DataFrame behavior). To access a value by position, use `ser.iloc[pos]`\n",
      "  if position == 1 and row['Close'] > entry_price*(1+(1.25*df['5drng'][i])) and df['Close'][i]>df['Close'][i-1] and bar_counts[i]>10:\n",
      "/tmp/ipykernel_21521/3164365030.py:177: FutureWarning: Series.__getitem__ treating keys as positions is deprecated. In a future version, integer keys will always be treated as labels (consistent with DataFrame behavior). To access a value by position, use `ser.iloc[pos]`\n",
      "  if position!=0 and df['Low'][i]<min(df['Open'][i] , entry_price*0.98) and bar_counts[i]>1:\n"
     ]
    },
    {
     "name": "stdout",
     "output_type": "stream",
     "text": [
      "\n",
      " Position taken long at :  "
     ]
    },
    {
     "name": "stderr",
     "output_type": "stream",
     "text": [
      "/tmp/ipykernel_21521/1375693250.py:34: FutureWarning: Downcasting object dtype arrays on .fillna, .ffill, .bfill is deprecated and will change in a future version. Call result.infer_objects(copy=False) instead. To opt-in to the future behavior, set `pd.set_option('future.no_silent_downcasting', True)`\n",
      "  df['trade_start'] = df['trade_end'].shift(1).fillna(False) | df[bar_count_col].eq(1)\n"
     ]
    },
    {
     "name": "stdout",
     "output_type": "stream",
     "text": [
      "-- entry Price - :   "
     ]
    },
    {
     "name": "stderr",
     "output_type": "stream",
     "text": [
      "/tmp/ipykernel_21521/3164365030.py:85: FutureWarning: Series.__getitem__ treating keys as positions is deprecated. In a future version, integer keys will always be treated as labels (consistent with DataFrame behavior). To access a value by position, use `ser.iloc[pos]`\n",
      "  if (position == 1 and row['Close'] < min(df['prevdayl'][i]*0.995 ,df['todayl'][i-1]*1.005) and bar_counts[i]>=2):\n"
     ]
    },
    {
     "name": "stdout",
     "output_type": "stream",
     "text": [
      " /home/aakash_tandon/Python_strategies/Live_aakash_fno_CF_v1/symbol_wise_dataframe/NSE:ADANIPORTS.csv 2024-03-21 13:45:00+05:30"
     ]
    },
    {
     "name": "stderr",
     "output_type": "stream",
     "text": [
      "/tmp/ipykernel_21521/3164365030.py:192: FutureWarning: Series.__getitem__ treating keys as positions is deprecated. In a future version, integer keys will always be treated as labels (consistent with DataFrame behavior). To access a value by position, use `ser.iloc[pos]`\n",
      "  if position == 1 and row['Close'] > entry_price*(1+(1.25*df['5drng'][i])) and df['Close'][i]>df['Close'][i-1] and bar_counts[i]>10:\n"
     ]
    },
    {
     "name": "stdout",
     "output_type": "stream",
     "text": [
      "2024-03-27 11:45:00+05:30"
     ]
    },
    {
     "name": "stderr",
     "output_type": "stream",
     "text": [
      "/tmp/ipykernel_21521/3164365030.py:143: FutureWarning: Series.__getitem__ treating keys as positions is deprecated. In a future version, integer keys will always be treated as labels (consistent with DataFrame behavior). To access a value by position, use `ser.iloc[pos]`\n",
      "  if position != 0 and intra_Exit==0 and day_count>=n_day_Exit and bar_counts[i]>1 and df['Close'][i]<df['Close'][i-1]  :\n",
      "/tmp/ipykernel_21521/3164365030.py:156: FutureWarning: Series.__getitem__ treating keys as positions is deprecated. In a future version, integer keys will always be treated as labels (consistent with DataFrame behavior). To access a value by position, use `ser.iloc[pos]`\n",
      "  if position!=0 and df['todayo'][i]<df['x_day_low'][i] and df['Close'][i]<df['Low'][i-1] and day_count>=1 and df.index[i].time()>=datetime.time(10 , 45):\n"
     ]
    },
    {
     "name": "stdout",
     "output_type": "stream",
     "text": [
      "\n",
      "\n"
     ]
    },
    {
     "name": "stderr",
     "output_type": "stream",
     "text": [
      "/tmp/ipykernel_21521/1375693250.py:34: SettingWithCopyWarning: \n",
      "A value is trying to be set on a copy of a slice from a DataFrame.\n",
      "Try using .loc[row_indexer,col_indexer] = value instead\n",
      "\n",
      "See the caveats in the documentation: https://pandas.pydata.org/pandas-docs/stable/user_guide/indexing.html#returning-a-view-versus-a-copy\n",
      "  df['trade_start'] = df['trade_end'].shift(1).fillna(False) | df[bar_count_col].eq(1)\n"
     ]
    },
    {
     "name": "stdout",
     "output_type": "stream",
     "text": [
      "147.6  \n",
      " Carryforward exit EOD long at "
     ]
    },
    {
     "name": "stderr",
     "output_type": "stream",
     "text": [
      "/tmp/ipykernel_21521/3164365030.py:203: FutureWarning: Series.__getitem__ treating keys as positions is deprecated. In a future version, integer keys will always be treated as labels (consistent with DataFrame behavior). To access a value by position, use `ser.iloc[pos]`\n",
      "  if position >0 and df['Close'][i-1]>df['R2'][i-1]*1.01 and df['Close'][i]<df['R2'][i-1]*1.01 and bar_counts[i]>5 and df.index[i].time() >= time(9, 30):\n",
      "/tmp/ipykernel_21521/3164365030.py:166: FutureWarning: Series.__getitem__ treating keys as positions is deprecated. In a future version, integer keys will always be treated as labels (consistent with DataFrame behavior). To access a value by position, use `ser.iloc[pos]`\n",
      "  if position!=0 and df['High'][i]<df['S1'][i-1] and df['Close'][i]<df['Close'][i-1] and day_count>=1 and df.index[i].time()>=time(10 , 45):\n"
     ]
    },
    {
     "name": "stdout",
     "output_type": "stream",
     "text": [
      "-- entry Price - :  "
     ]
    },
    {
     "name": "stderr",
     "output_type": "stream",
     "text": [
      "/tmp/ipykernel_21521/1375693250.py:35: SettingWithCopyWarning: \n",
      "A value is trying to be set on a copy of a slice from a DataFrame.\n",
      "Try using .loc[row_indexer,col_indexer] = value instead\n",
      "\n",
      "See the caveats in the documentation: https://pandas.pydata.org/pandas-docs/stable/user_guide/indexing.html#returning-a-view-versus-a-copy\n",
      "  df['trade_start'] = df['trade_start'].astype(int)\n",
      "/tmp/ipykernel_21521/3164365030.py:85: FutureWarning: Series.__getitem__ treating keys as positions is deprecated. In a future version, integer keys will always be treated as labels (consistent with DataFrame behavior). To access a value by position, use `ser.iloc[pos]`\n",
      "  if (position == 1 and row['Close'] < min(df['prevdayl'][i]*0.995 ,df['todayl'][i-1]*1.005) and bar_counts[i]>=2):\n"
     ]
    },
    {
     "name": "stdout",
     "output_type": "stream",
     "text": [
      " R1 todayat   2024-03-26 09:15:00+05:30 "
     ]
    },
    {
     "name": "stderr",
     "output_type": "stream",
     "text": [
      "/tmp/ipykernel_21521/3164365030.py:177: FutureWarning: Series.__getitem__ treating keys as positions is deprecated. In a future version, integer keys will always be treated as labels (consistent with DataFrame behavior). To access a value by position, use `ser.iloc[pos]`\n",
      "  if position!=0 and df['Low'][i]<min(df['Open'][i] , entry_price*0.98) and bar_counts[i]>1:\n"
     ]
    },
    {
     "name": "stdout",
     "output_type": "stream",
     "text": [
      " "
     ]
    },
    {
     "name": "stderr",
     "output_type": "stream",
     "text": [
      "/tmp/ipykernel_21521/3164365030.py:156: FutureWarning: Series.__getitem__ treating keys as positions is deprecated. In a future version, integer keys will always be treated as labels (consistent with DataFrame behavior). To access a value by position, use `ser.iloc[pos]`\n",
      "  if position!=0 and df['todayo'][i]<df['x_day_low'][i] and df['Close'][i]<df['Low'][i-1] and day_count>=1 and df.index[i].time()>=datetime.time(10 , 45):\n",
      "/tmp/ipykernel_21521/1375693250.py:38: SettingWithCopyWarning: \n",
      "A value is trying to be set on a copy of a slice from a DataFrame.\n",
      "Try using .loc[row_indexer,col_indexer] = value instead\n",
      "\n",
      "See the caveats in the documentation: https://pandas.pydata.org/pandas-docs/stable/user_guide/indexing.html#returning-a-view-versus-a-copy\n",
      "  df['trade_id'] = df['trade_start'].cumsum()\n"
     ]
    },
    {
     "name": "stdout",
     "output_type": "stream",
     "text": [
      "1770.0"
     ]
    },
    {
     "name": "stderr",
     "output_type": "stream",
     "text": [
      "/tmp/ipykernel_21521/3164365030.py:73: FutureWarning: Series.__getitem__ treating keys as positions is deprecated. In a future version, integer keys will always be treated as labels (consistent with DataFrame behavior). To access a value by position, use `ser.iloc[pos]`\n",
      "  print(\"\\n Position taken long at : \" , df.index[i] , \"-- entry Price - :  \" , entry_price , 'R1 today' ,df['R1'][i]*1.002  )\n"
     ]
    },
    {
     "name": "stdout",
     "output_type": "stream",
     "text": [
      " 144.00413577.7"
     ]
    },
    {
     "name": "stderr",
     "output_type": "stream",
     "text": [
      "/tmp/ipykernel_21521/3164365030.py:192: FutureWarning: Series.__getitem__ treating keys as positions is deprecated. In a future version, integer keys will always be treated as labels (consistent with DataFrame behavior). To access a value by position, use `ser.iloc[pos]`\n",
      "  if position == 1 and row['Close'] > entry_price*(1+(1.25*df['5drng'][i])) and df['Close'][i]>df['Close'][i-1] and bar_counts[i]>10:\n"
     ]
    },
    {
     "name": "stdout",
     "output_type": "stream",
     "text": [
      " \n",
      " Position taken long at : 1\n",
      " "
     ]
    },
    {
     "name": "stderr",
     "output_type": "stream",
     "text": [
      "/tmp/ipykernel_21521/3164365030.py:166: FutureWarning: Series.__getitem__ treating keys as positions is deprecated. In a future version, integer keys will always be treated as labels (consistent with DataFrame behavior). To access a value by position, use `ser.iloc[pos]`\n",
      "  if position!=0 and df['High'][i]<df['S1'][i-1] and df['Close'][i]<df['Close'][i-1] and day_count>=1 and df.index[i].time()>=time(10 , 45):\n",
      "/tmp/ipykernel_21521/3164365030.py:203: FutureWarning: Series.__getitem__ treating keys as positions is deprecated. In a future version, integer keys will always be treated as labels (consistent with DataFrame behavior). To access a value by position, use `ser.iloc[pos]`\n",
      "  if position >0 and df['Close'][i-1]>df['R2'][i-1]*1.01 and df['Close'][i]<df['R2'][i-1]*1.01 and bar_counts[i]>5 and df.index[i].time() >= time(9, 30):\n"
     ]
    },
    {
     "name": "stdout",
     "output_type": "stream",
     "text": [
      "R1 today  "
     ]
    },
    {
     "name": "stderr",
     "output_type": "stream",
     "text": [
      "/tmp/ipykernel_21521/3164365030.py:73: FutureWarning: Series.__getitem__ treating keys as positions is deprecated. In a future version, integer keys will always be treated as labels (consistent with DataFrame behavior). To access a value by position, use `ser.iloc[pos]`\n",
      "  print(\"\\n Position taken long at : \" , df.index[i] , \"-- entry Price - :  \" , entry_price , 'R1 today' ,df['R1'][i]*1.002  )\n"
     ]
    },
    {
     "name": "stdout",
     "output_type": "stream",
     "text": [
      " R2 prev: "
     ]
    },
    {
     "name": "stderr",
     "output_type": "stream",
     "text": [
      "/tmp/ipykernel_21521/3164365030.py:85: FutureWarning: Series.__getitem__ treating keys as positions is deprecated. In a future version, integer keys will always be treated as labels (consistent with DataFrame behavior). To access a value by position, use `ser.iloc[pos]`\n",
      "  if (position == 1 and row['Close'] < min(df['prevdayl'][i]*0.995 ,df['todayl'][i-1]*1.005) and bar_counts[i]>=2):\n"
     ]
    },
    {
     "name": "stdout",
     "output_type": "stream",
     "text": [
      "\n",
      " Position taken long at : "
     ]
    },
    {
     "name": "stderr",
     "output_type": "stream",
     "text": [
      "/tmp/ipykernel_21521/3164365030.py:112: FutureWarning: Series.__getitem__ treating keys as positions is deprecated. In a future version, integer keys will always be treated as labels (consistent with DataFrame behavior). To access a value by position, use `ser.iloc[pos]`\n",
      "  if position != 0 and bar_counts[i]>4 and df['indClose'][i]<df[\"indOpen\"][i-1]*0.985 and df['High'][i]<df['todayh'][i-1]*0.985:\n"
     ]
    },
    {
     "name": "stdout",
     "output_type": "stream",
     "text": [
      "position at   \n",
      " \n",
      " The Outputting dataframe to file file R1 today2024-03-18 15:15:00+05:30"
     ]
    },
    {
     "name": "stderr",
     "output_type": "stream",
     "text": [
      "/tmp/ipykernel_21521/3164365030.py:177: FutureWarning: Series.__getitem__ treating keys as positions is deprecated. In a future version, integer keys will always be treated as labels (consistent with DataFrame behavior). To access a value by position, use `ser.iloc[pos]`\n",
      "  if position!=0 and df['Low'][i]<min(df['Open'][i] , entry_price*0.98) and bar_counts[i]>1:\n"
     ]
    },
    {
     "name": "stdout",
     "output_type": "stream",
     "text": [
      "1775.1432  "
     ]
    },
    {
     "name": "stderr",
     "output_type": "stream",
     "text": [
      "/tmp/ipykernel_21521/3164365030.py:73: FutureWarning: Series.__getitem__ treating keys as positions is deprecated. In a future version, integer keys will always be treated as labels (consistent with DataFrame behavior). To access a value by position, use `ser.iloc[pos]`\n",
      "  print(\"\\n Position taken long at : \" , df.index[i] , \"-- entry Price - :  \" , entry_price , 'R1 today' ,df['R1'][i]*1.002  )\n"
     ]
    },
    {
     "name": "stdout",
     "output_type": "stream",
     "text": [
      "   3545.8166666666666"
     ]
    },
    {
     "name": "stderr",
     "output_type": "stream",
     "text": [
      "/tmp/ipykernel_21521/3164365030.py:192: FutureWarning: Series.__getitem__ treating keys as positions is deprecated. In a future version, integer keys will always be treated as labels (consistent with DataFrame behavior). To access a value by position, use `ser.iloc[pos]`\n",
      "  if position == 1 and row['Close'] > entry_price*(1+(1.25*df['5drng'][i])) and df['Close'][i]>df['Close'][i-1] and bar_counts[i]>10:\n"
     ]
    },
    {
     "name": "stdout",
     "output_type": "stream",
     "text": [
      "\n",
      " Position taken long at : 2024-03-21 11:15:00+05:30\n",
      "/home/aakash_tandon/Python_strategies/Live_aakash_fno_CF_v1/symbol_wise_dataframe/NSE:DRREDDY.csv-- entry Price - :  3669.0400999999993 "
     ]
    },
    {
     "name": "stderr",
     "output_type": "stream",
     "text": [
      "/tmp/ipykernel_21521/3164365030.py:203: FutureWarning: Series.__getitem__ treating keys as positions is deprecated. In a future version, integer keys will always be treated as labels (consistent with DataFrame behavior). To access a value by position, use `ser.iloc[pos]`\n",
      "  if position >0 and df['Close'][i-1]>df['R2'][i-1]*1.01 and df['Close'][i]<df['R2'][i-1]*1.01 and bar_counts[i]>5 and df.index[i].time() >= time(9, 30):\n"
     ]
    },
    {
     "name": "stdout",
     "output_type": "stream",
     "text": [
      "   "
     ]
    },
    {
     "name": "stderr",
     "output_type": "stream",
     "text": [
      "/tmp/ipykernel_21521/3164365030.py:124: FutureWarning: Series.__getitem__ treating keys as positions is deprecated. In a future version, integer keys will always be treated as labels (consistent with DataFrame behavior). To access a value by position, use `ser.iloc[pos]`\n",
      "  if position > 0 and day_count>=1 and bar_counts[i]>6 and df['Close'][i]<df['prevdayl'][i]*0.97 and df['Close'][i]<df['Close'][i-1] :\n"
     ]
    },
    {
     "name": "stdout",
     "output_type": "stream",
     "text": [
      " \n"
     ]
    },
    {
     "name": "stderr",
     "output_type": "stream",
     "text": [
      "/tmp/ipykernel_21521/3164365030.py:112: FutureWarning: Series.__getitem__ treating keys as positions is deprecated. In a future version, integer keys will always be treated as labels (consistent with DataFrame behavior). To access a value by position, use `ser.iloc[pos]`\n",
      "  if position != 0 and bar_counts[i]>4 and df['indClose'][i]<df[\"indOpen\"][i-1]*0.985 and df['High'][i]<df['todayh'][i-1]*0.985:\n"
     ]
    },
    {
     "name": "stdout",
     "output_type": "stream",
     "text": [
      "\n",
      "\n",
      " \n",
      " The Outputting to trade file  entryprice1596.62024-03-21 09:15:00+05:30"
     ]
    },
    {
     "name": "stderr",
     "output_type": "stream",
     "text": [
      "/tmp/ipykernel_21521/3164365030.py:203: FutureWarning: Series.__getitem__ treating keys as positions is deprecated. In a future version, integer keys will always be treated as labels (consistent with DataFrame behavior). To access a value by position, use `ser.iloc[pos]`\n",
      "  if position >0 and df['Close'][i-1]>df['R2'][i-1]*1.01 and df['Close'][i]<df['R2'][i-1]*1.01 and bar_counts[i]>5 and df.index[i].time() >= time(9, 30):\n"
     ]
    },
    {
     "name": "stdout",
     "output_type": "stream",
     "text": [
      "25271.0"
     ]
    },
    {
     "name": "stderr",
     "output_type": "stream",
     "text": [
      "/tmp/ipykernel_21521/3164365030.py:133: FutureWarning: Series.__getitem__ treating keys as positions is deprecated. In a future version, integer keys will always be treated as labels (consistent with DataFrame behavior). To access a value by position, use `ser.iloc[pos]`\n",
      "  if position > 0 and day_count>=1 and bar_counts[i]>3 and df['Close'][i]<df['Low'][i-1]*0.985  :\n"
     ]
    },
    {
     "name": "stdout",
     "output_type": "stream",
     "text": [
      "   -- entry Price - :   "
     ]
    },
    {
     "name": "stderr",
     "output_type": "stream",
     "text": [
      "/tmp/ipykernel_21521/3164365030.py:85: FutureWarning: Series.__getitem__ treating keys as positions is deprecated. In a future version, integer keys will always be treated as labels (consistent with DataFrame behavior). To access a value by position, use `ser.iloc[pos]`\n",
      "  if (position == 1 and row['Close'] < min(df['prevdayl'][i]*0.995 ,df['todayl'][i-1]*1.005) and bar_counts[i]>=2):\n"
     ]
    },
    {
     "name": "stdout",
     "output_type": "stream",
     "text": [
      " Day_count: 3574.45R1 today\n",
      " Position taken long at : /home/aakash_tandon/Python_strategies/Live_aakash_fno_CF_v1/symbol_wise_trades/NSE:GODREJCP.csv  "
     ]
    },
    {
     "name": "stderr",
     "output_type": "stream",
     "text": [
      "/tmp/ipykernel_21521/3164365030.py:156: FutureWarning: Series.__getitem__ treating keys as positions is deprecated. In a future version, integer keys will always be treated as labels (consistent with DataFrame behavior). To access a value by position, use `ser.iloc[pos]`\n",
      "  if position!=0 and df['todayo'][i]<df['x_day_low'][i] and df['Close'][i]<df['Low'][i-1] and day_count>=1 and df.index[i].time()>=datetime.time(10 , 45):\n"
     ]
    },
    {
     "name": "stdout",
     "output_type": "stream",
     "text": [
      "  \n",
      " \n",
      " The Outputting to trade file \n",
      "1707.8"
     ]
    },
    {
     "name": "stderr",
     "output_type": "stream",
     "text": [
      "/tmp/ipykernel_21521/3164365030.py:112: FutureWarning: Series.__getitem__ treating keys as positions is deprecated. In a future version, integer keys will always be treated as labels (consistent with DataFrame behavior). To access a value by position, use `ser.iloc[pos]`\n",
      "  if position != 0 and bar_counts[i]>4 and df['indClose'][i]<df[\"indOpen\"][i-1]*0.985 and df['High'][i]<df['todayh'][i-1]*0.985:\n"
     ]
    },
    {
     "name": "stdout",
     "output_type": "stream",
     "text": [
      "2\n",
      "25326.33489999999-- entry Price - :  "
     ]
    },
    {
     "name": "stderr",
     "output_type": "stream",
     "text": [
      "/tmp/ipykernel_21521/3164365030.py:166: FutureWarning: Series.__getitem__ treating keys as positions is deprecated. In a future version, integer keys will always be treated as labels (consistent with DataFrame behavior). To access a value by position, use `ser.iloc[pos]`\n",
      "  if position!=0 and df['High'][i]<df['S1'][i-1] and df['Close'][i]<df['Close'][i-1] and day_count>=1 and df.index[i].time()>=time(10 , 45):\n"
     ]
    },
    {
     "name": "stdout",
     "output_type": "stream",
     "text": [
      "  \n",
      "\n",
      " "
     ]
    },
    {
     "name": "stderr",
     "output_type": "stream",
     "text": [
      "/tmp/ipykernel_21521/3164365030.py:133: FutureWarning: Series.__getitem__ treating keys as positions is deprecated. In a future version, integer keys will always be treated as labels (consistent with DataFrame behavior). To access a value by position, use `ser.iloc[pos]`\n",
      "  if position > 0 and day_count>=1 and bar_counts[i]>3 and df['Close'][i]<df['Low'][i-1]*0.985  :\n"
     ]
    },
    {
     "name": "stdout",
     "output_type": "stream",
     "text": [
      "/home/aakash_tandon/Python_strategies/Live_aakash_fno_CF_v1/symbol_wise_trades/NSE:JSWSTEEL.csv\n",
      " Position taken long at : 2539.55\n",
      " \n",
      " The Outputting to trade file R1 today\n"
     ]
    },
    {
     "name": "stderr",
     "output_type": "stream",
     "text": [
      "/tmp/ipykernel_21521/3164365030.py:112: FutureWarning: Series.__getitem__ treating keys as positions is deprecated. In a future version, integer keys will always be treated as labels (consistent with DataFrame behavior). To access a value by position, use `ser.iloc[pos]`\n",
      "  if position != 0 and bar_counts[i]>4 and df['indClose'][i]<df[\"indOpen\"][i-1]*0.985 and df['High'][i]<df['todayh'][i-1]*0.985:\n",
      "/tmp/ipykernel_21521/3164365030.py:177: FutureWarning: Series.__getitem__ treating keys as positions is deprecated. In a future version, integer keys will always be treated as labels (consistent with DataFrame behavior). To access a value by position, use `ser.iloc[pos]`\n",
      "  if position!=0 and df['Low'][i]<min(df['Open'][i] , entry_price*0.98) and bar_counts[i]>1:\n"
     ]
    },
    {
     "name": "stdout",
     "output_type": "stream",
     "text": [
      " 2024-03-21 10:45:00+05:30"
     ]
    },
    {
     "name": "stderr",
     "output_type": "stream",
     "text": [
      "/tmp/ipykernel_21521/3164365030.py:124: FutureWarning: Series.__getitem__ treating keys as positions is deprecated. In a future version, integer keys will always be treated as labels (consistent with DataFrame behavior). To access a value by position, use `ser.iloc[pos]`\n",
      "  if position > 0 and day_count>=1 and bar_counts[i]>6 and df['Close'][i]<df['prevdayl'][i]*0.97 and df['Close'][i]<df['Close'][i-1] :\n",
      "/tmp/ipykernel_21521/3164365030.py:85: FutureWarning: Series.__getitem__ treating keys as positions is deprecated. In a future version, integer keys will always be treated as labels (consistent with DataFrame behavior). To access a value by position, use `ser.iloc[pos]`\n",
      "  if (position == 1 and row['Close'] < min(df['prevdayl'][i]*0.995 ,df['todayl'][i-1]*1.005) and bar_counts[i]>=2):\n"
     ]
    },
    {
     "name": "stdout",
     "output_type": "stream",
     "text": [
      " 2024-03-21 14:15:00+05:30 "
     ]
    },
    {
     "name": "stderr",
     "output_type": "stream",
     "text": [
      "/tmp/ipykernel_21521/3164365030.py:192: FutureWarning: Series.__getitem__ treating keys as positions is deprecated. In a future version, integer keys will always be treated as labels (consistent with DataFrame behavior). To access a value by position, use `ser.iloc[pos]`\n",
      "  if position == 1 and row['Close'] > entry_price*(1+(1.25*df['5drng'][i])) and df['Close'][i]>df['Close'][i-1] and bar_counts[i]>10:\n"
     ]
    },
    {
     "name": "stdout",
     "output_type": "stream",
     "text": [
      "1737.8020000000001  "
     ]
    },
    {
     "name": "stderr",
     "output_type": "stream",
     "text": [
      "/tmp/ipykernel_21521/3164365030.py:133: FutureWarning: Series.__getitem__ treating keys as positions is deprecated. In a future version, integer keys will always be treated as labels (consistent with DataFrame behavior). To access a value by position, use `ser.iloc[pos]`\n",
      "  if position > 0 and day_count>=1 and bar_counts[i]>3 and df['Close'][i]<df['Low'][i-1]*0.985  :\n",
      "/tmp/ipykernel_21521/3164365030.py:156: FutureWarning: Series.__getitem__ treating keys as positions is deprecated. In a future version, integer keys will always be treated as labels (consistent with DataFrame behavior). To access a value by position, use `ser.iloc[pos]`\n",
      "  if position!=0 and df['todayo'][i]<df['x_day_low'][i] and df['Close'][i]<df['Low'][i-1] and day_count>=1 and df.index[i].time()>=datetime.time(10 , 45):\n"
     ]
    },
    {
     "name": "stdout",
     "output_type": "stream",
     "text": [
      "-- entry Price - :  \n"
     ]
    },
    {
     "name": "stderr",
     "output_type": "stream",
     "text": [
      "/tmp/ipykernel_21521/3164365030.py:203: FutureWarning: Series.__getitem__ treating keys as positions is deprecated. In a future version, integer keys will always be treated as labels (consistent with DataFrame behavior). To access a value by position, use `ser.iloc[pos]`\n",
      "  if position >0 and df['Close'][i-1]>df['R2'][i-1]*1.01 and df['Close'][i]<df['R2'][i-1]*1.01 and bar_counts[i]>5 and df.index[i].time() >= time(9, 30):\n"
     ]
    },
    {
     "name": "stdout",
     "output_type": "stream",
     "text": [
      " R1 today -- entry Price - :  "
     ]
    },
    {
     "name": "stderr",
     "output_type": "stream",
     "text": [
      "/tmp/ipykernel_21521/3164365030.py:156: FutureWarning: Series.__getitem__ treating keys as positions is deprecated. In a future version, integer keys will always be treated as labels (consistent with DataFrame behavior). To access a value by position, use `ser.iloc[pos]`\n",
      "  if position!=0 and df['todayo'][i]<df['x_day_low'][i] and df['Close'][i]<df['Low'][i-1] and day_count>=1 and df.index[i].time()>=datetime.time(10 , 45):\n",
      "/tmp/ipykernel_21521/3164365030.py:166: FutureWarning: Series.__getitem__ treating keys as positions is deprecated. In a future version, integer keys will always be treated as labels (consistent with DataFrame behavior). To access a value by position, use `ser.iloc[pos]`\n",
      "  if position!=0 and df['High'][i]<df['S1'][i-1] and df['Close'][i]<df['Close'][i-1] and day_count>=1 and df.index[i].time()>=time(10 , 45):\n"
     ]
    },
    {
     "name": "stdout",
     "output_type": "stream",
     "text": [
      "/home/aakash_tandon/Python_strategies/Live_aakash_fno_CF_v1/symbol_wise_trades/NSE:BAJFINANCE.csv 585.75 \n"
     ]
    },
    {
     "name": "stderr",
     "output_type": "stream",
     "text": [
      "/tmp/ipykernel_21521/3164365030.py:177: FutureWarning: Series.__getitem__ treating keys as positions is deprecated. In a future version, integer keys will always be treated as labels (consistent with DataFrame behavior). To access a value by position, use `ser.iloc[pos]`\n",
      "  if position!=0 and df['Low'][i]<min(df['Open'][i] , entry_price*0.98) and bar_counts[i]>1:\n"
     ]
    },
    {
     "name": "stdout",
     "output_type": "stream",
     "text": [
      "2538.066"
     ]
    },
    {
     "name": "stderr",
     "output_type": "stream",
     "text": [
      "/tmp/ipykernel_21521/3164365030.py:166: FutureWarning: Series.__getitem__ treating keys as positions is deprecated. In a future version, integer keys will always be treated as labels (consistent with DataFrame behavior). To access a value by position, use `ser.iloc[pos]`\n",
      "  if position!=0 and df['High'][i]<df['S1'][i-1] and df['Close'][i]<df['Close'][i-1] and day_count>=1 and df.index[i].time()>=time(10 , 45):\n"
     ]
    },
    {
     "name": "stdout",
     "output_type": "stream",
     "text": [
      " "
     ]
    },
    {
     "name": "stderr",
     "output_type": "stream",
     "text": [
      "/tmp/ipykernel_21521/3164365030.py:85: FutureWarning: Series.__getitem__ treating keys as positions is deprecated. In a future version, integer keys will always be treated as labels (consistent with DataFrame behavior). To access a value by position, use `ser.iloc[pos]`\n",
      "  if (position == 1 and row['Close'] < min(df['prevdayl'][i]*0.995 ,df['todayl'][i-1]*1.005) and bar_counts[i]>=2):\n"
     ]
    },
    {
     "name": "stdout",
     "output_type": "stream",
     "text": [
      "3567.85\n",
      "R1 today"
     ]
    },
    {
     "name": "stderr",
     "output_type": "stream",
     "text": [
      "/tmp/ipykernel_21521/3164365030.py:192: FutureWarning: Series.__getitem__ treating keys as positions is deprecated. In a future version, integer keys will always be treated as labels (consistent with DataFrame behavior). To access a value by position, use `ser.iloc[pos]`\n",
      "  if position == 1 and row['Close'] > entry_price*(1+(1.25*df['5drng'][i])) and df['Close'][i]>df['Close'][i-1] and bar_counts[i]>10:\n"
     ]
    },
    {
     "name": "stdout",
     "output_type": "stream",
     "text": [
      " "
     ]
    },
    {
     "name": "stderr",
     "output_type": "stream",
     "text": [
      "/tmp/ipykernel_21521/3164365030.py:177: FutureWarning: Series.__getitem__ treating keys as positions is deprecated. In a future version, integer keys will always be treated as labels (consistent with DataFrame behavior). To access a value by position, use `ser.iloc[pos]`\n",
      "  if position!=0 and df['Low'][i]<min(df['Open'][i] , entry_price*0.98) and bar_counts[i]>1:\n",
      "/tmp/ipykernel_21521/3164365030.py:156: FutureWarning: Series.__getitem__ treating keys as positions is deprecated. In a future version, integer keys will always be treated as labels (consistent with DataFrame behavior). To access a value by position, use `ser.iloc[pos]`\n",
      "  if position!=0 and df['todayo'][i]<df['x_day_low'][i] and df['Close'][i]<df['Low'][i-1] and day_count>=1 and df.index[i].time()>=datetime.time(10 , 45):\n"
     ]
    },
    {
     "name": "stdout",
     "output_type": "stream",
     "text": [
      " R1 today"
     ]
    },
    {
     "name": "stderr",
     "output_type": "stream",
     "text": [
      "/tmp/ipykernel_21521/3164365030.py:203: FutureWarning: Series.__getitem__ treating keys as positions is deprecated. In a future version, integer keys will always be treated as labels (consistent with DataFrame behavior). To access a value by position, use `ser.iloc[pos]`\n",
      "  if position >0 and df['Close'][i-1]>df['R2'][i-1]*1.01 and df['Close'][i]<df['R2'][i-1]*1.01 and bar_counts[i]>5 and df.index[i].time() >= time(9, 30):\n",
      "/tmp/ipykernel_21521/3164365030.py:192: FutureWarning: Series.__getitem__ treating keys as positions is deprecated. In a future version, integer keys will always be treated as labels (consistent with DataFrame behavior). To access a value by position, use `ser.iloc[pos]`\n",
      "  if position == 1 and row['Close'] > entry_price*(1+(1.25*df['5drng'][i])) and df['Close'][i]>df['Close'][i-1] and bar_counts[i]>10:\n",
      "/tmp/ipykernel_21521/3164365030.py:112: FutureWarning: Series.__getitem__ treating keys as positions is deprecated. In a future version, integer keys will always be treated as labels (consistent with DataFrame behavior). To access a value by position, use `ser.iloc[pos]`\n",
      "  if position != 0 and bar_counts[i]>4 and df['indClose'][i]<df[\"indOpen\"][i-1]*0.985 and df['High'][i]<df['todayh'][i-1]*0.985:\n",
      "/tmp/ipykernel_21521/3164365030.py:166: FutureWarning: Series.__getitem__ treating keys as positions is deprecated. In a future version, integer keys will always be treated as labels (consistent with DataFrame behavior). To access a value by position, use `ser.iloc[pos]`\n",
      "  if position!=0 and df['High'][i]<df['S1'][i-1] and df['Close'][i]<df['Close'][i-1] and day_count>=1 and df.index[i].time()>=time(10 , 45):\n"
     ]
    },
    {
     "name": "stdout",
     "output_type": "stream",
     "text": [
      " "
     ]
    },
    {
     "name": "stderr",
     "output_type": "stream",
     "text": [
      "/tmp/ipykernel_21521/3164365030.py:203: FutureWarning: Series.__getitem__ treating keys as positions is deprecated. In a future version, integer keys will always be treated as labels (consistent with DataFrame behavior). To access a value by position, use `ser.iloc[pos]`\n",
      "  if position >0 and df['Close'][i-1]>df['R2'][i-1]*1.01 and df['Close'][i]<df['R2'][i-1]*1.01 and bar_counts[i]>5 and df.index[i].time() >= time(9, 30):\n",
      "/tmp/ipykernel_21521/3164365030.py:85: FutureWarning: Series.__getitem__ treating keys as positions is deprecated. In a future version, integer keys will always be treated as labels (consistent with DataFrame behavior). To access a value by position, use `ser.iloc[pos]`\n",
      "  if (position == 1 and row['Close'] < min(df['prevdayl'][i]*0.995 ,df['todayl'][i-1]*1.005) and bar_counts[i]>=2):\n"
     ]
    },
    {
     "name": "stdout",
     "output_type": "stream",
     "text": [
      "\n",
      " \n",
      " The Outputting to trade file "
     ]
    },
    {
     "name": "stderr",
     "output_type": "stream",
     "text": [
      "/tmp/ipykernel_21521/3164365030.py:133: FutureWarning: Series.__getitem__ treating keys as positions is deprecated. In a future version, integer keys will always be treated as labels (consistent with DataFrame behavior). To access a value by position, use `ser.iloc[pos]`\n",
      "  if position > 0 and day_count>=1 and bar_counts[i]>3 and df['Close'][i]<df['Low'][i-1]*0.985  :\n",
      "/tmp/ipykernel_21521/3164365030.py:177: FutureWarning: Series.__getitem__ treating keys as positions is deprecated. In a future version, integer keys will always be treated as labels (consistent with DataFrame behavior). To access a value by position, use `ser.iloc[pos]`\n",
      "  if position!=0 and df['Low'][i]<min(df['Open'][i] , entry_price*0.98) and bar_counts[i]>1:\n"
     ]
    },
    {
     "name": "stdout",
     "output_type": "stream",
     "text": [
      "\n",
      " Position Hit 2 day low 3536.5423 "
     ]
    },
    {
     "name": "stderr",
     "output_type": "stream",
     "text": [
      "/tmp/ipykernel_21521/3164365030.py:156: FutureWarning: Series.__getitem__ treating keys as positions is deprecated. In a future version, integer keys will always be treated as labels (consistent with DataFrame behavior). To access a value by position, use `ser.iloc[pos]`\n",
      "  if position!=0 and df['todayo'][i]<df['x_day_low'][i] and df['Close'][i]<df['Low'][i-1] and day_count>=1 and df.index[i].time()>=datetime.time(10 , 45):\n"
     ]
    },
    {
     "name": "stdout",
     "output_type": "stream",
     "text": [
      " \n"
     ]
    },
    {
     "name": "stderr",
     "output_type": "stream",
     "text": [
      "/tmp/ipykernel_21521/3164365030.py:192: FutureWarning: Series.__getitem__ treating keys as positions is deprecated. In a future version, integer keys will always be treated as labels (consistent with DataFrame behavior). To access a value by position, use `ser.iloc[pos]`\n",
      "  if position == 1 and row['Close'] > entry_price*(1+(1.25*df['5drng'][i])) and df['Close'][i]>df['Close'][i-1] and bar_counts[i]>10:\n"
     ]
    },
    {
     "name": "stdout",
     "output_type": "stream",
     "text": [
      "/home/aakash_tandon/Python_strategies/Live_aakash_fno_CF_v1/symbol_wise_trades/NSE:ABB.csv"
     ]
    },
    {
     "name": "stderr",
     "output_type": "stream",
     "text": [
      "/tmp/ipykernel_21521/3164365030.py:166: FutureWarning: Series.__getitem__ treating keys as positions is deprecated. In a future version, integer keys will always be treated as labels (consistent with DataFrame behavior). To access a value by position, use `ser.iloc[pos]`\n",
      "  if position!=0 and df['High'][i]<df['S1'][i-1] and df['Close'][i]<df['Close'][i-1] and day_count>=1 and df.index[i].time()>=time(10 , 45):\n",
      "/tmp/ipykernel_21521/3164365030.py:133: FutureWarning: Series.__getitem__ treating keys as positions is deprecated. In a future version, integer keys will always be treated as labels (consistent with DataFrame behavior). To access a value by position, use `ser.iloc[pos]`\n",
      "  if position > 0 and day_count>=1 and bar_counts[i]>3 and df['Close'][i]<df['Low'][i-1]*0.985  :\n"
     ]
    },
    {
     "name": "stdout",
     "output_type": "stream",
     "text": [
      "\n"
     ]
    },
    {
     "name": "stderr",
     "output_type": "stream",
     "text": [
      "/tmp/ipykernel_21521/3164365030.py:203: FutureWarning: Series.__getitem__ treating keys as positions is deprecated. In a future version, integer keys will always be treated as labels (consistent with DataFrame behavior). To access a value by position, use `ser.iloc[pos]`\n",
      "  if position >0 and df['Close'][i-1]>df['R2'][i-1]*1.01 and df['Close'][i]<df['R2'][i-1]*1.01 and bar_counts[i]>5 and df.index[i].time() >= time(9, 30):\n"
     ]
    },
    {
     "name": "stdout",
     "output_type": "stream",
     "text": [
      "2024-03-22 09:15:00+05:30"
     ]
    },
    {
     "name": "stderr",
     "output_type": "stream",
     "text": [
      "/tmp/ipykernel_21521/3164365030.py:177: FutureWarning: Series.__getitem__ treating keys as positions is deprecated. In a future version, integer keys will always be treated as labels (consistent with DataFrame behavior). To access a value by position, use `ser.iloc[pos]`\n",
      "  if position!=0 and df['Low'][i]<min(df['Open'][i] , entry_price*0.98) and bar_counts[i]>1:\n"
     ]
    },
    {
     "name": "stdout",
     "output_type": "stream",
     "text": [
      " "
     ]
    },
    {
     "name": "stderr",
     "output_type": "stream",
     "text": [
      "/tmp/ipykernel_21521/3164365030.py:124: FutureWarning: Series.__getitem__ treating keys as positions is deprecated. In a future version, integer keys will always be treated as labels (consistent with DataFrame behavior). To access a value by position, use `ser.iloc[pos]`\n",
      "  if position > 0 and day_count>=1 and bar_counts[i]>6 and df['Close'][i]<df['prevdayl'][i]*0.97 and df['Close'][i]<df['Close'][i-1] :\n"
     ]
    },
    {
     "name": "stdout",
     "output_type": "stream",
     "text": [
      "1"
     ]
    },
    {
     "name": "stderr",
     "output_type": "stream",
     "text": [
      "/tmp/ipykernel_21521/3164365030.py:112: FutureWarning: Series.__getitem__ treating keys as positions is deprecated. In a future version, integer keys will always be treated as labels (consistent with DataFrame behavior). To access a value by position, use `ser.iloc[pos]`\n",
      "  if position != 0 and bar_counts[i]>4 and df['indClose'][i]<df[\"indOpen\"][i-1]*0.985 and df['High'][i]<df['todayh'][i-1]*0.985:\n"
     ]
    },
    {
     "name": "stdout",
     "output_type": "stream",
     "text": [
      "577.4693 "
     ]
    },
    {
     "name": "stderr",
     "output_type": "stream",
     "text": [
      "/tmp/ipykernel_21521/3164365030.py:143: FutureWarning: Series.__getitem__ treating keys as positions is deprecated. In a future version, integer keys will always be treated as labels (consistent with DataFrame behavior). To access a value by position, use `ser.iloc[pos]`\n",
      "  if position != 0 and intra_Exit==0 and day_count>=n_day_Exit and bar_counts[i]>1 and df['Close'][i]<df['Close'][i-1]  :\n",
      "/tmp/ipykernel_21521/3164365030.py:112: FutureWarning: Series.__getitem__ treating keys as positions is deprecated. In a future version, integer keys will always be treated as labels (consistent with DataFrame behavior). To access a value by position, use `ser.iloc[pos]`\n",
      "  if position != 0 and bar_counts[i]>4 and df['indClose'][i]<df[\"indOpen\"][i-1]*0.985 and df['High'][i]<df['todayh'][i-1]*0.985:\n",
      "/tmp/ipykernel_21521/3164365030.py:192: FutureWarning: Series.__getitem__ treating keys as positions is deprecated. In a future version, integer keys will always be treated as labels (consistent with DataFrame behavior). To access a value by position, use `ser.iloc[pos]`\n",
      "  if position == 1 and row['Close'] > entry_price*(1+(1.25*df['5drng'][i])) and df['Close'][i]>df['Close'][i-1] and bar_counts[i]>10:\n"
     ]
    },
    {
     "name": "stdout",
     "output_type": "stream",
     "text": [
      "\n",
      "position at  "
     ]
    },
    {
     "name": "stderr",
     "output_type": "stream",
     "text": [
      "/tmp/ipykernel_21521/3164365030.py:73: FutureWarning: Series.__getitem__ treating keys as positions is deprecated. In a future version, integer keys will always be treated as labels (consistent with DataFrame behavior). To access a value by position, use `ser.iloc[pos]`\n",
      "  print(\"\\n Position taken long at : \" , df.index[i] , \"-- entry Price - :  \" , entry_price , 'R1 today' ,df['R1'][i]*1.002  )\n",
      "/tmp/ipykernel_21521/3164365030.py:133: FutureWarning: Series.__getitem__ treating keys as positions is deprecated. In a future version, integer keys will always be treated as labels (consistent with DataFrame behavior). To access a value by position, use `ser.iloc[pos]`\n",
      "  if position > 0 and day_count>=1 and bar_counts[i]>3 and df['Close'][i]<df['Low'][i-1]*0.985  :\n",
      "/tmp/ipykernel_21521/3164365030.py:203: FutureWarning: Series.__getitem__ treating keys as positions is deprecated. In a future version, integer keys will always be treated as labels (consistent with DataFrame behavior). To access a value by position, use `ser.iloc[pos]`\n",
      "  if position >0 and df['Close'][i-1]>df['R2'][i-1]*1.01 and df['Close'][i]<df['R2'][i-1]*1.01 and bar_counts[i]>5 and df.index[i].time() >= time(9, 30):\n"
     ]
    },
    {
     "name": "stdout",
     "output_type": "stream",
     "text": [
      " \n",
      " Position Hit 2 day low 5101.0 "
     ]
    },
    {
     "name": "stderr",
     "output_type": "stream",
     "text": [
      "/tmp/ipykernel_21521/3164365030.py:73: FutureWarning: Series.__getitem__ treating keys as positions is deprecated. In a future version, integer keys will always be treated as labels (consistent with DataFrame behavior). To access a value by position, use `ser.iloc[pos]`\n",
      "  print(\"\\n Position taken long at : \" , df.index[i] , \"-- entry Price - :  \" , entry_price , 'R1 today' ,df['R1'][i]*1.002  )\n",
      "/tmp/ipykernel_21521/3164365030.py:112: FutureWarning: Series.__getitem__ treating keys as positions is deprecated. In a future version, integer keys will always be treated as labels (consistent with DataFrame behavior). To access a value by position, use `ser.iloc[pos]`\n",
      "  if position != 0 and bar_counts[i]>4 and df['indClose'][i]<df[\"indOpen\"][i-1]*0.985 and df['High'][i]<df['todayh'][i-1]*0.985:\n"
     ]
    },
    {
     "name": "stdout",
     "output_type": "stream",
     "text": [
      "\n",
      "2024-03-19 11:15:00+05:30"
     ]
    },
    {
     "name": "stderr",
     "output_type": "stream",
     "text": [
      "/tmp/ipykernel_21521/3164365030.py:133: FutureWarning: Series.__getitem__ treating keys as positions is deprecated. In a future version, integer keys will always be treated as labels (consistent with DataFrame behavior). To access a value by position, use `ser.iloc[pos]`\n",
      "  if position > 0 and day_count>=1 and bar_counts[i]>3 and df['Close'][i]<df['Low'][i-1]*0.985  :\n"
     ]
    },
    {
     "name": "stdout",
     "output_type": "stream",
     "text": [
      "\n",
      " Position taken long at :  \n",
      " \n",
      " The Outputting dataframe to file file   \n",
      " Carryforward exit EOD long at12024-03-21 10:45:00+05:30\n",
      " Position taken long at : /home/aakash_tandon/Python_strategies/Live_aakash_fno_CF_v1/symbol_wise_dataframe/NSE:GODREJCP.csv"
     ]
    },
    {
     "name": "stderr",
     "output_type": "stream",
     "text": [
      "/tmp/ipykernel_21521/3164365030.py:124: FutureWarning: Series.__getitem__ treating keys as positions is deprecated. In a future version, integer keys will always be treated as labels (consistent with DataFrame behavior). To access a value by position, use `ser.iloc[pos]`\n",
      "  if position > 0 and day_count>=1 and bar_counts[i]>6 and df['Close'][i]<df['prevdayl'][i]*0.97 and df['Close'][i]<df['Close'][i-1] :\n"
     ]
    },
    {
     "name": "stdout",
     "output_type": "stream",
     "text": [
      "   "
     ]
    },
    {
     "name": "stderr",
     "output_type": "stream",
     "text": [
      "/tmp/ipykernel_21521/3164365030.py:124: FutureWarning: Series.__getitem__ treating keys as positions is deprecated. In a future version, integer keys will always be treated as labels (consistent with DataFrame behavior). To access a value by position, use `ser.iloc[pos]`\n",
      "  if position > 0 and day_count>=1 and bar_counts[i]>6 and df['Close'][i]<df['prevdayl'][i]*0.97 and df['Close'][i]<df['Close'][i-1] :\n"
     ]
    },
    {
     "name": "stdout",
     "output_type": "stream",
     "text": [
      " \n",
      " \n",
      " The Outputting dataframe to file file "
     ]
    },
    {
     "name": "stderr",
     "output_type": "stream",
     "text": [
      "/tmp/ipykernel_21521/3164365030.py:112: FutureWarning: Series.__getitem__ treating keys as positions is deprecated. In a future version, integer keys will always be treated as labels (consistent with DataFrame behavior). To access a value by position, use `ser.iloc[pos]`\n",
      "  if position != 0 and bar_counts[i]>4 and df['indClose'][i]<df[\"indOpen\"][i-1]*0.985 and df['High'][i]<df['todayh'][i-1]*0.985:\n"
     ]
    },
    {
     "name": "stdout",
     "output_type": "stream",
     "text": [
      "\n",
      "position at  2024-04-01 10:15:00+05:30-- entry Price - :  2024-03-28 11:45:00+05:30     /home/aakash_tandon/Python_strategies/Live_aakash_fno_CF_v1/symbol_wise_dataframe/NSE:JSWSTEEL.csv\n",
      "\n",
      "24800.0\n",
      " Carryforward exit EOD long at"
     ]
    },
    {
     "name": "stderr",
     "output_type": "stream",
     "text": [
      "/tmp/ipykernel_21521/3164365030.py:112: FutureWarning: Series.__getitem__ treating keys as positions is deprecated. In a future version, integer keys will always be treated as labels (consistent with DataFrame behavior). To access a value by position, use `ser.iloc[pos]`\n",
      "  if position != 0 and bar_counts[i]>4 and df['indClose'][i]<df[\"indOpen\"][i-1]*0.985 and df['High'][i]<df['todayh'][i-1]*0.985:\n"
     ]
    },
    {
     "name": "stdout",
     "output_type": "stream",
     "text": [
      "11469.2-- entry Price - :    "
     ]
    },
    {
     "name": "stderr",
     "output_type": "stream",
     "text": [
      "/tmp/ipykernel_21521/3164365030.py:205: FutureWarning: Series.__getitem__ treating keys as positions is deprecated. In a future version, integer keys will always be treated as labels (consistent with DataFrame behavior). To access a value by position, use `ser.iloc[pos]`\n",
      "  print(\"\\n Resistance target  \" , df.index[i] , \"at  \", row['Close'] , \" R2 prev: \" , df['R2'][i-1] , \" entryprice\" , entry_price )\n"
     ]
    },
    {
     "name": "stdout",
     "output_type": "stream",
     "text": [
      " \n",
      " Resistance target   \n",
      " \n",
      " The Outputting dataframe to file file 2024-04-01 09:45:00+05:30[(Timestamp('2024-03-21 13:45:00+0530', tz='UTC+05:30'), 'NSE:LUPIN', 1, 1604.35, 1), (Timestamp('2024-03-26 09:15:00+0530', tz='UTC+05:30'), 'NSE:LUPIN', 0, 1596.6, 16)]\n",
      "  2024-03-22 15:15:00+05:302618.2/home/aakash_tandon/Python_strategies/Live_aakash_fno_CF_v1/symbol_wise_dataframe/NSE:BAJFINANCE.csv 1\n"
     ]
    },
    {
     "name": "stderr",
     "output_type": "stream",
     "text": [
      "/tmp/ipykernel_21521/3164365030.py:73: FutureWarning: Series.__getitem__ treating keys as positions is deprecated. In a future version, integer keys will always be treated as labels (consistent with DataFrame behavior). To access a value by position, use `ser.iloc[pos]`\n",
      "  print(\"\\n Position taken long at : \" , df.index[i] , \"-- entry Price - :  \" , entry_price , 'R1 today' ,df['R1'][i]*1.002  )\n"
     ]
    },
    {
     "name": "stdout",
     "output_type": "stream",
     "text": [
      "\n",
      " Position taken long at : "
     ]
    },
    {
     "name": "stderr",
     "output_type": "stream",
     "text": [
      "/tmp/ipykernel_21521/3164365030.py:124: FutureWarning: Series.__getitem__ treating keys as positions is deprecated. In a future version, integer keys will always be treated as labels (consistent with DataFrame behavior). To access a value by position, use `ser.iloc[pos]`\n",
      "  if position > 0 and day_count>=1 and bar_counts[i]>6 and df['Close'][i]<df['prevdayl'][i]*0.97 and df['Close'][i]<df['Close'][i-1] :\n"
     ]
    },
    {
     "name": "stdout",
     "output_type": "stream",
     "text": [
      "\n",
      " Position taken long at :  "
     ]
    },
    {
     "name": "stderr",
     "output_type": "stream",
     "text": [
      "/tmp/ipykernel_21521/3164365030.py:124: FutureWarning: Series.__getitem__ treating keys as positions is deprecated. In a future version, integer keys will always be treated as labels (consistent with DataFrame behavior). To access a value by position, use `ser.iloc[pos]`\n",
      "  if position > 0 and day_count>=1 and bar_counts[i]>6 and df['Close'][i]<df['prevdayl'][i]*0.97 and df['Close'][i]<df['Close'][i-1] :\n",
      "/tmp/ipykernel_21521/3164365030.py:124: FutureWarning: Series.__getitem__ treating keys as positions is deprecated. In a future version, integer keys will always be treated as labels (consistent with DataFrame behavior). To access a value by position, use `ser.iloc[pos]`\n",
      "  if position > 0 and day_count>=1 and bar_counts[i]>6 and df['Close'][i]<df['prevdayl'][i]*0.97 and df['Close'][i]<df['Close'][i-1] :\n"
     ]
    },
    {
     "name": "stdout",
     "output_type": "stream",
     "text": [
      " "
     ]
    },
    {
     "name": "stderr",
     "output_type": "stream",
     "text": [
      "/tmp/ipykernel_21521/3164365030.py:133: FutureWarning: Series.__getitem__ treating keys as positions is deprecated. In a future version, integer keys will always be treated as labels (consistent with DataFrame behavior). To access a value by position, use `ser.iloc[pos]`\n",
      "  if position > 0 and day_count>=1 and bar_counts[i]>3 and df['Close'][i]<df['Low'][i-1]*0.985  :\n"
     ]
    },
    {
     "name": "stdout",
     "output_type": "stream",
     "text": [
      "2024-03-27 10:45:00+05:302024-03-27 11:45:00+05:30   "
     ]
    },
    {
     "name": "stderr",
     "output_type": "stream",
     "text": [
      "/tmp/ipykernel_21521/3164365030.py:143: FutureWarning: Series.__getitem__ treating keys as positions is deprecated. In a future version, integer keys will always be treated as labels (consistent with DataFrame behavior). To access a value by position, use `ser.iloc[pos]`\n",
      "  if position != 0 and intra_Exit==0 and day_count>=n_day_Exit and bar_counts[i]>1 and df['Close'][i]<df['Close'][i-1]  :\n"
     ]
    },
    {
     "name": "stdout",
     "output_type": "stream",
     "text": [
      " \n",
      "Creating trade log forposition at  -- entry Price - :  R1 today"
     ]
    },
    {
     "name": "stderr",
     "output_type": "stream",
     "text": [
      "/tmp/ipykernel_21521/3164365030.py:124: FutureWarning: Series.__getitem__ treating keys as positions is deprecated. In a future version, integer keys will always be treated as labels (consistent with DataFrame behavior). To access a value by position, use `ser.iloc[pos]`\n",
      "  if position > 0 and day_count>=1 and bar_counts[i]>6 and df['Close'][i]<df['prevdayl'][i]*0.97 and df['Close'][i]<df['Close'][i-1] :\n"
     ]
    },
    {
     "name": "stdout",
     "output_type": "stream",
     "text": [
      "-- entry Price - :   \n",
      " Carryforward exit EOD long at  \n",
      " \n",
      " The Outputting dataframe to file file   "
     ]
    },
    {
     "name": "stderr",
     "output_type": "stream",
     "text": [
      "/tmp/ipykernel_21521/3164365030.py:133: FutureWarning: Series.__getitem__ treating keys as positions is deprecated. In a future version, integer keys will always be treated as labels (consistent with DataFrame behavior). To access a value by position, use `ser.iloc[pos]`\n",
      "  if position > 0 and day_count>=1 and bar_counts[i]>3 and df['Close'][i]<df['Low'][i-1]*0.985  :\n"
     ]
    },
    {
     "name": "stdout",
     "output_type": "stream",
     "text": [
      "NSE:LUPIN \n",
      " Position taken long at : 5469.31797.0 1471.2365999999997position at  2115.82024-03-20 09:15:00+05:30\n",
      "    /home/aakash_tandon/Python_strategies/Live_aakash_fno_CF_v1/symbol_wise_dataframe/NSE:ABB.csv \n",
      "  R1 today2024-03-21 11:15:00+05:30Day_count: R1 today\n"
     ]
    },
    {
     "name": "stderr",
     "output_type": "stream",
     "text": [
      "/tmp/ipykernel_21521/3164365030.py:143: FutureWarning: Series.__getitem__ treating keys as positions is deprecated. In a future version, integer keys will always be treated as labels (consistent with DataFrame behavior). To access a value by position, use `ser.iloc[pos]`\n",
      "  if position != 0 and intra_Exit==0 and day_count>=n_day_Exit and bar_counts[i]>1 and df['Close'][i]<df['Close'][i-1]  :\n"
     ]
    },
    {
     "name": "stdout",
     "output_type": "stream",
     "text": [
      "135449.5"
     ]
    },
    {
     "name": "stderr",
     "output_type": "stream",
     "text": [
      "/tmp/ipykernel_21521/3164365030.py:133: FutureWarning: Series.__getitem__ treating keys as positions is deprecated. In a future version, integer keys will always be treated as labels (consistent with DataFrame behavior). To access a value by position, use `ser.iloc[pos]`\n",
      "  if position > 0 and day_count>=1 and bar_counts[i]>3 and df['Close'][i]<df['Low'][i-1]*0.985  :\n"
     ]
    },
    {
     "name": "stdout",
     "output_type": "stream",
     "text": [
      "R1 today1"
     ]
    },
    {
     "name": "stderr",
     "output_type": "stream",
     "text": [
      "/tmp/ipykernel_21521/3164365030.py:85: FutureWarning: Series.__getitem__ treating keys as positions is deprecated. In a future version, integer keys will always be treated as labels (consistent with DataFrame behavior). To access a value by position, use `ser.iloc[pos]`\n",
      "  if (position == 1 and row['Close'] < min(df['prevdayl'][i]*0.995 ,df['todayl'][i-1]*1.005) and bar_counts[i]>=2):\n"
     ]
    },
    {
     "name": "stdout",
     "output_type": "stream",
     "text": [
      "     \n",
      " Carryforward exit EOD long at  2594.9629000000004"
     ]
    },
    {
     "name": "stderr",
     "output_type": "stream",
     "text": [
      "/tmp/ipykernel_21521/1375693250.py:31: SettingWithCopyWarning: \n",
      "A value is trying to be set on a copy of a slice from a DataFrame.\n",
      "Try using .loc[row_indexer,col_indexer] = value instead\n",
      "\n",
      "See the caveats in the documentation: https://pandas.pydata.org/pandas-docs/stable/user_guide/indexing.html#returning-a-view-versus-a-copy\n",
      "  df['trade_end'] = (df[bar_count_col].shift(-1) < df[bar_count_col]) | (df[bar_count_col].shift(-1) == 0) | df[bar_count_col].eq(0)\n"
     ]
    },
    {
     "name": "stdout",
     "output_type": "stream",
     "text": [
      "-- entry Price - :  5300.079000000001"
     ]
    },
    {
     "name": "stderr",
     "output_type": "stream",
     "text": [
      "/tmp/ipykernel_21521/3164365030.py:143: FutureWarning: Series.__getitem__ treating keys as positions is deprecated. In a future version, integer keys will always be treated as labels (consistent with DataFrame behavior). To access a value by position, use `ser.iloc[pos]`\n",
      "  if position != 0 and intra_Exit==0 and day_count>=n_day_Exit and bar_counts[i]>1 and df['Close'][i]<df['Close'][i-1]  :\n"
     ]
    },
    {
     "name": "stdout",
     "output_type": "stream",
     "text": [
      "2"
     ]
    },
    {
     "name": "stderr",
     "output_type": "stream",
     "text": [
      "/tmp/ipykernel_21521/3164365030.py:156: FutureWarning: Series.__getitem__ treating keys as positions is deprecated. In a future version, integer keys will always be treated as labels (consistent with DataFrame behavior). To access a value by position, use `ser.iloc[pos]`\n",
      "  if position!=0 and df['todayo'][i]<df['x_day_low'][i] and df['Close'][i]<df['Low'][i-1] and day_count>=1 and df.index[i].time()>=datetime.time(10 , 45):\n"
     ]
    },
    {
     "name": "stdout",
     "output_type": "stream",
     "text": [
      "at  Day_count:  \n",
      "2110.7965000000004position at   \n"
     ]
    },
    {
     "name": "stderr",
     "output_type": "stream",
     "text": [
      "/tmp/ipykernel_21521/3164365030.py:205: FutureWarning: Series.__getitem__ treating keys as positions is deprecated. In a future version, integer keys will always be treated as labels (consistent with DataFrame behavior). To access a value by position, use `ser.iloc[pos]`\n",
      "  print(\"\\n Resistance target  \" , df.index[i] , \"at  \", row['Close'] , \" R2 prev: \" , df['R2'][i-1] , \" entryprice\" , entry_price )\n",
      "/tmp/ipykernel_21521/1375693250.py:34: FutureWarning: Downcasting object dtype arrays on .fillna, .ffill, .bfill is deprecated and will change in a future version. Call result.infer_objects(copy=False) instead. To opt-in to the future behavior, set `pd.set_option('future.no_silent_downcasting', True)`\n",
      "  df['trade_start'] = df['trade_end'].shift(1).fillna(False) | df[bar_count_col].eq(1)\n"
     ]
    },
    {
     "name": "stdout",
     "output_type": "stream",
     "text": [
      "\n",
      "\n",
      " Carryforward exit EOD long at  2024-03-26 09:15:00+05:30\n"
     ]
    },
    {
     "name": "stderr",
     "output_type": "stream",
     "text": [
      "/tmp/ipykernel_21521/3164365030.py:166: FutureWarning: Series.__getitem__ treating keys as positions is deprecated. In a future version, integer keys will always be treated as labels (consistent with DataFrame behavior). To access a value by position, use `ser.iloc[pos]`\n",
      "  if position!=0 and df['High'][i]<df['S1'][i-1] and df['Close'][i]<df['Close'][i-1] and day_count>=1 and df.index[i].time()>=time(10 , 45):\n"
     ]
    },
    {
     "name": "stdout",
     "output_type": "stream",
     "text": [
      " 25301.5"
     ]
    },
    {
     "name": "stderr",
     "output_type": "stream",
     "text": [
      "/tmp/ipykernel_21521/3164365030.py:85: FutureWarning: Series.__getitem__ treating keys as positions is deprecated. In a future version, integer keys will always be treated as labels (consistent with DataFrame behavior). To access a value by position, use `ser.iloc[pos]`\n",
      "  if (position == 1 and row['Close'] < min(df['prevdayl'][i]*0.995 ,df['todayl'][i-1]*1.005) and bar_counts[i]>=2):\n"
     ]
    },
    {
     "name": "stdout",
     "output_type": "stream",
     "text": [
      "\n",
      " Resistance target   21133.1"
     ]
    },
    {
     "name": "stderr",
     "output_type": "stream",
     "text": [
      "/tmp/ipykernel_21521/1375693250.py:34: SettingWithCopyWarning: \n",
      "A value is trying to be set on a copy of a slice from a DataFrame.\n",
      "Try using .loc[row_indexer,col_indexer] = value instead\n",
      "\n",
      "See the caveats in the documentation: https://pandas.pydata.org/pandas-docs/stable/user_guide/indexing.html#returning-a-view-versus-a-copy\n",
      "  df['trade_start'] = df['trade_end'].shift(1).fillna(False) | df[bar_count_col].eq(1)\n"
     ]
    },
    {
     "name": "stdout",
     "output_type": "stream",
     "text": [
      " 3675.3"
     ]
    },
    {
     "name": "stderr",
     "output_type": "stream",
     "text": [
      "/tmp/ipykernel_21521/3164365030.py:85: FutureWarning: Series.__getitem__ treating keys as positions is deprecated. In a future version, integer keys will always be treated as labels (consistent with DataFrame behavior). To access a value by position, use `ser.iloc[pos]`\n",
      "  if (position == 1 and row['Close'] < min(df['prevdayl'][i]*0.995 ,df['todayl'][i-1]*1.005) and bar_counts[i]>=2):\n"
     ]
    },
    {
     "name": "stdout",
     "output_type": "stream",
     "text": [
      "  "
     ]
    },
    {
     "name": "stderr",
     "output_type": "stream",
     "text": [
      "/tmp/ipykernel_21521/3164365030.py:177: FutureWarning: Series.__getitem__ treating keys as positions is deprecated. In a future version, integer keys will always be treated as labels (consistent with DataFrame behavior). To access a value by position, use `ser.iloc[pos]`\n",
      "  if position!=0 and df['Low'][i]<min(df['Open'][i] , entry_price*0.98) and bar_counts[i]>1:\n"
     ]
    },
    {
     "name": "stdout",
     "output_type": "stream",
     "text": [
      "2024-03-20 09:15:00+05:30\n",
      " "
     ]
    },
    {
     "name": "stderr",
     "output_type": "stream",
     "text": [
      "/tmp/ipykernel_21521/3164365030.py:156: FutureWarning: Series.__getitem__ treating keys as positions is deprecated. In a future version, integer keys will always be treated as labels (consistent with DataFrame behavior). To access a value by position, use `ser.iloc[pos]`\n",
      "  if position!=0 and df['todayo'][i]<df['x_day_low'][i] and df['Close'][i]<df['Low'][i-1] and day_count>=1 and df.index[i].time()>=datetime.time(10 , 45):\n"
     ]
    },
    {
     "name": "stdout",
     "output_type": "stream",
     "text": [
      "1 R1 today"
     ]
    },
    {
     "name": "stderr",
     "output_type": "stream",
     "text": [
      "/tmp/ipykernel_21521/1375693250.py:35: SettingWithCopyWarning: \n",
      "A value is trying to be set on a copy of a slice from a DataFrame.\n",
      "Try using .loc[row_indexer,col_indexer] = value instead\n",
      "\n",
      "See the caveats in the documentation: https://pandas.pydata.org/pandas-docs/stable/user_guide/indexing.html#returning-a-view-versus-a-copy\n",
      "  df['trade_start'] = df['trade_start'].astype(int)\n"
     ]
    },
    {
     "name": "stdout",
     "output_type": "stream",
     "text": [
      "2024-03-21 13:15:00+05:30"
     ]
    },
    {
     "name": "stderr",
     "output_type": "stream",
     "text": [
      "/tmp/ipykernel_21521/3164365030.py:156: FutureWarning: Series.__getitem__ treating keys as positions is deprecated. In a future version, integer keys will always be treated as labels (consistent with DataFrame behavior). To access a value by position, use `ser.iloc[pos]`\n",
      "  if position!=0 and df['todayo'][i]<df['x_day_low'][i] and df['Close'][i]<df['Low'][i-1] and day_count>=1 and df.index[i].time()>=datetime.time(10 , 45):\n"
     ]
    },
    {
     "name": "stdout",
     "output_type": "stream",
     "text": [
      " "
     ]
    },
    {
     "name": "stderr",
     "output_type": "stream",
     "text": [
      "/tmp/ipykernel_21521/3164365030.py:192: FutureWarning: Series.__getitem__ treating keys as positions is deprecated. In a future version, integer keys will always be treated as labels (consistent with DataFrame behavior). To access a value by position, use `ser.iloc[pos]`\n",
      "  if position == 1 and row['Close'] > entry_price*(1+(1.25*df['5drng'][i])) and df['Close'][i]>df['Close'][i-1] and bar_counts[i]>10:\n"
     ]
    },
    {
     "name": "stdout",
     "output_type": "stream",
     "text": [
      " R2 prev:  Day_count:  "
     ]
    },
    {
     "name": "stderr",
     "output_type": "stream",
     "text": [
      "/tmp/ipykernel_21521/3164365030.py:166: FutureWarning: Series.__getitem__ treating keys as positions is deprecated. In a future version, integer keys will always be treated as labels (consistent with DataFrame behavior). To access a value by position, use `ser.iloc[pos]`\n",
      "  if position!=0 and df['High'][i]<df['S1'][i-1] and df['Close'][i]<df['Close'][i-1] and day_count>=1 and df.index[i].time()>=time(10 , 45):\n"
     ]
    },
    {
     "name": "stdout",
     "output_type": "stream",
     "text": [
      " 1"
     ]
    },
    {
     "name": "stderr",
     "output_type": "stream",
     "text": [
      "/tmp/ipykernel_21521/1375693250.py:38: SettingWithCopyWarning: \n",
      "A value is trying to be set on a copy of a slice from a DataFrame.\n",
      "Try using .loc[row_indexer,col_indexer] = value instead\n",
      "\n",
      "See the caveats in the documentation: https://pandas.pydata.org/pandas-docs/stable/user_guide/indexing.html#returning-a-view-versus-a-copy\n",
      "  df['trade_id'] = df['trade_start'].cumsum()\n"
     ]
    },
    {
     "name": "stdout",
     "output_type": "stream",
     "text": [
      " "
     ]
    },
    {
     "name": "stderr",
     "output_type": "stream",
     "text": [
      "/tmp/ipykernel_21521/3164365030.py:203: FutureWarning: Series.__getitem__ treating keys as positions is deprecated. In a future version, integer keys will always be treated as labels (consistent with DataFrame behavior). To access a value by position, use `ser.iloc[pos]`\n",
      "  if position >0 and df['Close'][i-1]>df['R2'][i-1]*1.01 and df['Close'][i]<df['R2'][i-1]*1.01 and bar_counts[i]>5 and df.index[i].time() >= time(9, 30):\n",
      "/tmp/ipykernel_21521/3164365030.py:166: FutureWarning: Series.__getitem__ treating keys as positions is deprecated. In a future version, integer keys will always be treated as labels (consistent with DataFrame behavior). To access a value by position, use `ser.iloc[pos]`\n",
      "  if position!=0 and df['High'][i]<df['S1'][i-1] and df['Close'][i]<df['Close'][i-1] and day_count>=1 and df.index[i].time()>=time(10 , 45):\n"
     ]
    },
    {
     "name": "stdout",
     "output_type": "stream",
     "text": [
      "position at  25126.6864at  "
     ]
    },
    {
     "name": "stderr",
     "output_type": "stream",
     "text": [
      "/tmp/ipykernel_21521/3164365030.py:177: FutureWarning: Series.__getitem__ treating keys as positions is deprecated. In a future version, integer keys will always be treated as labels (consistent with DataFrame behavior). To access a value by position, use `ser.iloc[pos]`\n",
      "  if position!=0 and df['Low'][i]<min(df['Open'][i] , entry_price*0.98) and bar_counts[i]>1:\n"
     ]
    },
    {
     "name": "stdout",
     "output_type": "stream",
     "text": [
      "  1122.4333333333332 "
     ]
    },
    {
     "name": "stderr",
     "output_type": "stream",
     "text": [
      "/tmp/ipykernel_21521/3164365030.py:177: FutureWarning: Series.__getitem__ treating keys as positions is deprecated. In a future version, integer keys will always be treated as labels (consistent with DataFrame behavior). To access a value by position, use `ser.iloc[pos]`\n",
      "  if position!=0 and df['Low'][i]<min(df['Open'][i] , entry_price*0.98) and bar_counts[i]>1:\n"
     ]
    },
    {
     "name": "stdout",
     "output_type": "stream",
     "text": [
      "\n",
      " position at  2"
     ]
    },
    {
     "name": "stderr",
     "output_type": "stream",
     "text": [
      "/tmp/ipykernel_21521/3164365030.py:192: FutureWarning: Series.__getitem__ treating keys as positions is deprecated. In a future version, integer keys will always be treated as labels (consistent with DataFrame behavior). To access a value by position, use `ser.iloc[pos]`\n",
      "  if position == 1 and row['Close'] > entry_price*(1+(1.25*df['5drng'][i])) and df['Close'][i]>df['Close'][i-1] and bar_counts[i]>10:\n"
     ]
    },
    {
     "name": "stdout",
     "output_type": "stream",
     "text": [
      " 3607.2 271.0"
     ]
    },
    {
     "name": "stderr",
     "output_type": "stream",
     "text": [
      "/tmp/ipykernel_21521/3164365030.py:192: FutureWarning: Series.__getitem__ treating keys as positions is deprecated. In a future version, integer keys will always be treated as labels (consistent with DataFrame behavior). To access a value by position, use `ser.iloc[pos]`\n",
      "  if position == 1 and row['Close'] > entry_price*(1+(1.25*df['5drng'][i])) and df['Close'][i]>df['Close'][i-1] and bar_counts[i]>10:\n"
     ]
    },
    {
     "name": "stdout",
     "output_type": "stream",
     "text": [
      "\n"
     ]
    },
    {
     "name": "stderr",
     "output_type": "stream",
     "text": [
      "/tmp/ipykernel_21521/3164365030.py:143: FutureWarning: Series.__getitem__ treating keys as positions is deprecated. In a future version, integer keys will always be treated as labels (consistent with DataFrame behavior). To access a value by position, use `ser.iloc[pos]`\n",
      "  if position != 0 and intra_Exit==0 and day_count>=n_day_Exit and bar_counts[i]>1 and df['Close'][i]<df['Close'][i-1]  :\n"
     ]
    },
    {
     "name": "stdout",
     "output_type": "stream",
     "text": [
      " entryprice "
     ]
    },
    {
     "name": "stderr",
     "output_type": "stream",
     "text": [
      "/tmp/ipykernel_21521/3164365030.py:203: FutureWarning: Series.__getitem__ treating keys as positions is deprecated. In a future version, integer keys will always be treated as labels (consistent with DataFrame behavior). To access a value by position, use `ser.iloc[pos]`\n",
      "  if position >0 and df['Close'][i-1]>df['R2'][i-1]*1.01 and df['Close'][i]<df['R2'][i-1]*1.01 and bar_counts[i]>5 and df.index[i].time() >= time(9, 30):\n"
     ]
    },
    {
     "name": "stdout",
     "output_type": "stream",
     "text": [
      " 147.1"
     ]
    },
    {
     "name": "stderr",
     "output_type": "stream",
     "text": [
      "/tmp/ipykernel_21521/3164365030.py:203: FutureWarning: Series.__getitem__ treating keys as positions is deprecated. In a future version, integer keys will always be treated as labels (consistent with DataFrame behavior). To access a value by position, use `ser.iloc[pos]`\n",
      "  if position >0 and df['Close'][i-1]>df['R2'][i-1]*1.01 and df['Close'][i]<df['R2'][i-1]*1.01 and bar_counts[i]>5 and df.index[i].time() >= time(9, 30):\n"
     ]
    },
    {
     "name": "stdout",
     "output_type": "stream",
     "text": [
      " Day_count:  R2 prev:  1104.95  "
     ]
    },
    {
     "name": "stderr",
     "output_type": "stream",
     "text": [
      "/tmp/ipykernel_21521/3164365030.py:124: FutureWarning: Series.__getitem__ treating keys as positions is deprecated. In a future version, integer keys will always be treated as labels (consistent with DataFrame behavior). To access a value by position, use `ser.iloc[pos]`\n",
      "  if position > 0 and day_count>=1 and bar_counts[i]>6 and df['Close'][i]<df['prevdayl'][i]*0.97 and df['Close'][i]<df['Close'][i-1] :\n"
     ]
    },
    {
     "name": "stdout",
     "output_type": "stream",
     "text": [
      "Day_count: "
     ]
    },
    {
     "name": "stderr",
     "output_type": "stream",
     "text": [
      "/tmp/ipykernel_21521/3164365030.py:112: FutureWarning: Series.__getitem__ treating keys as positions is deprecated. In a future version, integer keys will always be treated as labels (consistent with DataFrame behavior). To access a value by position, use `ser.iloc[pos]`\n",
      "  if position != 0 and bar_counts[i]>4 and df['indClose'][i]<df[\"indOpen\"][i-1]*0.985 and df['High'][i]<df['todayh'][i-1]*0.985:\n"
     ]
    },
    {
     "name": "stdout",
     "output_type": "stream",
     "text": [
      "\n",
      "2\n",
      " Carryforward exit EOD long at269.1333333333333 "
     ]
    },
    {
     "name": "stderr",
     "output_type": "stream",
     "text": [
      "/tmp/ipykernel_21521/3164365030.py:133: FutureWarning: Series.__getitem__ treating keys as positions is deprecated. In a future version, integer keys will always be treated as labels (consistent with DataFrame behavior). To access a value by position, use `ser.iloc[pos]`\n",
      "  if position > 0 and day_count>=1 and bar_counts[i]>3 and df['Close'][i]<df['Low'][i-1]*0.985  :\n",
      "/tmp/ipykernel_21521/3164365030.py:143: FutureWarning: Series.__getitem__ treating keys as positions is deprecated. In a future version, integer keys will always be treated as labels (consistent with DataFrame behavior). To access a value by position, use `ser.iloc[pos]`\n",
      "  if position != 0 and intra_Exit==0 and day_count>=n_day_Exit and bar_counts[i]>1 and df['Close'][i]<df['Close'][i-1]  :\n"
     ]
    },
    {
     "name": "stdout",
     "output_type": "stream",
     "text": [
      "\n",
      "  2[(Timestamp('2024-03-20 13:15:00+0530', tz='UTC+05:30'), 'NSE:KOTAKBANK', 1, 1762.5, 1), (Timestamp('2024-03-22 10:45:00+0530', tz='UTC+05:30'), 'NSE:KOTAKBANK', 0, 1778.5, 16), (Timestamp('2024-03-27 11:45:00+0530', tz='UTC+05:30'), 'NSE:KOTAKBANK', 1, 1770.0, 1), (Timestamp('2024-04-01 09:45:00+0530', tz='UTC+05:30'), 'NSE:KOTAKBANK', 0, 1797.0, 16)]\n",
      " Carryforward exit EOD long at2024-03-26 09:45:00+05:30 entryprice\n",
      "\n",
      "  "
     ]
    },
    {
     "name": "stderr",
     "output_type": "stream",
     "text": [
      "/tmp/ipykernel_21521/3164365030.py:112: FutureWarning: Series.__getitem__ treating keys as positions is deprecated. In a future version, integer keys will always be treated as labels (consistent with DataFrame behavior). To access a value by position, use `ser.iloc[pos]`\n",
      "  if position != 0 and bar_counts[i]>4 and df['indClose'][i]<df[\"indOpen\"][i-1]*0.985 and df['High'][i]<df['todayh'][i-1]*0.985:\n"
     ]
    },
    {
     "name": "stdout",
     "output_type": "stream",
     "text": [
      " "
     ]
    },
    {
     "name": "stderr",
     "output_type": "stream",
     "text": [
      "/tmp/ipykernel_21521/3164365030.py:112: FutureWarning: Series.__getitem__ treating keys as positions is deprecated. In a future version, integer keys will always be treated as labels (consistent with DataFrame behavior). To access a value by position, use `ser.iloc[pos]`\n",
      "  if position != 0 and bar_counts[i]>4 and df['indClose'][i]<df[\"indOpen\"][i-1]*0.985 and df['High'][i]<df['todayh'][i-1]*0.985:\n"
     ]
    },
    {
     "name": "stdout",
     "output_type": "stream",
     "text": [
      "2024-03-26 09:15:00+05:301264.1  \n",
      "[(Timestamp('2024-03-27 12:45:00+0530', tz='UTC+05:30'), 'NSE:MRF', 1, 132754.1, 1), (Timestamp('2024-04-01 10:15:00+0530', tz='UTC+05:30'), 'NSE:MRF', 0, 135449.5, 16)]1position at  "
     ]
    },
    {
     "name": "stderr",
     "output_type": "stream",
     "text": [
      "/tmp/ipykernel_21521/3164365030.py:143: FutureWarning: Series.__getitem__ treating keys as positions is deprecated. In a future version, integer keys will always be treated as labels (consistent with DataFrame behavior). To access a value by position, use `ser.iloc[pos]`\n",
      "  if position != 0 and intra_Exit==0 and day_count>=n_day_Exit and bar_counts[i]>1 and df['Close'][i]<df['Close'][i-1]  :\n"
     ]
    },
    {
     "name": "stdout",
     "output_type": "stream",
     "text": [
      "\n",
      "  \n",
      " Position taken long at : position at   2553.75\n",
      "Creating trade log for 2024-03-21 13:15:00+05:30 \n",
      " Position taken long at : "
     ]
    },
    {
     "name": "stderr",
     "output_type": "stream",
     "text": [
      "/tmp/ipykernel_21521/3164365030.py:124: FutureWarning: Series.__getitem__ treating keys as positions is deprecated. In a future version, integer keys will always be treated as labels (consistent with DataFrame behavior). To access a value by position, use `ser.iloc[pos]`\n",
      "  if position > 0 and day_count>=1 and bar_counts[i]>6 and df['Close'][i]<df['prevdayl'][i]*0.97 and df['Close'][i]<df['Close'][i-1] :\n"
     ]
    },
    {
     "name": "stdout",
     "output_type": "stream",
     "text": [
      " 594.45\n",
      " Carryforward exit EOD long at Day_count: "
     ]
    },
    {
     "name": "stderr",
     "output_type": "stream",
     "text": [
      "/tmp/ipykernel_21521/3164365030.py:124: FutureWarning: Series.__getitem__ treating keys as positions is deprecated. In a future version, integer keys will always be treated as labels (consistent with DataFrame behavior). To access a value by position, use `ser.iloc[pos]`\n",
      "  if position > 0 and day_count>=1 and bar_counts[i]>6 and df['Close'][i]<df['prevdayl'][i]*0.97 and df['Close'][i]<df['Close'][i-1] :\n"
     ]
    },
    {
     "name": "stdout",
     "output_type": "stream",
     "text": [
      "\n",
      " Position taken long at :  NSE:KOTAKBANK \n",
      " Position taken long at : "
     ]
    },
    {
     "name": "stderr",
     "output_type": "stream",
     "text": [
      "/tmp/ipykernel_21521/3164365030.py:124: FutureWarning: Series.__getitem__ treating keys as positions is deprecated. In a future version, integer keys will always be treated as labels (consistent with DataFrame behavior). To access a value by position, use `ser.iloc[pos]`\n",
      "  if position > 0 and day_count>=1 and bar_counts[i]>6 and df['Close'][i]<df['prevdayl'][i]*0.97 and df['Close'][i]<df['Close'][i-1] :\n"
     ]
    },
    {
     "name": "stdout",
     "output_type": "stream",
     "text": [
      "\n",
      " Position taken long at : -- entry Price - :     2024-03-21 15:15:00+05:30"
     ]
    },
    {
     "name": "stderr",
     "output_type": "stream",
     "text": [
      "/tmp/ipykernel_21521/3164365030.py:133: FutureWarning: Series.__getitem__ treating keys as positions is deprecated. In a future version, integer keys will always be treated as labels (consistent with DataFrame behavior). To access a value by position, use `ser.iloc[pos]`\n",
      "  if position > 0 and day_count>=1 and bar_counts[i]>3 and df['Close'][i]<df['Low'][i-1]*0.985  :\n"
     ]
    },
    {
     "name": "stdout",
     "output_type": "stream",
     "text": [
      "\n",
      "\n",
      "Creating trade log forDay_count:    "
     ]
    },
    {
     "name": "stderr",
     "output_type": "stream",
     "text": [
      "/tmp/ipykernel_21521/3164365030.py:133: FutureWarning: Series.__getitem__ treating keys as positions is deprecated. In a future version, integer keys will always be treated as labels (consistent with DataFrame behavior). To access a value by position, use `ser.iloc[pos]`\n",
      "  if position > 0 and day_count>=1 and bar_counts[i]>3 and df['Close'][i]<df['Low'][i-1]*0.985  :\n"
     ]
    },
    {
     "name": "stdout",
     "output_type": "stream",
     "text": [
      "2024-03-26 09:45:00+05:302024-03-27 11:45:00+05:302  "
     ]
    },
    {
     "name": "stderr",
     "output_type": "stream",
     "text": [
      "/tmp/ipykernel_21521/3164365030.py:124: FutureWarning: Series.__getitem__ treating keys as positions is deprecated. In a future version, integer keys will always be treated as labels (consistent with DataFrame behavior). To access a value by position, use `ser.iloc[pos]`\n",
      "  if position > 0 and day_count>=1 and bar_counts[i]>6 and df['Close'][i]<df['prevdayl'][i]*0.97 and df['Close'][i]<df['Close'][i-1] :\n"
     ]
    },
    {
     "name": "stdout",
     "output_type": "stream",
     "text": [
      " 2024-03-21 10:45:00+05:302024-03-27 13:45:00+05:303735.0-- entry Price - :    \n",
      "NSE:MRF2 "
     ]
    },
    {
     "name": "stderr",
     "output_type": "stream",
     "text": [
      "/tmp/ipykernel_21521/3164365030.py:133: FutureWarning: Series.__getitem__ treating keys as positions is deprecated. In a future version, integer keys will always be treated as labels (consistent with DataFrame behavior). To access a value by position, use `ser.iloc[pos]`\n",
      "  if position > 0 and day_count>=1 and bar_counts[i]>3 and df['Close'][i]<df['Low'][i-1]*0.985  :\n"
     ]
    },
    {
     "name": "stdout",
     "output_type": "stream",
     "text": [
      "  1-- entry Price - :  "
     ]
    },
    {
     "name": "stderr",
     "output_type": "stream",
     "text": [
      "/tmp/ipykernel_21521/1375693250.py:31: SettingWithCopyWarning: \n",
      "A value is trying to be set on a copy of a slice from a DataFrame.\n",
      "Try using .loc[row_indexer,col_indexer] = value instead\n",
      "\n",
      "See the caveats in the documentation: https://pandas.pydata.org/pandas-docs/stable/user_guide/indexing.html#returning-a-view-versus-a-copy\n",
      "  df['trade_end'] = (df[bar_count_col].shift(-1) < df[bar_count_col]) | (df[bar_count_col].shift(-1) == 0) | df[bar_count_col].eq(0)\n"
     ]
    },
    {
     "name": "stdout",
     "output_type": "stream",
     "text": [
      " \n",
      "\n",
      "-- entry Price - :  -- entry Price - :  R1 today  273.6  "
     ]
    },
    {
     "name": "stderr",
     "output_type": "stream",
     "text": [
      "/tmp/ipykernel_21521/1375693250.py:34: FutureWarning: Downcasting object dtype arrays on .fillna, .ffill, .bfill is deprecated and will change in a future version. Call result.infer_objects(copy=False) instead. To opt-in to the future behavior, set `pd.set_option('future.no_silent_downcasting', True)`\n",
      "  df['trade_start'] = df['trade_end'].shift(1).fillna(False) | df[bar_count_col].eq(1)\n"
     ]
    },
    {
     "name": "stdout",
     "output_type": "stream",
     "text": [
      " position at  3705.0 1140.0150.0"
     ]
    },
    {
     "name": "stderr",
     "output_type": "stream",
     "text": [
      "IOPub message rate exceeded.\n",
      "The Jupyter server will temporarily stop sending output\n",
      "to the client in order to avoid crashing it.\n",
      "To change this limit, set the config variable\n",
      "`--ServerApp.iopub_msg_rate_limit`.\n",
      "\n",
      "Current values:\n",
      "ServerApp.iopub_msg_rate_limit=1000.0 (msgs/sec)\n",
      "ServerApp.rate_limit_window=3.0 (secs)\n",
      "\n"
     ]
    }
   ],
   "source": [
    "from concurrent.futures import ProcessPoolExecutor, as_completed\n",
    "import os\n",
    "\n",
    "\n",
    "def process_wrapper(df):\n",
    "    #symbol, df = symbol_df_tuple\n",
    "    return process_signal(df, side=1, intra_Exit=0, n_day_Exit=2)\n",
    "\n",
    "# Using ProcessPoolExecutor to process each DataFrame in parallel\n",
    "with ProcessPoolExecutor() as executor:\n",
    "    # Create a list of future tasks\n",
    "    futures = [executor.submit(process_wrapper, item) for item in com_dfs]\n",
    "\n",
    "    # As each future completes, print the result or error\n",
    "    for future in as_completed(futures):\n",
    "        try:\n",
    "            symbol, result_df = future.result()\n",
    "            print(f\"Processing complete \")\n",
    "        except Exception as e:\n",
    "            print(f\"Error processing : {e}\")\n"
   ]
  },
  {
   "cell_type": "code",
   "execution_count": 29,
   "metadata": {},
   "outputs": [],
   "source": [
    "import pandas as pd\n",
    "\n",
    "\n",
    "def create_tradelog2(df, symbol):\n",
    "    \n",
    "    print(\"\\nCreating trade log for\", symbol)\n",
    "    \n",
    "    if df.empty:\n",
    "        print(\"DataFrame is empty. No data to process.\")\n",
    "        return pd.DataFrame()\n",
    "    df['position_change'] = df[f'{symbol}_position'].diff()\n",
    "    \n",
    "        # Construct column names dynamically\n",
    "    columns = [\n",
    "        f'{symbol}bar_count', f'{symbol}_position',  'position_change' , f'{symbol}_ret', f'{symbol}_Close' , f'{symbol}_order']\n",
    "\n",
    "    # Now filter the DataFrame to include only the columns for this symbol\n",
    "    df = df[columns]\n",
    "\n",
    "    \n",
    "    \n",
    "    # Assuming 'bar_count_col' and other columns are defined as per your data\n",
    "    bar_count_col = f'{symbol}bar_count'\n",
    "\n",
    "    # Check if the essential column exists in the DataFrame\n",
    "    if bar_count_col not in df.columns:\n",
    "        print(f\"Missing essential column: {bar_count_col}\")\n",
    "        return pd.DataFrame()\n",
    "    \n",
    "    # Identifying the end of a trade\n",
    "    df['trade_end'] = (df[bar_count_col].shift(-1) < df[bar_count_col]) | (df[bar_count_col].shift(-1) == 0) | df[bar_count_col].eq(0)\n",
    "\n",
    "    # Creating 'trade_start' to identify the start of a trade\n",
    "    df['trade_start'] = df['trade_end'].shift(1).fillna(False) | df[bar_count_col].eq(1)\n",
    "    df['trade_start'] = df['trade_start'].astype(int)\n",
    "\n",
    "    # Generating 'trade_id' for each trade\n",
    "    df['trade_id'] = df['trade_start'].cumsum()\n",
    "\n",
    "    # Filtering out rows not part of any trade (i.e., before any trade has started)\n",
    "    df = df[df['trade_id'] > 0]\n",
    "    \n",
    "    # Processing each trade to gather trade details\n",
    "    trades_info = []\n",
    "    for trade_id, trade_group in df.groupby('trade_id'):\n",
    "        if trade_group.empty or trade_group[bar_count_col].max() == 0:\n",
    "            continue  # Skip empty trades or trades without bar counts\n",
    "        \n",
    "        #print(\"\\n Individual trade found as \" , trade_group)\n",
    "        \n",
    "        #print(\"\\n Exit price: \" , trade_group.iloc[-1][f'{symbol}_Close'])\n",
    "        \n",
    "        positionn = trade_group[f'{symbol}_position'].iloc[0]\n",
    "        side = 'long' if positionn == 1 else 'Short' if positionn == -1 else 'flat'\n",
    "        trade_details = {\n",
    "            'Symbol': symbol,\n",
    "            'Side': side,\n",
    "            'Trade ID': trade_id,\n",
    "            'Start Time': trade_group.index[0],\n",
    "            'End Time': trade_group.index[-1],\n",
    "            'Entry Price': trade_group.iloc[0][f'{symbol}_Close'],  # Assuming 'Close' is the close price column\n",
    "            'Exit Price': trade_group.iloc[-1][f'{symbol}_Close'],  # Modify as per your DataFrame's column names\n",
    "            \n",
    "            \n",
    "            \n",
    "            # Include other details as needed\n",
    "        }\n",
    "        trades_info.append(trade_details)\n",
    "    \n",
    "    # Converting the trades information into a DataFrame\n",
    "    trade_summary_df = pd.DataFrame(trades_info)\n",
    "    return trade_summary_df\n",
    "\n",
    "# Replace 'your_symbol' and 'Close' with actual column names as per your DataFrame\n",
    "# Ensure your DataFrame 'df' is indexed appropriately (e.g., datetime index) and contains the necessary columns\n"
   ]
  },
  {
   "cell_type": "code",
   "execution_count": 23,
   "metadata": {},
   "outputs": [
    {
     "name": "stdout",
     "output_type": "stream",
     "text": [
      "2024-03-06 09:15:00+05:30\n",
      "2024-04-04 15:15:00+05:30\n"
     ]
    }
   ],
   "source": [
    "print(com_dfs[2].index[0])\n",
    "print(com_dfs[2].index[-1])\n"
   ]
  },
  {
   "cell_type": "code",
   "execution_count": 30,
   "metadata": {},
   "outputs": [
    {
     "name": "stdout",
     "output_type": "stream",
     "text": [
      "\n",
      " Processing signals of :  NSE:ADANIENT\n",
      "\n",
      " Position taken long at :  2024-03-21 11:15:00+05:30 -- entry Price - :   3093.4 R1 today 3087.9970000000003\n",
      "\n",
      " Carryforward exit EOD long at 2024-03-26 10:15:00+05:30 1 position at   3134.0 Day_count:  2\n",
      "\n",
      " Position taken long at :  2024-03-28 10:45:00+05:30 -- entry Price - :   3154.55 R1 today 3145.9961000000003\n",
      "\n",
      " Resistance target   2024-03-28 14:45:00+05:30 at   3181.25  R2 prev:  3155.1833333333334  entryprice 3154.55\n",
      "[(Timestamp('2024-03-21 11:15:00+0530', tz='UTC+05:30'), 'NSE:ADANIENT', 1, 3093.4, 1), (Timestamp('2024-03-26 10:15:00+0530', tz='UTC+05:30'), 'NSE:ADANIENT', 0, 3134.0, 16), (Timestamp('2024-03-28 10:45:00+0530', tz='UTC+05:30'), 'NSE:ADANIENT', 1, 3154.55, 1), (Timestamp('2024-03-28 14:45:00+0530', tz='UTC+05:30'), 'NSE:ADANIENT', 0, 3181.25, 20)]\n",
      "\n",
      "Creating trade log for NSE:ADANIENT\n",
      "\n",
      " \n",
      " The Outputting to trade file  /home/aakash_tandon/Python_strategies/Live_aakash_fno_CF_v1/symbol_wise_trades/NSE:ADANIENT.csv\n",
      "\n",
      " \n",
      " The Outputting dataframe to file file  /home/aakash_tandon/Python_strategies/Live_aakash_fno_CF_v1/symbol_wise_dataframe/NSE:ADANIENT.csv\n"
     ]
    },
    {
     "name": "stderr",
     "output_type": "stream",
     "text": [
      "/tmp/ipykernel_21521/3164365030.py:66: FutureWarning: Series.__getitem__ treating keys as positions is deprecated. In a future version, integer keys will always be treated as labels (consistent with DataFrame behavior). To access a value by position, use `ser.iloc[pos]`\n",
      "  if ( df['signal'][i-1]==1 or df['signal'][i]==1) and position == 0  and df['Close'][i]<df['Close'][i-1] and df['indClose'][i]>df['indtodayo'][i]*0.999 :\n",
      "/tmp/ipykernel_21521/3164365030.py:73: FutureWarning: Series.__getitem__ treating keys as positions is deprecated. In a future version, integer keys will always be treated as labels (consistent with DataFrame behavior). To access a value by position, use `ser.iloc[pos]`\n",
      "  print(\"\\n Position taken long at : \" , df.index[i] , \"-- entry Price - :  \" , entry_price , 'R1 today' ,df['R1'][i]*1.002  )\n",
      "/tmp/ipykernel_21521/3164365030.py:85: FutureWarning: Series.__getitem__ treating keys as positions is deprecated. In a future version, integer keys will always be treated as labels (consistent with DataFrame behavior). To access a value by position, use `ser.iloc[pos]`\n",
      "  if (position == 1 and row['Close'] < min(df['prevdayl'][i]*0.995 ,df['todayl'][i-1]*1.005) and bar_counts[i]>=2):\n",
      "/tmp/ipykernel_21521/3164365030.py:156: FutureWarning: Series.__getitem__ treating keys as positions is deprecated. In a future version, integer keys will always be treated as labels (consistent with DataFrame behavior). To access a value by position, use `ser.iloc[pos]`\n",
      "  if position!=0 and df['todayo'][i]<df['x_day_low'][i] and df['Close'][i]<df['Low'][i-1] and day_count>=1 and df.index[i].time()>=datetime.time(10 , 45):\n",
      "/tmp/ipykernel_21521/3164365030.py:166: FutureWarning: Series.__getitem__ treating keys as positions is deprecated. In a future version, integer keys will always be treated as labels (consistent with DataFrame behavior). To access a value by position, use `ser.iloc[pos]`\n",
      "  if position!=0 and df['High'][i]<df['S1'][i-1] and df['Close'][i]<df['Close'][i-1] and day_count>=1 and df.index[i].time()>=time(10 , 45):\n",
      "/tmp/ipykernel_21521/3164365030.py:177: FutureWarning: Series.__getitem__ treating keys as positions is deprecated. In a future version, integer keys will always be treated as labels (consistent with DataFrame behavior). To access a value by position, use `ser.iloc[pos]`\n",
      "  if position!=0 and df['Low'][i]<min(df['Open'][i] , entry_price*0.98) and bar_counts[i]>1:\n",
      "/tmp/ipykernel_21521/3164365030.py:192: FutureWarning: Series.__getitem__ treating keys as positions is deprecated. In a future version, integer keys will always be treated as labels (consistent with DataFrame behavior). To access a value by position, use `ser.iloc[pos]`\n",
      "  if position == 1 and row['Close'] > entry_price*(1+(1.25*df['5drng'][i])) and df['Close'][i]>df['Close'][i-1] and bar_counts[i]>10:\n",
      "/tmp/ipykernel_21521/3164365030.py:203: FutureWarning: Series.__getitem__ treating keys as positions is deprecated. In a future version, integer keys will always be treated as labels (consistent with DataFrame behavior). To access a value by position, use `ser.iloc[pos]`\n",
      "  if position >0 and df['Close'][i-1]>df['R2'][i-1]*1.01 and df['Close'][i]<df['R2'][i-1]*1.01 and bar_counts[i]>5 and df.index[i].time() >= time(9, 30):\n",
      "/tmp/ipykernel_21521/3164365030.py:112: FutureWarning: Series.__getitem__ treating keys as positions is deprecated. In a future version, integer keys will always be treated as labels (consistent with DataFrame behavior). To access a value by position, use `ser.iloc[pos]`\n",
      "  if position != 0 and bar_counts[i]>4 and df['indClose'][i]<df[\"indOpen\"][i-1]*0.985 and df['High'][i]<df['todayh'][i-1]*0.985:\n",
      "/tmp/ipykernel_21521/3164365030.py:124: FutureWarning: Series.__getitem__ treating keys as positions is deprecated. In a future version, integer keys will always be treated as labels (consistent with DataFrame behavior). To access a value by position, use `ser.iloc[pos]`\n",
      "  if position > 0 and day_count>=1 and bar_counts[i]>6 and df['Close'][i]<df['prevdayl'][i]*0.97 and df['Close'][i]<df['Close'][i-1] :\n",
      "/tmp/ipykernel_21521/3164365030.py:133: FutureWarning: Series.__getitem__ treating keys as positions is deprecated. In a future version, integer keys will always be treated as labels (consistent with DataFrame behavior). To access a value by position, use `ser.iloc[pos]`\n",
      "  if position > 0 and day_count>=1 and bar_counts[i]>3 and df['Close'][i]<df['Low'][i-1]*0.985  :\n",
      "/tmp/ipykernel_21521/3164365030.py:143: FutureWarning: Series.__getitem__ treating keys as positions is deprecated. In a future version, integer keys will always be treated as labels (consistent with DataFrame behavior). To access a value by position, use `ser.iloc[pos]`\n",
      "  if position != 0 and intra_Exit==0 and day_count>=n_day_Exit and bar_counts[i]>1 and df['Close'][i]<df['Close'][i-1]  :\n",
      "/tmp/ipykernel_21521/3164365030.py:205: FutureWarning: Series.__getitem__ treating keys as positions is deprecated. In a future version, integer keys will always be treated as labels (consistent with DataFrame behavior). To access a value by position, use `ser.iloc[pos]`\n",
      "  print(\"\\n Resistance target  \" , df.index[i] , \"at  \", row['Close'] , \" R2 prev: \" , df['R2'][i-1] , \" entryprice\" , entry_price )\n",
      "/tmp/ipykernel_21521/4177167014.py:31: SettingWithCopyWarning: \n",
      "A value is trying to be set on a copy of a slice from a DataFrame.\n",
      "Try using .loc[row_indexer,col_indexer] = value instead\n",
      "\n",
      "See the caveats in the documentation: https://pandas.pydata.org/pandas-docs/stable/user_guide/indexing.html#returning-a-view-versus-a-copy\n",
      "  df['trade_end'] = (df[bar_count_col].shift(-1) < df[bar_count_col]) | (df[bar_count_col].shift(-1) == 0) | df[bar_count_col].eq(0)\n",
      "/tmp/ipykernel_21521/4177167014.py:34: FutureWarning: Downcasting object dtype arrays on .fillna, .ffill, .bfill is deprecated and will change in a future version. Call result.infer_objects(copy=False) instead. To opt-in to the future behavior, set `pd.set_option('future.no_silent_downcasting', True)`\n",
      "  df['trade_start'] = df['trade_end'].shift(1).fillna(False) | df[bar_count_col].eq(1)\n",
      "/tmp/ipykernel_21521/4177167014.py:34: SettingWithCopyWarning: \n",
      "A value is trying to be set on a copy of a slice from a DataFrame.\n",
      "Try using .loc[row_indexer,col_indexer] = value instead\n",
      "\n",
      "See the caveats in the documentation: https://pandas.pydata.org/pandas-docs/stable/user_guide/indexing.html#returning-a-view-versus-a-copy\n",
      "  df['trade_start'] = df['trade_end'].shift(1).fillna(False) | df[bar_count_col].eq(1)\n",
      "/tmp/ipykernel_21521/4177167014.py:35: SettingWithCopyWarning: \n",
      "A value is trying to be set on a copy of a slice from a DataFrame.\n",
      "Try using .loc[row_indexer,col_indexer] = value instead\n",
      "\n",
      "See the caveats in the documentation: https://pandas.pydata.org/pandas-docs/stable/user_guide/indexing.html#returning-a-view-versus-a-copy\n",
      "  df['trade_start'] = df['trade_start'].astype(int)\n",
      "/tmp/ipykernel_21521/4177167014.py:38: SettingWithCopyWarning: \n",
      "A value is trying to be set on a copy of a slice from a DataFrame.\n",
      "Try using .loc[row_indexer,col_indexer] = value instead\n",
      "\n",
      "See the caveats in the documentation: https://pandas.pydata.org/pandas-docs/stable/user_guide/indexing.html#returning-a-view-versus-a-copy\n",
      "  df['trade_id'] = df['trade_start'].cumsum()\n"
     ]
    },
    {
     "data": {
      "text/html": [
       "<div>\n",
       "<style scoped>\n",
       "    .dataframe tbody tr th:only-of-type {\n",
       "        vertical-align: middle;\n",
       "    }\n",
       "\n",
       "    .dataframe tbody tr th {\n",
       "        vertical-align: top;\n",
       "    }\n",
       "\n",
       "    .dataframe thead th {\n",
       "        text-align: right;\n",
       "    }\n",
       "</style>\n",
       "<table border=\"1\" class=\"dataframe\">\n",
       "  <thead>\n",
       "    <tr style=\"text-align: right;\">\n",
       "      <th></th>\n",
       "      <th>NSE:ADANIENT_Close</th>\n",
       "      <th>NSE:ADANIENT_position</th>\n",
       "      <th>NSE:ADANIENT_ret</th>\n",
       "      <th>NSE:ADANIENTbar_count</th>\n",
       "      <th>NSE:ADANIENT_order</th>\n",
       "    </tr>\n",
       "    <tr>\n",
       "      <th>Timestamp</th>\n",
       "      <th></th>\n",
       "      <th></th>\n",
       "      <th></th>\n",
       "      <th></th>\n",
       "      <th></th>\n",
       "    </tr>\n",
       "  </thead>\n",
       "  <tbody>\n",
       "    <tr>\n",
       "      <th>2024-03-06 09:15:00+05:30</th>\n",
       "      <td>3282.00</td>\n",
       "      <td>0</td>\n",
       "      <td>0.0</td>\n",
       "      <td>0</td>\n",
       "      <td>0</td>\n",
       "    </tr>\n",
       "    <tr>\n",
       "      <th>2024-03-06 09:45:00+05:30</th>\n",
       "      <td>3240.20</td>\n",
       "      <td>0</td>\n",
       "      <td>0.0</td>\n",
       "      <td>0</td>\n",
       "      <td>0</td>\n",
       "    </tr>\n",
       "    <tr>\n",
       "      <th>2024-03-06 10:15:00+05:30</th>\n",
       "      <td>3259.05</td>\n",
       "      <td>0</td>\n",
       "      <td>0.0</td>\n",
       "      <td>0</td>\n",
       "      <td>0</td>\n",
       "    </tr>\n",
       "    <tr>\n",
       "      <th>2024-03-06 10:45:00+05:30</th>\n",
       "      <td>3240.10</td>\n",
       "      <td>0</td>\n",
       "      <td>0.0</td>\n",
       "      <td>0</td>\n",
       "      <td>0</td>\n",
       "    </tr>\n",
       "    <tr>\n",
       "      <th>2024-03-06 11:15:00+05:30</th>\n",
       "      <td>3216.60</td>\n",
       "      <td>0</td>\n",
       "      <td>0.0</td>\n",
       "      <td>0</td>\n",
       "      <td>0</td>\n",
       "    </tr>\n",
       "    <tr>\n",
       "      <th>...</th>\n",
       "      <td>...</td>\n",
       "      <td>...</td>\n",
       "      <td>...</td>\n",
       "      <td>...</td>\n",
       "      <td>...</td>\n",
       "    </tr>\n",
       "    <tr>\n",
       "      <th>2024-04-04 13:15:00+05:30</th>\n",
       "      <td>3236.30</td>\n",
       "      <td>0</td>\n",
       "      <td>0.0</td>\n",
       "      <td>0</td>\n",
       "      <td>0</td>\n",
       "    </tr>\n",
       "    <tr>\n",
       "      <th>2024-04-04 13:45:00+05:30</th>\n",
       "      <td>3228.95</td>\n",
       "      <td>0</td>\n",
       "      <td>0.0</td>\n",
       "      <td>0</td>\n",
       "      <td>0</td>\n",
       "    </tr>\n",
       "    <tr>\n",
       "      <th>2024-04-04 14:15:00+05:30</th>\n",
       "      <td>3230.25</td>\n",
       "      <td>0</td>\n",
       "      <td>0.0</td>\n",
       "      <td>0</td>\n",
       "      <td>0</td>\n",
       "    </tr>\n",
       "    <tr>\n",
       "      <th>2024-04-04 14:45:00+05:30</th>\n",
       "      <td>3206.75</td>\n",
       "      <td>0</td>\n",
       "      <td>0.0</td>\n",
       "      <td>0</td>\n",
       "      <td>0</td>\n",
       "    </tr>\n",
       "    <tr>\n",
       "      <th>2024-04-04 15:15:00+05:30</th>\n",
       "      <td>3220.00</td>\n",
       "      <td>0</td>\n",
       "      <td>0.0</td>\n",
       "      <td>0</td>\n",
       "      <td>0</td>\n",
       "    </tr>\n",
       "  </tbody>\n",
       "</table>\n",
       "<p>234 rows × 5 columns</p>\n",
       "</div>"
      ],
      "text/plain": [
       "                           NSE:ADANIENT_Close  NSE:ADANIENT_position  \\\n",
       "Timestamp                                                              \n",
       "2024-03-06 09:15:00+05:30             3282.00                      0   \n",
       "2024-03-06 09:45:00+05:30             3240.20                      0   \n",
       "2024-03-06 10:15:00+05:30             3259.05                      0   \n",
       "2024-03-06 10:45:00+05:30             3240.10                      0   \n",
       "2024-03-06 11:15:00+05:30             3216.60                      0   \n",
       "...                                       ...                    ...   \n",
       "2024-04-04 13:15:00+05:30             3236.30                      0   \n",
       "2024-04-04 13:45:00+05:30             3228.95                      0   \n",
       "2024-04-04 14:15:00+05:30             3230.25                      0   \n",
       "2024-04-04 14:45:00+05:30             3206.75                      0   \n",
       "2024-04-04 15:15:00+05:30             3220.00                      0   \n",
       "\n",
       "                           NSE:ADANIENT_ret  NSE:ADANIENTbar_count  \\\n",
       "Timestamp                                                            \n",
       "2024-03-06 09:15:00+05:30               0.0                      0   \n",
       "2024-03-06 09:45:00+05:30               0.0                      0   \n",
       "2024-03-06 10:15:00+05:30               0.0                      0   \n",
       "2024-03-06 10:45:00+05:30               0.0                      0   \n",
       "2024-03-06 11:15:00+05:30               0.0                      0   \n",
       "...                                     ...                    ...   \n",
       "2024-04-04 13:15:00+05:30               0.0                      0   \n",
       "2024-04-04 13:45:00+05:30               0.0                      0   \n",
       "2024-04-04 14:15:00+05:30               0.0                      0   \n",
       "2024-04-04 14:45:00+05:30               0.0                      0   \n",
       "2024-04-04 15:15:00+05:30               0.0                      0   \n",
       "\n",
       "                           NSE:ADANIENT_order  \n",
       "Timestamp                                      \n",
       "2024-03-06 09:15:00+05:30                   0  \n",
       "2024-03-06 09:45:00+05:30                   0  \n",
       "2024-03-06 10:15:00+05:30                   0  \n",
       "2024-03-06 10:45:00+05:30                   0  \n",
       "2024-03-06 11:15:00+05:30                   0  \n",
       "...                                       ...  \n",
       "2024-04-04 13:15:00+05:30                   0  \n",
       "2024-04-04 13:45:00+05:30                   0  \n",
       "2024-04-04 14:15:00+05:30                   0  \n",
       "2024-04-04 14:45:00+05:30                   0  \n",
       "2024-04-04 15:15:00+05:30                   0  \n",
       "\n",
       "[234 rows x 5 columns]"
      ]
     },
     "execution_count": 30,
     "metadata": {},
     "output_type": "execute_result"
    }
   ],
   "source": [
    "process_signal(com_dfs[2], side=1, intra_Exit=0, n_day_Exit=2)"
   ]
  },
  {
   "cell_type": "code",
   "execution_count": null,
   "metadata": {},
   "outputs": [],
   "source": [
    "com_dfs[0].columns"
   ]
  },
  {
   "cell_type": "code",
   "execution_count": null,
   "metadata": {},
   "outputs": [],
   "source": [
    "df[['NSE:ADANIENTbar_count', 'NSE:ADANIENT_order', 'NSE:ADANIENT_position',\n",
    "       'NSE:ADANIENT_ret', 'NSE:ADANIENT_Close', 'position_change']]"
   ]
  },
  {
   "cell_type": "code",
   "execution_count": null,
   "metadata": {},
   "outputs": [],
   "source": [
    "\n",
    "\n",
    "\"\"\"ATR\n",
    "\n",
    "\n",
    "\n",
    " Processing signals of :  NSE:ABB\n",
    "\n",
    " Position taken long at :  2024-03-18 14:15:00+05:30 -- entry Price - :   5746.85 R1 today 5741.426599999999\n",
    " Fixed stoploss:  S1 is :  5631.9130000000005  -- exit  at 5631.9130000000005 time is  14:45:00 Low of bar is : 5611.5\n",
    "\n",
    " Position taken long at :  2024-03-20 13:45:00+05:30 -- entry Price - :   5743.35 R1 today 5759.329000000001\n",
    "\n",
    " Carryforward exit EOD long at 2024-03-22 09:15:00+05:30 1 position at   5851.0 Day_count:  2\n",
    "\n",
    " Position taken long at :  2024-03-28 12:15:00+05:30 -- entry Price - :   6426.65 R1 today 6398.705200000001\n",
    "\n",
    " Carryforward exit EOD long at 2024-04-02 09:15:00+05:30 1 position at   6430.3 Day_count:  2\n",
    "\n",
    "\n",
    "\n",
    "\n",
    "\"\"\"\n",
    "\n",
    "df = pd.read_csv(r'/home/aakash_tandon/Python_strategies/Live_aakash_fno_CF_v1/symbol_wise_dataframe/NSE:ABB.csv')\n",
    "\n",
    "df['Timestamp'] = pd.to_datetime(df['Timestamp'])\n",
    "df = df.set_index('Timestamp')\n",
    "\n",
    "symbol = df['Symbol'].iloc[0]\n",
    "\n",
    "print(symbol)\n",
    "# Construct column names dynamically\n",
    "columns = [\n",
    "    f'{symbol}bar_count', f'{symbol}_order', f'{symbol}_position',f'{symbol}_ret', f'{symbol}_Close', 'position_change']\n",
    "\n",
    "# Now filter the DataFrame to include only the columns for this symbol\n",
    "df = df[columns]\n",
    "\n",
    "\n",
    "# Initialize a new trade ID for grouping\n",
    "df['trade_id'] = (df[f'{symbol}bar_count'] == 0).cumsum()\n",
    "\n",
    "# Filter out rows not part of any trade (bar_count == 0)\n",
    "trading_periods = df[df[f'{symbol}bar_count'] >= 1]\n",
    "\n",
    "# Initialize lists to collect entry and exit prices for trades\n",
    "entry_prices = []\n",
    "exit_prices = []\n",
    "\n",
    "# Iterate over each trade group\n",
    "for trade_id, group in trading_periods.groupby('trade_id'):\n",
    "    if not group.empty:\n",
    "        entry_price = group.iloc[0][f'{symbol}_Close']  # First element's close price\n",
    "        exit_price = group.iloc[-1][f'{symbol}_Close']  # Last element's close price\n",
    "        \n",
    "        # Append to lists\n",
    "        entry_prices.append(entry_price)\n",
    "        exit_prices.append(exit_price)\n",
    "\n",
    "# Display results\n",
    "print(\"Entry Prices:\", entry_prices)\n",
    "print(\"Exit Prices:\", exit_prices)\n",
    "\n",
    "\n"
   ]
  },
  {
   "cell_type": "code",
   "execution_count": 36,
   "metadata": {},
   "outputs": [
    {
     "name": "stdout",
     "output_type": "stream",
     "text": [
      "\\ Reading all trade files from folder  /home/aakash_tandon/Python_strategies/Live_aakash_fno_CF_v1/symbol_wise_trades\n",
      "\n",
      " \n",
      " Processing trade log of symbol NSE:ADANIENT\n",
      "\\Columns are:  Index(['Unnamed: 0', 'Symbol', 'Side', 'Trade ID', 'Start Time', 'End Time',\n",
      "       'Entry Price', 'Exit Price'],\n",
      "      dtype='object')\n",
      "Symbol return from trade log is :  2158.8681889047166\n",
      "\n",
      " The trade returns dataframe is :  Empty DataFrame\n",
      "Columns: []\n",
      "Index: []\n"
     ]
    },
    {
     "ename": "AttributeError",
     "evalue": "'DataFrame' object has no attribute 'append'",
     "output_type": "error",
     "traceback": [
      "\u001b[0;31m---------------------------------------------------------------------------\u001b[0m",
      "\u001b[0;31mAttributeError\u001b[0m                            Traceback (most recent call last)",
      "\u001b[0;32m/tmp/ipykernel_21521/1271779552.py\u001b[0m in \u001b[0;36m?\u001b[0;34m()\u001b[0m\n\u001b[1;32m     94\u001b[0m                 \u001b[0msym\u001b[0m\u001b[0;34m,\u001b[0m \u001b[0mprofit\u001b[0m \u001b[0;34m=\u001b[0m \u001b[0mresult\u001b[0m\u001b[0;34m\u001b[0m\u001b[0;34m\u001b[0m\u001b[0m\n\u001b[1;32m     95\u001b[0m \u001b[0;34m\u001b[0m\u001b[0m\n\u001b[1;32m     96\u001b[0m             \u001b[0mprint\u001b[0m\u001b[0;34m(\u001b[0m\u001b[0;34m\"\\n The trade returns dataframe is : \"\u001b[0m \u001b[0;34m,\u001b[0m \u001b[0mcdf\u001b[0m\u001b[0;34m)\u001b[0m\u001b[0;34m\u001b[0m\u001b[0;34m\u001b[0m\u001b[0m\n\u001b[1;32m     97\u001b[0m \u001b[0;34m\u001b[0m\u001b[0m\n\u001b[0;32m---> 98\u001b[0;31m             \u001b[0mcdf\u001b[0m \u001b[0;34m=\u001b[0m \u001b[0mcdf\u001b[0m\u001b[0;34m.\u001b[0m\u001b[0mappend\u001b[0m\u001b[0;34m(\u001b[0m\u001b[0;34m{\u001b[0m\u001b[0;34m'Symbol'\u001b[0m\u001b[0;34m:\u001b[0m \u001b[0msym\u001b[0m\u001b[0;34m,\u001b[0m \u001b[0;34m'Profit'\u001b[0m\u001b[0;34m:\u001b[0m \u001b[0mprofit\u001b[0m\u001b[0;34m}\u001b[0m\u001b[0;34m,\u001b[0m \u001b[0mignore_index\u001b[0m\u001b[0;34m=\u001b[0m\u001b[0;32mTrue\u001b[0m\u001b[0;34m)\u001b[0m\u001b[0;34m\u001b[0m\u001b[0;34m\u001b[0m\u001b[0m\n\u001b[0m\u001b[1;32m     99\u001b[0m             \u001b[0mall_trades\u001b[0m \u001b[0;34m=\u001b[0m \u001b[0mconcatenate_trades\u001b[0m\u001b[0;34m(\u001b[0m\u001b[0mfile\u001b[0m \u001b[0;34m,\u001b[0m \u001b[0mall_trades\u001b[0m \u001b[0;34m,\u001b[0m \u001b[0madd_slippages\u001b[0m\u001b[0;34m=\u001b[0m\u001b[0;36m1\u001b[0m \u001b[0;34m,\u001b[0m\u001b[0mslippage_in_ticks\u001b[0m\u001b[0;34m=\u001b[0m\u001b[0;36m2\u001b[0m \u001b[0;34m)\u001b[0m\u001b[0;34m\u001b[0m\u001b[0;34m\u001b[0m\u001b[0m\n\u001b[1;32m    100\u001b[0m \u001b[0;34m\u001b[0m\u001b[0m\n\u001b[1;32m    101\u001b[0m         \u001b[0mall_trades\u001b[0m\u001b[0;34m.\u001b[0m\u001b[0mto_csv\u001b[0m\u001b[0;34m(\u001b[0m\u001b[0moutput_all_trades_file\u001b[0m\u001b[0;34m)\u001b[0m\u001b[0;34m\u001b[0m\u001b[0;34m\u001b[0m\u001b[0m\n",
      "\u001b[0;32m~/miniconda3/lib/python3.11/site-packages/pandas/core/generic.py\u001b[0m in \u001b[0;36m?\u001b[0;34m(self, name)\u001b[0m\n\u001b[1;32m   6292\u001b[0m             \u001b[0;32mand\u001b[0m \u001b[0mname\u001b[0m \u001b[0;32mnot\u001b[0m \u001b[0;32min\u001b[0m \u001b[0mself\u001b[0m\u001b[0;34m.\u001b[0m\u001b[0m_accessors\u001b[0m\u001b[0;34m\u001b[0m\u001b[0;34m\u001b[0m\u001b[0m\n\u001b[1;32m   6293\u001b[0m             \u001b[0;32mand\u001b[0m \u001b[0mself\u001b[0m\u001b[0;34m.\u001b[0m\u001b[0m_info_axis\u001b[0m\u001b[0;34m.\u001b[0m\u001b[0m_can_hold_identifiers_and_holds_name\u001b[0m\u001b[0;34m(\u001b[0m\u001b[0mname\u001b[0m\u001b[0;34m)\u001b[0m\u001b[0;34m\u001b[0m\u001b[0;34m\u001b[0m\u001b[0m\n\u001b[1;32m   6294\u001b[0m         ):\n\u001b[1;32m   6295\u001b[0m             \u001b[0;32mreturn\u001b[0m \u001b[0mself\u001b[0m\u001b[0;34m[\u001b[0m\u001b[0mname\u001b[0m\u001b[0;34m]\u001b[0m\u001b[0;34m\u001b[0m\u001b[0;34m\u001b[0m\u001b[0m\n\u001b[0;32m-> 6296\u001b[0;31m         \u001b[0;32mreturn\u001b[0m \u001b[0mobject\u001b[0m\u001b[0;34m.\u001b[0m\u001b[0m__getattribute__\u001b[0m\u001b[0;34m(\u001b[0m\u001b[0mself\u001b[0m\u001b[0;34m,\u001b[0m \u001b[0mname\u001b[0m\u001b[0;34m)\u001b[0m\u001b[0;34m\u001b[0m\u001b[0;34m\u001b[0m\u001b[0m\n\u001b[0m",
      "\u001b[0;31mAttributeError\u001b[0m: 'DataFrame' object has no attribute 'append'"
     ]
    }
   ],
   "source": [
    "#----- function to read trade logs and find total profit from all of symbols for them\n",
    "\n",
    "def read_trade_log(logloc):\n",
    "    \n",
    "    \n",
    "    \n",
    "    symbol = os.path.splitext(os.path.basename(logloc))[0].lstrip('_')\n",
    "    print(\"\\n \\n Processing trade log of symbol\" , symbol)\n",
    "    \n",
    "    \n",
    "    df = pd.read_csv(logloc)\n",
    "    if df.empty:\n",
    "        print(\"No trades found\")\n",
    "        return None\n",
    "    else:\n",
    "        print(\"\\Columns are: \" , df.columns)\n",
    "        df['Entry Price'] = df['Entry Price'].astype('float')\n",
    "        df['Exit Price'] = df['Exit Price'].astype('float')\n",
    "        \n",
    "        # Drop rows where entry_price or exit_price is NaN\n",
    "        df.dropna(subset=['Entry Price', 'Exit Price'], inplace=True)\n",
    "        \n",
    "        \n",
    "        if 'Side' in df.columns:\n",
    "            df['returns'] = np.where(df['Side']=='long' , (df['Exit Price']/df['Entry Price'])-1 , (df['Exit Price']-df['Entry Price'])/df['Entry Price'])\n",
    "        #print(df)\n",
    "        \n",
    "        \n",
    "        net_return = (100000*df[\"returns\"]).cumsum()\n",
    "        net_return.dropna(inplace=True)\n",
    "        print( \"Symbol return from trade log is : \", net_return.iloc[-1]) \n",
    "        return symbol , net_return.iloc[-1]\n",
    "\n",
    "\n",
    "    \n",
    "def concatenate_trades(logloc , comb_df , add_slippages=0 , slippage_in_ticks=1 ,min_movement = 0.05):\n",
    "    \n",
    "    \n",
    "    symbol = os.path.splitext(os.path.basename(logloc))[0].lstrip('_')\n",
    "    print(\"\\n Concqatenating trades of symbol: \" , symbol)\n",
    "    print(\"\\n Slippage used: (in ticks)\" , slippage_in_ticks)\n",
    "    \n",
    "    \n",
    "    df = pd.read_csv(logloc)\n",
    "    \n",
    "    print(\"\\Columns are: \" , df.columns)\n",
    "    if df.empty:\n",
    "        print(\"No trades found\")\n",
    "        return None\n",
    "    else:\n",
    "        \n",
    "        # Convert entry_price and exit_price to numeric, set errors='coerce' to handle non-numeric\n",
    "        df['Entry Price'] = pd.to_numeric(df['Entry Price'], errors='coerce')\n",
    "        df['Exit Price'] = pd.to_numeric(df['Exit Price'], errors='coerce')\n",
    "  \n",
    "        \n",
    "        \n",
    "        if add_slippages>0:\n",
    "\n",
    "\n",
    "            df['Entry Price'] = np.where(df['Side']=='long' , (df['Entry Price'] + (slippage_in_ticks*min_movement))  ,  (df['Entry Price'] - (slippage_in_ticks*min_movement)))\n",
    "\n",
    "            df['Exit Price'] = np.where(df['Side']=='long' , (df['Exit Price'] - (slippage_in_ticks*min_movement))  ,  (df['Exit Price'] + (slippage_in_ticks*min_movement)))\n",
    "\n",
    "            #print(\"\\n After adding slippages\" , df)\n",
    "\n",
    "               \n",
    "        # Drop rows where entry_price or exit_price is NaN\n",
    "        df.dropna(subset=['Entry Price', 'Exit Price'], inplace=True)\n",
    "        \n",
    "        comb_df = pd.concat([comb_df , df] , axis=0 , join='outer')\n",
    "        \n",
    "        \n",
    "        return comb_df\n",
    "    \n",
    "    \n",
    "    \n",
    "    \n",
    "cdf = pd.DataFrame()\n",
    "all_trades = pd.DataFrame()\n",
    "\n",
    "log_path = trades_strategy_folder\n",
    "\n",
    "\n",
    "print(\"\\ Reading all trade files from folder \" , log_path)\n",
    "\n",
    "if os.path.exists(log_path):\n",
    "        file_paths = glob.glob(log_path + \"/*.csv\")\n",
    "        \n",
    "        for file in file_paths:\n",
    "            \n",
    "            result = read_trade_log(file)\n",
    "            if result is not None:\n",
    "                sym, profit = result\n",
    "            else:\n",
    "                print(\"\\n No trade returned from sym: \" , sym)\n",
    "            \n",
    "            print(\"\\n The trade returns dataframe is : \" , cdf)\n",
    "            \n",
    "            cdf = cdf.append({'Symbol': sym, 'Profit': profit}, ignore_index=True)\n",
    "            all_trades = concatenate_trades(file , all_trades , add_slippages=1 ,slippage_in_ticks=2 )\n",
    "        \n",
    "        all_trades.to_csv(output_all_trades_file)\n",
    "\n",
    "        \n",
    "        \n",
    "\n",
    "        \n",
    "\n",
    "#-- this is the win ratio\n",
    "print(len(all_trades[all_trades['exit_price']>all_trades['entry_price']])/len(all_trades))\n",
    "\n",
    "# #== Code to read all the trades from the strategy folder and than find the trade stats\n",
    "\n",
    "# if os.path.exists(output_all_trades_file):\n",
    "#     print(\"Output htlml trade file exists as: \" ,output_all_trades_file)\n",
    "    \n",
    "#     create_trade_report(output_all_trades_file , starting_capital=10000000 , output_html_path=trade_html_file)        \n",
    "        "
   ]
  },
  {
   "cell_type": "code",
   "execution_count": null,
   "metadata": {},
   "outputs": [],
   "source": [
    "# Filter columns for position and return\n",
    "position_columns = [col for col in combined_df.columns if 'position' in col]\n",
    "return_columns = [col for col in combined_df.columns if '_ret' in col]\n",
    "\n",
    "# Calculate the sum of returns for assets where position is non-zero\n",
    "combined_df['sum_of_rturns'] = combined_df[return_columns].sum(axis=1)\n",
    "\n",
    "# Count the number of non-zero positions for each row\n",
    "combined_df['non_zero_positions'] = combined_df[position_columns].apply(lambda x: (x!=0).sum(), axis=1)\n",
    "\n",
    "symbol_Equity = (combined_df[return_columns]*100000)\n",
    "\n",
    "total_profit_from_returns = symbol_Equity.cumsum().iloc[-1]\n",
    "\n",
    "Portfolio_EC = len(return_columns)*100000+(symbol_Equity.sum(axis=1).cumsum())\n",
    "\n",
    "Portfolio_EC.plot()"
   ]
  },
  {
   "cell_type": "code",
   "execution_count": null,
   "metadata": {},
   "outputs": [],
   "source": [
    "3093.4*(1+df['NSE:ADANIENT_ret'].sum())"
   ]
  },
  {
   "cell_type": "code",
   "execution_count": null,
   "metadata": {},
   "outputs": [],
   "source": [
    "(1 + df['NSE:ADANIENT_ret']).cumprod() - 1"
   ]
  },
  {
   "cell_type": "code",
   "execution_count": null,
   "metadata": {},
   "outputs": [],
   "source": [
    "df['NSE:ADANIENT_Close']"
   ]
  },
  {
   "cell_type": "code",
   "execution_count": null,
   "metadata": {},
   "outputs": [],
   "source": [
    "start_price = df[\"NSE:ADANIENT_Close\"].iloc[0]\n",
    "end_price = df[\"NSE:ADANIENT_Close\"].iloc[-1]\n",
    "trade_return = end_price / start_price - 1"
   ]
  },
  {
   "cell_type": "code",
   "execution_count": null,
   "metadata": {},
   "outputs": [],
   "source": [
    "trade_return"
   ]
  },
  {
   "cell_type": "code",
   "execution_count": null,
   "metadata": {},
   "outputs": [],
   "source": []
  },
  {
   "cell_type": "code",
   "execution_count": null,
   "metadata": {},
   "outputs": [],
   "source": [
    "df"
   ]
  },
  {
   "cell_type": "code",
   "execution_count": null,
   "metadata": {},
   "outputs": [],
   "source": []
  },
  {
   "cell_type": "code",
   "execution_count": null,
   "metadata": {},
   "outputs": [],
   "source": [
    "df"
   ]
  },
  {
   "cell_type": "code",
   "execution_count": null,
   "metadata": {},
   "outputs": [],
   "source": []
  }
 ],
 "metadata": {
  "kernelspec": {
   "display_name": "base",
   "language": "python",
   "name": "python3"
  },
  "language_info": {
   "codemirror_mode": {
    "name": "ipython",
    "version": 3
   },
   "file_extension": ".py",
   "mimetype": "text/x-python",
   "name": "python",
   "nbconvert_exporter": "python",
   "pygments_lexer": "ipython3",
   "version": "3.11.5"
  }
 },
 "nbformat": 4,
 "nbformat_minor": 2
}
